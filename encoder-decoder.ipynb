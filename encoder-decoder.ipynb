{
 "cells": [
  {
   "cell_type": "code",
   "execution_count": 1,
   "id": "afaf3f10-c8ad-47fd-b95b-9245da9bb0f0",
   "metadata": {},
   "outputs": [],
   "source": [
    "import json\n",
    "import os\n",
    "import random\n",
    "\n",
    "import decord\n",
    "from decord import VideoReader, gpu\n",
    "import numpy as np\n",
    "import torch\n",
    "from transformers import VisionEncoderDecoderModel, AutoImageProcessor, AutoFeatureExtractor, AutoTokenizer\n",
    "\n",
    "decord.bridge.set_bridge('torch')"
   ]
  },
  {
   "cell_type": "code",
   "execution_count": 2,
   "id": "6a5683db-27da-48e8-a203-da3b65acb04e",
   "metadata": {},
   "outputs": [],
   "source": [
    "class VatexDataset(torch.utils.data.Dataset):\n",
    "    def __init__(self, videos_path, json_path, num_frames, transforms=None):\n",
    "        self.video_names = []\n",
    "        for _, _, files in os.walk(videos_path):\n",
    "            for file in files:\n",
    "                self.video_names.append(file)\n",
    "        \n",
    "        self.video_captions = {}\n",
    "        with open(json_path) as json_file:\n",
    "            json_data = json.load(json_file)            \n",
    "            for data in json_data:\n",
    "                video_id = data[\"videoID\"]\n",
    "                captions = data[\"enCap\"]\n",
    "                self.video_captions[video_id] = captions\n",
    "                \n",
    "        self.videos_path = videos_path\n",
    "        self.num_frames = num_frames\n",
    "        self.transforms = transforms\n",
    "        \n",
    "\n",
    "    def __len__(self):\n",
    "        return len(self.video_names) * 10\n",
    "    \n",
    "    \n",
    "    def __getitem__(self, idx):        \n",
    "        video_idx = idx % len(self.video_names)\n",
    "        caption_idx = idx // len(self.video_names)\n",
    "        \n",
    "        video_name = self.video_names[video_idx]\n",
    "        video_id = video_name.split(\".\")[0]\n",
    "        captions = self.video_captions[video_id]\n",
    "        caption = captions[caption_idx]\n",
    "        \n",
    "        video_path = os.path.join(self.videos_path, video_name)\n",
    "        videoreader = VideoReader(video_path, ctx=gpu(0))\n",
    "        videoreader.seek(0)\n",
    "        \n",
    "        indices = np.sort(np.random.uniform(low=0, high=len(videoreader), size=self.num_frames).astype(np.int64))\n",
    "        #indices = np.linspace(0, len(videoreader) - 1, num=self.num_frames).astype(np.int64)\n",
    "        frames = videoreader.get_batch(indices)\n",
    "\n",
    "        return (frames, caption)"
   ]
  },
  {
   "cell_type": "code",
   "execution_count": 3,
   "id": "bd326d63-0c9d-4dad-9123-e288339455fb",
   "metadata": {},
   "outputs": [
    {
     "name": "stdout",
     "output_type": "stream",
     "text": [
      "229780\n",
      "26500\n"
     ]
    }
   ],
   "source": [
    "num_frames = 16\n",
    "data_train = VatexDataset(\"dataset/vatex_train_videos\", \"dataset/vatex_train_captions.json\", num_frames)\n",
    "data_val = VatexDataset(\"dataset/vatex_val_videos\", \"dataset/vatex_val_captions.json\", num_frames)\n",
    "print(len(data_train))\n",
    "print(len(data_val))"
   ]
  },
  {
   "cell_type": "code",
   "execution_count": 4,
   "id": "b0840708-8e75-4bf3-a615-5eecfa8760f0",
   "metadata": {},
   "outputs": [
    {
     "name": "stderr",
     "output_type": "stream",
     "text": [
      "Could not find image processor class in the image processor config or the model config. Loading based on pattern matching with the model's feature extractor configuration.\n",
      "Some weights of the model checkpoint at MCG-NJU/videomae-base were not used when initializing VideoMAEModel: ['decoder.decoder_layers.3.intermediate.dense.bias', 'decoder.decoder_layers.2.attention.output.dense.weight', 'decoder.decoder_layers.2.intermediate.dense.weight', 'decoder.decoder_layers.0.attention.attention.key.weight', 'decoder.norm.weight', 'decoder.decoder_layers.3.attention.output.dense.weight', 'decoder.decoder_layers.2.attention.attention.v_bias', 'decoder.decoder_layers.3.intermediate.dense.weight', 'decoder.decoder_layers.0.layernorm_before.weight', 'decoder.head.bias', 'decoder.decoder_layers.2.layernorm_before.bias', 'decoder.decoder_layers.2.layernorm_after.weight', 'decoder.decoder_layers.1.attention.output.dense.weight', 'decoder.decoder_layers.3.attention.attention.key.weight', 'decoder.decoder_layers.2.attention.attention.key.weight', 'decoder.decoder_layers.0.output.dense.weight', 'decoder.decoder_layers.0.attention.output.dense.weight', 'decoder.decoder_layers.0.layernorm_after.bias', 'decoder.decoder_layers.1.layernorm_before.weight', 'decoder.decoder_layers.1.layernorm_after.bias', 'decoder.decoder_layers.3.output.dense.bias', 'decoder.decoder_layers.3.layernorm_after.bias', 'decoder.decoder_layers.0.output.dense.bias', 'decoder.decoder_layers.0.layernorm_before.bias', 'decoder.decoder_layers.1.output.dense.bias', 'decoder.decoder_layers.1.intermediate.dense.weight', 'decoder.decoder_layers.2.intermediate.dense.bias', 'decoder.norm.bias', 'encoder_to_decoder.weight', 'decoder.decoder_layers.3.layernorm_before.weight', 'decoder.decoder_layers.0.attention.attention.q_bias', 'decoder.decoder_layers.3.layernorm_after.weight', 'decoder.decoder_layers.1.layernorm_before.bias', 'decoder.decoder_layers.1.attention.attention.key.weight', 'decoder.decoder_layers.0.intermediate.dense.bias', 'decoder.decoder_layers.1.intermediate.dense.bias', 'decoder.decoder_layers.1.attention.attention.value.weight', 'decoder.decoder_layers.2.output.dense.bias', 'decoder.decoder_layers.2.layernorm_after.bias', 'decoder.decoder_layers.0.intermediate.dense.weight', 'decoder.decoder_layers.0.attention.attention.value.weight', 'decoder.decoder_layers.0.attention.output.dense.bias', 'decoder.decoder_layers.1.attention.output.dense.bias', 'decoder.decoder_layers.1.layernorm_after.weight', 'decoder.decoder_layers.2.attention.attention.query.weight', 'decoder.decoder_layers.3.attention.attention.value.weight', 'mask_token', 'decoder.decoder_layers.2.attention.attention.q_bias', 'decoder.decoder_layers.3.attention.attention.query.weight', 'decoder.decoder_layers.2.layernorm_before.weight', 'decoder.decoder_layers.0.attention.attention.v_bias', 'decoder.head.weight', 'decoder.decoder_layers.3.attention.attention.v_bias', 'decoder.decoder_layers.3.layernorm_before.bias', 'decoder.decoder_layers.0.attention.attention.query.weight', 'decoder.decoder_layers.0.layernorm_after.weight', 'decoder.decoder_layers.1.attention.attention.v_bias', 'decoder.decoder_layers.2.attention.output.dense.bias', 'decoder.decoder_layers.3.attention.output.dense.bias', 'decoder.decoder_layers.3.output.dense.weight', 'decoder.decoder_layers.1.output.dense.weight', 'decoder.decoder_layers.2.attention.attention.value.weight', 'decoder.decoder_layers.2.output.dense.weight', 'decoder.decoder_layers.1.attention.attention.query.weight', 'decoder.decoder_layers.1.attention.attention.q_bias', 'decoder.decoder_layers.3.attention.attention.q_bias']\n",
      "- This IS expected if you are initializing VideoMAEModel from the checkpoint of a model trained on another task or with another architecture (e.g. initializing a BertForSequenceClassification model from a BertForPreTraining model).\n",
      "- This IS NOT expected if you are initializing VideoMAEModel from the checkpoint of a model that you expect to be exactly identical (initializing a BertForSequenceClassification model from a BertForSequenceClassification model).\n",
      "Some weights of GPT2LMHeadModel were not initialized from the model checkpoint at gpt2 and are newly initialized: ['h.4.crossattention.q_attn.weight', 'h.5.crossattention.q_attn.weight', 'h.8.crossattention.q_attn.weight', 'h.8.crossattention.masked_bias', 'h.9.ln_cross_attn.weight', 'h.2.crossattention.masked_bias', 'h.11.crossattention.masked_bias', 'h.7.crossattention.c_proj.weight', 'h.3.crossattention.c_attn.weight', 'h.0.crossattention.q_attn.weight', 'h.8.crossattention.c_attn.weight', 'h.11.crossattention.q_attn.weight', 'h.7.crossattention.c_proj.bias', 'h.7.ln_cross_attn.weight', 'h.5.crossattention.masked_bias', 'h.5.crossattention.bias', 'h.6.crossattention.c_proj.weight', 'h.4.crossattention.c_proj.bias', 'h.4.crossattention.c_attn.weight', 'h.2.crossattention.c_proj.bias', 'h.3.crossattention.masked_bias', 'h.5.crossattention.c_proj.bias', 'h.4.crossattention.bias', 'h.7.crossattention.bias', 'h.9.crossattention.q_attn.weight', 'h.9.crossattention.c_proj.bias', 'h.11.crossattention.c_attn.weight', 'h.9.crossattention.masked_bias', 'h.2.crossattention.c_proj.weight', 'h.8.crossattention.c_proj.bias', 'h.0.crossattention.bias', 'h.2.ln_cross_attn.weight', 'h.0.crossattention.c_proj.bias', 'h.6.crossattention.masked_bias', 'h.1.ln_cross_attn.weight', 'h.1.crossattention.masked_bias', 'h.0.crossattention.c_proj.weight', 'h.0.crossattention.c_attn.weight', 'h.11.ln_cross_attn.weight', 'h.1.crossattention.q_attn.weight', 'h.2.crossattention.q_attn.weight', 'h.6.crossattention.q_attn.weight', 'h.4.crossattention.masked_bias', 'h.3.crossattention.c_proj.bias', 'h.3.crossattention.q_attn.weight', 'h.5.crossattention.c_proj.weight', 'h.1.crossattention.c_proj.weight', 'h.9.crossattention.c_attn.weight', 'h.10.crossattention.bias', 'h.6.ln_cross_attn.weight', 'h.6.crossattention.bias', 'h.3.crossattention.c_proj.weight', 'h.1.crossattention.bias', 'h.3.crossattention.bias', 'h.4.crossattention.c_proj.weight', 'h.2.crossattention.c_attn.weight', 'h.0.ln_cross_attn.weight', 'h.8.crossattention.c_proj.weight', 'h.11.crossattention.bias', 'h.9.crossattention.c_proj.weight', 'h.11.crossattention.c_proj.weight', 'h.10.crossattention.c_proj.bias', 'h.5.ln_cross_attn.weight', 'h.10.ln_cross_attn.weight', 'h.2.crossattention.bias', 'h.11.crossattention.c_proj.bias', 'h.10.crossattention.c_proj.weight', 'h.6.crossattention.c_attn.weight', 'h.8.ln_cross_attn.weight', 'h.6.crossattention.c_proj.bias', 'h.10.crossattention.c_attn.weight', 'h.7.crossattention.masked_bias', 'h.0.crossattention.masked_bias', 'h.7.crossattention.c_attn.weight', 'h.3.ln_cross_attn.weight', 'h.10.crossattention.q_attn.weight', 'h.10.crossattention.masked_bias', 'h.1.crossattention.c_proj.bias', 'h.4.ln_cross_attn.weight', 'h.7.crossattention.q_attn.weight', 'h.8.crossattention.bias', 'h.9.crossattention.bias', 'h.5.crossattention.c_attn.weight', 'h.1.crossattention.c_attn.weight']\n",
      "You should probably TRAIN this model on a down-stream task to be able to use it for predictions and inference.\n"
     ]
    },
    {
     "data": {
      "text/plain": [
       "239033856"
      ]
     },
     "execution_count": 4,
     "metadata": {},
     "output_type": "execute_result"
    }
   ],
   "source": [
    "# TimeSformer\n",
    "# encoder = \"facebook/timesformer-base-finetuned-k400\"\n",
    "# decoder = \"gpt2\"\n",
    "\n",
    "# image_processor = AutoImageProcessor.from_pretrained(\"MCG-NJU/videomae-base\")\n",
    "# tokenizer = AutoTokenizer.from_pretrained(decoder)\n",
    "# model = VisionEncoderDecoderModel.from_encoder_decoder_pretrained(encoder, decoder)\n",
    "\n",
    "# model.num_parameters()\n",
    "\n",
    "# VideoMAE\n",
    "encoder = \"MCG-NJU/videomae-base\"\n",
    "decoder = \"gpt2\"\n",
    "\n",
    "image_processor = AutoImageProcessor.from_pretrained(encoder)\n",
    "tokenizer = AutoTokenizer.from_pretrained(decoder)\n",
    "model = VisionEncoderDecoderModel.from_encoder_decoder_pretrained(encoder, decoder)\n",
    "\n",
    "model.num_parameters()"
   ]
  },
  {
   "cell_type": "code",
   "execution_count": 12,
   "id": "1fd5dc5c-5959-40cb-b680-468a19a13eb0",
   "metadata": {},
   "outputs": [
    {
     "name": "stderr",
     "output_type": "stream",
     "text": [
      "The attention mask and the pad token id were not set. As a consequence, you may observe unexpected behavior. Please pass your input's `attention_mask` to obtain reliable results.\n",
      "Setting `pad_token_id` to `eos_token_id`:50256 for open-end generation.\n"
     ]
    },
    {
     "name": "stdout",
     "output_type": "stream",
     "text": [
      "A person is outside on a street doing skateboarding tricks next to a shore.\n",
      "\n",
      "The following is a list of all the best players in the NBA.\n",
      "\n",
      "The following\n"
     ]
    }
   ],
   "source": [
    "frames, caption = data_train[2]\n",
    "print(caption)\n",
    "\n",
    "pixel_values = image_processor(list(frames), return_tensors=\"pt\").pixel_values\n",
    "generated_ids = model.generate(pixel_values)\n",
    "generated_text = tokenizer.batch_decode(generated_ids, skip_special_tokens=True)[0]\n",
    "print(generated_text)"
   ]
  }
 ],
 "metadata": {
  "kernelspec": {
   "display_name": "Python 3 (ipykernel)",
   "language": "python",
   "name": "python3"
  },
  "language_info": {
   "codemirror_mode": {
    "name": "ipython",
    "version": 3
   },
   "file_extension": ".py",
   "mimetype": "text/x-python",
   "name": "python",
   "nbconvert_exporter": "python",
   "pygments_lexer": "ipython3",
   "version": "3.10.8"
  }
 },
 "nbformat": 4,
 "nbformat_minor": 5
}
