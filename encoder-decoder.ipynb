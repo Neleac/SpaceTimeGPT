{
 "cells": [
  {
   "cell_type": "code",
   "execution_count": 1,
   "id": "afaf3f10-c8ad-47fd-b95b-9245da9bb0f0",
   "metadata": {
    "tags": []
   },
   "outputs": [
    {
     "name": "stdout",
     "output_type": "stream",
     "text": [
      "Device: cuda\n"
     ]
    }
   ],
   "source": [
    "from datasets import load_from_disk\n",
    "import evaluate\n",
    "import numpy as np\n",
    "import torch\n",
    "from transformers import VisionEncoderDecoderModel, AutoImageProcessor, AutoTokenizer, Seq2SeqTrainer, Seq2SeqTrainingArguments, default_data_collator\n",
    "\n",
    "torch.backends.cuda.matmul.allow_tf32 = True\n",
    "device = \"cuda\" if torch.cuda.is_available() else \"cpu\"\n",
    "print(\"Device: %s\" % device)\n",
    "\n",
    "FRAMES_PER_VIDEO = 8"
   ]
  },
  {
   "cell_type": "code",
   "execution_count": 2,
   "id": "b0840708-8e75-4bf3-a615-5eecfa8760f0",
   "metadata": {},
   "outputs": [
    {
     "name": "stderr",
     "output_type": "stream",
     "text": [
      "Could not find image processor class in the image processor config or the model config. Loading based on pattern matching with the model's feature extractor configuration.\n",
      "Some weights of the model checkpoint at facebook/timesformer-base-finetuned-k600 were not used when initializing TimesformerModel: ['classifier.weight', 'classifier.bias']\n",
      "- This IS expected if you are initializing TimesformerModel from the checkpoint of a model trained on another task or with another architecture (e.g. initializing a BertForSequenceClassification model from a BertForPreTraining model).\n",
      "- This IS NOT expected if you are initializing TimesformerModel from the checkpoint of a model that you expect to be exactly identical (initializing a BertForSequenceClassification model from a BertForSequenceClassification model).\n",
      "Some weights of GPT2LMHeadModel were not initialized from the model checkpoint at gpt2 and are newly initialized: ['h.8.crossattention.masked_bias', 'h.9.crossattention.c_proj.weight', 'h.5.crossattention.masked_bias', 'h.7.ln_cross_attn.weight', 'h.2.crossattention.bias', 'h.3.crossattention.bias', 'h.1.crossattention.masked_bias', 'h.4.crossattention.c_proj.bias', 'h.9.crossattention.q_attn.weight', 'h.10.ln_cross_attn.weight', 'h.10.crossattention.c_proj.bias', 'h.4.crossattention.bias', 'h.4.crossattention.q_attn.weight', 'h.7.crossattention.bias', 'h.1.crossattention.c_proj.weight', 'h.5.crossattention.bias', 'h.5.crossattention.q_attn.weight', 'h.2.ln_cross_attn.weight', 'h.0.crossattention.q_attn.weight', 'h.2.crossattention.c_proj.weight', 'h.4.crossattention.c_proj.weight', 'h.8.crossattention.bias', 'h.9.crossattention.bias', 'h.6.ln_cross_attn.weight', 'h.3.ln_cross_attn.weight', 'h.0.crossattention.c_proj.weight', 'h.9.crossattention.c_attn.weight', 'h.4.crossattention.c_attn.weight', 'h.11.crossattention.c_attn.weight', 'h.10.crossattention.masked_bias', 'h.5.crossattention.c_proj.weight', 'h.10.crossattention.bias', 'h.10.crossattention.c_attn.weight', 'h.10.crossattention.q_attn.weight', 'h.3.crossattention.c_attn.weight', 'h.8.crossattention.c_attn.weight', 'h.5.crossattention.c_attn.weight', 'h.8.crossattention.c_proj.weight', 'h.4.ln_cross_attn.weight', 'h.11.crossattention.c_proj.bias', 'h.5.ln_cross_attn.weight', 'h.11.crossattention.bias', 'h.7.crossattention.c_attn.weight', 'h.6.crossattention.masked_bias', 'h.8.crossattention.q_attn.weight', 'h.7.crossattention.c_proj.weight', 'h.3.crossattention.c_proj.bias', 'h.6.crossattention.q_attn.weight', 'h.5.crossattention.c_proj.bias', 'h.1.crossattention.c_attn.weight', 'h.7.crossattention.c_proj.bias', 'h.2.crossattention.masked_bias', 'h.2.crossattention.q_attn.weight', 'h.1.crossattention.q_attn.weight', 'h.11.crossattention.masked_bias', 'h.8.ln_cross_attn.weight', 'h.3.crossattention.masked_bias', 'h.9.crossattention.c_proj.bias', 'h.6.crossattention.c_proj.bias', 'h.0.crossattention.masked_bias', 'h.3.crossattention.q_attn.weight', 'h.1.crossattention.bias', 'h.9.crossattention.masked_bias', 'h.11.ln_cross_attn.weight', 'h.3.crossattention.c_proj.weight', 'h.7.crossattention.masked_bias', 'h.11.crossattention.q_attn.weight', 'h.6.crossattention.c_attn.weight', 'h.0.ln_cross_attn.weight', 'h.1.ln_cross_attn.weight', 'h.10.crossattention.c_proj.weight', 'h.2.crossattention.c_attn.weight', 'h.2.crossattention.c_proj.bias', 'h.7.crossattention.q_attn.weight', 'h.9.ln_cross_attn.weight', 'h.0.crossattention.bias', 'h.6.crossattention.c_proj.weight', 'h.8.crossattention.c_proj.bias', 'h.6.crossattention.bias', 'h.0.crossattention.c_proj.bias', 'h.4.crossattention.masked_bias', 'h.1.crossattention.c_proj.bias', 'h.0.crossattention.c_attn.weight', 'h.11.crossattention.c_proj.weight']\n",
      "You should probably TRAIN this model on a down-stream task to be able to use it for predictions and inference.\n"
     ]
    },
    {
     "name": "stdout",
     "output_type": "stream",
     "text": [
      "274065408\n"
     ]
    }
   ],
   "source": [
    "# TimeSformer\n",
    "encoder = \"facebook/timesformer-base-finetuned-k600\"\n",
    "decoder = \"gpt2\"\n",
    "\n",
    "image_processor = AutoImageProcessor.from_pretrained(\"MCG-NJU/videomae-base\")\n",
    "tokenizer = AutoTokenizer.from_pretrained(decoder)\n",
    "model = VisionEncoderDecoderModel.from_encoder_decoder_pretrained(encoder, decoder).to(device)\n",
    "\n",
    "tokenizer.pad_token = tokenizer.eos_token\n",
    "model.config.decoder_start_token_id = tokenizer.bos_token_id\n",
    "model.config.pad_token_id = tokenizer.pad_token_id\n",
    "\n",
    "print(model.num_parameters())\n",
    "\n",
    "# VideoMAE\n",
    "# encoder = \"MCG-NJU/videomae-base\"\n",
    "# decoder = \"gpt2\"\n",
    "\n",
    "# image_processor = AutoImageProcessor.from_pretrained(encoder)\n",
    "# tokenizer = AutoTokenizer.from_pretrained(decoder)\n",
    "# model = VisionEncoderDecoderModel.from_encoder_decoder_pretrained(encoder, decoder).to(device)"
   ]
  },
  {
   "cell_type": "code",
   "execution_count": 3,
   "id": "8337633e-91d3-4733-9db3-11e087088f73",
   "metadata": {},
   "outputs": [
    {
     "data": {
      "text/plain": [
       "DatasetDict({\n",
       "    train: Dataset({\n",
       "        features: ['pixel_values', 'labels'],\n",
       "        num_rows: 22895\n",
       "    })\n",
       "    validation: Dataset({\n",
       "        features: ['pixel_values', 'labels'],\n",
       "        num_rows: 2643\n",
       "    })\n",
       "})"
      ]
     },
     "execution_count": 3,
     "metadata": {},
     "output_type": "execute_result"
    }
   ],
   "source": [
    "dataset = load_from_disk(\"dataset/processed_frames_8\")\n",
    "dataset.set_format(type=\"torch\")\n",
    "dataset"
   ]
  },
  {
   "cell_type": "code",
   "execution_count": null,
   "id": "9be0dcf2-f55b-401b-9897-08f5624902fd",
   "metadata": {},
   "outputs": [
    {
     "name": "stderr",
     "output_type": "stream",
     "text": [
      "/home/922201615/anaconda3/envs/vlm/lib/python3.10/site-packages/transformers/optimization.py:306: FutureWarning: This implementation of AdamW is deprecated and will be removed in a future version. Use the PyTorch implementation torch.optim.AdamW instead, or set `no_deprecation_warning=True` to disable this warning\n",
      "  warnings.warn(\n",
      "***** Running training *****\n",
      "  Num examples = 22895\n",
      "  Num Epochs = 10\n",
      "  Instantaneous batch size per device = 5\n",
      "  Total train batch size (w. parallel, distributed & accumulation) = 5\n",
      "  Gradient Accumulation steps = 1\n",
      "  Total optimization steps = 45790\n",
      "  Number of trainable parameters = 274065408\n"
     ]
    },
    {
     "data": {
      "text/html": [
       "\n",
       "    <div>\n",
       "      \n",
       "      <progress value='71' max='45790' style='width:300px; height:20px; vertical-align: middle;'></progress>\n",
       "      [   71/45790 08:19 < 91:54:52, 0.14 it/s, Epoch 0.02/10]\n",
       "    </div>\n",
       "    <table border=\"1\" class=\"dataframe\">\n",
       "  <thead>\n",
       " <tr style=\"text-align: left;\">\n",
       "      <th>Epoch</th>\n",
       "      <th>Training Loss</th>\n",
       "      <th>Validation Loss</th>\n",
       "    </tr>\n",
       "  </thead>\n",
       "  <tbody>\n",
       "  </tbody>\n",
       "</table><p>"
      ],
      "text/plain": [
       "<IPython.core.display.HTML object>"
      ]
     },
     "metadata": {},
     "output_type": "display_data"
    }
   ],
   "source": [
    "metric = evaluate.load(\"rouge\")\n",
    "def metrics(eval_preds):\n",
    "    preds, labels = eval_preds\n",
    "    preds = tokenizer.batch_decode(preds, skip_special_tokens=True)\n",
    "    labels = tokenizer.batch_decode(labels, skip_special_tokens=True)\n",
    "    return metric.compute(predictions=preds, references=labels)\n",
    "\n",
    "training_args = Seq2SeqTrainingArguments(\n",
    "    output_dir=\"training\",\n",
    "    tf32=True,\n",
    "    dataloader_pin_memory=False,\n",
    "    predict_with_generate=True,\n",
    "    logging_strategy=\"epoch\",\n",
    "    evaluation_strategy=\"epoch\",\n",
    "    save_strategy=\"epoch\",\n",
    "    num_train_epochs=10,\n",
    "    per_device_train_batch_size=5,\n",
    "    per_device_eval_batch_size=5,\n",
    ")\n",
    "\n",
    "trainer = Seq2SeqTrainer(\n",
    "    model=model,\n",
    "    tokenizer=image_processor,\n",
    "    args=training_args,\n",
    "    train_dataset=dataset[\"train\"],\n",
    "    eval_dataset=dataset[\"validation\"],\n",
    "    data_collator=default_data_collator,\n",
    "    compute_metrics=metrics,\n",
    ")\n",
    "\n",
    "trainer.train()"
   ]
  },
  {
   "cell_type": "code",
   "execution_count": 3,
   "id": "1fd5dc5c-5959-40cb-b680-468a19a13eb0",
   "metadata": {},
   "outputs": [],
   "source": [
    "image_processor = AutoImageProcessor.from_pretrained(\"training/checkpoint-11448\")\n",
    "tokenizer = AutoTokenizer.from_pretrained(\"gpt2\")\n",
    "model = VisionEncoderDecoderModel.from_pretrained(\"training/checkpoint-11448\")"
   ]
  },
  {
   "cell_type": "code",
   "execution_count": 5,
   "id": "79bfeee4-f338-4c57-af17-a1f7c0405746",
   "metadata": {},
   "outputs": [
    {
     "name": "stdout",
     "output_type": "stream",
     "text": [
      "A young boy is helping to set the table bly placing eating utensils on the plates.\n"
     ]
    }
   ],
   "source": [
    "data = dataset[\"train\"][999]\n",
    "pixel_values = data[\"pixel_values\"]\n",
    "pixel_values = torch.unsqueeze(pixel_values, 0)\n",
    "labels = data[\"labels\"]\n",
    "\n",
    "label_text = tokenizer.decode(labels, skip_special_tokens=True)\n",
    "print(label_text)"
   ]
  },
  {
   "cell_type": "code",
   "execution_count": 9,
   "id": "8cea5354-ae35-449c-871d-7c90224d34d4",
   "metadata": {},
   "outputs": [
    {
     "name": "stdout",
     "output_type": "stream",
     "text": [
      "A young boy is sitting at a table with a plate of food in front of him and he is eating it.\n"
     ]
    }
   ],
   "source": [
    "generated_ids = model.generate(pixel_values, max_length=30, num_beams=2, early_stopping=True)\n",
    "generated_text = tokenizer.batch_decode(generated_ids, skip_special_tokens=True)[0]\n",
    "print(generated_text)"
   ]
  }
 ],
 "metadata": {
  "kernelspec": {
   "display_name": "Python 3 (ipykernel)",
   "language": "python",
   "name": "python3"
  },
  "language_info": {
   "codemirror_mode": {
    "name": "ipython",
    "version": 3
   },
   "file_extension": ".py",
   "mimetype": "text/x-python",
   "name": "python",
   "nbconvert_exporter": "python",
   "pygments_lexer": "ipython3",
   "version": "3.10.9"
  }
 },
 "nbformat": 4,
 "nbformat_minor": 5
}
