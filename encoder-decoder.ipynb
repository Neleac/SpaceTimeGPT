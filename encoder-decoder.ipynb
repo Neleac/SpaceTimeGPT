{
 "cells": [
  {
   "cell_type": "code",
   "execution_count": 1,
   "id": "afaf3f10-c8ad-47fd-b95b-9245da9bb0f0",
   "metadata": {
    "tags": []
   },
   "outputs": [
    {
     "name": "stdout",
     "output_type": "stream",
     "text": [
      "Device: cuda\n"
     ]
    }
   ],
   "source": [
    "from datasets import load_from_disk\n",
    "import evaluate\n",
    "import math\n",
    "import multiprocessing as mp\n",
    "import numpy as np\n",
    "from ray import tune\n",
    "import torch\n",
    "from transformers import VisionEncoderDecoderModel, AutoImageProcessor, AutoTokenizer, Seq2SeqTrainer, Seq2SeqTrainingArguments, default_data_collator\n",
    "\n",
    "torch.backends.cuda.matmul.allow_tf32 = True\n",
    "device = \"cuda\" if torch.cuda.is_available() else \"cpu\"\n",
    "print(\"Device: %s\" % device)\n",
    "\n",
    "FRAMES_PER_VIDEO = 8"
   ]
  },
  {
   "cell_type": "code",
   "execution_count": 2,
   "id": "06492aa0-52a6-461a-97b8-c0acfdbf3a0d",
   "metadata": {},
   "outputs": [
    {
     "name": "stderr",
     "output_type": "stream",
     "text": [
      "Could not find image processor class in the image processor config or the model config. Loading based on pattern matching with the model's feature extractor configuration.\n"
     ]
    }
   ],
   "source": [
    "encoder = \"facebook/timesformer-base-finetuned-k600\"\n",
    "decoder = \"gpt2\"\n",
    "image_processor = AutoImageProcessor.from_pretrained(\"MCG-NJU/videomae-base\")\n",
    "tokenizer = AutoTokenizer.from_pretrained(decoder)\n",
    "tokenizer.pad_token = tokenizer.eos_token\n",
    "\n",
    "def model_init(trial):\n",
    "    model = VisionEncoderDecoderModel.from_encoder_decoder_pretrained(encoder, decoder).to(device)\n",
    "    model.config.decoder_start_token_id = tokenizer.bos_token_id\n",
    "    model.config.pad_token_id = tokenizer.pad_token_id\n",
    "    return model"
   ]
  },
  {
   "cell_type": "code",
   "execution_count": 3,
   "id": "b0840708-8e75-4bf3-a615-5eecfa8760f0",
   "metadata": {},
   "outputs": [],
   "source": [
    "# TimeSformer\n",
    "# encoder = \"facebook/timesformer-base-finetuned-k600\"\n",
    "# decoder = \"gpt2\"\n",
    "\n",
    "# image_processor = AutoImageProcessor.from_pretrained(\"MCG-NJU/videomae-base\")\n",
    "# tokenizer = AutoTokenizer.from_pretrained(decoder)\n",
    "# model = VisionEncoderDecoderModel.from_encoder_decoder_pretrained(encoder, decoder).to(device)\n",
    "\n",
    "# tokenizer.pad_token = tokenizer.eos_token\n",
    "# model.config.decoder_start_token_id = tokenizer.bos_token_id\n",
    "# model.config.pad_token_id = tokenizer.pad_token_id\n",
    "\n",
    "# VideoMAE\n",
    "# encoder = \"MCG-NJU/videomae-base\"\n",
    "# decoder = \"gpt2\"\n",
    "\n",
    "# image_processor = AutoImageProcessor.from_pretrained(encoder)\n",
    "# tokenizer = AutoTokenizer.from_pretrained(decoder)\n",
    "# model = VisionEncoderDecoderModel.from_encoder_decoder_pretrained(encoder, decoder).to(device)"
   ]
  },
  {
   "cell_type": "code",
   "execution_count": 4,
   "id": "6e751eba-19bf-4ea4-844e-1badd1ff9a03",
   "metadata": {},
   "outputs": [
    {
     "data": {
      "text/plain": [
       "DatasetDict({\n",
       "    train: Dataset({\n",
       "        features: ['pixel_values', 'labels'],\n",
       "        num_rows: 1144\n",
       "    })\n",
       "    validation: Dataset({\n",
       "        features: ['pixel_values', 'labels'],\n",
       "        num_rows: 132\n",
       "    })\n",
       "})"
      ]
     },
     "execution_count": 4,
     "metadata": {},
     "output_type": "execute_result"
    }
   ],
   "source": [
    "dataset = load_from_disk(\"/home/922201615/video-caption/dataset/processed/8frames_pt1\")\n",
    "dataset.set_format(type=\"torch\")\n",
    "\n",
    "train_idxs = np.linspace(0, len(dataset[\"train\"]) - 1, num=len(dataset[\"train\"]) // 20).astype(np.int64)\n",
    "val_idxs = np.linspace(0, len(dataset[\"validation\"]) - 1, num=len(dataset[\"validation\"]) // 20).astype(np.int64)\n",
    "\n",
    "# train_idxs = [x for x in range(40)]\n",
    "# val_idxs = [x for x in range(40, 44)]\n",
    "\n",
    "dataset[\"train\"] = dataset[\"train\"].select(train_idxs)\n",
    "dataset[\"validation\"] = dataset[\"validation\"].select(val_idxs)\n",
    "dataset"
   ]
  },
  {
   "cell_type": "code",
   "execution_count": 5,
   "id": "3add6c94-649d-4a67-92fb-bc02bccf3609",
   "metadata": {},
   "outputs": [
    {
     "name": "stderr",
     "output_type": "stream",
     "text": [
      "loading configuration file config.json from cache at /home/922201615/.cache/huggingface/hub/models--facebook--timesformer-base-finetuned-k600/snapshots/8b0484b3e11f898a3ef4ddd8ee3db327e288bb27/config.json\n",
      "Model config TimesformerConfig {\n",
      "  \"_name_or_path\": \"facebook/timesformer-base-finetuned-k600\",\n",
      "  \"architectures\": [\n",
      "    \"TimesformerForVideoClassification\"\n",
      "  ],\n",
      "  \"attention_probs_dropout_prob\": 0.0,\n",
      "  \"attention_type\": \"divided_space_time\",\n",
      "  \"drop_path_rate\": 0,\n",
      "  \"hidden_act\": \"gelu\",\n",
      "  \"hidden_dropout_prob\": 0.0,\n",
      "  \"hidden_size\": 768,\n",
      "  \"id2label\": {\n",
      "    \"0\": \"abseiling\",\n",
      "    \"1\": \"acting in play\",\n",
      "    \"2\": \"adjusting glasses\",\n",
      "    \"3\": \"air drumming\",\n",
      "    \"4\": \"alligator wrestling\",\n",
      "    \"5\": \"answering questions\",\n",
      "    \"6\": \"applauding\",\n",
      "    \"7\": \"applying cream\",\n",
      "    \"8\": \"archaeological excavation\",\n",
      "    \"9\": \"archery\",\n",
      "    \"10\": \"arguing\",\n",
      "    \"11\": \"arm wrestling\",\n",
      "    \"12\": \"arranging flowers\",\n",
      "    \"13\": \"assembling bicycle\",\n",
      "    \"14\": \"assembling computer\",\n",
      "    \"15\": \"attending conference\",\n",
      "    \"16\": \"auctioning\",\n",
      "    \"17\": \"backflip (human)\",\n",
      "    \"18\": \"baking cookies\",\n",
      "    \"19\": \"bandaging\",\n",
      "    \"20\": \"barbequing\",\n",
      "    \"21\": \"bartending\",\n",
      "    \"22\": \"base jumping\",\n",
      "    \"23\": \"bathing dog\",\n",
      "    \"24\": \"battle rope training\",\n",
      "    \"25\": \"beatboxing\",\n",
      "    \"26\": \"bee keeping\",\n",
      "    \"27\": \"belly dancing\",\n",
      "    \"28\": \"bench pressing\",\n",
      "    \"29\": \"bending back\",\n",
      "    \"30\": \"bending metal\",\n",
      "    \"31\": \"biking through snow\",\n",
      "    \"32\": \"blasting sand\",\n",
      "    \"33\": \"blowdrying hair\",\n",
      "    \"34\": \"blowing bubble gum\",\n",
      "    \"35\": \"blowing glass\",\n",
      "    \"36\": \"blowing leaves\",\n",
      "    \"37\": \"blowing nose\",\n",
      "    \"38\": \"blowing out candles\",\n",
      "    \"39\": \"bobsledding\",\n",
      "    \"40\": \"bodysurfing\",\n",
      "    \"41\": \"bookbinding\",\n",
      "    \"42\": \"bottling\",\n",
      "    \"43\": \"bouncing on bouncy castle\",\n",
      "    \"44\": \"bouncing on trampoline\",\n",
      "    \"45\": \"bowling\",\n",
      "    \"46\": \"braiding hair\",\n",
      "    \"47\": \"breading or breadcrumbing\",\n",
      "    \"48\": \"breakdancing\",\n",
      "    \"49\": \"breaking boards\",\n",
      "    \"50\": \"breathing fire\",\n",
      "    \"51\": \"brush painting\",\n",
      "    \"52\": \"brushing hair\",\n",
      "    \"53\": \"brushing teeth\",\n",
      "    \"54\": \"building cabinet\",\n",
      "    \"55\": \"building lego\",\n",
      "    \"56\": \"building sandcastle\",\n",
      "    \"57\": \"building shed\",\n",
      "    \"58\": \"bull fighting\",\n",
      "    \"59\": \"bulldozing\",\n",
      "    \"60\": \"bungee jumping\",\n",
      "    \"61\": \"burping\",\n",
      "    \"62\": \"busking\",\n",
      "    \"63\": \"calculating\",\n",
      "    \"64\": \"calligraphy\",\n",
      "    \"65\": \"canoeing or kayaking\",\n",
      "    \"66\": \"capoeira\",\n",
      "    \"67\": \"capsizing\",\n",
      "    \"68\": \"card stacking\",\n",
      "    \"69\": \"card throwing\",\n",
      "    \"70\": \"carrying baby\",\n",
      "    \"71\": \"cartwheeling\",\n",
      "    \"72\": \"carving ice\",\n",
      "    \"73\": \"carving pumpkin\",\n",
      "    \"74\": \"casting fishing line\",\n",
      "    \"75\": \"catching fish\",\n",
      "    \"76\": \"catching or throwing baseball\",\n",
      "    \"77\": \"catching or throwing frisbee\",\n",
      "    \"78\": \"catching or throwing softball\",\n",
      "    \"79\": \"celebrating\",\n",
      "    \"80\": \"changing gear in car\",\n",
      "    \"81\": \"changing oil\",\n",
      "    \"82\": \"changing wheel (not on bike)\",\n",
      "    \"83\": \"checking tires\",\n",
      "    \"84\": \"cheerleading\",\n",
      "    \"85\": \"chewing gum\",\n",
      "    \"86\": \"chiseling stone\",\n",
      "    \"87\": \"chiseling wood\",\n",
      "    \"88\": \"chopping meat\",\n",
      "    \"89\": \"chopping vegetables\",\n",
      "    \"90\": \"chopping wood\",\n",
      "    \"91\": \"clam digging\",\n",
      "    \"92\": \"clapping\",\n",
      "    \"93\": \"clay pottery making\",\n",
      "    \"94\": \"clean and jerk\",\n",
      "    \"95\": \"cleaning gutters\",\n",
      "    \"96\": \"cleaning pool\",\n",
      "    \"97\": \"cleaning shoes\",\n",
      "    \"98\": \"cleaning toilet\",\n",
      "    \"99\": \"cleaning windows\",\n",
      "    \"100\": \"climbing a rope\",\n",
      "    \"101\": \"climbing ladder\",\n",
      "    \"102\": \"climbing tree\",\n",
      "    \"103\": \"coloring in\",\n",
      "    \"104\": \"combing hair\",\n",
      "    \"105\": \"contact juggling\",\n",
      "    \"106\": \"contorting\",\n",
      "    \"107\": \"cooking egg\",\n",
      "    \"108\": \"cooking on campfire\",\n",
      "    \"109\": \"cooking sausages (not on barbeque)\",\n",
      "    \"110\": \"cooking scallops\",\n",
      "    \"111\": \"cosplaying\",\n",
      "    \"112\": \"counting money\",\n",
      "    \"113\": \"country line dancing\",\n",
      "    \"114\": \"cracking back\",\n",
      "    \"115\": \"cracking knuckles\",\n",
      "    \"116\": \"cracking neck\",\n",
      "    \"117\": \"crawling baby\",\n",
      "    \"118\": \"crossing eyes\",\n",
      "    \"119\": \"crossing river\",\n",
      "    \"120\": \"crying\",\n",
      "    \"121\": \"cumbia\",\n",
      "    \"122\": \"curling (sport)\",\n",
      "    \"123\": \"curling hair\",\n",
      "    \"124\": \"cutting apple\",\n",
      "    \"125\": \"cutting nails\",\n",
      "    \"126\": \"cutting orange\",\n",
      "    \"127\": \"cutting pineapple\",\n",
      "    \"128\": \"cutting watermelon\",\n",
      "    \"129\": \"dancing ballet\",\n",
      "    \"130\": \"dancing charleston\",\n",
      "    \"131\": \"dancing gangnam style\",\n",
      "    \"132\": \"dancing macarena\",\n",
      "    \"133\": \"deadlifting\",\n",
      "    \"134\": \"decorating the christmas tree\",\n",
      "    \"135\": \"delivering mail\",\n",
      "    \"136\": \"dining\",\n",
      "    \"137\": \"directing traffic\",\n",
      "    \"138\": \"disc golfing\",\n",
      "    \"139\": \"diving cliff\",\n",
      "    \"140\": \"docking boat\",\n",
      "    \"141\": \"dodgeball\",\n",
      "    \"142\": \"doing aerobics\",\n",
      "    \"143\": \"doing jigsaw puzzle\",\n",
      "    \"144\": \"doing laundry\",\n",
      "    \"145\": \"doing nails\",\n",
      "    \"146\": \"drawing\",\n",
      "    \"147\": \"dribbling basketball\",\n",
      "    \"148\": \"drinking shots\",\n",
      "    \"149\": \"driving car\",\n",
      "    \"150\": \"driving tractor\",\n",
      "    \"151\": \"drooling\",\n",
      "    \"152\": \"drop kicking\",\n",
      "    \"153\": \"drumming fingers\",\n",
      "    \"154\": \"dumpster diving\",\n",
      "    \"155\": \"dunking basketball\",\n",
      "    \"156\": \"dyeing eyebrows\",\n",
      "    \"157\": \"dyeing hair\",\n",
      "    \"158\": \"eating burger\",\n",
      "    \"159\": \"eating cake\",\n",
      "    \"160\": \"eating carrots\",\n",
      "    \"161\": \"eating chips\",\n",
      "    \"162\": \"eating doughnuts\",\n",
      "    \"163\": \"eating hotdog\",\n",
      "    \"164\": \"eating ice cream\",\n",
      "    \"165\": \"eating spaghetti\",\n",
      "    \"166\": \"eating watermelon\",\n",
      "    \"167\": \"egg hunting\",\n",
      "    \"168\": \"embroidering\",\n",
      "    \"169\": \"exercising with an exercise ball\",\n",
      "    \"170\": \"extinguishing fire\",\n",
      "    \"171\": \"faceplanting\",\n",
      "    \"172\": \"falling off bike\",\n",
      "    \"173\": \"falling off chair\",\n",
      "    \"174\": \"feeding birds\",\n",
      "    \"175\": \"feeding fish\",\n",
      "    \"176\": \"feeding goats\",\n",
      "    \"177\": \"fencing (sport)\",\n",
      "    \"178\": \"fidgeting\",\n",
      "    \"179\": \"finger snapping\",\n",
      "    \"180\": \"fixing bicycle\",\n",
      "    \"181\": \"fixing hair\",\n",
      "    \"182\": \"flint knapping\",\n",
      "    \"183\": \"flipping pancake\",\n",
      "    \"184\": \"fly tying\",\n",
      "    \"185\": \"flying kite\",\n",
      "    \"186\": \"folding clothes\",\n",
      "    \"187\": \"folding napkins\",\n",
      "    \"188\": \"folding paper\",\n",
      "    \"189\": \"front raises\",\n",
      "    \"190\": \"frying vegetables\",\n",
      "    \"191\": \"geocaching\",\n",
      "    \"192\": \"getting a haircut\",\n",
      "    \"193\": \"getting a piercing\",\n",
      "    \"194\": \"getting a tattoo\",\n",
      "    \"195\": \"giving or receiving award\",\n",
      "    \"196\": \"gold panning\",\n",
      "    \"197\": \"golf chipping\",\n",
      "    \"198\": \"golf driving\",\n",
      "    \"199\": \"golf putting\",\n",
      "    \"200\": \"gospel singing in church\",\n",
      "    \"201\": \"grinding meat\",\n",
      "    \"202\": \"grooming dog\",\n",
      "    \"203\": \"grooming horse\",\n",
      "    \"204\": \"gymnastics tumbling\",\n",
      "    \"205\": \"hammer throw\",\n",
      "    \"206\": \"hand washing clothes\",\n",
      "    \"207\": \"head stand\",\n",
      "    \"208\": \"headbanging\",\n",
      "    \"209\": \"headbutting\",\n",
      "    \"210\": \"high jump\",\n",
      "    \"211\": \"high kick\",\n",
      "    \"212\": \"historical reenactment\",\n",
      "    \"213\": \"hitting baseball\",\n",
      "    \"214\": \"hockey stop\",\n",
      "    \"215\": \"holding snake\",\n",
      "    \"216\": \"home roasting coffee\",\n",
      "    \"217\": \"hopscotch\",\n",
      "    \"218\": \"hoverboarding\",\n",
      "    \"219\": \"huddling\",\n",
      "    \"220\": \"hugging (not baby)\",\n",
      "    \"221\": \"hugging baby\",\n",
      "    \"222\": \"hula hooping\",\n",
      "    \"223\": \"hurdling\",\n",
      "    \"224\": \"hurling (sport)\",\n",
      "    \"225\": \"ice climbing\",\n",
      "    \"226\": \"ice fishing\",\n",
      "    \"227\": \"ice skating\",\n",
      "    \"228\": \"ice swimming\",\n",
      "    \"229\": \"inflating balloons\",\n",
      "    \"230\": \"installing carpet\",\n",
      "    \"231\": \"ironing\",\n",
      "    \"232\": \"ironing hair\",\n",
      "    \"233\": \"javelin throw\",\n",
      "    \"234\": \"jaywalking\",\n",
      "    \"235\": \"jetskiing\",\n",
      "    \"236\": \"jogging\",\n",
      "    \"237\": \"juggling balls\",\n",
      "    \"238\": \"juggling fire\",\n",
      "    \"239\": \"juggling soccer ball\",\n",
      "    \"240\": \"jumping bicycle\",\n",
      "    \"241\": \"jumping into pool\",\n",
      "    \"242\": \"jumping jacks\",\n",
      "    \"243\": \"jumpstyle dancing\",\n",
      "    \"244\": \"karaoke\",\n",
      "    \"245\": \"kicking field goal\",\n",
      "    \"246\": \"kicking soccer ball\",\n",
      "    \"247\": \"kissing\",\n",
      "    \"248\": \"kitesurfing\",\n",
      "    \"249\": \"knitting\",\n",
      "    \"250\": \"krumping\",\n",
      "    \"251\": \"land sailing\",\n",
      "    \"252\": \"laughing\",\n",
      "    \"253\": \"lawn mower racing\",\n",
      "    \"254\": \"laying bricks\",\n",
      "    \"255\": \"laying concrete\",\n",
      "    \"256\": \"laying stone\",\n",
      "    \"257\": \"laying tiles\",\n",
      "    \"258\": \"leatherworking\",\n",
      "    \"259\": \"licking\",\n",
      "    \"260\": \"lifting hat\",\n",
      "    \"261\": \"lighting fire\",\n",
      "    \"262\": \"lock picking\",\n",
      "    \"263\": \"long jump\",\n",
      "    \"264\": \"longboarding\",\n",
      "    \"265\": \"looking at phone\",\n",
      "    \"266\": \"luge\",\n",
      "    \"267\": \"lunge\",\n",
      "    \"268\": \"making a cake\",\n",
      "    \"269\": \"making a sandwich\",\n",
      "    \"270\": \"making balloon shapes\",\n",
      "    \"271\": \"making bubbles\",\n",
      "    \"272\": \"making cheese\",\n",
      "    \"273\": \"making horseshoes\",\n",
      "    \"274\": \"making jewelry\",\n",
      "    \"275\": \"making paper aeroplanes\",\n",
      "    \"276\": \"making pizza\",\n",
      "    \"277\": \"making snowman\",\n",
      "    \"278\": \"making sushi\",\n",
      "    \"279\": \"making tea\",\n",
      "    \"280\": \"making the bed\",\n",
      "    \"281\": \"marching\",\n",
      "    \"282\": \"marriage proposal\",\n",
      "    \"283\": \"massaging back\",\n",
      "    \"284\": \"massaging feet\",\n",
      "    \"285\": \"massaging legs\",\n",
      "    \"286\": \"massaging neck\",\n",
      "    \"287\": \"massaging person's head\",\n",
      "    \"288\": \"milking cow\",\n",
      "    \"289\": \"moon walking\",\n",
      "    \"290\": \"mopping floor\",\n",
      "    \"291\": \"mosh pit dancing\",\n",
      "    \"292\": \"motorcycling\",\n",
      "    \"293\": \"mountain climber (exercise)\",\n",
      "    \"294\": \"moving furniture\",\n",
      "    \"295\": \"mowing lawn\",\n",
      "    \"296\": \"mushroom foraging\",\n",
      "    \"297\": \"needle felting\",\n",
      "    \"298\": \"news anchoring\",\n",
      "    \"299\": \"opening bottle (not wine)\",\n",
      "    \"300\": \"opening door\",\n",
      "    \"301\": \"opening present\",\n",
      "    \"302\": \"opening refrigerator\",\n",
      "    \"303\": \"opening wine bottle\",\n",
      "    \"304\": \"packing\",\n",
      "    \"305\": \"paragliding\",\n",
      "    \"306\": \"parasailing\",\n",
      "    \"307\": \"parkour\",\n",
      "    \"308\": \"passing American football (in game)\",\n",
      "    \"309\": \"passing american football (not in game)\",\n",
      "    \"310\": \"passing soccer ball\",\n",
      "    \"311\": \"peeling apples\",\n",
      "    \"312\": \"peeling potatoes\",\n",
      "    \"313\": \"person collecting garbage\",\n",
      "    \"314\": \"petting animal (not cat)\",\n",
      "    \"315\": \"petting cat\",\n",
      "    \"316\": \"photobombing\",\n",
      "    \"317\": \"photocopying\",\n",
      "    \"318\": \"picking fruit\",\n",
      "    \"319\": \"pillow fight\",\n",
      "    \"320\": \"pinching\",\n",
      "    \"321\": \"pirouetting\",\n",
      "    \"322\": \"planing wood\",\n",
      "    \"323\": \"planting trees\",\n",
      "    \"324\": \"plastering\",\n",
      "    \"325\": \"playing accordion\",\n",
      "    \"326\": \"playing badminton\",\n",
      "    \"327\": \"playing bagpipes\",\n",
      "    \"328\": \"playing basketball\",\n",
      "    \"329\": \"playing bass guitar\",\n",
      "    \"330\": \"playing beer pong\",\n",
      "    \"331\": \"playing blackjack\",\n",
      "    \"332\": \"playing cello\",\n",
      "    \"333\": \"playing chess\",\n",
      "    \"334\": \"playing clarinet\",\n",
      "    \"335\": \"playing controller\",\n",
      "    \"336\": \"playing cricket\",\n",
      "    \"337\": \"playing cymbals\",\n",
      "    \"338\": \"playing darts\",\n",
      "    \"339\": \"playing didgeridoo\",\n",
      "    \"340\": \"playing dominoes\",\n",
      "    \"341\": \"playing drums\",\n",
      "    \"342\": \"playing field hockey\",\n",
      "    \"343\": \"playing flute\",\n",
      "    \"344\": \"playing gong\",\n",
      "    \"345\": \"playing guitar\",\n",
      "    \"346\": \"playing hand clapping games\",\n",
      "    \"347\": \"playing harmonica\",\n",
      "    \"348\": \"playing harp\",\n",
      "    \"349\": \"playing ice hockey\",\n",
      "    \"350\": \"playing keyboard\",\n",
      "    \"351\": \"playing kickball\",\n",
      "    \"352\": \"playing laser tag\",\n",
      "    \"353\": \"playing lute\",\n",
      "    \"354\": \"playing maracas\",\n",
      "    \"355\": \"playing marbles\",\n",
      "    \"356\": \"playing monopoly\",\n",
      "    \"357\": \"playing netball\",\n",
      "    \"358\": \"playing ocarina\",\n",
      "    \"359\": \"playing organ\",\n",
      "    \"360\": \"playing paintball\",\n",
      "    \"361\": \"playing pan pipes\",\n",
      "    \"362\": \"playing piano\",\n",
      "    \"363\": \"playing pinball\",\n",
      "    \"364\": \"playing ping pong\",\n",
      "    \"365\": \"playing poker\",\n",
      "    \"366\": \"playing polo\",\n",
      "    \"367\": \"playing recorder\",\n",
      "    \"368\": \"playing rubiks cube\",\n",
      "    \"369\": \"playing saxophone\",\n",
      "    \"370\": \"playing scrabble\",\n",
      "    \"371\": \"playing squash or racquetball\",\n",
      "    \"372\": \"playing tennis\",\n",
      "    \"373\": \"playing trombone\",\n",
      "    \"374\": \"playing trumpet\",\n",
      "    \"375\": \"playing ukulele\",\n",
      "    \"376\": \"playing violin\",\n",
      "    \"377\": \"playing volleyball\",\n",
      "    \"378\": \"playing with trains\",\n",
      "    \"379\": \"playing xylophone\",\n",
      "    \"380\": \"poking bellybutton\",\n",
      "    \"381\": \"pole vault\",\n",
      "    \"382\": \"polishing metal\",\n",
      "    \"383\": \"popping balloons\",\n",
      "    \"384\": \"pouring beer\",\n",
      "    \"385\": \"preparing salad\",\n",
      "    \"386\": \"presenting weather forecast\",\n",
      "    \"387\": \"pull ups\",\n",
      "    \"388\": \"pumping fist\",\n",
      "    \"389\": \"pumping gas\",\n",
      "    \"390\": \"punching bag\",\n",
      "    \"391\": \"punching person (boxing)\",\n",
      "    \"392\": \"push up\",\n",
      "    \"393\": \"pushing car\",\n",
      "    \"394\": \"pushing cart\",\n",
      "    \"395\": \"pushing wheelbarrow\",\n",
      "    \"396\": \"pushing wheelchair\",\n",
      "    \"397\": \"putting in contact lenses\",\n",
      "    \"398\": \"putting on eyeliner\",\n",
      "    \"399\": \"putting on foundation\",\n",
      "    \"400\": \"putting on lipstick\",\n",
      "    \"401\": \"putting on mascara\",\n",
      "    \"402\": \"putting on sari\",\n",
      "    \"403\": \"putting on shoes\",\n",
      "    \"404\": \"raising eyebrows\",\n",
      "    \"405\": \"reading book\",\n",
      "    \"406\": \"reading newspaper\",\n",
      "    \"407\": \"recording music\",\n",
      "    \"408\": \"repairing puncture\",\n",
      "    \"409\": \"riding a bike\",\n",
      "    \"410\": \"riding camel\",\n",
      "    \"411\": \"riding elephant\",\n",
      "    \"412\": \"riding mechanical bull\",\n",
      "    \"413\": \"riding mule\",\n",
      "    \"414\": \"riding or walking with horse\",\n",
      "    \"415\": \"riding scooter\",\n",
      "    \"416\": \"riding snow blower\",\n",
      "    \"417\": \"riding unicycle\",\n",
      "    \"418\": \"ripping paper\",\n",
      "    \"419\": \"roasting marshmallows\",\n",
      "    \"420\": \"roasting pig\",\n",
      "    \"421\": \"robot dancing\",\n",
      "    \"422\": \"rock climbing\",\n",
      "    \"423\": \"rock scissors paper\",\n",
      "    \"424\": \"roller skating\",\n",
      "    \"425\": \"rolling pastry\",\n",
      "    \"426\": \"rope pushdown\",\n",
      "    \"427\": \"running on treadmill\",\n",
      "    \"428\": \"sailing\",\n",
      "    \"429\": \"salsa dancing\",\n",
      "    \"430\": \"sanding floor\",\n",
      "    \"431\": \"sausage making\",\n",
      "    \"432\": \"sawing wood\",\n",
      "    \"433\": \"scrambling eggs\",\n",
      "    \"434\": \"scrapbooking\",\n",
      "    \"435\": \"scrubbing face\",\n",
      "    \"436\": \"scuba diving\",\n",
      "    \"437\": \"separating eggs\",\n",
      "    \"438\": \"setting table\",\n",
      "    \"439\": \"sewing\",\n",
      "    \"440\": \"shaking hands\",\n",
      "    \"441\": \"shaking head\",\n",
      "    \"442\": \"shaping bread dough\",\n",
      "    \"443\": \"sharpening knives\",\n",
      "    \"444\": \"sharpening pencil\",\n",
      "    \"445\": \"shaving head\",\n",
      "    \"446\": \"shaving legs\",\n",
      "    \"447\": \"shearing sheep\",\n",
      "    \"448\": \"shining flashlight\",\n",
      "    \"449\": \"shining shoes\",\n",
      "    \"450\": \"shooting basketball\",\n",
      "    \"451\": \"shooting goal (soccer)\",\n",
      "    \"452\": \"shopping\",\n",
      "    \"453\": \"shot put\",\n",
      "    \"454\": \"shoveling snow\",\n",
      "    \"455\": \"shucking oysters\",\n",
      "    \"456\": \"shuffling cards\",\n",
      "    \"457\": \"shuffling feet\",\n",
      "    \"458\": \"side kick\",\n",
      "    \"459\": \"sign language interpreting\",\n",
      "    \"460\": \"singing\",\n",
      "    \"461\": \"sipping cup\",\n",
      "    \"462\": \"situp\",\n",
      "    \"463\": \"skateboarding\",\n",
      "    \"464\": \"ski jumping\",\n",
      "    \"465\": \"skiing crosscountry\",\n",
      "    \"466\": \"skiing mono\",\n",
      "    \"467\": \"skiing slalom\",\n",
      "    \"468\": \"skipping rope\",\n",
      "    \"469\": \"skipping stone\",\n",
      "    \"470\": \"skydiving\",\n",
      "    \"471\": \"slacklining\",\n",
      "    \"472\": \"slapping\",\n",
      "    \"473\": \"sled dog racing\",\n",
      "    \"474\": \"sleeping\",\n",
      "    \"475\": \"smashing\",\n",
      "    \"476\": \"smelling feet\",\n",
      "    \"477\": \"smoking\",\n",
      "    \"478\": \"smoking hookah\",\n",
      "    \"479\": \"smoking pipe\",\n",
      "    \"480\": \"snatch weight lifting\",\n",
      "    \"481\": \"sneezing\",\n",
      "    \"482\": \"snorkeling\",\n",
      "    \"483\": \"snowboarding\",\n",
      "    \"484\": \"snowkiting\",\n",
      "    \"485\": \"snowmobiling\",\n",
      "    \"486\": \"somersaulting\",\n",
      "    \"487\": \"spelunking\",\n",
      "    \"488\": \"spinning poi\",\n",
      "    \"489\": \"spray painting\",\n",
      "    \"490\": \"springboard diving\",\n",
      "    \"491\": \"square dancing\",\n",
      "    \"492\": \"squat\",\n",
      "    \"493\": \"standing on hands\",\n",
      "    \"494\": \"staring\",\n",
      "    \"495\": \"steer roping\",\n",
      "    \"496\": \"sticking tongue out\",\n",
      "    \"497\": \"stomping grapes\",\n",
      "    \"498\": \"stretching arm\",\n",
      "    \"499\": \"stretching leg\",\n",
      "    \"500\": \"sucking lolly\",\n",
      "    \"501\": \"surfing crowd\",\n",
      "    \"502\": \"surfing water\",\n",
      "    \"503\": \"sweeping floor\",\n",
      "    \"504\": \"swimming backstroke\",\n",
      "    \"505\": \"swimming breast stroke\",\n",
      "    \"506\": \"swimming butterfly stroke\",\n",
      "    \"507\": \"swimming front crawl\",\n",
      "    \"508\": \"swing dancing\",\n",
      "    \"509\": \"swinging baseball bat\",\n",
      "    \"510\": \"swinging on something\",\n",
      "    \"511\": \"sword fighting\",\n",
      "    \"512\": \"sword swallowing\",\n",
      "    \"513\": \"tackling\",\n",
      "    \"514\": \"tagging graffiti\",\n",
      "    \"515\": \"tai chi\",\n",
      "    \"516\": \"talking on cell phone\",\n",
      "    \"517\": \"tango dancing\",\n",
      "    \"518\": \"tap dancing\",\n",
      "    \"519\": \"tapping guitar\",\n",
      "    \"520\": \"tapping pen\",\n",
      "    \"521\": \"tasting beer\",\n",
      "    \"522\": \"tasting food\",\n",
      "    \"523\": \"tasting wine\",\n",
      "    \"524\": \"testifying\",\n",
      "    \"525\": \"texting\",\n",
      "    \"526\": \"threading needle\",\n",
      "    \"527\": \"throwing axe\",\n",
      "    \"528\": \"throwing ball (not baseball or American football)\",\n",
      "    \"529\": \"throwing discus\",\n",
      "    \"530\": \"throwing knife\",\n",
      "    \"531\": \"throwing snowballs\",\n",
      "    \"532\": \"throwing tantrum\",\n",
      "    \"533\": \"throwing water balloon\",\n",
      "    \"534\": \"tickling\",\n",
      "    \"535\": \"tie dying\",\n",
      "    \"536\": \"tightrope walking\",\n",
      "    \"537\": \"tiptoeing\",\n",
      "    \"538\": \"tobogganing\",\n",
      "    \"539\": \"tossing coin\",\n",
      "    \"540\": \"training dog\",\n",
      "    \"541\": \"trapezing\",\n",
      "    \"542\": \"trimming or shaving beard\",\n",
      "    \"543\": \"trimming shrubs\",\n",
      "    \"544\": \"trimming trees\",\n",
      "    \"545\": \"triple jump\",\n",
      "    \"546\": \"twiddling fingers\",\n",
      "    \"547\": \"tying bow tie\",\n",
      "    \"548\": \"tying knot (not on a tie)\",\n",
      "    \"549\": \"tying necktie\",\n",
      "    \"550\": \"tying shoe laces\",\n",
      "    \"551\": \"unboxing\",\n",
      "    \"552\": \"unloading truck\",\n",
      "    \"553\": \"using a microscope\",\n",
      "    \"554\": \"using a paint roller\",\n",
      "    \"555\": \"using a power drill\",\n",
      "    \"556\": \"using a sledge hammer\",\n",
      "    \"557\": \"using a wrench\",\n",
      "    \"558\": \"using atm\",\n",
      "    \"559\": \"using bagging machine\",\n",
      "    \"560\": \"using circular saw\",\n",
      "    \"561\": \"using inhaler\",\n",
      "    \"562\": \"using puppets\",\n",
      "    \"563\": \"using remote controller (not gaming)\",\n",
      "    \"564\": \"using segway\",\n",
      "    \"565\": \"vacuuming floor\",\n",
      "    \"566\": \"visiting the zoo\",\n",
      "    \"567\": \"wading through mud\",\n",
      "    \"568\": \"wading through water\",\n",
      "    \"569\": \"waiting in line\",\n",
      "    \"570\": \"waking up\",\n",
      "    \"571\": \"walking the dog\",\n",
      "    \"572\": \"walking through snow\",\n",
      "    \"573\": \"washing dishes\",\n",
      "    \"574\": \"washing feet\",\n",
      "    \"575\": \"washing hair\",\n",
      "    \"576\": \"washing hands\",\n",
      "    \"577\": \"watching tv\",\n",
      "    \"578\": \"water skiing\",\n",
      "    \"579\": \"water sliding\",\n",
      "    \"580\": \"watering plants\",\n",
      "    \"581\": \"waving hand\",\n",
      "    \"582\": \"waxing back\",\n",
      "    \"583\": \"waxing chest\",\n",
      "    \"584\": \"waxing eyebrows\",\n",
      "    \"585\": \"waxing legs\",\n",
      "    \"586\": \"weaving basket\",\n",
      "    \"587\": \"weaving fabric\",\n",
      "    \"588\": \"welding\",\n",
      "    \"589\": \"whistling\",\n",
      "    \"590\": \"windsurfing\",\n",
      "    \"591\": \"winking\",\n",
      "    \"592\": \"wood burning (art)\",\n",
      "    \"593\": \"wrapping present\",\n",
      "    \"594\": \"wrestling\",\n",
      "    \"595\": \"writing\",\n",
      "    \"596\": \"yarn spinning\",\n",
      "    \"597\": \"yawning\",\n",
      "    \"598\": \"yoga\",\n",
      "    \"599\": \"zumba\"\n",
      "  },\n",
      "  \"image_size\": 224,\n",
      "  \"initializer_range\": 0.02,\n",
      "  \"intermediate_size\": 3072,\n",
      "  \"label2id\": {\n",
      "    \"abseiling\": 0,\n",
      "    \"acting in play\": 1,\n",
      "    \"adjusting glasses\": 2,\n",
      "    \"air drumming\": 3,\n",
      "    \"alligator wrestling\": 4,\n",
      "    \"answering questions\": 5,\n",
      "    \"applauding\": 6,\n",
      "    \"applying cream\": 7,\n",
      "    \"archaeological excavation\": 8,\n",
      "    \"archery\": 9,\n",
      "    \"arguing\": 10,\n",
      "    \"arm wrestling\": 11,\n",
      "    \"arranging flowers\": 12,\n",
      "    \"assembling bicycle\": 13,\n",
      "    \"assembling computer\": 14,\n",
      "    \"attending conference\": 15,\n",
      "    \"auctioning\": 16,\n",
      "    \"backflip (human)\": 17,\n",
      "    \"baking cookies\": 18,\n",
      "    \"bandaging\": 19,\n",
      "    \"barbequing\": 20,\n",
      "    \"bartending\": 21,\n",
      "    \"base jumping\": 22,\n",
      "    \"bathing dog\": 23,\n",
      "    \"battle rope training\": 24,\n",
      "    \"beatboxing\": 25,\n",
      "    \"bee keeping\": 26,\n",
      "    \"belly dancing\": 27,\n",
      "    \"bench pressing\": 28,\n",
      "    \"bending back\": 29,\n",
      "    \"bending metal\": 30,\n",
      "    \"biking through snow\": 31,\n",
      "    \"blasting sand\": 32,\n",
      "    \"blowdrying hair\": 33,\n",
      "    \"blowing bubble gum\": 34,\n",
      "    \"blowing glass\": 35,\n",
      "    \"blowing leaves\": 36,\n",
      "    \"blowing nose\": 37,\n",
      "    \"blowing out candles\": 38,\n",
      "    \"bobsledding\": 39,\n",
      "    \"bodysurfing\": 40,\n",
      "    \"bookbinding\": 41,\n",
      "    \"bottling\": 42,\n",
      "    \"bouncing on bouncy castle\": 43,\n",
      "    \"bouncing on trampoline\": 44,\n",
      "    \"bowling\": 45,\n",
      "    \"braiding hair\": 46,\n",
      "    \"breading or breadcrumbing\": 47,\n",
      "    \"breakdancing\": 48,\n",
      "    \"breaking boards\": 49,\n",
      "    \"breathing fire\": 50,\n",
      "    \"brush painting\": 51,\n",
      "    \"brushing hair\": 52,\n",
      "    \"brushing teeth\": 53,\n",
      "    \"building cabinet\": 54,\n",
      "    \"building lego\": 55,\n",
      "    \"building sandcastle\": 56,\n",
      "    \"building shed\": 57,\n",
      "    \"bull fighting\": 58,\n",
      "    \"bulldozing\": 59,\n",
      "    \"bungee jumping\": 60,\n",
      "    \"burping\": 61,\n",
      "    \"busking\": 62,\n",
      "    \"calculating\": 63,\n",
      "    \"calligraphy\": 64,\n",
      "    \"canoeing or kayaking\": 65,\n",
      "    \"capoeira\": 66,\n",
      "    \"capsizing\": 67,\n",
      "    \"card stacking\": 68,\n",
      "    \"card throwing\": 69,\n",
      "    \"carrying baby\": 70,\n",
      "    \"cartwheeling\": 71,\n",
      "    \"carving ice\": 72,\n",
      "    \"carving pumpkin\": 73,\n",
      "    \"casting fishing line\": 74,\n",
      "    \"catching fish\": 75,\n",
      "    \"catching or throwing baseball\": 76,\n",
      "    \"catching or throwing frisbee\": 77,\n",
      "    \"catching or throwing softball\": 78,\n",
      "    \"celebrating\": 79,\n",
      "    \"changing gear in car\": 80,\n",
      "    \"changing oil\": 81,\n",
      "    \"changing wheel (not on bike)\": 82,\n",
      "    \"checking tires\": 83,\n",
      "    \"cheerleading\": 84,\n",
      "    \"chewing gum\": 85,\n",
      "    \"chiseling stone\": 86,\n",
      "    \"chiseling wood\": 87,\n",
      "    \"chopping meat\": 88,\n",
      "    \"chopping vegetables\": 89,\n",
      "    \"chopping wood\": 90,\n",
      "    \"clam digging\": 91,\n",
      "    \"clapping\": 92,\n",
      "    \"clay pottery making\": 93,\n",
      "    \"clean and jerk\": 94,\n",
      "    \"cleaning gutters\": 95,\n",
      "    \"cleaning pool\": 96,\n",
      "    \"cleaning shoes\": 97,\n",
      "    \"cleaning toilet\": 98,\n",
      "    \"cleaning windows\": 99,\n",
      "    \"climbing a rope\": 100,\n",
      "    \"climbing ladder\": 101,\n",
      "    \"climbing tree\": 102,\n",
      "    \"coloring in\": 103,\n",
      "    \"combing hair\": 104,\n",
      "    \"contact juggling\": 105,\n",
      "    \"contorting\": 106,\n",
      "    \"cooking egg\": 107,\n",
      "    \"cooking on campfire\": 108,\n",
      "    \"cooking sausages (not on barbeque)\": 109,\n",
      "    \"cooking scallops\": 110,\n",
      "    \"cosplaying\": 111,\n",
      "    \"counting money\": 112,\n",
      "    \"country line dancing\": 113,\n",
      "    \"cracking back\": 114,\n",
      "    \"cracking knuckles\": 115,\n",
      "    \"cracking neck\": 116,\n",
      "    \"crawling baby\": 117,\n",
      "    \"crossing eyes\": 118,\n",
      "    \"crossing river\": 119,\n",
      "    \"crying\": 120,\n",
      "    \"cumbia\": 121,\n",
      "    \"curling (sport)\": 122,\n",
      "    \"curling hair\": 123,\n",
      "    \"cutting apple\": 124,\n",
      "    \"cutting nails\": 125,\n",
      "    \"cutting orange\": 126,\n",
      "    \"cutting pineapple\": 127,\n",
      "    \"cutting watermelon\": 128,\n",
      "    \"dancing ballet\": 129,\n",
      "    \"dancing charleston\": 130,\n",
      "    \"dancing gangnam style\": 131,\n",
      "    \"dancing macarena\": 132,\n",
      "    \"deadlifting\": 133,\n",
      "    \"decorating the christmas tree\": 134,\n",
      "    \"delivering mail\": 135,\n",
      "    \"dining\": 136,\n",
      "    \"directing traffic\": 137,\n",
      "    \"disc golfing\": 138,\n",
      "    \"diving cliff\": 139,\n",
      "    \"docking boat\": 140,\n",
      "    \"dodgeball\": 141,\n",
      "    \"doing aerobics\": 142,\n",
      "    \"doing jigsaw puzzle\": 143,\n",
      "    \"doing laundry\": 144,\n",
      "    \"doing nails\": 145,\n",
      "    \"drawing\": 146,\n",
      "    \"dribbling basketball\": 147,\n",
      "    \"drinking shots\": 148,\n",
      "    \"driving car\": 149,\n",
      "    \"driving tractor\": 150,\n",
      "    \"drooling\": 151,\n",
      "    \"drop kicking\": 152,\n",
      "    \"drumming fingers\": 153,\n",
      "    \"dumpster diving\": 154,\n",
      "    \"dunking basketball\": 155,\n",
      "    \"dyeing eyebrows\": 156,\n",
      "    \"dyeing hair\": 157,\n",
      "    \"eating burger\": 158,\n",
      "    \"eating cake\": 159,\n",
      "    \"eating carrots\": 160,\n",
      "    \"eating chips\": 161,\n",
      "    \"eating doughnuts\": 162,\n",
      "    \"eating hotdog\": 163,\n",
      "    \"eating ice cream\": 164,\n",
      "    \"eating spaghetti\": 165,\n",
      "    \"eating watermelon\": 166,\n",
      "    \"egg hunting\": 167,\n",
      "    \"embroidering\": 168,\n",
      "    \"exercising with an exercise ball\": 169,\n",
      "    \"extinguishing fire\": 170,\n",
      "    \"faceplanting\": 171,\n",
      "    \"falling off bike\": 172,\n",
      "    \"falling off chair\": 173,\n",
      "    \"feeding birds\": 174,\n",
      "    \"feeding fish\": 175,\n",
      "    \"feeding goats\": 176,\n",
      "    \"fencing (sport)\": 177,\n",
      "    \"fidgeting\": 178,\n",
      "    \"finger snapping\": 179,\n",
      "    \"fixing bicycle\": 180,\n",
      "    \"fixing hair\": 181,\n",
      "    \"flint knapping\": 182,\n",
      "    \"flipping pancake\": 183,\n",
      "    \"fly tying\": 184,\n",
      "    \"flying kite\": 185,\n",
      "    \"folding clothes\": 186,\n",
      "    \"folding napkins\": 187,\n",
      "    \"folding paper\": 188,\n",
      "    \"front raises\": 189,\n",
      "    \"frying vegetables\": 190,\n",
      "    \"geocaching\": 191,\n",
      "    \"getting a haircut\": 192,\n",
      "    \"getting a piercing\": 193,\n",
      "    \"getting a tattoo\": 194,\n",
      "    \"giving or receiving award\": 195,\n",
      "    \"gold panning\": 196,\n",
      "    \"golf chipping\": 197,\n",
      "    \"golf driving\": 198,\n",
      "    \"golf putting\": 199,\n",
      "    \"gospel singing in church\": 200,\n",
      "    \"grinding meat\": 201,\n",
      "    \"grooming dog\": 202,\n",
      "    \"grooming horse\": 203,\n",
      "    \"gymnastics tumbling\": 204,\n",
      "    \"hammer throw\": 205,\n",
      "    \"hand washing clothes\": 206,\n",
      "    \"head stand\": 207,\n",
      "    \"headbanging\": 208,\n",
      "    \"headbutting\": 209,\n",
      "    \"high jump\": 210,\n",
      "    \"high kick\": 211,\n",
      "    \"historical reenactment\": 212,\n",
      "    \"hitting baseball\": 213,\n",
      "    \"hockey stop\": 214,\n",
      "    \"holding snake\": 215,\n",
      "    \"home roasting coffee\": 216,\n",
      "    \"hopscotch\": 217,\n",
      "    \"hoverboarding\": 218,\n",
      "    \"huddling\": 219,\n",
      "    \"hugging (not baby)\": 220,\n",
      "    \"hugging baby\": 221,\n",
      "    \"hula hooping\": 222,\n",
      "    \"hurdling\": 223,\n",
      "    \"hurling (sport)\": 224,\n",
      "    \"ice climbing\": 225,\n",
      "    \"ice fishing\": 226,\n",
      "    \"ice skating\": 227,\n",
      "    \"ice swimming\": 228,\n",
      "    \"inflating balloons\": 229,\n",
      "    \"installing carpet\": 230,\n",
      "    \"ironing\": 231,\n",
      "    \"ironing hair\": 232,\n",
      "    \"javelin throw\": 233,\n",
      "    \"jaywalking\": 234,\n",
      "    \"jetskiing\": 235,\n",
      "    \"jogging\": 236,\n",
      "    \"juggling balls\": 237,\n",
      "    \"juggling fire\": 238,\n",
      "    \"juggling soccer ball\": 239,\n",
      "    \"jumping bicycle\": 240,\n",
      "    \"jumping into pool\": 241,\n",
      "    \"jumping jacks\": 242,\n",
      "    \"jumpstyle dancing\": 243,\n",
      "    \"karaoke\": 244,\n",
      "    \"kicking field goal\": 245,\n",
      "    \"kicking soccer ball\": 246,\n",
      "    \"kissing\": 247,\n",
      "    \"kitesurfing\": 248,\n",
      "    \"knitting\": 249,\n",
      "    \"krumping\": 250,\n",
      "    \"land sailing\": 251,\n",
      "    \"laughing\": 252,\n",
      "    \"lawn mower racing\": 253,\n",
      "    \"laying bricks\": 254,\n",
      "    \"laying concrete\": 255,\n",
      "    \"laying stone\": 256,\n",
      "    \"laying tiles\": 257,\n",
      "    \"leatherworking\": 258,\n",
      "    \"licking\": 259,\n",
      "    \"lifting hat\": 260,\n",
      "    \"lighting fire\": 261,\n",
      "    \"lock picking\": 262,\n",
      "    \"long jump\": 263,\n",
      "    \"longboarding\": 264,\n",
      "    \"looking at phone\": 265,\n",
      "    \"luge\": 266,\n",
      "    \"lunge\": 267,\n",
      "    \"making a cake\": 268,\n",
      "    \"making a sandwich\": 269,\n",
      "    \"making balloon shapes\": 270,\n",
      "    \"making bubbles\": 271,\n",
      "    \"making cheese\": 272,\n",
      "    \"making horseshoes\": 273,\n",
      "    \"making jewelry\": 274,\n",
      "    \"making paper aeroplanes\": 275,\n",
      "    \"making pizza\": 276,\n",
      "    \"making snowman\": 277,\n",
      "    \"making sushi\": 278,\n",
      "    \"making tea\": 279,\n",
      "    \"making the bed\": 280,\n",
      "    \"marching\": 281,\n",
      "    \"marriage proposal\": 282,\n",
      "    \"massaging back\": 283,\n",
      "    \"massaging feet\": 284,\n",
      "    \"massaging legs\": 285,\n",
      "    \"massaging neck\": 286,\n",
      "    \"massaging person's head\": 287,\n",
      "    \"milking cow\": 288,\n",
      "    \"moon walking\": 289,\n",
      "    \"mopping floor\": 290,\n",
      "    \"mosh pit dancing\": 291,\n",
      "    \"motorcycling\": 292,\n",
      "    \"mountain climber (exercise)\": 293,\n",
      "    \"moving furniture\": 294,\n",
      "    \"mowing lawn\": 295,\n",
      "    \"mushroom foraging\": 296,\n",
      "    \"needle felting\": 297,\n",
      "    \"news anchoring\": 298,\n",
      "    \"opening bottle (not wine)\": 299,\n",
      "    \"opening door\": 300,\n",
      "    \"opening present\": 301,\n",
      "    \"opening refrigerator\": 302,\n",
      "    \"opening wine bottle\": 303,\n",
      "    \"packing\": 304,\n",
      "    \"paragliding\": 305,\n",
      "    \"parasailing\": 306,\n",
      "    \"parkour\": 307,\n",
      "    \"passing American football (in game)\": 308,\n",
      "    \"passing american football (not in game)\": 309,\n",
      "    \"passing soccer ball\": 310,\n",
      "    \"peeling apples\": 311,\n",
      "    \"peeling potatoes\": 312,\n",
      "    \"person collecting garbage\": 313,\n",
      "    \"petting animal (not cat)\": 314,\n",
      "    \"petting cat\": 315,\n",
      "    \"photobombing\": 316,\n",
      "    \"photocopying\": 317,\n",
      "    \"picking fruit\": 318,\n",
      "    \"pillow fight\": 319,\n",
      "    \"pinching\": 320,\n",
      "    \"pirouetting\": 321,\n",
      "    \"planing wood\": 322,\n",
      "    \"planting trees\": 323,\n",
      "    \"plastering\": 324,\n",
      "    \"playing accordion\": 325,\n",
      "    \"playing badminton\": 326,\n",
      "    \"playing bagpipes\": 327,\n",
      "    \"playing basketball\": 328,\n",
      "    \"playing bass guitar\": 329,\n",
      "    \"playing beer pong\": 330,\n",
      "    \"playing blackjack\": 331,\n",
      "    \"playing cello\": 332,\n",
      "    \"playing chess\": 333,\n",
      "    \"playing clarinet\": 334,\n",
      "    \"playing controller\": 335,\n",
      "    \"playing cricket\": 336,\n",
      "    \"playing cymbals\": 337,\n",
      "    \"playing darts\": 338,\n",
      "    \"playing didgeridoo\": 339,\n",
      "    \"playing dominoes\": 340,\n",
      "    \"playing drums\": 341,\n",
      "    \"playing field hockey\": 342,\n",
      "    \"playing flute\": 343,\n",
      "    \"playing gong\": 344,\n",
      "    \"playing guitar\": 345,\n",
      "    \"playing hand clapping games\": 346,\n",
      "    \"playing harmonica\": 347,\n",
      "    \"playing harp\": 348,\n",
      "    \"playing ice hockey\": 349,\n",
      "    \"playing keyboard\": 350,\n",
      "    \"playing kickball\": 351,\n",
      "    \"playing laser tag\": 352,\n",
      "    \"playing lute\": 353,\n",
      "    \"playing maracas\": 354,\n",
      "    \"playing marbles\": 355,\n",
      "    \"playing monopoly\": 356,\n",
      "    \"playing netball\": 357,\n",
      "    \"playing ocarina\": 358,\n",
      "    \"playing organ\": 359,\n",
      "    \"playing paintball\": 360,\n",
      "    \"playing pan pipes\": 361,\n",
      "    \"playing piano\": 362,\n",
      "    \"playing pinball\": 363,\n",
      "    \"playing ping pong\": 364,\n",
      "    \"playing poker\": 365,\n",
      "    \"playing polo\": 366,\n",
      "    \"playing recorder\": 367,\n",
      "    \"playing rubiks cube\": 368,\n",
      "    \"playing saxophone\": 369,\n",
      "    \"playing scrabble\": 370,\n",
      "    \"playing squash or racquetball\": 371,\n",
      "    \"playing tennis\": 372,\n",
      "    \"playing trombone\": 373,\n",
      "    \"playing trumpet\": 374,\n",
      "    \"playing ukulele\": 375,\n",
      "    \"playing violin\": 376,\n",
      "    \"playing volleyball\": 377,\n",
      "    \"playing with trains\": 378,\n",
      "    \"playing xylophone\": 379,\n",
      "    \"poking bellybutton\": 380,\n",
      "    \"pole vault\": 381,\n",
      "    \"polishing metal\": 382,\n",
      "    \"popping balloons\": 383,\n",
      "    \"pouring beer\": 384,\n",
      "    \"preparing salad\": 385,\n",
      "    \"presenting weather forecast\": 386,\n",
      "    \"pull ups\": 387,\n",
      "    \"pumping fist\": 388,\n",
      "    \"pumping gas\": 389,\n",
      "    \"punching bag\": 390,\n",
      "    \"punching person (boxing)\": 391,\n",
      "    \"push up\": 392,\n",
      "    \"pushing car\": 393,\n",
      "    \"pushing cart\": 394,\n",
      "    \"pushing wheelbarrow\": 395,\n",
      "    \"pushing wheelchair\": 396,\n",
      "    \"putting in contact lenses\": 397,\n",
      "    \"putting on eyeliner\": 398,\n",
      "    \"putting on foundation\": 399,\n",
      "    \"putting on lipstick\": 400,\n",
      "    \"putting on mascara\": 401,\n",
      "    \"putting on sari\": 402,\n",
      "    \"putting on shoes\": 403,\n",
      "    \"raising eyebrows\": 404,\n",
      "    \"reading book\": 405,\n",
      "    \"reading newspaper\": 406,\n",
      "    \"recording music\": 407,\n",
      "    \"repairing puncture\": 408,\n",
      "    \"riding a bike\": 409,\n",
      "    \"riding camel\": 410,\n",
      "    \"riding elephant\": 411,\n",
      "    \"riding mechanical bull\": 412,\n",
      "    \"riding mule\": 413,\n",
      "    \"riding or walking with horse\": 414,\n",
      "    \"riding scooter\": 415,\n",
      "    \"riding snow blower\": 416,\n",
      "    \"riding unicycle\": 417,\n",
      "    \"ripping paper\": 418,\n",
      "    \"roasting marshmallows\": 419,\n",
      "    \"roasting pig\": 420,\n",
      "    \"robot dancing\": 421,\n",
      "    \"rock climbing\": 422,\n",
      "    \"rock scissors paper\": 423,\n",
      "    \"roller skating\": 424,\n",
      "    \"rolling pastry\": 425,\n",
      "    \"rope pushdown\": 426,\n",
      "    \"running on treadmill\": 427,\n",
      "    \"sailing\": 428,\n",
      "    \"salsa dancing\": 429,\n",
      "    \"sanding floor\": 430,\n",
      "    \"sausage making\": 431,\n",
      "    \"sawing wood\": 432,\n",
      "    \"scrambling eggs\": 433,\n",
      "    \"scrapbooking\": 434,\n",
      "    \"scrubbing face\": 435,\n",
      "    \"scuba diving\": 436,\n",
      "    \"separating eggs\": 437,\n",
      "    \"setting table\": 438,\n",
      "    \"sewing\": 439,\n",
      "    \"shaking hands\": 440,\n",
      "    \"shaking head\": 441,\n",
      "    \"shaping bread dough\": 442,\n",
      "    \"sharpening knives\": 443,\n",
      "    \"sharpening pencil\": 444,\n",
      "    \"shaving head\": 445,\n",
      "    \"shaving legs\": 446,\n",
      "    \"shearing sheep\": 447,\n",
      "    \"shining flashlight\": 448,\n",
      "    \"shining shoes\": 449,\n",
      "    \"shooting basketball\": 450,\n",
      "    \"shooting goal (soccer)\": 451,\n",
      "    \"shopping\": 452,\n",
      "    \"shot put\": 453,\n",
      "    \"shoveling snow\": 454,\n",
      "    \"shucking oysters\": 455,\n",
      "    \"shuffling cards\": 456,\n",
      "    \"shuffling feet\": 457,\n",
      "    \"side kick\": 458,\n",
      "    \"sign language interpreting\": 459,\n",
      "    \"singing\": 460,\n",
      "    \"sipping cup\": 461,\n",
      "    \"situp\": 462,\n",
      "    \"skateboarding\": 463,\n",
      "    \"ski jumping\": 464,\n",
      "    \"skiing crosscountry\": 465,\n",
      "    \"skiing mono\": 466,\n",
      "    \"skiing slalom\": 467,\n",
      "    \"skipping rope\": 468,\n",
      "    \"skipping stone\": 469,\n",
      "    \"skydiving\": 470,\n",
      "    \"slacklining\": 471,\n",
      "    \"slapping\": 472,\n",
      "    \"sled dog racing\": 473,\n",
      "    \"sleeping\": 474,\n",
      "    \"smashing\": 475,\n",
      "    \"smelling feet\": 476,\n",
      "    \"smoking\": 477,\n",
      "    \"smoking hookah\": 478,\n",
      "    \"smoking pipe\": 479,\n",
      "    \"snatch weight lifting\": 480,\n",
      "    \"sneezing\": 481,\n",
      "    \"snorkeling\": 482,\n",
      "    \"snowboarding\": 483,\n",
      "    \"snowkiting\": 484,\n",
      "    \"snowmobiling\": 485,\n",
      "    \"somersaulting\": 486,\n",
      "    \"spelunking\": 487,\n",
      "    \"spinning poi\": 488,\n",
      "    \"spray painting\": 489,\n",
      "    \"springboard diving\": 490,\n",
      "    \"square dancing\": 491,\n",
      "    \"squat\": 492,\n",
      "    \"standing on hands\": 493,\n",
      "    \"staring\": 494,\n",
      "    \"steer roping\": 495,\n",
      "    \"sticking tongue out\": 496,\n",
      "    \"stomping grapes\": 497,\n",
      "    \"stretching arm\": 498,\n",
      "    \"stretching leg\": 499,\n",
      "    \"sucking lolly\": 500,\n",
      "    \"surfing crowd\": 501,\n",
      "    \"surfing water\": 502,\n",
      "    \"sweeping floor\": 503,\n",
      "    \"swimming backstroke\": 504,\n",
      "    \"swimming breast stroke\": 505,\n",
      "    \"swimming butterfly stroke\": 506,\n",
      "    \"swimming front crawl\": 507,\n",
      "    \"swing dancing\": 508,\n",
      "    \"swinging baseball bat\": 509,\n",
      "    \"swinging on something\": 510,\n",
      "    \"sword fighting\": 511,\n",
      "    \"sword swallowing\": 512,\n",
      "    \"tackling\": 513,\n",
      "    \"tagging graffiti\": 514,\n",
      "    \"tai chi\": 515,\n",
      "    \"talking on cell phone\": 516,\n",
      "    \"tango dancing\": 517,\n",
      "    \"tap dancing\": 518,\n",
      "    \"tapping guitar\": 519,\n",
      "    \"tapping pen\": 520,\n",
      "    \"tasting beer\": 521,\n",
      "    \"tasting food\": 522,\n",
      "    \"tasting wine\": 523,\n",
      "    \"testifying\": 524,\n",
      "    \"texting\": 525,\n",
      "    \"threading needle\": 526,\n",
      "    \"throwing axe\": 527,\n",
      "    \"throwing ball (not baseball or American football)\": 528,\n",
      "    \"throwing discus\": 529,\n",
      "    \"throwing knife\": 530,\n",
      "    \"throwing snowballs\": 531,\n",
      "    \"throwing tantrum\": 532,\n",
      "    \"throwing water balloon\": 533,\n",
      "    \"tickling\": 534,\n",
      "    \"tie dying\": 535,\n",
      "    \"tightrope walking\": 536,\n",
      "    \"tiptoeing\": 537,\n",
      "    \"tobogganing\": 538,\n",
      "    \"tossing coin\": 539,\n",
      "    \"training dog\": 540,\n",
      "    \"trapezing\": 541,\n",
      "    \"trimming or shaving beard\": 542,\n",
      "    \"trimming shrubs\": 543,\n",
      "    \"trimming trees\": 544,\n",
      "    \"triple jump\": 545,\n",
      "    \"twiddling fingers\": 546,\n",
      "    \"tying bow tie\": 547,\n",
      "    \"tying knot (not on a tie)\": 548,\n",
      "    \"tying necktie\": 549,\n",
      "    \"tying shoe laces\": 550,\n",
      "    \"unboxing\": 551,\n",
      "    \"unloading truck\": 552,\n",
      "    \"using a microscope\": 553,\n",
      "    \"using a paint roller\": 554,\n",
      "    \"using a power drill\": 555,\n",
      "    \"using a sledge hammer\": 556,\n",
      "    \"using a wrench\": 557,\n",
      "    \"using atm\": 558,\n",
      "    \"using bagging machine\": 559,\n",
      "    \"using circular saw\": 560,\n",
      "    \"using inhaler\": 561,\n",
      "    \"using puppets\": 562,\n",
      "    \"using remote controller (not gaming)\": 563,\n",
      "    \"using segway\": 564,\n",
      "    \"vacuuming floor\": 565,\n",
      "    \"visiting the zoo\": 566,\n",
      "    \"wading through mud\": 567,\n",
      "    \"wading through water\": 568,\n",
      "    \"waiting in line\": 569,\n",
      "    \"waking up\": 570,\n",
      "    \"walking the dog\": 571,\n",
      "    \"walking through snow\": 572,\n",
      "    \"washing dishes\": 573,\n",
      "    \"washing feet\": 574,\n",
      "    \"washing hair\": 575,\n",
      "    \"washing hands\": 576,\n",
      "    \"watching tv\": 577,\n",
      "    \"water skiing\": 578,\n",
      "    \"water sliding\": 579,\n",
      "    \"watering plants\": 580,\n",
      "    \"waving hand\": 581,\n",
      "    \"waxing back\": 582,\n",
      "    \"waxing chest\": 583,\n",
      "    \"waxing eyebrows\": 584,\n",
      "    \"waxing legs\": 585,\n",
      "    \"weaving basket\": 586,\n",
      "    \"weaving fabric\": 587,\n",
      "    \"welding\": 588,\n",
      "    \"whistling\": 589,\n",
      "    \"windsurfing\": 590,\n",
      "    \"winking\": 591,\n",
      "    \"wood burning (art)\": 592,\n",
      "    \"wrapping present\": 593,\n",
      "    \"wrestling\": 594,\n",
      "    \"writing\": 595,\n",
      "    \"yarn spinning\": 596,\n",
      "    \"yawning\": 597,\n",
      "    \"yoga\": 598,\n",
      "    \"zumba\": 599\n",
      "  },\n",
      "  \"layer_norm_eps\": 1e-06,\n",
      "  \"model_type\": \"timesformer\",\n",
      "  \"num_attention_heads\": 12,\n",
      "  \"num_channels\": 3,\n",
      "  \"num_frames\": 8,\n",
      "  \"num_hidden_layers\": 12,\n",
      "  \"patch_size\": 16,\n",
      "  \"qkv_bias\": true,\n",
      "  \"torch_dtype\": \"float32\",\n",
      "  \"transformers_version\": \"4.26.1\"\n",
      "}\n",
      "\n",
      "loading weights file pytorch_model.bin from cache at /home/922201615/.cache/huggingface/hub/models--facebook--timesformer-base-finetuned-k600/snapshots/8b0484b3e11f898a3ef4ddd8ee3db327e288bb27/pytorch_model.bin\n",
      "Some weights of the model checkpoint at facebook/timesformer-base-finetuned-k600 were not used when initializing TimesformerModel: ['classifier.weight', 'classifier.bias']\n",
      "- This IS expected if you are initializing TimesformerModel from the checkpoint of a model trained on another task or with another architecture (e.g. initializing a BertForSequenceClassification model from a BertForPreTraining model).\n",
      "- This IS NOT expected if you are initializing TimesformerModel from the checkpoint of a model that you expect to be exactly identical (initializing a BertForSequenceClassification model from a BertForSequenceClassification model).\n",
      "All the weights of TimesformerModel were initialized from the model checkpoint at facebook/timesformer-base-finetuned-k600.\n",
      "If your task is similar to the task the model of the checkpoint was trained on, you can already use TimesformerModel for predictions without further training.\n",
      "loading configuration file config.json from cache at /home/922201615/.cache/huggingface/hub/models--gpt2/snapshots/e7da7f221d5bf496a48136c0cd264e630fe9fcc8/config.json\n",
      "Model config GPT2Config {\n",
      "  \"_name_or_path\": \"gpt2\",\n",
      "  \"activation_function\": \"gelu_new\",\n",
      "  \"architectures\": [\n",
      "    \"GPT2LMHeadModel\"\n",
      "  ],\n",
      "  \"attn_pdrop\": 0.1,\n",
      "  \"bos_token_id\": 50256,\n",
      "  \"embd_pdrop\": 0.1,\n",
      "  \"eos_token_id\": 50256,\n",
      "  \"initializer_range\": 0.02,\n",
      "  \"layer_norm_epsilon\": 1e-05,\n",
      "  \"model_type\": \"gpt2\",\n",
      "  \"n_ctx\": 1024,\n",
      "  \"n_embd\": 768,\n",
      "  \"n_head\": 12,\n",
      "  \"n_inner\": null,\n",
      "  \"n_layer\": 12,\n",
      "  \"n_positions\": 1024,\n",
      "  \"reorder_and_upcast_attn\": false,\n",
      "  \"resid_pdrop\": 0.1,\n",
      "  \"scale_attn_by_inverse_layer_idx\": false,\n",
      "  \"scale_attn_weights\": true,\n",
      "  \"summary_activation\": null,\n",
      "  \"summary_first_dropout\": 0.1,\n",
      "  \"summary_proj_to_labels\": true,\n",
      "  \"summary_type\": \"cls_index\",\n",
      "  \"summary_use_proj\": true,\n",
      "  \"task_specific_params\": {\n",
      "    \"text-generation\": {\n",
      "      \"do_sample\": true,\n",
      "      \"max_length\": 50\n",
      "    }\n",
      "  },\n",
      "  \"transformers_version\": \"4.26.1\",\n",
      "  \"use_cache\": true,\n",
      "  \"vocab_size\": 50257\n",
      "}\n",
      "\n",
      "Initializing gpt2 as a decoder model. Cross attention layers are added to gpt2 and randomly initialized if gpt2's architecture allows for cross attention layers.\n",
      "loading weights file pytorch_model.bin from cache at /home/922201615/.cache/huggingface/hub/models--gpt2/snapshots/e7da7f221d5bf496a48136c0cd264e630fe9fcc8/pytorch_model.bin\n",
      "Generate config GenerationConfig {\n",
      "  \"bos_token_id\": 50256,\n",
      "  \"eos_token_id\": 50256,\n",
      "  \"transformers_version\": \"4.26.1\"\n",
      "}\n",
      "\n",
      "All model checkpoint weights were used when initializing GPT2LMHeadModel.\n",
      "\n",
      "Some weights of GPT2LMHeadModel were not initialized from the model checkpoint at gpt2 and are newly initialized: ['h.1.crossattention.masked_bias', 'h.0.crossattention.q_attn.weight', 'h.2.crossattention.q_attn.weight', 'h.0.crossattention.c_attn.weight', 'h.3.crossattention.bias', 'h.11.crossattention.c_proj.bias', 'h.0.crossattention.c_proj.weight', 'h.11.ln_cross_attn.weight', 'h.5.crossattention.c_attn.weight', 'h.7.crossattention.c_proj.bias', 'h.1.crossattention.c_proj.bias', 'h.11.crossattention.q_attn.weight', 'h.8.crossattention.c_proj.bias', 'h.3.ln_cross_attn.weight', 'h.2.crossattention.c_proj.bias', 'h.4.crossattention.bias', 'h.10.crossattention.bias', 'h.4.ln_cross_attn.weight', 'h.1.ln_cross_attn.weight', 'h.2.crossattention.bias', 'h.1.crossattention.q_attn.weight', 'h.5.ln_cross_attn.weight', 'h.6.crossattention.masked_bias', 'h.3.crossattention.masked_bias', 'h.7.ln_cross_attn.weight', 'h.9.crossattention.masked_bias', 'h.10.crossattention.c_attn.weight', 'h.1.crossattention.bias', 'h.1.crossattention.c_attn.weight', 'h.7.crossattention.masked_bias', 'h.7.crossattention.c_proj.weight', 'h.6.crossattention.c_proj.weight', 'h.2.ln_cross_attn.weight', 'h.7.crossattention.c_attn.weight', 'h.6.crossattention.c_proj.bias', 'h.1.crossattention.c_proj.weight', 'h.9.crossattention.c_proj.weight', 'h.10.crossattention.q_attn.weight', 'h.2.crossattention.c_proj.weight', 'h.8.crossattention.q_attn.weight', 'h.10.crossattention.c_proj.weight', 'h.8.ln_cross_attn.weight', 'h.6.ln_cross_attn.weight', 'h.7.crossattention.bias', 'h.4.crossattention.masked_bias', 'h.10.ln_cross_attn.weight', 'h.9.ln_cross_attn.weight', 'h.0.crossattention.masked_bias', 'h.5.crossattention.bias', 'h.2.crossattention.c_attn.weight', 'h.0.crossattention.bias', 'h.0.crossattention.c_proj.bias', 'h.4.crossattention.c_attn.weight', 'h.9.crossattention.c_attn.weight', 'h.9.crossattention.c_proj.bias', 'h.11.crossattention.c_attn.weight', 'h.4.crossattention.c_proj.bias', 'h.6.crossattention.q_attn.weight', 'h.8.crossattention.bias', 'h.0.ln_cross_attn.weight', 'h.10.crossattention.c_proj.bias', 'h.9.crossattention.q_attn.weight', 'h.8.crossattention.masked_bias', 'h.5.crossattention.masked_bias', 'h.9.crossattention.bias', 'h.11.crossattention.masked_bias', 'h.4.crossattention.q_attn.weight', 'h.6.crossattention.bias', 'h.3.crossattention.q_attn.weight', 'h.5.crossattention.c_proj.bias', 'h.8.crossattention.c_attn.weight', 'h.5.crossattention.c_proj.weight', 'h.11.crossattention.c_proj.weight', 'h.6.crossattention.c_attn.weight', 'h.3.crossattention.c_proj.bias', 'h.8.crossattention.c_proj.weight', 'h.3.crossattention.c_proj.weight', 'h.3.crossattention.c_attn.weight', 'h.2.crossattention.masked_bias', 'h.7.crossattention.q_attn.weight', 'h.11.crossattention.bias', 'h.10.crossattention.masked_bias', 'h.4.crossattention.c_proj.weight', 'h.5.crossattention.q_attn.weight']\n",
      "You should probably TRAIN this model on a down-stream task to be able to use it for predictions and inference.\n",
      "loading configuration file generation_config.json from cache at /home/922201615/.cache/huggingface/hub/models--gpt2/snapshots/e7da7f221d5bf496a48136c0cd264e630fe9fcc8/generation_config.json\n",
      "Generate config GenerationConfig {\n",
      "  \"_from_model_config\": true,\n",
      "  \"bos_token_id\": 50256,\n",
      "  \"eos_token_id\": 50256,\n",
      "  \"transformers_version\": \"4.26.1\"\n",
      "}\n",
      "\n",
      "Setting `config.is_decoder=True` and `config.add_cross_attention=True` for decoder_config\n",
      "Generate config GenerationConfig {\n",
      "  \"transformers_version\": \"4.26.1\"\n",
      "}\n",
      "\n"
     ]
    }
   ],
   "source": [
    "# metric = evaluate.load(\"rouge\")\n",
    "# def metrics(eval_preds):\n",
    "#     preds, labels = eval_preds\n",
    "#     preds = tokenizer.batch_decode(preds, skip_special_tokens=True)\n",
    "#     labels = tokenizer.batch_decode(labels, skip_special_tokens=True)\n",
    "#     return metric.compute(predictions=preds, references=labels)\n",
    "\n",
    "training_args = Seq2SeqTrainingArguments(\n",
    "    output_dir=\"training/hp_tuning\",\n",
    "    predict_with_generate=True,\n",
    "    tf32=True,\n",
    "    dataloader_num_workers=4,\n",
    "    logging_strategy=\"epoch\",\n",
    "    evaluation_strategy=\"epoch\",\n",
    "    save_strategy=\"steps\",\n",
    "    num_train_epochs=3,\n",
    "    per_device_train_batch_size=4,\n",
    "    per_device_eval_batch_size=4,\n",
    ")\n",
    "\n",
    "# trainer = Seq2SeqTrainer(\n",
    "#     model=model,\n",
    "#     tokenizer=image_processor,\n",
    "#     args=training_args,\n",
    "#     train_dataset=dataset[\"train\"],\n",
    "#     eval_dataset=dataset[\"validation\"],\n",
    "#     data_collator=default_data_collator,\n",
    "#     compute_metrics=metrics,\n",
    "# )\n",
    "\n",
    "# trainer.train()\n",
    "\n",
    "trainer = Seq2SeqTrainer(\n",
    "    model=None,\n",
    "    tokenizer=image_processor,\n",
    "    args=training_args,\n",
    "    train_dataset=dataset[\"train\"],\n",
    "    eval_dataset=dataset[\"validation\"],\n",
    "    data_collator=default_data_collator,\n",
    "    model_init=model_init,\n",
    ")"
   ]
  },
  {
   "cell_type": "code",
   "execution_count": 6,
   "id": "ef769fdf-4a80-4873-83b6-dc291536432c",
   "metadata": {},
   "outputs": [
    {
     "name": "stderr",
     "output_type": "stream",
     "text": [
      "2023-03-05 20:26:32,412\tINFO worker.py:1553 -- Started a local Ray instance.\n",
      "/home/922201615/anaconda3/envs/vlm/lib/python3.10/site-packages/ray/tune/trainable/function_trainable.py:612: DeprecationWarning: `checkpoint_dir` in `func(config, checkpoint_dir)` is being deprecated. To save and load checkpoint in trainable functions, please use the `ray.air.session` API:\n",
      "\n",
      "from ray.air import session\n",
      "\n",
      "def train(config):\n",
      "    # ...\n",
      "    session.report({\"metric\": metric}, checkpoint=checkpoint)\n",
      "\n",
      "For more information please see https://docs.ray.io/en/master/tune/api_docs/trainable.html\n",
      "\n",
      "  warnings.warn(\n"
     ]
    },
    {
     "name": "stdout",
     "output_type": "stream",
     "text": [
      "== Status ==\n",
      "Current time: 2023-03-05 20:26:34 (running for 00:00:00.08)\n",
      "Memory usage on this node: 21.2/251.7 GiB \n",
      "Using FIFO scheduling algorithm.\n",
      "Resources requested: 64.0/64 CPUs, 1.0/1 GPUs, 0.0/147.5 GiB heap, 0.0/67.2 GiB objects (0.0/1.0 accelerator_type:RTX)\n",
      "Result logdir: /home/922201615/ray_results/_objective_2023-03-05_20-26-34\n",
      "Number of trials: 1/1 (1 RUNNING)\n",
      "+------------------------+----------+----------------------+-----------------+---------------------+----------------+\n",
      "| Trial name             | status   | loc                  |   learning_rate | lr_scheduler_type   |   warmup_ratio |\n",
      "|------------------------+----------+----------------------+-----------------+---------------------+----------------|\n",
      "| _objective_13ff3_00000 | RUNNING  | 130.212.82.53:302157 |     5.61152e-06 | linear              |       0.036687 |\n",
      "+------------------------+----------+----------------------+-----------------+---------------------+----------------+\n",
      "\n",
      "\n"
     ]
    },
    {
     "name": "stderr",
     "output_type": "stream",
     "text": [
      "\u001b[2m\u001b[36m(_objective pid=302157)\u001b[0m Some weights of the model checkpoint at facebook/timesformer-base-finetuned-k600 were not used when initializing TimesformerModel: ['classifier.bias', 'classifier.weight']\n",
      "\u001b[2m\u001b[36m(_objective pid=302157)\u001b[0m - This IS expected if you are initializing TimesformerModel from the checkpoint of a model trained on another task or with another architecture (e.g. initializing a BertForSequenceClassification model from a BertForPreTraining model).\n",
      "\u001b[2m\u001b[36m(_objective pid=302157)\u001b[0m - This IS NOT expected if you are initializing TimesformerModel from the checkpoint of a model that you expect to be exactly identical (initializing a BertForSequenceClassification model from a BertForSequenceClassification model).\n",
      "\u001b[2m\u001b[36m(_objective pid=302157)\u001b[0m Some weights of GPT2LMHeadModel were not initialized from the model checkpoint at gpt2 and are newly initialized: ['h.5.crossattention.c_proj.weight', 'h.8.crossattention.bias', 'h.5.crossattention.bias', 'h.6.crossattention.c_proj.bias', 'h.2.crossattention.masked_bias', 'h.8.ln_cross_attn.weight', 'h.5.crossattention.c_proj.bias', 'h.5.crossattention.masked_bias', 'h.6.crossattention.masked_bias', 'h.11.ln_cross_attn.weight', 'h.8.crossattention.masked_bias', 'h.2.crossattention.c_proj.weight', 'h.7.crossattention.c_attn.weight', 'h.7.crossattention.c_proj.bias', 'h.1.crossattention.bias', 'h.3.crossattention.c_proj.weight', 'h.2.crossattention.c_attn.weight', 'h.8.crossattention.c_proj.weight', 'h.10.crossattention.c_proj.bias', 'h.2.ln_cross_attn.weight', 'h.9.crossattention.c_proj.bias', 'h.9.crossattention.c_attn.weight', 'h.1.ln_cross_attn.weight', 'h.1.crossattention.q_attn.weight', 'h.5.crossattention.q_attn.weight', 'h.10.crossattention.c_attn.weight', 'h.11.crossattention.bias', 'h.1.crossattention.c_proj.weight', 'h.10.crossattention.q_attn.weight', 'h.5.ln_cross_attn.weight', 'h.9.crossattention.bias', 'h.8.crossattention.c_proj.bias', 'h.3.crossattention.c_attn.weight', 'h.1.crossattention.masked_bias', 'h.11.crossattention.c_proj.weight', 'h.4.crossattention.c_attn.weight', 'h.0.crossattention.q_attn.weight', 'h.6.crossattention.q_attn.weight', 'h.6.crossattention.c_proj.weight', 'h.7.crossattention.masked_bias', 'h.11.crossattention.c_proj.bias', 'h.3.crossattention.masked_bias', 'h.10.crossattention.masked_bias', 'h.11.crossattention.masked_bias', 'h.11.crossattention.c_attn.weight', 'h.6.ln_cross_attn.weight', 'h.1.crossattention.c_attn.weight', 'h.0.crossattention.bias', 'h.9.ln_cross_attn.weight', 'h.7.crossattention.q_attn.weight', 'h.0.crossattention.c_proj.weight', 'h.0.ln_cross_attn.weight', 'h.0.crossattention.c_proj.bias', 'h.4.ln_cross_attn.weight', 'h.0.crossattention.c_attn.weight', 'h.9.crossattention.c_proj.weight', 'h.11.crossattention.q_attn.weight', 'h.3.crossattention.q_attn.weight', 'h.5.crossattention.c_attn.weight', 'h.2.crossattention.c_proj.bias', 'h.7.crossattention.bias', 'h.9.crossattention.q_attn.weight', 'h.8.crossattention.q_attn.weight', 'h.10.crossattention.c_proj.weight', 'h.2.crossattention.bias', 'h.3.crossattention.bias', 'h.4.crossattention.c_proj.weight', 'h.4.crossattention.c_proj.bias', 'h.7.crossattention.c_proj.weight', 'h.4.crossattention.masked_bias', 'h.0.crossattention.masked_bias', 'h.9.crossattention.masked_bias', 'h.7.ln_cross_attn.weight', 'h.4.crossattention.q_attn.weight', 'h.8.crossattention.c_attn.weight', 'h.10.ln_cross_attn.weight', 'h.1.crossattention.c_proj.bias', 'h.3.ln_cross_attn.weight', 'h.2.crossattention.q_attn.weight', 'h.6.crossattention.bias', 'h.6.crossattention.c_attn.weight', 'h.3.crossattention.c_proj.bias', 'h.10.crossattention.bias', 'h.4.crossattention.bias']\n",
      "\u001b[2m\u001b[36m(_objective pid=302157)\u001b[0m You should probably TRAIN this model on a down-stream task to be able to use it for predictions and inference.\n"
     ]
    },
    {
     "name": "stdout",
     "output_type": "stream",
     "text": [
      "== Status ==\n",
      "Current time: 2023-03-05 20:26:41 (running for 00:00:07.09)\n",
      "Memory usage on this node: 23.8/251.7 GiB \n",
      "Using FIFO scheduling algorithm.\n",
      "Resources requested: 64.0/64 CPUs, 1.0/1 GPUs, 0.0/147.5 GiB heap, 0.0/67.2 GiB objects (0.0/1.0 accelerator_type:RTX)\n",
      "Result logdir: /home/922201615/ray_results/_objective_2023-03-05_20-26-34\n",
      "Number of trials: 1/1 (1 RUNNING)\n",
      "+------------------------+----------+----------------------+-----------------+---------------------+----------------+\n",
      "| Trial name             | status   | loc                  |   learning_rate | lr_scheduler_type   |   warmup_ratio |\n",
      "|------------------------+----------+----------------------+-----------------+---------------------+----------------|\n",
      "| _objective_13ff3_00000 | RUNNING  | 130.212.82.53:302157 |     5.61152e-06 | linear              |       0.036687 |\n",
      "+------------------------+----------+----------------------+-----------------+---------------------+----------------+\n",
      "\n",
      "\n"
     ]
    },
    {
     "name": "stderr",
     "output_type": "stream",
     "text": [
      "\u001b[2m\u001b[36m(_objective pid=302157)\u001b[0m /home/922201615/anaconda3/envs/vlm/lib/python3.10/site-packages/transformers/optimization.py:306: FutureWarning: This implementation of AdamW is deprecated and will be removed in a future version. Use the PyTorch implementation torch.optim.AdamW instead, or set `no_deprecation_warning=True` to disable this warning\n",
      "\u001b[2m\u001b[36m(_objective pid=302157)\u001b[0m   warnings.warn(\n",
      "  0%|          | 0/858 [00:00<?, ?it/s]\n"
     ]
    },
    {
     "name": "stdout",
     "output_type": "stream",
     "text": [
      "== Status ==\n",
      "Current time: 2023-03-05 20:26:46 (running for 00:00:12.10)\n",
      "Memory usage on this node: 26.0/251.7 GiB \n",
      "Using FIFO scheduling algorithm.\n",
      "Resources requested: 64.0/64 CPUs, 1.0/1 GPUs, 0.0/147.5 GiB heap, 0.0/67.2 GiB objects (0.0/1.0 accelerator_type:RTX)\n",
      "Result logdir: /home/922201615/ray_results/_objective_2023-03-05_20-26-34\n",
      "Number of trials: 1/1 (1 RUNNING)\n",
      "+------------------------+----------+----------------------+-----------------+---------------------+----------------+\n",
      "| Trial name             | status   | loc                  |   learning_rate | lr_scheduler_type   |   warmup_ratio |\n",
      "|------------------------+----------+----------------------+-----------------+---------------------+----------------|\n",
      "| _objective_13ff3_00000 | RUNNING  | 130.212.82.53:302157 |     5.61152e-06 | linear              |       0.036687 |\n",
      "+------------------------+----------+----------------------+-----------------+---------------------+----------------+\n",
      "\n",
      "\n"
     ]
    },
    {
     "name": "stderr",
     "output_type": "stream",
     "text": [
      "  0%|          | 1/858 [00:07<1:53:10,  7.92s/it]\n",
      "  0%|          | 2/858 [00:08<54:29,  3.82s/it]  \n"
     ]
    },
    {
     "name": "stdout",
     "output_type": "stream",
     "text": [
      "== Status ==\n",
      "Current time: 2023-03-05 20:26:51 (running for 00:00:17.10)\n",
      "Memory usage on this node: 27.1/251.7 GiB \n",
      "Using FIFO scheduling algorithm.\n",
      "Resources requested: 64.0/64 CPUs, 1.0/1 GPUs, 0.0/147.5 GiB heap, 0.0/67.2 GiB objects (0.0/1.0 accelerator_type:RTX)\n",
      "Result logdir: /home/922201615/ray_results/_objective_2023-03-05_20-26-34\n",
      "Number of trials: 1/1 (1 RUNNING)\n",
      "+------------------------+----------+----------------------+-----------------+---------------------+----------------+\n",
      "| Trial name             | status   | loc                  |   learning_rate | lr_scheduler_type   |   warmup_ratio |\n",
      "|------------------------+----------+----------------------+-----------------+---------------------+----------------|\n",
      "| _objective_13ff3_00000 | RUNNING  | 130.212.82.53:302157 |     5.61152e-06 | linear              |       0.036687 |\n",
      "+------------------------+----------+----------------------+-----------------+---------------------+----------------+\n",
      "\n",
      "\n"
     ]
    },
    {
     "name": "stderr",
     "output_type": "stream",
     "text": [
      "  0%|          | 3/858 [00:09<35:43,  2.51s/it]\n",
      "  0%|          | 4/858 [00:10<26:54,  1.89s/it]\n",
      "  1%|          | 5/858 [00:11<22:08,  1.56s/it]\n",
      "  1%|          | 6/858 [00:12<19:10,  1.35s/it]\n",
      "  1%|          | 7/858 [00:13<17:17,  1.22s/it]\n",
      "  1%|          | 8/858 [00:14<16:02,  1.13s/it]\n"
     ]
    },
    {
     "name": "stdout",
     "output_type": "stream",
     "text": [
      "== Status ==\n",
      "Current time: 2023-03-05 20:26:56 (running for 00:00:22.10)\n",
      "Memory usage on this node: 26.5/251.7 GiB \n",
      "Using FIFO scheduling algorithm.\n",
      "Resources requested: 64.0/64 CPUs, 1.0/1 GPUs, 0.0/147.5 GiB heap, 0.0/67.2 GiB objects (0.0/1.0 accelerator_type:RTX)\n",
      "Result logdir: /home/922201615/ray_results/_objective_2023-03-05_20-26-34\n",
      "Number of trials: 1/1 (1 RUNNING)\n",
      "+------------------------+----------+----------------------+-----------------+---------------------+----------------+\n",
      "| Trial name             | status   | loc                  |   learning_rate | lr_scheduler_type   |   warmup_ratio |\n",
      "|------------------------+----------+----------------------+-----------------+---------------------+----------------|\n",
      "| _objective_13ff3_00000 | RUNNING  | 130.212.82.53:302157 |     5.61152e-06 | linear              |       0.036687 |\n",
      "+------------------------+----------+----------------------+-----------------+---------------------+----------------+\n",
      "\n",
      "\n"
     ]
    },
    {
     "name": "stderr",
     "output_type": "stream",
     "text": [
      "  1%|          | 9/858 [00:16<19:12,  1.36s/it]\n",
      "  1%|          | 10/858 [00:17<17:23,  1.23s/it]\n",
      "  1%|▏         | 11/858 [00:18<16:09,  1.14s/it]\n",
      "  1%|▏         | 12/858 [00:19<15:17,  1.08s/it]\n"
     ]
    },
    {
     "name": "stdout",
     "output_type": "stream",
     "text": [
      "== Status ==\n",
      "Current time: 2023-03-05 20:27:01 (running for 00:00:27.11)\n",
      "Memory usage on this node: 26.3/251.7 GiB \n",
      "Using FIFO scheduling algorithm.\n",
      "Resources requested: 64.0/64 CPUs, 1.0/1 GPUs, 0.0/147.5 GiB heap, 0.0/67.2 GiB objects (0.0/1.0 accelerator_type:RTX)\n",
      "Result logdir: /home/922201615/ray_results/_objective_2023-03-05_20-26-34\n",
      "Number of trials: 1/1 (1 RUNNING)\n",
      "+------------------------+----------+----------------------+-----------------+---------------------+----------------+\n",
      "| Trial name             | status   | loc                  |   learning_rate | lr_scheduler_type   |   warmup_ratio |\n",
      "|------------------------+----------+----------------------+-----------------+---------------------+----------------|\n",
      "| _objective_13ff3_00000 | RUNNING  | 130.212.82.53:302157 |     5.61152e-06 | linear              |       0.036687 |\n",
      "+------------------------+----------+----------------------+-----------------+---------------------+----------------+\n",
      "\n",
      "\n"
     ]
    },
    {
     "name": "stderr",
     "output_type": "stream",
     "text": [
      "  2%|▏         | 13/858 [00:21<18:21,  1.30s/it]\n",
      "  2%|▏         | 14/858 [00:22<16:49,  1.20s/it]\n",
      "  2%|▏         | 15/858 [00:22<15:45,  1.12s/it]\n",
      "  2%|▏         | 16/858 [00:23<15:00,  1.07s/it]\n"
     ]
    },
    {
     "name": "stdout",
     "output_type": "stream",
     "text": [
      "== Status ==\n",
      "Current time: 2023-03-05 20:27:06 (running for 00:00:32.11)\n",
      "Memory usage on this node: 26.6/251.7 GiB \n",
      "Using FIFO scheduling algorithm.\n",
      "Resources requested: 64.0/64 CPUs, 1.0/1 GPUs, 0.0/147.5 GiB heap, 0.0/67.2 GiB objects (0.0/1.0 accelerator_type:RTX)\n",
      "Result logdir: /home/922201615/ray_results/_objective_2023-03-05_20-26-34\n",
      "Number of trials: 1/1 (1 RUNNING)\n",
      "+------------------------+----------+----------------------+-----------------+---------------------+----------------+\n",
      "| Trial name             | status   | loc                  |   learning_rate | lr_scheduler_type   |   warmup_ratio |\n",
      "|------------------------+----------+----------------------+-----------------+---------------------+----------------|\n",
      "| _objective_13ff3_00000 | RUNNING  | 130.212.82.53:302157 |     5.61152e-06 | linear              |       0.036687 |\n",
      "+------------------------+----------+----------------------+-----------------+---------------------+----------------+\n",
      "\n",
      "\n"
     ]
    },
    {
     "name": "stderr",
     "output_type": "stream",
     "text": [
      "  2%|▏         | 17/858 [00:25<18:17,  1.30s/it]\n",
      "  2%|▏         | 18/858 [00:26<16:46,  1.20s/it]\n",
      "  2%|▏         | 19/858 [00:27<15:43,  1.12s/it]\n",
      "  2%|▏         | 20/858 [00:28<14:58,  1.07s/it]\n"
     ]
    },
    {
     "name": "stdout",
     "output_type": "stream",
     "text": [
      "== Status ==\n",
      "Current time: 2023-03-05 20:27:11 (running for 00:00:37.12)\n",
      "Memory usage on this node: 26.5/251.7 GiB \n",
      "Using FIFO scheduling algorithm.\n",
      "Resources requested: 64.0/64 CPUs, 1.0/1 GPUs, 0.0/147.5 GiB heap, 0.0/67.2 GiB objects (0.0/1.0 accelerator_type:RTX)\n",
      "Result logdir: /home/922201615/ray_results/_objective_2023-03-05_20-26-34\n",
      "Number of trials: 1/1 (1 RUNNING)\n",
      "+------------------------+----------+----------------------+-----------------+---------------------+----------------+\n",
      "| Trial name             | status   | loc                  |   learning_rate | lr_scheduler_type   |   warmup_ratio |\n",
      "|------------------------+----------+----------------------+-----------------+---------------------+----------------|\n",
      "| _objective_13ff3_00000 | RUNNING  | 130.212.82.53:302157 |     5.61152e-06 | linear              |       0.036687 |\n",
      "+------------------------+----------+----------------------+-----------------+---------------------+----------------+\n",
      "\n",
      "\n"
     ]
    },
    {
     "name": "stderr",
     "output_type": "stream",
     "text": [
      "  2%|▏         | 21/858 [00:30<18:00,  1.29s/it]\n",
      "  3%|▎         | 22/858 [00:31<16:34,  1.19s/it]\n",
      "  3%|▎         | 23/858 [00:32<15:34,  1.12s/it]\n",
      "  3%|▎         | 24/858 [00:33<14:51,  1.07s/it]\n"
     ]
    },
    {
     "name": "stdout",
     "output_type": "stream",
     "text": [
      "== Status ==\n",
      "Current time: 2023-03-05 20:27:16 (running for 00:00:42.12)\n",
      "Memory usage on this node: 26.9/251.7 GiB \n",
      "Using FIFO scheduling algorithm.\n",
      "Resources requested: 64.0/64 CPUs, 1.0/1 GPUs, 0.0/147.5 GiB heap, 0.0/67.2 GiB objects (0.0/1.0 accelerator_type:RTX)\n",
      "Result logdir: /home/922201615/ray_results/_objective_2023-03-05_20-26-34\n",
      "Number of trials: 1/1 (1 RUNNING)\n",
      "+------------------------+----------+----------------------+-----------------+---------------------+----------------+\n",
      "| Trial name             | status   | loc                  |   learning_rate | lr_scheduler_type   |   warmup_ratio |\n",
      "|------------------------+----------+----------------------+-----------------+---------------------+----------------|\n",
      "| _objective_13ff3_00000 | RUNNING  | 130.212.82.53:302157 |     5.61152e-06 | linear              |       0.036687 |\n",
      "+------------------------+----------+----------------------+-----------------+---------------------+----------------+\n",
      "\n",
      "\n"
     ]
    },
    {
     "name": "stderr",
     "output_type": "stream",
     "text": [
      "  3%|▎         | 25/858 [00:35<17:54,  1.29s/it]\n",
      "  3%|▎         | 26/858 [00:36<16:28,  1.19s/it]\n",
      "  3%|▎         | 27/858 [00:36<15:28,  1.12s/it]\n",
      "  3%|▎         | 28/858 [00:37<14:47,  1.07s/it]\n"
     ]
    },
    {
     "name": "stdout",
     "output_type": "stream",
     "text": [
      "== Status ==\n",
      "Current time: 2023-03-05 20:27:21 (running for 00:00:47.12)\n",
      "Memory usage on this node: 26.7/251.7 GiB \n",
      "Using FIFO scheduling algorithm.\n",
      "Resources requested: 64.0/64 CPUs, 1.0/1 GPUs, 0.0/147.5 GiB heap, 0.0/67.2 GiB objects (0.0/1.0 accelerator_type:RTX)\n",
      "Result logdir: /home/922201615/ray_results/_objective_2023-03-05_20-26-34\n",
      "Number of trials: 1/1 (1 RUNNING)\n",
      "+------------------------+----------+----------------------+-----------------+---------------------+----------------+\n",
      "| Trial name             | status   | loc                  |   learning_rate | lr_scheduler_type   |   warmup_ratio |\n",
      "|------------------------+----------+----------------------+-----------------+---------------------+----------------|\n",
      "| _objective_13ff3_00000 | RUNNING  | 130.212.82.53:302157 |     5.61152e-06 | linear              |       0.036687 |\n",
      "+------------------------+----------+----------------------+-----------------+---------------------+----------------+\n",
      "\n",
      "\n"
     ]
    },
    {
     "name": "stderr",
     "output_type": "stream",
     "text": [
      "  3%|▎         | 29/858 [00:39<18:00,  1.30s/it]\n",
      "  3%|▎         | 30/858 [00:40<16:32,  1.20s/it]\n",
      "  4%|▎         | 31/858 [00:41<15:30,  1.13s/it]\n",
      "  4%|▎         | 32/858 [00:42<14:46,  1.07s/it]\n",
      "  4%|▍         | 33/858 [00:44<17:32,  1.28s/it]\n"
     ]
    },
    {
     "name": "stdout",
     "output_type": "stream",
     "text": [
      "== Status ==\n",
      "Current time: 2023-03-05 20:27:26 (running for 00:00:52.13)\n",
      "Memory usage on this node: 26.3/251.7 GiB \n",
      "Using FIFO scheduling algorithm.\n",
      "Resources requested: 64.0/64 CPUs, 1.0/1 GPUs, 0.0/147.5 GiB heap, 0.0/67.2 GiB objects (0.0/1.0 accelerator_type:RTX)\n",
      "Result logdir: /home/922201615/ray_results/_objective_2023-03-05_20-26-34\n",
      "Number of trials: 1/1 (1 RUNNING)\n",
      "+------------------------+----------+----------------------+-----------------+---------------------+----------------+\n",
      "| Trial name             | status   | loc                  |   learning_rate | lr_scheduler_type   |   warmup_ratio |\n",
      "|------------------------+----------+----------------------+-----------------+---------------------+----------------|\n",
      "| _objective_13ff3_00000 | RUNNING  | 130.212.82.53:302157 |     5.61152e-06 | linear              |       0.036687 |\n",
      "+------------------------+----------+----------------------+-----------------+---------------------+----------------+\n",
      "\n",
      "\n"
     ]
    },
    {
     "name": "stderr",
     "output_type": "stream",
     "text": [
      "  4%|▍         | 34/858 [00:45<16:11,  1.18s/it]\n",
      "  4%|▍         | 35/858 [00:46<15:14,  1.11s/it]\n",
      "  4%|▍         | 36/858 [00:47<14:35,  1.06s/it]\n",
      "  4%|▍         | 37/858 [00:49<17:36,  1.29s/it]\n"
     ]
    },
    {
     "name": "stdout",
     "output_type": "stream",
     "text": [
      "== Status ==\n",
      "Current time: 2023-03-05 20:27:31 (running for 00:00:57.13)\n",
      "Memory usage on this node: 26.7/251.7 GiB \n",
      "Using FIFO scheduling algorithm.\n",
      "Resources requested: 64.0/64 CPUs, 1.0/1 GPUs, 0.0/147.5 GiB heap, 0.0/67.2 GiB objects (0.0/1.0 accelerator_type:RTX)\n",
      "Result logdir: /home/922201615/ray_results/_objective_2023-03-05_20-26-34\n",
      "Number of trials: 1/1 (1 RUNNING)\n",
      "+------------------------+----------+----------------------+-----------------+---------------------+----------------+\n",
      "| Trial name             | status   | loc                  |   learning_rate | lr_scheduler_type   |   warmup_ratio |\n",
      "|------------------------+----------+----------------------+-----------------+---------------------+----------------|\n",
      "| _objective_13ff3_00000 | RUNNING  | 130.212.82.53:302157 |     5.61152e-06 | linear              |       0.036687 |\n",
      "+------------------------+----------+----------------------+-----------------+---------------------+----------------+\n",
      "\n",
      "\n"
     ]
    },
    {
     "name": "stderr",
     "output_type": "stream",
     "text": [
      "  4%|▍         | 38/858 [00:50<16:37,  1.22s/it]\n",
      "  5%|▍         | 39/858 [00:51<15:31,  1.14s/it]\n",
      "  5%|▍         | 40/858 [00:52<14:45,  1.08s/it]\n",
      "  5%|▍         | 41/858 [00:53<17:33,  1.29s/it]\n"
     ]
    },
    {
     "name": "stdout",
     "output_type": "stream",
     "text": [
      "== Status ==\n",
      "Current time: 2023-03-05 20:27:36 (running for 00:01:02.13)\n",
      "Memory usage on this node: 26.8/251.7 GiB \n",
      "Using FIFO scheduling algorithm.\n",
      "Resources requested: 64.0/64 CPUs, 1.0/1 GPUs, 0.0/147.5 GiB heap, 0.0/67.2 GiB objects (0.0/1.0 accelerator_type:RTX)\n",
      "Result logdir: /home/922201615/ray_results/_objective_2023-03-05_20-26-34\n",
      "Number of trials: 1/1 (1 RUNNING)\n",
      "+------------------------+----------+----------------------+-----------------+---------------------+----------------+\n",
      "| Trial name             | status   | loc                  |   learning_rate | lr_scheduler_type   |   warmup_ratio |\n",
      "|------------------------+----------+----------------------+-----------------+---------------------+----------------|\n",
      "| _objective_13ff3_00000 | RUNNING  | 130.212.82.53:302157 |     5.61152e-06 | linear              |       0.036687 |\n",
      "+------------------------+----------+----------------------+-----------------+---------------------+----------------+\n",
      "\n",
      "\n"
     ]
    },
    {
     "name": "stderr",
     "output_type": "stream",
     "text": [
      "  5%|▍         | 42/858 [00:54<16:10,  1.19s/it]\n",
      "  5%|▌         | 43/858 [00:55<15:10,  1.12s/it]\n",
      "  5%|▌         | 44/858 [00:56<14:28,  1.07s/it]\n",
      "  5%|▌         | 45/858 [00:58<17:35,  1.30s/it]\n",
      "  5%|▌         | 46/858 [00:59<16:08,  1.19s/it]\n"
     ]
    },
    {
     "name": "stdout",
     "output_type": "stream",
     "text": [
      "== Status ==\n",
      "Current time: 2023-03-05 20:27:41 (running for 00:01:07.14)\n",
      "Memory usage on this node: 26.1/251.7 GiB \n",
      "Using FIFO scheduling algorithm.\n",
      "Resources requested: 64.0/64 CPUs, 1.0/1 GPUs, 0.0/147.5 GiB heap, 0.0/67.2 GiB objects (0.0/1.0 accelerator_type:RTX)\n",
      "Result logdir: /home/922201615/ray_results/_objective_2023-03-05_20-26-34\n",
      "Number of trials: 1/1 (1 RUNNING)\n",
      "+------------------------+----------+----------------------+-----------------+---------------------+----------------+\n",
      "| Trial name             | status   | loc                  |   learning_rate | lr_scheduler_type   |   warmup_ratio |\n",
      "|------------------------+----------+----------------------+-----------------+---------------------+----------------|\n",
      "| _objective_13ff3_00000 | RUNNING  | 130.212.82.53:302157 |     5.61152e-06 | linear              |       0.036687 |\n",
      "+------------------------+----------+----------------------+-----------------+---------------------+----------------+\n",
      "\n",
      "\n"
     ]
    },
    {
     "name": "stderr",
     "output_type": "stream",
     "text": [
      "  5%|▌         | 47/858 [01:00<15:08,  1.12s/it]\n",
      "  6%|▌         | 48/858 [01:01<14:25,  1.07s/it]\n",
      "  6%|▌         | 49/858 [01:02<16:08,  1.20s/it]\n",
      "  6%|▌         | 50/858 [01:03<15:21,  1.14s/it]\n"
     ]
    },
    {
     "name": "stdout",
     "output_type": "stream",
     "text": [
      "== Status ==\n",
      "Current time: 2023-03-05 20:27:46 (running for 00:01:12.14)\n",
      "Memory usage on this node: 26.3/251.7 GiB \n",
      "Using FIFO scheduling algorithm.\n",
      "Resources requested: 64.0/64 CPUs, 1.0/1 GPUs, 0.0/147.5 GiB heap, 0.0/67.2 GiB objects (0.0/1.0 accelerator_type:RTX)\n",
      "Result logdir: /home/922201615/ray_results/_objective_2023-03-05_20-26-34\n",
      "Number of trials: 1/1 (1 RUNNING)\n",
      "+------------------------+----------+----------------------+-----------------+---------------------+----------------+\n",
      "| Trial name             | status   | loc                  |   learning_rate | lr_scheduler_type   |   warmup_ratio |\n",
      "|------------------------+----------+----------------------+-----------------+---------------------+----------------|\n",
      "| _objective_13ff3_00000 | RUNNING  | 130.212.82.53:302157 |     5.61152e-06 | linear              |       0.036687 |\n",
      "+------------------------+----------+----------------------+-----------------+---------------------+----------------+\n",
      "\n",
      "\n"
     ]
    },
    {
     "name": "stderr",
     "output_type": "stream",
     "text": [
      "  6%|▌         | 51/858 [01:04<14:34,  1.08s/it]\n",
      "  6%|▌         | 52/858 [01:05<14:01,  1.04s/it]\n",
      "  6%|▌         | 53/858 [01:07<17:09,  1.28s/it]\n",
      "  6%|▋         | 54/858 [01:08<16:47,  1.25s/it]\n"
     ]
    },
    {
     "name": "stdout",
     "output_type": "stream",
     "text": [
      "== Status ==\n",
      "Current time: 2023-03-05 20:27:51 (running for 00:01:17.14)\n",
      "Memory usage on this node: 26.4/251.7 GiB \n",
      "Using FIFO scheduling algorithm.\n",
      "Resources requested: 64.0/64 CPUs, 1.0/1 GPUs, 0.0/147.5 GiB heap, 0.0/67.2 GiB objects (0.0/1.0 accelerator_type:RTX)\n",
      "Result logdir: /home/922201615/ray_results/_objective_2023-03-05_20-26-34\n",
      "Number of trials: 1/1 (1 RUNNING)\n",
      "+------------------------+----------+----------------------+-----------------+---------------------+----------------+\n",
      "| Trial name             | status   | loc                  |   learning_rate | lr_scheduler_type   |   warmup_ratio |\n",
      "|------------------------+----------+----------------------+-----------------+---------------------+----------------|\n",
      "| _objective_13ff3_00000 | RUNNING  | 130.212.82.53:302157 |     5.61152e-06 | linear              |       0.036687 |\n",
      "+------------------------+----------+----------------------+-----------------+---------------------+----------------+\n",
      "\n",
      "\n"
     ]
    },
    {
     "name": "stderr",
     "output_type": "stream",
     "text": [
      "  6%|▋         | 55/858 [01:09<15:33,  1.16s/it]\n",
      "  7%|▋         | 56/858 [01:10<14:40,  1.10s/it]\n",
      "  7%|▋         | 57/858 [01:12<16:41,  1.25s/it]\n",
      "  7%|▋         | 58/858 [01:13<15:28,  1.16s/it]\n",
      "  7%|▋         | 59/858 [01:14<15:55,  1.20s/it]\n"
     ]
    },
    {
     "name": "stdout",
     "output_type": "stream",
     "text": [
      "== Status ==\n",
      "Current time: 2023-03-05 20:27:56 (running for 00:01:22.15)\n",
      "Memory usage on this node: 26.9/251.7 GiB \n",
      "Using FIFO scheduling algorithm.\n",
      "Resources requested: 64.0/64 CPUs, 1.0/1 GPUs, 0.0/147.5 GiB heap, 0.0/67.2 GiB objects (0.0/1.0 accelerator_type:RTX)\n",
      "Result logdir: /home/922201615/ray_results/_objective_2023-03-05_20-26-34\n",
      "Number of trials: 1/1 (1 RUNNING)\n",
      "+------------------------+----------+----------------------+-----------------+---------------------+----------------+\n",
      "| Trial name             | status   | loc                  |   learning_rate | lr_scheduler_type   |   warmup_ratio |\n",
      "|------------------------+----------+----------------------+-----------------+---------------------+----------------|\n",
      "| _objective_13ff3_00000 | RUNNING  | 130.212.82.53:302157 |     5.61152e-06 | linear              |       0.036687 |\n",
      "+------------------------+----------+----------------------+-----------------+---------------------+----------------+\n",
      "\n",
      "\n"
     ]
    },
    {
     "name": "stderr",
     "output_type": "stream",
     "text": [
      "  7%|▋         | 60/858 [01:15<14:55,  1.12s/it]\n",
      "  7%|▋         | 61/858 [01:17<16:38,  1.25s/it]\n",
      "  7%|▋         | 62/858 [01:17<15:25,  1.16s/it]\n",
      "  7%|▋         | 63/858 [01:19<16:27,  1.24s/it]\n"
     ]
    },
    {
     "name": "stdout",
     "output_type": "stream",
     "text": [
      "== Status ==\n",
      "Current time: 2023-03-05 20:28:01 (running for 00:01:27.15)\n",
      "Memory usage on this node: 26.6/251.7 GiB \n",
      "Using FIFO scheduling algorithm.\n",
      "Resources requested: 64.0/64 CPUs, 1.0/1 GPUs, 0.0/147.5 GiB heap, 0.0/67.2 GiB objects (0.0/1.0 accelerator_type:RTX)\n",
      "Result logdir: /home/922201615/ray_results/_objective_2023-03-05_20-26-34\n",
      "Number of trials: 1/1 (1 RUNNING)\n",
      "+------------------------+----------+----------------------+-----------------+---------------------+----------------+\n",
      "| Trial name             | status   | loc                  |   learning_rate | lr_scheduler_type   |   warmup_ratio |\n",
      "|------------------------+----------+----------------------+-----------------+---------------------+----------------|\n",
      "| _objective_13ff3_00000 | RUNNING  | 130.212.82.53:302157 |     5.61152e-06 | linear              |       0.036687 |\n",
      "+------------------------+----------+----------------------+-----------------+---------------------+----------------+\n",
      "\n",
      "\n"
     ]
    },
    {
     "name": "stderr",
     "output_type": "stream",
     "text": [
      "  7%|▋         | 64/858 [01:20<15:16,  1.15s/it]\n",
      "  8%|▊         | 65/858 [01:21<16:07,  1.22s/it]\n",
      "  8%|▊         | 66/858 [01:22<15:03,  1.14s/it]\n",
      "  8%|▊         | 67/858 [01:23<15:26,  1.17s/it]\n"
     ]
    },
    {
     "name": "stdout",
     "output_type": "stream",
     "text": [
      "== Status ==\n",
      "Current time: 2023-03-05 20:28:06 (running for 00:01:32.16)\n",
      "Memory usage on this node: 26.2/251.7 GiB \n",
      "Using FIFO scheduling algorithm.\n",
      "Resources requested: 64.0/64 CPUs, 1.0/1 GPUs, 0.0/147.5 GiB heap, 0.0/67.2 GiB objects (0.0/1.0 accelerator_type:RTX)\n",
      "Result logdir: /home/922201615/ray_results/_objective_2023-03-05_20-26-34\n",
      "Number of trials: 1/1 (1 RUNNING)\n",
      "+------------------------+----------+----------------------+-----------------+---------------------+----------------+\n",
      "| Trial name             | status   | loc                  |   learning_rate | lr_scheduler_type   |   warmup_ratio |\n",
      "|------------------------+----------+----------------------+-----------------+---------------------+----------------|\n",
      "| _objective_13ff3_00000 | RUNNING  | 130.212.82.53:302157 |     5.61152e-06 | linear              |       0.036687 |\n",
      "+------------------------+----------+----------------------+-----------------+---------------------+----------------+\n",
      "\n",
      "\n"
     ]
    },
    {
     "name": "stderr",
     "output_type": "stream",
     "text": [
      "  8%|▊         | 68/858 [01:24<14:33,  1.11s/it]\n",
      "  8%|▊         | 69/858 [01:26<16:15,  1.24s/it]\n",
      "  8%|▊         | 70/858 [01:27<15:06,  1.15s/it]\n",
      "  8%|▊         | 71/858 [01:28<15:40,  1.19s/it]\n",
      "  8%|▊         | 72/858 [01:29<14:41,  1.12s/it]\n"
     ]
    },
    {
     "name": "stdout",
     "output_type": "stream",
     "text": [
      "== Status ==\n",
      "Current time: 2023-03-05 20:28:11 (running for 00:01:37.16)\n",
      "Memory usage on this node: 26.6/251.7 GiB \n",
      "Using FIFO scheduling algorithm.\n",
      "Resources requested: 64.0/64 CPUs, 1.0/1 GPUs, 0.0/147.5 GiB heap, 0.0/67.2 GiB objects (0.0/1.0 accelerator_type:RTX)\n",
      "Result logdir: /home/922201615/ray_results/_objective_2023-03-05_20-26-34\n",
      "Number of trials: 1/1 (1 RUNNING)\n",
      "+------------------------+----------+----------------------+-----------------+---------------------+----------------+\n",
      "| Trial name             | status   | loc                  |   learning_rate | lr_scheduler_type   |   warmup_ratio |\n",
      "|------------------------+----------+----------------------+-----------------+---------------------+----------------|\n",
      "| _objective_13ff3_00000 | RUNNING  | 130.212.82.53:302157 |     5.61152e-06 | linear              |       0.036687 |\n",
      "+------------------------+----------+----------------------+-----------------+---------------------+----------------+\n",
      "\n",
      "\n"
     ]
    },
    {
     "name": "stderr",
     "output_type": "stream",
     "text": [
      "  9%|▊         | 73/858 [01:31<16:08,  1.23s/it]\n",
      "  9%|▊         | 74/858 [01:32<15:00,  1.15s/it]\n",
      "  9%|▊         | 75/858 [01:33<15:57,  1.22s/it]\n",
      "  9%|▉         | 76/858 [01:34<14:52,  1.14s/it]\n"
     ]
    },
    {
     "name": "stdout",
     "output_type": "stream",
     "text": [
      "== Status ==\n",
      "Current time: 2023-03-05 20:28:16 (running for 00:01:42.17)\n",
      "Memory usage on this node: 26.9/251.7 GiB \n",
      "Using FIFO scheduling algorithm.\n",
      "Resources requested: 64.0/64 CPUs, 1.0/1 GPUs, 0.0/147.5 GiB heap, 0.0/67.2 GiB objects (0.0/1.0 accelerator_type:RTX)\n",
      "Result logdir: /home/922201615/ray_results/_objective_2023-03-05_20-26-34\n",
      "Number of trials: 1/1 (1 RUNNING)\n",
      "+------------------------+----------+----------------------+-----------------+---------------------+----------------+\n",
      "| Trial name             | status   | loc                  |   learning_rate | lr_scheduler_type   |   warmup_ratio |\n",
      "|------------------------+----------+----------------------+-----------------+---------------------+----------------|\n",
      "| _objective_13ff3_00000 | RUNNING  | 130.212.82.53:302157 |     5.61152e-06 | linear              |       0.036687 |\n",
      "+------------------------+----------+----------------------+-----------------+---------------------+----------------+\n",
      "\n",
      "\n"
     ]
    },
    {
     "name": "stderr",
     "output_type": "stream",
     "text": [
      "  9%|▉         | 77/858 [01:35<16:05,  1.24s/it]\n",
      "  9%|▉         | 78/858 [01:36<14:57,  1.15s/it]\n",
      "  9%|▉         | 79/858 [01:38<15:45,  1.21s/it]\n",
      "  9%|▉         | 80/858 [01:39<14:43,  1.14s/it]\n"
     ]
    },
    {
     "name": "stdout",
     "output_type": "stream",
     "text": [
      "== Status ==\n",
      "Current time: 2023-03-05 20:28:21 (running for 00:01:47.17)\n",
      "Memory usage on this node: 26.3/251.7 GiB \n",
      "Using FIFO scheduling algorithm.\n",
      "Resources requested: 64.0/64 CPUs, 1.0/1 GPUs, 0.0/147.5 GiB heap, 0.0/67.2 GiB objects (0.0/1.0 accelerator_type:RTX)\n",
      "Result logdir: /home/922201615/ray_results/_objective_2023-03-05_20-26-34\n",
      "Number of trials: 1/1 (1 RUNNING)\n",
      "+------------------------+----------+----------------------+-----------------+---------------------+----------------+\n",
      "| Trial name             | status   | loc                  |   learning_rate | lr_scheduler_type   |   warmup_ratio |\n",
      "|------------------------+----------+----------------------+-----------------+---------------------+----------------|\n",
      "| _objective_13ff3_00000 | RUNNING  | 130.212.82.53:302157 |     5.61152e-06 | linear              |       0.036687 |\n",
      "+------------------------+----------+----------------------+-----------------+---------------------+----------------+\n",
      "\n",
      "\n"
     ]
    },
    {
     "name": "stderr",
     "output_type": "stream",
     "text": [
      "  9%|▉         | 81/858 [01:40<15:50,  1.22s/it]\n",
      " 10%|▉         | 82/858 [01:41<14:45,  1.14s/it]\n",
      " 10%|▉         | 83/858 [01:42<15:59,  1.24s/it]\n",
      " 10%|▉         | 84/858 [01:43<14:51,  1.15s/it]\n"
     ]
    },
    {
     "name": "stdout",
     "output_type": "stream",
     "text": [
      "== Status ==\n",
      "Current time: 2023-03-05 20:28:26 (running for 00:01:52.18)\n",
      "Memory usage on this node: 26.9/251.7 GiB \n",
      "Using FIFO scheduling algorithm.\n",
      "Resources requested: 64.0/64 CPUs, 1.0/1 GPUs, 0.0/147.5 GiB heap, 0.0/67.2 GiB objects (0.0/1.0 accelerator_type:RTX)\n",
      "Result logdir: /home/922201615/ray_results/_objective_2023-03-05_20-26-34\n",
      "Number of trials: 1/1 (1 RUNNING)\n",
      "+------------------------+----------+----------------------+-----------------+---------------------+----------------+\n",
      "| Trial name             | status   | loc                  |   learning_rate | lr_scheduler_type   |   warmup_ratio |\n",
      "|------------------------+----------+----------------------+-----------------+---------------------+----------------|\n",
      "| _objective_13ff3_00000 | RUNNING  | 130.212.82.53:302157 |     5.61152e-06 | linear              |       0.036687 |\n",
      "+------------------------+----------+----------------------+-----------------+---------------------+----------------+\n",
      "\n",
      "\n"
     ]
    },
    {
     "name": "stderr",
     "output_type": "stream",
     "text": [
      " 10%|▉         | 85/858 [01:44<14:04,  1.09s/it]\n",
      " 10%|█         | 86/858 [01:45<13:50,  1.08s/it]\n",
      " 10%|█         | 87/858 [01:47<16:51,  1.31s/it]\n",
      " 10%|█         | 88/858 [01:48<15:26,  1.20s/it]\n",
      " 10%|█         | 89/858 [01:49<14:27,  1.13s/it]\n"
     ]
    },
    {
     "name": "stdout",
     "output_type": "stream",
     "text": [
      "== Status ==\n",
      "Current time: 2023-03-05 20:28:31 (running for 00:01:57.18)\n",
      "Memory usage on this node: 26.4/251.7 GiB \n",
      "Using FIFO scheduling algorithm.\n",
      "Resources requested: 64.0/64 CPUs, 1.0/1 GPUs, 0.0/147.5 GiB heap, 0.0/67.2 GiB objects (0.0/1.0 accelerator_type:RTX)\n",
      "Result logdir: /home/922201615/ray_results/_objective_2023-03-05_20-26-34\n",
      "Number of trials: 1/1 (1 RUNNING)\n",
      "+------------------------+----------+----------------------+-----------------+---------------------+----------------+\n",
      "| Trial name             | status   | loc                  |   learning_rate | lr_scheduler_type   |   warmup_ratio |\n",
      "|------------------------+----------+----------------------+-----------------+---------------------+----------------|\n",
      "| _objective_13ff3_00000 | RUNNING  | 130.212.82.53:302157 |     5.61152e-06 | linear              |       0.036687 |\n",
      "+------------------------+----------+----------------------+-----------------+---------------------+----------------+\n",
      "\n",
      "\n"
     ]
    },
    {
     "name": "stderr",
     "output_type": "stream",
     "text": [
      " 10%|█         | 90/858 [01:50<14:21,  1.12s/it]\n",
      " 11%|█         | 91/858 [01:52<16:45,  1.31s/it]\n",
      " 11%|█         | 92/858 [01:53<15:21,  1.20s/it]\n",
      " 11%|█         | 93/858 [01:54<14:22,  1.13s/it]\n"
     ]
    },
    {
     "name": "stdout",
     "output_type": "stream",
     "text": [
      "== Status ==\n",
      "Current time: 2023-03-05 20:28:36 (running for 00:02:02.18)\n",
      "Memory usage on this node: 26.5/251.7 GiB \n",
      "Using FIFO scheduling algorithm.\n",
      "Resources requested: 64.0/64 CPUs, 1.0/1 GPUs, 0.0/147.5 GiB heap, 0.0/67.2 GiB objects (0.0/1.0 accelerator_type:RTX)\n",
      "Result logdir: /home/922201615/ray_results/_objective_2023-03-05_20-26-34\n",
      "Number of trials: 1/1 (1 RUNNING)\n",
      "+------------------------+----------+----------------------+-----------------+---------------------+----------------+\n",
      "| Trial name             | status   | loc                  |   learning_rate | lr_scheduler_type   |   warmup_ratio |\n",
      "|------------------------+----------+----------------------+-----------------+---------------------+----------------|\n",
      "| _objective_13ff3_00000 | RUNNING  | 130.212.82.53:302157 |     5.61152e-06 | linear              |       0.036687 |\n",
      "+------------------------+----------+----------------------+-----------------+---------------------+----------------+\n",
      "\n",
      "\n"
     ]
    },
    {
     "name": "stderr",
     "output_type": "stream",
     "text": [
      " 11%|█         | 94/858 [01:55<14:39,  1.15s/it]\n",
      " 11%|█         | 95/858 [01:57<16:46,  1.32s/it]\n",
      " 11%|█         | 96/858 [01:58<15:21,  1.21s/it]\n",
      " 11%|█▏        | 97/858 [01:59<14:21,  1.13s/it]\n"
     ]
    },
    {
     "name": "stdout",
     "output_type": "stream",
     "text": [
      "== Status ==\n",
      "Current time: 2023-03-05 20:28:41 (running for 00:02:07.19)\n",
      "Memory usage on this node: 26.7/251.7 GiB \n",
      "Using FIFO scheduling algorithm.\n",
      "Resources requested: 64.0/64 CPUs, 1.0/1 GPUs, 0.0/147.5 GiB heap, 0.0/67.2 GiB objects (0.0/1.0 accelerator_type:RTX)\n",
      "Result logdir: /home/922201615/ray_results/_objective_2023-03-05_20-26-34\n",
      "Number of trials: 1/1 (1 RUNNING)\n",
      "+------------------------+----------+----------------------+-----------------+---------------------+----------------+\n",
      "| Trial name             | status   | loc                  |   learning_rate | lr_scheduler_type   |   warmup_ratio |\n",
      "|------------------------+----------+----------------------+-----------------+---------------------+----------------|\n",
      "| _objective_13ff3_00000 | RUNNING  | 130.212.82.53:302157 |     5.61152e-06 | linear              |       0.036687 |\n",
      "+------------------------+----------+----------------------+-----------------+---------------------+----------------+\n",
      "\n",
      "\n"
     ]
    },
    {
     "name": "stderr",
     "output_type": "stream",
     "text": [
      " 11%|█▏        | 98/858 [02:00<13:40,  1.08s/it]\n",
      " 12%|█▏        | 99/858 [02:02<16:39,  1.32s/it]\n",
      " 12%|█▏        | 100/858 [02:03<15:15,  1.21s/it]\n",
      " 12%|█▏        | 101/858 [02:03<14:16,  1.13s/it]\n"
     ]
    },
    {
     "name": "stdout",
     "output_type": "stream",
     "text": [
      "== Status ==\n",
      "Current time: 2023-03-05 20:28:46 (running for 00:02:12.19)\n",
      "Memory usage on this node: 26.9/251.7 GiB \n",
      "Using FIFO scheduling algorithm.\n",
      "Resources requested: 64.0/64 CPUs, 1.0/1 GPUs, 0.0/147.5 GiB heap, 0.0/67.2 GiB objects (0.0/1.0 accelerator_type:RTX)\n",
      "Result logdir: /home/922201615/ray_results/_objective_2023-03-05_20-26-34\n",
      "Number of trials: 1/1 (1 RUNNING)\n",
      "+------------------------+----------+----------------------+-----------------+---------------------+----------------+\n",
      "| Trial name             | status   | loc                  |   learning_rate | lr_scheduler_type   |   warmup_ratio |\n",
      "|------------------------+----------+----------------------+-----------------+---------------------+----------------|\n",
      "| _objective_13ff3_00000 | RUNNING  | 130.212.82.53:302157 |     5.61152e-06 | linear              |       0.036687 |\n",
      "+------------------------+----------+----------------------+-----------------+---------------------+----------------+\n",
      "\n",
      "\n"
     ]
    },
    {
     "name": "stderr",
     "output_type": "stream",
     "text": [
      " 12%|█▏        | 102/858 [02:04<13:34,  1.08s/it]\n",
      " 12%|█▏        | 103/858 [02:06<17:02,  1.35s/it]\n",
      " 12%|█▏        | 104/858 [02:07<15:29,  1.23s/it]\n",
      " 12%|█▏        | 105/858 [02:08<14:24,  1.15s/it]\n"
     ]
    },
    {
     "name": "stdout",
     "output_type": "stream",
     "text": [
      "== Status ==\n",
      "Current time: 2023-03-05 20:28:51 (running for 00:02:17.19)\n",
      "Memory usage on this node: 26.3/251.7 GiB \n",
      "Using FIFO scheduling algorithm.\n",
      "Resources requested: 64.0/64 CPUs, 1.0/1 GPUs, 0.0/147.5 GiB heap, 0.0/67.2 GiB objects (0.0/1.0 accelerator_type:RTX)\n",
      "Result logdir: /home/922201615/ray_results/_objective_2023-03-05_20-26-34\n",
      "Number of trials: 1/1 (1 RUNNING)\n",
      "+------------------------+----------+----------------------+-----------------+---------------------+----------------+\n",
      "| Trial name             | status   | loc                  |   learning_rate | lr_scheduler_type   |   warmup_ratio |\n",
      "|------------------------+----------+----------------------+-----------------+---------------------+----------------|\n",
      "| _objective_13ff3_00000 | RUNNING  | 130.212.82.53:302157 |     5.61152e-06 | linear              |       0.036687 |\n",
      "+------------------------+----------+----------------------+-----------------+---------------------+----------------+\n",
      "\n",
      "\n"
     ]
    },
    {
     "name": "stderr",
     "output_type": "stream",
     "text": [
      " 12%|█▏        | 106/858 [02:09<13:49,  1.10s/it]\n",
      " 12%|█▏        | 107/858 [02:11<15:36,  1.25s/it]\n",
      " 13%|█▎        | 108/858 [02:12<14:28,  1.16s/it]\n",
      " 13%|█▎        | 109/858 [02:13<13:40,  1.10s/it]\n",
      " 13%|█▎        | 110/858 [02:14<14:34,  1.17s/it]\n"
     ]
    },
    {
     "name": "stdout",
     "output_type": "stream",
     "text": [
      "== Status ==\n",
      "Current time: 2023-03-05 20:28:56 (running for 00:02:22.20)\n",
      "Memory usage on this node: 26.8/251.7 GiB \n",
      "Using FIFO scheduling algorithm.\n",
      "Resources requested: 64.0/64 CPUs, 1.0/1 GPUs, 0.0/147.5 GiB heap, 0.0/67.2 GiB objects (0.0/1.0 accelerator_type:RTX)\n",
      "Result logdir: /home/922201615/ray_results/_objective_2023-03-05_20-26-34\n",
      "Number of trials: 1/1 (1 RUNNING)\n",
      "+------------------------+----------+----------------------+-----------------+---------------------+----------------+\n",
      "| Trial name             | status   | loc                  |   learning_rate | lr_scheduler_type   |   warmup_ratio |\n",
      "|------------------------+----------+----------------------+-----------------+---------------------+----------------|\n",
      "| _objective_13ff3_00000 | RUNNING  | 130.212.82.53:302157 |     5.61152e-06 | linear              |       0.036687 |\n",
      "+------------------------+----------+----------------------+-----------------+---------------------+----------------+\n",
      "\n",
      "\n"
     ]
    },
    {
     "name": "stderr",
     "output_type": "stream",
     "text": [
      " 13%|█▎        | 111/858 [02:16<15:33,  1.25s/it]\n",
      " 13%|█▎        | 112/858 [02:17<14:25,  1.16s/it]\n",
      " 13%|█▎        | 113/858 [02:18<13:37,  1.10s/it]\n",
      " 13%|█▎        | 114/858 [02:19<13:54,  1.12s/it]\n"
     ]
    },
    {
     "name": "stdout",
     "output_type": "stream",
     "text": [
      "== Status ==\n",
      "Current time: 2023-03-05 20:29:01 (running for 00:02:27.20)\n",
      "Memory usage on this node: 26.5/251.7 GiB \n",
      "Using FIFO scheduling algorithm.\n",
      "Resources requested: 64.0/64 CPUs, 1.0/1 GPUs, 0.0/147.5 GiB heap, 0.0/67.2 GiB objects (0.0/1.0 accelerator_type:RTX)\n",
      "Result logdir: /home/922201615/ray_results/_objective_2023-03-05_20-26-34\n",
      "Number of trials: 1/1 (1 RUNNING)\n",
      "+------------------------+----------+----------------------+-----------------+---------------------+----------------+\n",
      "| Trial name             | status   | loc                  |   learning_rate | lr_scheduler_type   |   warmup_ratio |\n",
      "|------------------------+----------+----------------------+-----------------+---------------------+----------------|\n",
      "| _objective_13ff3_00000 | RUNNING  | 130.212.82.53:302157 |     5.61152e-06 | linear              |       0.036687 |\n",
      "+------------------------+----------+----------------------+-----------------+---------------------+----------------+\n",
      "\n",
      "\n"
     ]
    },
    {
     "name": "stderr",
     "output_type": "stream",
     "text": [
      " 13%|█▎        | 115/858 [02:20<16:02,  1.30s/it]\n",
      " 14%|█▎        | 116/858 [02:21<14:44,  1.19s/it]\n",
      " 14%|█▎        | 117/858 [02:22<13:49,  1.12s/it]\n",
      " 14%|█▍        | 118/858 [02:23<13:55,  1.13s/it]\n"
     ]
    },
    {
     "name": "stdout",
     "output_type": "stream",
     "text": [
      "== Status ==\n",
      "Current time: 2023-03-05 20:29:06 (running for 00:02:32.21)\n",
      "Memory usage on this node: 26.8/251.7 GiB \n",
      "Using FIFO scheduling algorithm.\n",
      "Resources requested: 64.0/64 CPUs, 1.0/1 GPUs, 0.0/147.5 GiB heap, 0.0/67.2 GiB objects (0.0/1.0 accelerator_type:RTX)\n",
      "Result logdir: /home/922201615/ray_results/_objective_2023-03-05_20-26-34\n",
      "Number of trials: 1/1 (1 RUNNING)\n",
      "+------------------------+----------+----------------------+-----------------+---------------------+----------------+\n",
      "| Trial name             | status   | loc                  |   learning_rate | lr_scheduler_type   |   warmup_ratio |\n",
      "|------------------------+----------+----------------------+-----------------+---------------------+----------------|\n",
      "| _objective_13ff3_00000 | RUNNING  | 130.212.82.53:302157 |     5.61152e-06 | linear              |       0.036687 |\n",
      "+------------------------+----------+----------------------+-----------------+---------------------+----------------+\n",
      "\n",
      "\n"
     ]
    },
    {
     "name": "stderr",
     "output_type": "stream",
     "text": [
      " 14%|█▍        | 119/858 [02:24<13:15,  1.08s/it]\n",
      " 14%|█▍        | 120/858 [02:25<12:46,  1.04s/it]\n",
      " 14%|█▍        | 121/858 [02:26<12:25,  1.01s/it]\n",
      " 14%|█▍        | 122/858 [02:28<15:43,  1.28s/it]\n",
      " 14%|█▍        | 123/858 [02:29<14:29,  1.18s/it]\n"
     ]
    },
    {
     "name": "stdout",
     "output_type": "stream",
     "text": [
      "== Status ==\n",
      "Current time: 2023-03-05 20:29:11 (running for 00:02:37.21)\n",
      "Memory usage on this node: 26.6/251.7 GiB \n",
      "Using FIFO scheduling algorithm.\n",
      "Resources requested: 64.0/64 CPUs, 1.0/1 GPUs, 0.0/147.5 GiB heap, 0.0/67.2 GiB objects (0.0/1.0 accelerator_type:RTX)\n",
      "Result logdir: /home/922201615/ray_results/_objective_2023-03-05_20-26-34\n",
      "Number of trials: 1/1 (1 RUNNING)\n",
      "+------------------------+----------+----------------------+-----------------+---------------------+----------------+\n",
      "| Trial name             | status   | loc                  |   learning_rate | lr_scheduler_type   |   warmup_ratio |\n",
      "|------------------------+----------+----------------------+-----------------+---------------------+----------------|\n",
      "| _objective_13ff3_00000 | RUNNING  | 130.212.82.53:302157 |     5.61152e-06 | linear              |       0.036687 |\n",
      "+------------------------+----------+----------------------+-----------------+---------------------+----------------+\n",
      "\n",
      "\n"
     ]
    },
    {
     "name": "stderr",
     "output_type": "stream",
     "text": [
      " 14%|█▍        | 124/858 [02:30<13:37,  1.11s/it]\n",
      " 15%|█▍        | 125/858 [02:31<13:00,  1.06s/it]\n",
      " 15%|█▍        | 126/858 [02:33<16:09,  1.32s/it]\n",
      " 15%|█▍        | 127/858 [02:34<14:45,  1.21s/it]\n"
     ]
    },
    {
     "name": "stdout",
     "output_type": "stream",
     "text": [
      "== Status ==\n",
      "Current time: 2023-03-05 20:29:16 (running for 00:02:42.21)\n",
      "Memory usage on this node: 26.9/251.7 GiB \n",
      "Using FIFO scheduling algorithm.\n",
      "Resources requested: 64.0/64 CPUs, 1.0/1 GPUs, 0.0/147.5 GiB heap, 0.0/67.2 GiB objects (0.0/1.0 accelerator_type:RTX)\n",
      "Result logdir: /home/922201615/ray_results/_objective_2023-03-05_20-26-34\n",
      "Number of trials: 1/1 (1 RUNNING)\n",
      "+------------------------+----------+----------------------+-----------------+---------------------+----------------+\n",
      "| Trial name             | status   | loc                  |   learning_rate | lr_scheduler_type   |   warmup_ratio |\n",
      "|------------------------+----------+----------------------+-----------------+---------------------+----------------|\n",
      "| _objective_13ff3_00000 | RUNNING  | 130.212.82.53:302157 |     5.61152e-06 | linear              |       0.036687 |\n",
      "+------------------------+----------+----------------------+-----------------+---------------------+----------------+\n",
      "\n",
      "\n"
     ]
    },
    {
     "name": "stderr",
     "output_type": "stream",
     "text": [
      " 15%|█▍        | 128/858 [02:35<13:47,  1.13s/it]\n",
      " 15%|█▌        | 129/858 [02:36<13:06,  1.08s/it]\n",
      " 15%|█▌        | 130/858 [02:38<16:17,  1.34s/it]\n",
      " 15%|█▌        | 131/858 [02:39<15:10,  1.25s/it]\n"
     ]
    },
    {
     "name": "stdout",
     "output_type": "stream",
     "text": [
      "== Status ==\n",
      "Current time: 2023-03-05 20:29:21 (running for 00:02:47.22)\n",
      "Memory usage on this node: 26.8/251.7 GiB \n",
      "Using FIFO scheduling algorithm.\n",
      "Resources requested: 64.0/64 CPUs, 1.0/1 GPUs, 0.0/147.5 GiB heap, 0.0/67.2 GiB objects (0.0/1.0 accelerator_type:RTX)\n",
      "Result logdir: /home/922201615/ray_results/_objective_2023-03-05_20-26-34\n",
      "Number of trials: 1/1 (1 RUNNING)\n",
      "+------------------------+----------+----------------------+-----------------+---------------------+----------------+\n",
      "| Trial name             | status   | loc                  |   learning_rate | lr_scheduler_type   |   warmup_ratio |\n",
      "|------------------------+----------+----------------------+-----------------+---------------------+----------------|\n",
      "| _objective_13ff3_00000 | RUNNING  | 130.212.82.53:302157 |     5.61152e-06 | linear              |       0.036687 |\n",
      "+------------------------+----------+----------------------+-----------------+---------------------+----------------+\n",
      "\n",
      "\n"
     ]
    },
    {
     "name": "stderr",
     "output_type": "stream",
     "text": [
      " 15%|█▌        | 132/858 [02:40<14:03,  1.16s/it]\n",
      " 16%|█▌        | 133/858 [02:41<13:16,  1.10s/it]\n",
      " 16%|█▌        | 134/858 [02:43<15:52,  1.32s/it]\n",
      " 16%|█▌        | 135/858 [02:44<14:32,  1.21s/it]\n"
     ]
    },
    {
     "name": "stdout",
     "output_type": "stream",
     "text": [
      "== Status ==\n",
      "Current time: 2023-03-05 20:29:26 (running for 00:02:52.22)\n",
      "Memory usage on this node: 26.6/251.7 GiB \n",
      "Using FIFO scheduling algorithm.\n",
      "Resources requested: 64.0/64 CPUs, 1.0/1 GPUs, 0.0/147.5 GiB heap, 0.0/67.2 GiB objects (0.0/1.0 accelerator_type:RTX)\n",
      "Result logdir: /home/922201615/ray_results/_objective_2023-03-05_20-26-34\n",
      "Number of trials: 1/1 (1 RUNNING)\n",
      "+------------------------+----------+----------------------+-----------------+---------------------+----------------+\n",
      "| Trial name             | status   | loc                  |   learning_rate | lr_scheduler_type   |   warmup_ratio |\n",
      "|------------------------+----------+----------------------+-----------------+---------------------+----------------|\n",
      "| _objective_13ff3_00000 | RUNNING  | 130.212.82.53:302157 |     5.61152e-06 | linear              |       0.036687 |\n",
      "+------------------------+----------+----------------------+-----------------+---------------------+----------------+\n",
      "\n",
      "\n"
     ]
    },
    {
     "name": "stderr",
     "output_type": "stream",
     "text": [
      " 16%|█▌        | 136/858 [02:44<13:35,  1.13s/it]\n",
      " 16%|█▌        | 137/858 [02:45<12:55,  1.08s/it]\n",
      " 16%|█▌        | 138/858 [02:47<16:19,  1.36s/it]\n",
      " 16%|█▌        | 139/858 [02:48<14:49,  1.24s/it]\n"
     ]
    },
    {
     "name": "stdout",
     "output_type": "stream",
     "text": [
      "== Status ==\n",
      "Current time: 2023-03-05 20:29:31 (running for 00:02:57.22)\n",
      "Memory usage on this node: 26.3/251.7 GiB \n",
      "Using FIFO scheduling algorithm.\n",
      "Resources requested: 64.0/64 CPUs, 1.0/1 GPUs, 0.0/147.5 GiB heap, 0.0/67.2 GiB objects (0.0/1.0 accelerator_type:RTX)\n",
      "Result logdir: /home/922201615/ray_results/_objective_2023-03-05_20-26-34\n",
      "Number of trials: 1/1 (1 RUNNING)\n",
      "+------------------------+----------+----------------------+-----------------+---------------------+----------------+\n",
      "| Trial name             | status   | loc                  |   learning_rate | lr_scheduler_type   |   warmup_ratio |\n",
      "|------------------------+----------+----------------------+-----------------+---------------------+----------------|\n",
      "| _objective_13ff3_00000 | RUNNING  | 130.212.82.53:302157 |     5.61152e-06 | linear              |       0.036687 |\n",
      "+------------------------+----------+----------------------+-----------------+---------------------+----------------+\n",
      "\n",
      "\n"
     ]
    },
    {
     "name": "stderr",
     "output_type": "stream",
     "text": [
      " 16%|█▋        | 140/858 [02:49<13:46,  1.15s/it]\n",
      " 16%|█▋        | 141/858 [02:50<13:02,  1.09s/it]\n",
      " 17%|█▋        | 142/858 [02:52<16:50,  1.41s/it]\n",
      " 17%|█▋        | 143/858 [02:53<15:09,  1.27s/it]\n"
     ]
    },
    {
     "name": "stdout",
     "output_type": "stream",
     "text": [
      "== Status ==\n",
      "Current time: 2023-03-05 20:29:36 (running for 00:03:02.23)\n",
      "Memory usage on this node: 26.4/251.7 GiB \n",
      "Using FIFO scheduling algorithm.\n",
      "Resources requested: 64.0/64 CPUs, 1.0/1 GPUs, 0.0/147.5 GiB heap, 0.0/67.2 GiB objects (0.0/1.0 accelerator_type:RTX)\n",
      "Result logdir: /home/922201615/ray_results/_objective_2023-03-05_20-26-34\n",
      "Number of trials: 1/1 (1 RUNNING)\n",
      "+------------------------+----------+----------------------+-----------------+---------------------+----------------+\n",
      "| Trial name             | status   | loc                  |   learning_rate | lr_scheduler_type   |   warmup_ratio |\n",
      "|------------------------+----------+----------------------+-----------------+---------------------+----------------|\n",
      "| _objective_13ff3_00000 | RUNNING  | 130.212.82.53:302157 |     5.61152e-06 | linear              |       0.036687 |\n",
      "+------------------------+----------+----------------------+-----------------+---------------------+----------------+\n",
      "\n",
      "\n"
     ]
    },
    {
     "name": "stderr",
     "output_type": "stream",
     "text": [
      " 17%|█▋        | 144/858 [02:54<13:59,  1.18s/it]\n",
      " 17%|█▋        | 145/858 [02:55<13:09,  1.11s/it]\n",
      " 17%|█▋        | 146/858 [02:57<16:40,  1.40s/it]\n",
      " 17%|█▋        | 147/858 [02:58<15:01,  1.27s/it]\n"
     ]
    },
    {
     "name": "stdout",
     "output_type": "stream",
     "text": [
      "== Status ==\n",
      "Current time: 2023-03-05 20:29:41 (running for 00:03:07.23)\n",
      "Memory usage on this node: 26.8/251.7 GiB \n",
      "Using FIFO scheduling algorithm.\n",
      "Resources requested: 64.0/64 CPUs, 1.0/1 GPUs, 0.0/147.5 GiB heap, 0.0/67.2 GiB objects (0.0/1.0 accelerator_type:RTX)\n",
      "Result logdir: /home/922201615/ray_results/_objective_2023-03-05_20-26-34\n",
      "Number of trials: 1/1 (1 RUNNING)\n",
      "+------------------------+----------+----------------------+-----------------+---------------------+----------------+\n",
      "| Trial name             | status   | loc                  |   learning_rate | lr_scheduler_type   |   warmup_ratio |\n",
      "|------------------------+----------+----------------------+-----------------+---------------------+----------------|\n",
      "| _objective_13ff3_00000 | RUNNING  | 130.212.82.53:302157 |     5.61152e-06 | linear              |       0.036687 |\n",
      "+------------------------+----------+----------------------+-----------------+---------------------+----------------+\n",
      "\n",
      "\n"
     ]
    },
    {
     "name": "stderr",
     "output_type": "stream",
     "text": [
      " 17%|█▋        | 148/858 [02:59<13:51,  1.17s/it]\n",
      " 17%|█▋        | 149/858 [03:00<13:03,  1.11s/it]\n",
      " 17%|█▋        | 150/858 [03:02<16:29,  1.40s/it]\n",
      " 18%|█▊        | 151/858 [03:03<14:53,  1.26s/it]\n",
      " 18%|█▊        | 152/858 [03:04<13:45,  1.17s/it]\n"
     ]
    },
    {
     "name": "stdout",
     "output_type": "stream",
     "text": [
      "== Status ==\n",
      "Current time: 2023-03-05 20:29:46 (running for 00:03:12.23)\n",
      "Memory usage on this node: 26.6/251.7 GiB \n",
      "Using FIFO scheduling algorithm.\n",
      "Resources requested: 64.0/64 CPUs, 1.0/1 GPUs, 0.0/147.5 GiB heap, 0.0/67.2 GiB objects (0.0/1.0 accelerator_type:RTX)\n",
      "Result logdir: /home/922201615/ray_results/_objective_2023-03-05_20-26-34\n",
      "Number of trials: 1/1 (1 RUNNING)\n",
      "+------------------------+----------+----------------------+-----------------+---------------------+----------------+\n",
      "| Trial name             | status   | loc                  |   learning_rate | lr_scheduler_type   |   warmup_ratio |\n",
      "|------------------------+----------+----------------------+-----------------+---------------------+----------------|\n",
      "| _objective_13ff3_00000 | RUNNING  | 130.212.82.53:302157 |     5.61152e-06 | linear              |       0.036687 |\n",
      "+------------------------+----------+----------------------+-----------------+---------------------+----------------+\n",
      "\n",
      "\n"
     ]
    },
    {
     "name": "stderr",
     "output_type": "stream",
     "text": [
      " 18%|█▊        | 153/858 [03:05<12:57,  1.10s/it]\n",
      " 18%|█▊        | 154/858 [03:07<15:55,  1.36s/it]\n",
      " 18%|█▊        | 155/858 [03:08<14:28,  1.23s/it]\n",
      " 18%|█▊        | 156/858 [03:09<13:27,  1.15s/it]\n"
     ]
    },
    {
     "name": "stdout",
     "output_type": "stream",
     "text": [
      "== Status ==\n",
      "Current time: 2023-03-05 20:29:51 (running for 00:03:17.24)\n",
      "Memory usage on this node: 26.5/251.7 GiB \n",
      "Using FIFO scheduling algorithm.\n",
      "Resources requested: 64.0/64 CPUs, 1.0/1 GPUs, 0.0/147.5 GiB heap, 0.0/67.2 GiB objects (0.0/1.0 accelerator_type:RTX)\n",
      "Result logdir: /home/922201615/ray_results/_objective_2023-03-05_20-26-34\n",
      "Number of trials: 1/1 (1 RUNNING)\n",
      "+------------------------+----------+----------------------+-----------------+---------------------+----------------+\n",
      "| Trial name             | status   | loc                  |   learning_rate | lr_scheduler_type   |   warmup_ratio |\n",
      "|------------------------+----------+----------------------+-----------------+---------------------+----------------|\n",
      "| _objective_13ff3_00000 | RUNNING  | 130.212.82.53:302157 |     5.61152e-06 | linear              |       0.036687 |\n",
      "+------------------------+----------+----------------------+-----------------+---------------------+----------------+\n",
      "\n",
      "\n"
     ]
    },
    {
     "name": "stderr",
     "output_type": "stream",
     "text": [
      " 18%|█▊        | 157/858 [03:10<12:43,  1.09s/it]\n",
      " 18%|█▊        | 158/858 [03:12<15:42,  1.35s/it]\n",
      " 19%|█▊        | 159/858 [03:13<14:17,  1.23s/it]\n",
      " 19%|█▊        | 160/858 [03:14<13:18,  1.14s/it]\n"
     ]
    },
    {
     "name": "stdout",
     "output_type": "stream",
     "text": [
      "== Status ==\n",
      "Current time: 2023-03-05 20:29:56 (running for 00:03:22.24)\n",
      "Memory usage on this node: 26.7/251.7 GiB \n",
      "Using FIFO scheduling algorithm.\n",
      "Resources requested: 64.0/64 CPUs, 1.0/1 GPUs, 0.0/147.5 GiB heap, 0.0/67.2 GiB objects (0.0/1.0 accelerator_type:RTX)\n",
      "Result logdir: /home/922201615/ray_results/_objective_2023-03-05_20-26-34\n",
      "Number of trials: 1/1 (1 RUNNING)\n",
      "+------------------------+----------+----------------------+-----------------+---------------------+----------------+\n",
      "| Trial name             | status   | loc                  |   learning_rate | lr_scheduler_type   |   warmup_ratio |\n",
      "|------------------------+----------+----------------------+-----------------+---------------------+----------------|\n",
      "| _objective_13ff3_00000 | RUNNING  | 130.212.82.53:302157 |     5.61152e-06 | linear              |       0.036687 |\n",
      "+------------------------+----------+----------------------+-----------------+---------------------+----------------+\n",
      "\n",
      "\n"
     ]
    },
    {
     "name": "stderr",
     "output_type": "stream",
     "text": [
      " 19%|█▉        | 161/858 [03:15<12:36,  1.09s/it]\n",
      " 19%|█▉        | 162/858 [03:17<15:58,  1.38s/it]\n",
      " 19%|█▉        | 163/858 [03:18<14:27,  1.25s/it]\n",
      " 19%|█▉        | 164/858 [03:19<13:24,  1.16s/it]\n"
     ]
    },
    {
     "name": "stdout",
     "output_type": "stream",
     "text": [
      "== Status ==\n",
      "Current time: 2023-03-05 20:30:01 (running for 00:03:27.24)\n",
      "Memory usage on this node: 26.5/251.7 GiB \n",
      "Using FIFO scheduling algorithm.\n",
      "Resources requested: 64.0/64 CPUs, 1.0/1 GPUs, 0.0/147.5 GiB heap, 0.0/67.2 GiB objects (0.0/1.0 accelerator_type:RTX)\n",
      "Result logdir: /home/922201615/ray_results/_objective_2023-03-05_20-26-34\n",
      "Number of trials: 1/1 (1 RUNNING)\n",
      "+------------------------+----------+----------------------+-----------------+---------------------+----------------+\n",
      "| Trial name             | status   | loc                  |   learning_rate | lr_scheduler_type   |   warmup_ratio |\n",
      "|------------------------+----------+----------------------+-----------------+---------------------+----------------|\n",
      "| _objective_13ff3_00000 | RUNNING  | 130.212.82.53:302157 |     5.61152e-06 | linear              |       0.036687 |\n",
      "+------------------------+----------+----------------------+-----------------+---------------------+----------------+\n",
      "\n",
      "\n"
     ]
    },
    {
     "name": "stderr",
     "output_type": "stream",
     "text": [
      " 19%|█▉        | 165/858 [03:20<12:39,  1.10s/it]\n",
      " 19%|█▉        | 166/858 [03:22<16:39,  1.44s/it]\n",
      " 19%|█▉        | 167/858 [03:23<14:55,  1.30s/it]\n",
      " 20%|█▉        | 168/858 [03:24<13:42,  1.19s/it]\n"
     ]
    },
    {
     "name": "stdout",
     "output_type": "stream",
     "text": [
      "== Status ==\n",
      "Current time: 2023-03-05 20:30:06 (running for 00:03:32.25)\n",
      "Memory usage on this node: 26.8/251.7 GiB \n",
      "Using FIFO scheduling algorithm.\n",
      "Resources requested: 64.0/64 CPUs, 1.0/1 GPUs, 0.0/147.5 GiB heap, 0.0/67.2 GiB objects (0.0/1.0 accelerator_type:RTX)\n",
      "Result logdir: /home/922201615/ray_results/_objective_2023-03-05_20-26-34\n",
      "Number of trials: 1/1 (1 RUNNING)\n",
      "+------------------------+----------+----------------------+-----------------+---------------------+----------------+\n",
      "| Trial name             | status   | loc                  |   learning_rate | lr_scheduler_type   |   warmup_ratio |\n",
      "|------------------------+----------+----------------------+-----------------+---------------------+----------------|\n",
      "| _objective_13ff3_00000 | RUNNING  | 130.212.82.53:302157 |     5.61152e-06 | linear              |       0.036687 |\n",
      "+------------------------+----------+----------------------+-----------------+---------------------+----------------+\n",
      "\n",
      "\n"
     ]
    },
    {
     "name": "stderr",
     "output_type": "stream",
     "text": [
      " 20%|█▉        | 169/858 [03:25<12:51,  1.12s/it]\n",
      " 20%|█▉        | 170/858 [03:27<16:23,  1.43s/it]\n",
      " 20%|█▉        | 171/858 [03:28<14:43,  1.29s/it]\n",
      " 20%|██        | 172/858 [03:29<13:32,  1.18s/it]\n"
     ]
    },
    {
     "name": "stdout",
     "output_type": "stream",
     "text": [
      "== Status ==\n",
      "Current time: 2023-03-05 20:30:11 (running for 00:03:37.25)\n",
      "Memory usage on this node: 26.8/251.7 GiB \n",
      "Using FIFO scheduling algorithm.\n",
      "Resources requested: 64.0/64 CPUs, 1.0/1 GPUs, 0.0/147.5 GiB heap, 0.0/67.2 GiB objects (0.0/1.0 accelerator_type:RTX)\n",
      "Result logdir: /home/922201615/ray_results/_objective_2023-03-05_20-26-34\n",
      "Number of trials: 1/1 (1 RUNNING)\n",
      "+------------------------+----------+----------------------+-----------------+---------------------+----------------+\n",
      "| Trial name             | status   | loc                  |   learning_rate | lr_scheduler_type   |   warmup_ratio |\n",
      "|------------------------+----------+----------------------+-----------------+---------------------+----------------|\n",
      "| _objective_13ff3_00000 | RUNNING  | 130.212.82.53:302157 |     5.61152e-06 | linear              |       0.036687 |\n",
      "+------------------------+----------+----------------------+-----------------+---------------------+----------------+\n",
      "\n",
      "\n"
     ]
    },
    {
     "name": "stderr",
     "output_type": "stream",
     "text": [
      " 20%|██        | 173/858 [03:30<12:43,  1.11s/it]\n",
      " 20%|██        | 174/858 [03:31<14:06,  1.24s/it]\n",
      " 20%|██        | 175/858 [03:32<13:06,  1.15s/it]\n",
      " 21%|██        | 176/858 [03:33<12:23,  1.09s/it]\n",
      " 21%|██        | 177/858 [03:34<11:53,  1.05s/it]\n"
     ]
    },
    {
     "name": "stdout",
     "output_type": "stream",
     "text": [
      "== Status ==\n",
      "Current time: 2023-03-05 20:30:16 (running for 00:03:42.25)\n",
      "Memory usage on this node: 27.0/251.7 GiB \n",
      "Using FIFO scheduling algorithm.\n",
      "Resources requested: 64.0/64 CPUs, 1.0/1 GPUs, 0.0/147.5 GiB heap, 0.0/67.2 GiB objects (0.0/1.0 accelerator_type:RTX)\n",
      "Result logdir: /home/922201615/ray_results/_objective_2023-03-05_20-26-34\n",
      "Number of trials: 1/1 (1 RUNNING)\n",
      "+------------------------+----------+----------------------+-----------------+---------------------+----------------+\n",
      "| Trial name             | status   | loc                  |   learning_rate | lr_scheduler_type   |   warmup_ratio |\n",
      "|------------------------+----------+----------------------+-----------------+---------------------+----------------|\n",
      "| _objective_13ff3_00000 | RUNNING  | 130.212.82.53:302157 |     5.61152e-06 | linear              |       0.036687 |\n",
      "+------------------------+----------+----------------------+-----------------+---------------------+----------------+\n",
      "\n",
      "\n"
     ]
    },
    {
     "name": "stderr",
     "output_type": "stream",
     "text": [
      " 21%|██        | 178/858 [03:36<15:28,  1.36s/it]\n",
      " 21%|██        | 179/858 [03:37<14:02,  1.24s/it]\n",
      " 21%|██        | 180/858 [03:38<13:01,  1.15s/it]\n",
      " 21%|██        | 181/858 [03:39<12:19,  1.09s/it]\n"
     ]
    },
    {
     "name": "stdout",
     "output_type": "stream",
     "text": [
      "== Status ==\n",
      "Current time: 2023-03-05 20:30:21 (running for 00:03:47.26)\n",
      "Memory usage on this node: 26.4/251.7 GiB \n",
      "Using FIFO scheduling algorithm.\n",
      "Resources requested: 64.0/64 CPUs, 1.0/1 GPUs, 0.0/147.5 GiB heap, 0.0/67.2 GiB objects (0.0/1.0 accelerator_type:RTX)\n",
      "Result logdir: /home/922201615/ray_results/_objective_2023-03-05_20-26-34\n",
      "Number of trials: 1/1 (1 RUNNING)\n",
      "+------------------------+----------+----------------------+-----------------+---------------------+----------------+\n",
      "| Trial name             | status   | loc                  |   learning_rate | lr_scheduler_type   |   warmup_ratio |\n",
      "|------------------------+----------+----------------------+-----------------+---------------------+----------------|\n",
      "| _objective_13ff3_00000 | RUNNING  | 130.212.82.53:302157 |     5.61152e-06 | linear              |       0.036687 |\n",
      "+------------------------+----------+----------------------+-----------------+---------------------+----------------+\n",
      "\n",
      "\n"
     ]
    },
    {
     "name": "stderr",
     "output_type": "stream",
     "text": [
      " 21%|██        | 182/858 [03:41<15:27,  1.37s/it]\n",
      " 21%|██▏       | 183/858 [03:42<14:00,  1.24s/it]\n",
      " 21%|██▏       | 184/858 [03:43<12:59,  1.16s/it]\n",
      " 22%|██▏       | 185/858 [03:44<12:16,  1.09s/it]\n"
     ]
    },
    {
     "name": "stdout",
     "output_type": "stream",
     "text": [
      "== Status ==\n",
      "Current time: 2023-03-05 20:30:26 (running for 00:03:52.26)\n",
      "Memory usage on this node: 26.4/251.7 GiB \n",
      "Using FIFO scheduling algorithm.\n",
      "Resources requested: 64.0/64 CPUs, 1.0/1 GPUs, 0.0/147.5 GiB heap, 0.0/67.2 GiB objects (0.0/1.0 accelerator_type:RTX)\n",
      "Result logdir: /home/922201615/ray_results/_objective_2023-03-05_20-26-34\n",
      "Number of trials: 1/1 (1 RUNNING)\n",
      "+------------------------+----------+----------------------+-----------------+---------------------+----------------+\n",
      "| Trial name             | status   | loc                  |   learning_rate | lr_scheduler_type   |   warmup_ratio |\n",
      "|------------------------+----------+----------------------+-----------------+---------------------+----------------|\n",
      "| _objective_13ff3_00000 | RUNNING  | 130.212.82.53:302157 |     5.61152e-06 | linear              |       0.036687 |\n",
      "+------------------------+----------+----------------------+-----------------+---------------------+----------------+\n",
      "\n",
      "\n"
     ]
    },
    {
     "name": "stderr",
     "output_type": "stream",
     "text": [
      " 22%|██▏       | 186/858 [03:46<15:31,  1.39s/it]\n",
      " 22%|██▏       | 187/858 [03:47<14:03,  1.26s/it]\n",
      " 22%|██▏       | 188/858 [03:48<13:00,  1.16s/it]\n",
      " 22%|██▏       | 189/858 [03:49<12:15,  1.10s/it]\n"
     ]
    },
    {
     "name": "stdout",
     "output_type": "stream",
     "text": [
      "== Status ==\n",
      "Current time: 2023-03-05 20:30:31 (running for 00:03:57.26)\n",
      "Memory usage on this node: 26.0/251.7 GiB \n",
      "Using FIFO scheduling algorithm.\n",
      "Resources requested: 64.0/64 CPUs, 1.0/1 GPUs, 0.0/147.5 GiB heap, 0.0/67.2 GiB objects (0.0/1.0 accelerator_type:RTX)\n",
      "Result logdir: /home/922201615/ray_results/_objective_2023-03-05_20-26-34\n",
      "Number of trials: 1/1 (1 RUNNING)\n",
      "+------------------------+----------+----------------------+-----------------+---------------------+----------------+\n",
      "| Trial name             | status   | loc                  |   learning_rate | lr_scheduler_type   |   warmup_ratio |\n",
      "|------------------------+----------+----------------------+-----------------+---------------------+----------------|\n",
      "| _objective_13ff3_00000 | RUNNING  | 130.212.82.53:302157 |     5.61152e-06 | linear              |       0.036687 |\n",
      "+------------------------+----------+----------------------+-----------------+---------------------+----------------+\n",
      "\n",
      "\n"
     ]
    },
    {
     "name": "stderr",
     "output_type": "stream",
     "text": [
      " 22%|██▏       | 190/858 [03:51<14:58,  1.35s/it]\n",
      " 22%|██▏       | 191/858 [03:52<13:38,  1.23s/it]\n",
      " 22%|██▏       | 192/858 [03:53<12:42,  1.14s/it]\n",
      " 22%|██▏       | 193/858 [03:54<12:02,  1.09s/it]\n"
     ]
    },
    {
     "name": "stdout",
     "output_type": "stream",
     "text": [
      "== Status ==\n",
      "Current time: 2023-03-05 20:30:36 (running for 00:04:02.27)\n",
      "Memory usage on this node: 26.2/251.7 GiB \n",
      "Using FIFO scheduling algorithm.\n",
      "Resources requested: 64.0/64 CPUs, 1.0/1 GPUs, 0.0/147.5 GiB heap, 0.0/67.2 GiB objects (0.0/1.0 accelerator_type:RTX)\n",
      "Result logdir: /home/922201615/ray_results/_objective_2023-03-05_20-26-34\n",
      "Number of trials: 1/1 (1 RUNNING)\n",
      "+------------------------+----------+----------------------+-----------------+---------------------+----------------+\n",
      "| Trial name             | status   | loc                  |   learning_rate | lr_scheduler_type   |   warmup_ratio |\n",
      "|------------------------+----------+----------------------+-----------------+---------------------+----------------|\n",
      "| _objective_13ff3_00000 | RUNNING  | 130.212.82.53:302157 |     5.61152e-06 | linear              |       0.036687 |\n",
      "+------------------------+----------+----------------------+-----------------+---------------------+----------------+\n",
      "\n",
      "\n"
     ]
    },
    {
     "name": "stderr",
     "output_type": "stream",
     "text": [
      " 23%|██▎       | 194/858 [03:56<14:48,  1.34s/it]\n",
      " 23%|██▎       | 195/858 [03:57<13:30,  1.22s/it]\n",
      " 23%|██▎       | 196/858 [03:58<12:35,  1.14s/it]\n",
      " 23%|██▎       | 197/858 [03:58<11:57,  1.08s/it]\n"
     ]
    },
    {
     "name": "stdout",
     "output_type": "stream",
     "text": [
      "== Status ==\n",
      "Current time: 2023-03-05 20:30:41 (running for 00:04:07.27)\n",
      "Memory usage on this node: 26.5/251.7 GiB \n",
      "Using FIFO scheduling algorithm.\n",
      "Resources requested: 64.0/64 CPUs, 1.0/1 GPUs, 0.0/147.5 GiB heap, 0.0/67.2 GiB objects (0.0/1.0 accelerator_type:RTX)\n",
      "Result logdir: /home/922201615/ray_results/_objective_2023-03-05_20-26-34\n",
      "Number of trials: 1/1 (1 RUNNING)\n",
      "+------------------------+----------+----------------------+-----------------+---------------------+----------------+\n",
      "| Trial name             | status   | loc                  |   learning_rate | lr_scheduler_type   |   warmup_ratio |\n",
      "|------------------------+----------+----------------------+-----------------+---------------------+----------------|\n",
      "| _objective_13ff3_00000 | RUNNING  | 130.212.82.53:302157 |     5.61152e-06 | linear              |       0.036687 |\n",
      "+------------------------+----------+----------------------+-----------------+---------------------+----------------+\n",
      "\n",
      "\n"
     ]
    },
    {
     "name": "stderr",
     "output_type": "stream",
     "text": [
      " 23%|██▎       | 198/858 [04:00<14:43,  1.34s/it]\n",
      " 23%|██▎       | 199/858 [04:01<13:25,  1.22s/it]\n",
      " 23%|██▎       | 200/858 [04:02<12:31,  1.14s/it]\n",
      " 23%|██▎       | 201/858 [04:03<11:52,  1.08s/it]\n"
     ]
    },
    {
     "name": "stdout",
     "output_type": "stream",
     "text": [
      "== Status ==\n",
      "Current time: 2023-03-05 20:30:46 (running for 00:04:12.28)\n",
      "Memory usage on this node: 26.6/251.7 GiB \n",
      "Using FIFO scheduling algorithm.\n",
      "Resources requested: 64.0/64 CPUs, 1.0/1 GPUs, 0.0/147.5 GiB heap, 0.0/67.2 GiB objects (0.0/1.0 accelerator_type:RTX)\n",
      "Result logdir: /home/922201615/ray_results/_objective_2023-03-05_20-26-34\n",
      "Number of trials: 1/1 (1 RUNNING)\n",
      "+------------------------+----------+----------------------+-----------------+---------------------+----------------+\n",
      "| Trial name             | status   | loc                  |   learning_rate | lr_scheduler_type   |   warmup_ratio |\n",
      "|------------------------+----------+----------------------+-----------------+---------------------+----------------|\n",
      "| _objective_13ff3_00000 | RUNNING  | 130.212.82.53:302157 |     5.61152e-06 | linear              |       0.036687 |\n",
      "+------------------------+----------+----------------------+-----------------+---------------------+----------------+\n",
      "\n",
      "\n"
     ]
    },
    {
     "name": "stderr",
     "output_type": "stream",
     "text": [
      " 24%|██▎       | 202/858 [04:05<14:45,  1.35s/it]\n",
      " 24%|██▎       | 203/858 [04:06<13:25,  1.23s/it]\n",
      " 24%|██▍       | 204/858 [04:07<12:29,  1.15s/it]\n",
      " 24%|██▍       | 205/858 [04:08<11:50,  1.09s/it]\n"
     ]
    },
    {
     "name": "stdout",
     "output_type": "stream",
     "text": [
      "== Status ==\n",
      "Current time: 2023-03-05 20:30:51 (running for 00:04:17.28)\n",
      "Memory usage on this node: 26.6/251.7 GiB \n",
      "Using FIFO scheduling algorithm.\n",
      "Resources requested: 64.0/64 CPUs, 1.0/1 GPUs, 0.0/147.5 GiB heap, 0.0/67.2 GiB objects (0.0/1.0 accelerator_type:RTX)\n",
      "Result logdir: /home/922201615/ray_results/_objective_2023-03-05_20-26-34\n",
      "Number of trials: 1/1 (1 RUNNING)\n",
      "+------------------------+----------+----------------------+-----------------+---------------------+----------------+\n",
      "| Trial name             | status   | loc                  |   learning_rate | lr_scheduler_type   |   warmup_ratio |\n",
      "|------------------------+----------+----------------------+-----------------+---------------------+----------------|\n",
      "| _objective_13ff3_00000 | RUNNING  | 130.212.82.53:302157 |     5.61152e-06 | linear              |       0.036687 |\n",
      "+------------------------+----------+----------------------+-----------------+---------------------+----------------+\n",
      "\n",
      "\n"
     ]
    },
    {
     "name": "stderr",
     "output_type": "stream",
     "text": [
      " 24%|██▍       | 206/858 [04:10<14:45,  1.36s/it]\n",
      " 24%|██▍       | 207/858 [04:11<13:24,  1.24s/it]\n",
      " 24%|██▍       | 208/858 [04:12<12:27,  1.15s/it]\n",
      " 24%|██▍       | 209/858 [04:13<11:47,  1.09s/it]\n"
     ]
    },
    {
     "name": "stdout",
     "output_type": "stream",
     "text": [
      "== Status ==\n",
      "Current time: 2023-03-05 20:30:56 (running for 00:04:22.28)\n",
      "Memory usage on this node: 26.3/251.7 GiB \n",
      "Using FIFO scheduling algorithm.\n",
      "Resources requested: 64.0/64 CPUs, 1.0/1 GPUs, 0.0/147.5 GiB heap, 0.0/67.2 GiB objects (0.0/1.0 accelerator_type:RTX)\n",
      "Result logdir: /home/922201615/ray_results/_objective_2023-03-05_20-26-34\n",
      "Number of trials: 1/1 (1 RUNNING)\n",
      "+------------------------+----------+----------------------+-----------------+---------------------+----------------+\n",
      "| Trial name             | status   | loc                  |   learning_rate | lr_scheduler_type   |   warmup_ratio |\n",
      "|------------------------+----------+----------------------+-----------------+---------------------+----------------|\n",
      "| _objective_13ff3_00000 | RUNNING  | 130.212.82.53:302157 |     5.61152e-06 | linear              |       0.036687 |\n",
      "+------------------------+----------+----------------------+-----------------+---------------------+----------------+\n",
      "\n",
      "\n"
     ]
    },
    {
     "name": "stderr",
     "output_type": "stream",
     "text": [
      " 24%|██▍       | 210/858 [04:15<14:21,  1.33s/it]\n",
      " 25%|██▍       | 211/858 [04:16<13:07,  1.22s/it]\n",
      " 25%|██▍       | 212/858 [04:17<12:14,  1.14s/it]\n",
      " 25%|██▍       | 213/858 [04:18<11:38,  1.08s/it]\n"
     ]
    },
    {
     "name": "stdout",
     "output_type": "stream",
     "text": [
      "== Status ==\n",
      "Current time: 2023-03-05 20:31:01 (running for 00:04:27.29)\n",
      "Memory usage on this node: 26.4/251.7 GiB \n",
      "Using FIFO scheduling algorithm.\n",
      "Resources requested: 64.0/64 CPUs, 1.0/1 GPUs, 0.0/147.5 GiB heap, 0.0/67.2 GiB objects (0.0/1.0 accelerator_type:RTX)\n",
      "Result logdir: /home/922201615/ray_results/_objective_2023-03-05_20-26-34\n",
      "Number of trials: 1/1 (1 RUNNING)\n",
      "+------------------------+----------+----------------------+-----------------+---------------------+----------------+\n",
      "| Trial name             | status   | loc                  |   learning_rate | lr_scheduler_type   |   warmup_ratio |\n",
      "|------------------------+----------+----------------------+-----------------+---------------------+----------------|\n",
      "| _objective_13ff3_00000 | RUNNING  | 130.212.82.53:302157 |     5.61152e-06 | linear              |       0.036687 |\n",
      "+------------------------+----------+----------------------+-----------------+---------------------+----------------+\n",
      "\n",
      "\n"
     ]
    },
    {
     "name": "stderr",
     "output_type": "stream",
     "text": [
      " 25%|██▍       | 214/858 [04:20<14:16,  1.33s/it]\n",
      " 25%|██▌       | 215/858 [04:21<13:02,  1.22s/it]\n",
      " 25%|██▌       | 216/858 [04:21<12:10,  1.14s/it]\n",
      " 25%|██▌       | 217/858 [04:22<11:33,  1.08s/it]\n",
      " 25%|██▌       | 218/858 [04:24<14:04,  1.32s/it]\n"
     ]
    },
    {
     "name": "stdout",
     "output_type": "stream",
     "text": [
      "== Status ==\n",
      "Current time: 2023-03-05 20:31:06 (running for 00:04:32.29)\n",
      "Memory usage on this node: 26.7/251.7 GiB \n",
      "Using FIFO scheduling algorithm.\n",
      "Resources requested: 64.0/64 CPUs, 1.0/1 GPUs, 0.0/147.5 GiB heap, 0.0/67.2 GiB objects (0.0/1.0 accelerator_type:RTX)\n",
      "Result logdir: /home/922201615/ray_results/_objective_2023-03-05_20-26-34\n",
      "Number of trials: 1/1 (1 RUNNING)\n",
      "+------------------------+----------+----------------------+-----------------+---------------------+----------------+\n",
      "| Trial name             | status   | loc                  |   learning_rate | lr_scheduler_type   |   warmup_ratio |\n",
      "|------------------------+----------+----------------------+-----------------+---------------------+----------------|\n",
      "| _objective_13ff3_00000 | RUNNING  | 130.212.82.53:302157 |     5.61152e-06 | linear              |       0.036687 |\n",
      "+------------------------+----------+----------------------+-----------------+---------------------+----------------+\n",
      "\n",
      "\n"
     ]
    },
    {
     "name": "stderr",
     "output_type": "stream",
     "text": [
      " 26%|██▌       | 219/858 [04:25<12:52,  1.21s/it]\n",
      " 26%|██▌       | 220/858 [04:26<12:01,  1.13s/it]\n",
      " 26%|██▌       | 221/858 [04:27<11:26,  1.08s/it]\n",
      " 26%|██▌       | 222/858 [04:29<14:05,  1.33s/it]\n"
     ]
    },
    {
     "name": "stdout",
     "output_type": "stream",
     "text": [
      "== Status ==\n",
      "Current time: 2023-03-05 20:31:11 (running for 00:04:37.29)\n",
      "Memory usage on this node: 26.8/251.7 GiB \n",
      "Using FIFO scheduling algorithm.\n",
      "Resources requested: 64.0/64 CPUs, 1.0/1 GPUs, 0.0/147.5 GiB heap, 0.0/67.2 GiB objects (0.0/1.0 accelerator_type:RTX)\n",
      "Result logdir: /home/922201615/ray_results/_objective_2023-03-05_20-26-34\n",
      "Number of trials: 1/1 (1 RUNNING)\n",
      "+------------------------+----------+----------------------+-----------------+---------------------+----------------+\n",
      "| Trial name             | status   | loc                  |   learning_rate | lr_scheduler_type   |   warmup_ratio |\n",
      "|------------------------+----------+----------------------+-----------------+---------------------+----------------|\n",
      "| _objective_13ff3_00000 | RUNNING  | 130.212.82.53:302157 |     5.61152e-06 | linear              |       0.036687 |\n",
      "+------------------------+----------+----------------------+-----------------+---------------------+----------------+\n",
      "\n",
      "\n"
     ]
    },
    {
     "name": "stderr",
     "output_type": "stream",
     "text": [
      " 26%|██▌       | 223/858 [04:30<12:52,  1.22s/it]\n",
      " 26%|██▌       | 224/858 [04:31<12:00,  1.14s/it]\n",
      " 26%|██▌       | 225/858 [04:32<11:24,  1.08s/it]\n",
      " 26%|██▋       | 226/858 [04:34<14:15,  1.35s/it]\n"
     ]
    },
    {
     "name": "stdout",
     "output_type": "stream",
     "text": [
      "== Status ==\n",
      "Current time: 2023-03-05 20:31:16 (running for 00:04:42.30)\n",
      "Memory usage on this node: 26.5/251.7 GiB \n",
      "Using FIFO scheduling algorithm.\n",
      "Resources requested: 64.0/64 CPUs, 1.0/1 GPUs, 0.0/147.5 GiB heap, 0.0/67.2 GiB objects (0.0/1.0 accelerator_type:RTX)\n",
      "Result logdir: /home/922201615/ray_results/_objective_2023-03-05_20-26-34\n",
      "Number of trials: 1/1 (1 RUNNING)\n",
      "+------------------------+----------+----------------------+-----------------+---------------------+----------------+\n",
      "| Trial name             | status   | loc                  |   learning_rate | lr_scheduler_type   |   warmup_ratio |\n",
      "|------------------------+----------+----------------------+-----------------+---------------------+----------------|\n",
      "| _objective_13ff3_00000 | RUNNING  | 130.212.82.53:302157 |     5.61152e-06 | linear              |       0.036687 |\n",
      "+------------------------+----------+----------------------+-----------------+---------------------+----------------+\n",
      "\n",
      "\n"
     ]
    },
    {
     "name": "stderr",
     "output_type": "stream",
     "text": [
      " 26%|██▋       | 227/858 [04:35<12:58,  1.23s/it]\n",
      " 27%|██▋       | 228/858 [04:36<12:03,  1.15s/it]\n",
      " 27%|██▋       | 229/858 [04:37<11:25,  1.09s/it]\n",
      " 27%|██▋       | 230/858 [04:39<13:53,  1.33s/it]\n"
     ]
    },
    {
     "name": "stdout",
     "output_type": "stream",
     "text": [
      "== Status ==\n",
      "Current time: 2023-03-05 20:31:21 (running for 00:04:47.30)\n",
      "Memory usage on this node: 26.2/251.7 GiB \n",
      "Using FIFO scheduling algorithm.\n",
      "Resources requested: 64.0/64 CPUs, 1.0/1 GPUs, 0.0/147.5 GiB heap, 0.0/67.2 GiB objects (0.0/1.0 accelerator_type:RTX)\n",
      "Result logdir: /home/922201615/ray_results/_objective_2023-03-05_20-26-34\n",
      "Number of trials: 1/1 (1 RUNNING)\n",
      "+------------------------+----------+----------------------+-----------------+---------------------+----------------+\n",
      "| Trial name             | status   | loc                  |   learning_rate | lr_scheduler_type   |   warmup_ratio |\n",
      "|------------------------+----------+----------------------+-----------------+---------------------+----------------|\n",
      "| _objective_13ff3_00000 | RUNNING  | 130.212.82.53:302157 |     5.61152e-06 | linear              |       0.036687 |\n",
      "+------------------------+----------+----------------------+-----------------+---------------------+----------------+\n",
      "\n",
      "\n"
     ]
    },
    {
     "name": "stderr",
     "output_type": "stream",
     "text": [
      " 27%|██▋       | 231/858 [04:40<12:41,  1.21s/it]\n",
      " 27%|██▋       | 232/858 [04:41<11:50,  1.14s/it]\n",
      " 27%|██▋       | 233/858 [04:41<11:14,  1.08s/it]\n",
      " 27%|██▋       | 234/858 [04:43<13:58,  1.34s/it]\n"
     ]
    },
    {
     "name": "stdout",
     "output_type": "stream",
     "text": [
      "== Status ==\n",
      "Current time: 2023-03-05 20:31:26 (running for 00:04:52.30)\n",
      "Memory usage on this node: 26.8/251.7 GiB \n",
      "Using FIFO scheduling algorithm.\n",
      "Resources requested: 64.0/64 CPUs, 1.0/1 GPUs, 0.0/147.5 GiB heap, 0.0/67.2 GiB objects (0.0/1.0 accelerator_type:RTX)\n",
      "Result logdir: /home/922201615/ray_results/_objective_2023-03-05_20-26-34\n",
      "Number of trials: 1/1 (1 RUNNING)\n",
      "+------------------------+----------+----------------------+-----------------+---------------------+----------------+\n",
      "| Trial name             | status   | loc                  |   learning_rate | lr_scheduler_type   |   warmup_ratio |\n",
      "|------------------------+----------+----------------------+-----------------+---------------------+----------------|\n",
      "| _objective_13ff3_00000 | RUNNING  | 130.212.82.53:302157 |     5.61152e-06 | linear              |       0.036687 |\n",
      "+------------------------+----------+----------------------+-----------------+---------------------+----------------+\n",
      "\n",
      "\n"
     ]
    },
    {
     "name": "stderr",
     "output_type": "stream",
     "text": [
      " 27%|██▋       | 235/858 [04:44<12:43,  1.22s/it]\n",
      " 28%|██▊       | 236/858 [04:45<11:50,  1.14s/it]\n",
      " 28%|██▊       | 237/858 [04:46<11:13,  1.08s/it]\n",
      " 28%|██▊       | 238/858 [04:48<13:49,  1.34s/it]\n",
      " 28%|██▊       | 239/858 [04:49<12:35,  1.22s/it]\n"
     ]
    },
    {
     "name": "stdout",
     "output_type": "stream",
     "text": [
      "== Status ==\n",
      "Current time: 2023-03-05 20:31:31 (running for 00:04:57.31)\n",
      "Memory usage on this node: 26.6/251.7 GiB \n",
      "Using FIFO scheduling algorithm.\n",
      "Resources requested: 64.0/64 CPUs, 1.0/1 GPUs, 0.0/147.5 GiB heap, 0.0/67.2 GiB objects (0.0/1.0 accelerator_type:RTX)\n",
      "Result logdir: /home/922201615/ray_results/_objective_2023-03-05_20-26-34\n",
      "Number of trials: 1/1 (1 RUNNING)\n",
      "+------------------------+----------+----------------------+-----------------+---------------------+----------------+\n",
      "| Trial name             | status   | loc                  |   learning_rate | lr_scheduler_type   |   warmup_ratio |\n",
      "|------------------------+----------+----------------------+-----------------+---------------------+----------------|\n",
      "| _objective_13ff3_00000 | RUNNING  | 130.212.82.53:302157 |     5.61152e-06 | linear              |       0.036687 |\n",
      "+------------------------+----------+----------------------+-----------------+---------------------+----------------+\n",
      "\n",
      "\n"
     ]
    },
    {
     "name": "stderr",
     "output_type": "stream",
     "text": [
      " 28%|██▊       | 240/858 [04:50<11:44,  1.14s/it]\n",
      " 28%|██▊       | 241/858 [04:51<11:08,  1.08s/it]\n",
      " 28%|██▊       | 242/858 [04:53<13:42,  1.34s/it]\n",
      " 28%|██▊       | 243/858 [04:54<12:30,  1.22s/it]\n"
     ]
    },
    {
     "name": "stdout",
     "output_type": "stream",
     "text": [
      "== Status ==\n",
      "Current time: 2023-03-05 20:31:36 (running for 00:05:02.31)\n",
      "Memory usage on this node: 26.6/251.7 GiB \n",
      "Using FIFO scheduling algorithm.\n",
      "Resources requested: 64.0/64 CPUs, 1.0/1 GPUs, 0.0/147.5 GiB heap, 0.0/67.2 GiB objects (0.0/1.0 accelerator_type:RTX)\n",
      "Result logdir: /home/922201615/ray_results/_objective_2023-03-05_20-26-34\n",
      "Number of trials: 1/1 (1 RUNNING)\n",
      "+------------------------+----------+----------------------+-----------------+---------------------+----------------+\n",
      "| Trial name             | status   | loc                  |   learning_rate | lr_scheduler_type   |   warmup_ratio |\n",
      "|------------------------+----------+----------------------+-----------------+---------------------+----------------|\n",
      "| _objective_13ff3_00000 | RUNNING  | 130.212.82.53:302157 |     5.61152e-06 | linear              |       0.036687 |\n",
      "+------------------------+----------+----------------------+-----------------+---------------------+----------------+\n",
      "\n",
      "\n"
     ]
    },
    {
     "name": "stderr",
     "output_type": "stream",
     "text": [
      " 28%|██▊       | 244/858 [04:55<11:39,  1.14s/it]\n",
      " 29%|██▊       | 245/858 [04:56<11:04,  1.08s/it]\n",
      " 29%|██▊       | 246/858 [04:58<13:32,  1.33s/it]\n",
      " 29%|██▉       | 247/858 [04:59<12:21,  1.21s/it]\n"
     ]
    },
    {
     "name": "stdout",
     "output_type": "stream",
     "text": [
      "== Status ==\n",
      "Current time: 2023-03-05 20:31:41 (running for 00:05:07.31)\n",
      "Memory usage on this node: 26.8/251.7 GiB \n",
      "Using FIFO scheduling algorithm.\n",
      "Resources requested: 64.0/64 CPUs, 1.0/1 GPUs, 0.0/147.5 GiB heap, 0.0/67.2 GiB objects (0.0/1.0 accelerator_type:RTX)\n",
      "Result logdir: /home/922201615/ray_results/_objective_2023-03-05_20-26-34\n",
      "Number of trials: 1/1 (1 RUNNING)\n",
      "+------------------------+----------+----------------------+-----------------+---------------------+----------------+\n",
      "| Trial name             | status   | loc                  |   learning_rate | lr_scheduler_type   |   warmup_ratio |\n",
      "|------------------------+----------+----------------------+-----------------+---------------------+----------------|\n",
      "| _objective_13ff3_00000 | RUNNING  | 130.212.82.53:302157 |     5.61152e-06 | linear              |       0.036687 |\n",
      "+------------------------+----------+----------------------+-----------------+---------------------+----------------+\n",
      "\n",
      "\n"
     ]
    },
    {
     "name": "stderr",
     "output_type": "stream",
     "text": [
      " 29%|██▉       | 248/858 [05:00<11:32,  1.14s/it]\n",
      " 29%|██▉       | 249/858 [05:01<10:58,  1.08s/it]\n",
      " 29%|██▉       | 250/858 [05:02<10:34,  1.04s/it]\n",
      " 29%|██▉       | 251/858 [05:03<10:16,  1.02s/it]\n",
      " 29%|██▉       | 252/858 [05:03<10:03,  1.00it/s]\n"
     ]
    },
    {
     "name": "stdout",
     "output_type": "stream",
     "text": [
      "== Status ==\n",
      "Current time: 2023-03-05 20:31:46 (running for 00:05:12.32)\n",
      "Memory usage on this node: 26.6/251.7 GiB \n",
      "Using FIFO scheduling algorithm.\n",
      "Resources requested: 64.0/64 CPUs, 1.0/1 GPUs, 0.0/147.5 GiB heap, 0.0/67.2 GiB objects (0.0/1.0 accelerator_type:RTX)\n",
      "Result logdir: /home/922201615/ray_results/_objective_2023-03-05_20-26-34\n",
      "Number of trials: 1/1 (1 RUNNING)\n",
      "+------------------------+----------+----------------------+-----------------+---------------------+----------------+\n",
      "| Trial name             | status   | loc                  |   learning_rate | lr_scheduler_type   |   warmup_ratio |\n",
      "|------------------------+----------+----------------------+-----------------+---------------------+----------------|\n",
      "| _objective_13ff3_00000 | RUNNING  | 130.212.82.53:302157 |     5.61152e-06 | linear              |       0.036687 |\n",
      "+------------------------+----------+----------------------+-----------------+---------------------+----------------+\n",
      "\n",
      "\n"
     ]
    },
    {
     "name": "stderr",
     "output_type": "stream",
     "text": [
      " 29%|██▉       | 253/858 [05:04<09:54,  1.02it/s]\n",
      " 30%|██▉       | 254/858 [05:06<12:34,  1.25s/it]\n",
      " 30%|██▉       | 255/858 [05:07<11:45,  1.17s/it]\n",
      " 30%|██▉       | 256/858 [05:08<11:05,  1.10s/it]\n",
      " 30%|██▉       | 257/858 [05:09<10:36,  1.06s/it]\n"
     ]
    },
    {
     "name": "stdout",
     "output_type": "stream",
     "text": [
      "== Status ==\n",
      "Current time: 2023-03-05 20:31:51 (running for 00:05:17.32)\n",
      "Memory usage on this node: 26.9/251.7 GiB \n",
      "Using FIFO scheduling algorithm.\n",
      "Resources requested: 64.0/64 CPUs, 1.0/1 GPUs, 0.0/147.5 GiB heap, 0.0/67.2 GiB objects (0.0/1.0 accelerator_type:RTX)\n",
      "Result logdir: /home/922201615/ray_results/_objective_2023-03-05_20-26-34\n",
      "Number of trials: 1/1 (1 RUNNING)\n",
      "+------------------------+----------+----------------------+-----------------+---------------------+----------------+\n",
      "| Trial name             | status   | loc                  |   learning_rate | lr_scheduler_type   |   warmup_ratio |\n",
      "|------------------------+----------+----------------------+-----------------+---------------------+----------------|\n",
      "| _objective_13ff3_00000 | RUNNING  | 130.212.82.53:302157 |     5.61152e-06 | linear              |       0.036687 |\n",
      "+------------------------+----------+----------------------+-----------------+---------------------+----------------+\n",
      "\n",
      "\n"
     ]
    },
    {
     "name": "stderr",
     "output_type": "stream",
     "text": [
      " 30%|███       | 258/858 [05:11<13:00,  1.30s/it]\n",
      " 30%|███       | 259/858 [05:12<12:10,  1.22s/it]\n",
      " 30%|███       | 260/858 [05:13<11:21,  1.14s/it]\n",
      " 30%|███       | 261/858 [05:14<10:46,  1.08s/it]\n"
     ]
    },
    {
     "name": "stdout",
     "output_type": "stream",
     "text": [
      "== Status ==\n",
      "Current time: 2023-03-05 20:31:56 (running for 00:05:22.33)\n",
      "Memory usage on this node: 26.3/251.7 GiB \n",
      "Using FIFO scheduling algorithm.\n",
      "Resources requested: 64.0/64 CPUs, 1.0/1 GPUs, 0.0/147.5 GiB heap, 0.0/67.2 GiB objects (0.0/1.0 accelerator_type:RTX)\n",
      "Result logdir: /home/922201615/ray_results/_objective_2023-03-05_20-26-34\n",
      "Number of trials: 1/1 (1 RUNNING)\n",
      "+------------------------+----------+----------------------+-----------------+---------------------+----------------+\n",
      "| Trial name             | status   | loc                  |   learning_rate | lr_scheduler_type   |   warmup_ratio |\n",
      "|------------------------+----------+----------------------+-----------------+---------------------+----------------|\n",
      "| _objective_13ff3_00000 | RUNNING  | 130.212.82.53:302157 |     5.61152e-06 | linear              |       0.036687 |\n",
      "+------------------------+----------+----------------------+-----------------+---------------------+----------------+\n",
      "\n",
      "\n"
     ]
    },
    {
     "name": "stderr",
     "output_type": "stream",
     "text": [
      " 31%|███       | 262/858 [05:16<13:09,  1.33s/it]\n",
      " 31%|███       | 263/858 [05:17<12:18,  1.24s/it]\n",
      " 31%|███       | 264/858 [05:18<11:25,  1.15s/it]\n",
      " 31%|███       | 265/858 [05:19<10:47,  1.09s/it]\n"
     ]
    },
    {
     "name": "stdout",
     "output_type": "stream",
     "text": [
      "== Status ==\n",
      "Current time: 2023-03-05 20:32:01 (running for 00:05:27.33)\n",
      "Memory usage on this node: 26.7/251.7 GiB \n",
      "Using FIFO scheduling algorithm.\n",
      "Resources requested: 64.0/64 CPUs, 1.0/1 GPUs, 0.0/147.5 GiB heap, 0.0/67.2 GiB objects (0.0/1.0 accelerator_type:RTX)\n",
      "Result logdir: /home/922201615/ray_results/_objective_2023-03-05_20-26-34\n",
      "Number of trials: 1/1 (1 RUNNING)\n",
      "+------------------------+----------+----------------------+-----------------+---------------------+----------------+\n",
      "| Trial name             | status   | loc                  |   learning_rate | lr_scheduler_type   |   warmup_ratio |\n",
      "|------------------------+----------+----------------------+-----------------+---------------------+----------------|\n",
      "| _objective_13ff3_00000 | RUNNING  | 130.212.82.53:302157 |     5.61152e-06 | linear              |       0.036687 |\n",
      "+------------------------+----------+----------------------+-----------------+---------------------+----------------+\n",
      "\n",
      "\n"
     ]
    },
    {
     "name": "stderr",
     "output_type": "stream",
     "text": [
      " 31%|███       | 266/858 [05:21<12:59,  1.32s/it]\n",
      " 31%|███       | 267/858 [05:22<12:17,  1.25s/it]\n",
      " 31%|███       | 268/858 [05:23<11:23,  1.16s/it]\n",
      " 31%|███▏      | 269/858 [05:24<10:45,  1.10s/it]\n"
     ]
    },
    {
     "name": "stdout",
     "output_type": "stream",
     "text": [
      "== Status ==\n",
      "Current time: 2023-03-05 20:32:06 (running for 00:05:32.33)\n",
      "Memory usage on this node: 26.3/251.7 GiB \n",
      "Using FIFO scheduling algorithm.\n",
      "Resources requested: 64.0/64 CPUs, 1.0/1 GPUs, 0.0/147.5 GiB heap, 0.0/67.2 GiB objects (0.0/1.0 accelerator_type:RTX)\n",
      "Result logdir: /home/922201615/ray_results/_objective_2023-03-05_20-26-34\n",
      "Number of trials: 1/1 (1 RUNNING)\n",
      "+------------------------+----------+----------------------+-----------------+---------------------+----------------+\n",
      "| Trial name             | status   | loc                  |   learning_rate | lr_scheduler_type   |   warmup_ratio |\n",
      "|------------------------+----------+----------------------+-----------------+---------------------+----------------|\n",
      "| _objective_13ff3_00000 | RUNNING  | 130.212.82.53:302157 |     5.61152e-06 | linear              |       0.036687 |\n",
      "+------------------------+----------+----------------------+-----------------+---------------------+----------------+\n",
      "\n",
      "\n"
     ]
    },
    {
     "name": "stderr",
     "output_type": "stream",
     "text": [
      " 31%|███▏      | 270/858 [05:25<11:37,  1.19s/it]\n",
      " 32%|███▏      | 271/858 [05:26<11:23,  1.16s/it]\n",
      " 32%|███▏      | 272/858 [05:27<10:44,  1.10s/it]\n",
      " 32%|███▏      | 273/858 [05:28<10:17,  1.06s/it]\n"
     ]
    },
    {
     "name": "stdout",
     "output_type": "stream",
     "text": [
      "== Status ==\n",
      "Current time: 2023-03-05 20:32:11 (running for 00:05:37.34)\n",
      "Memory usage on this node: 26.7/251.7 GiB \n",
      "Using FIFO scheduling algorithm.\n",
      "Resources requested: 64.0/64 CPUs, 1.0/1 GPUs, 0.0/147.5 GiB heap, 0.0/67.2 GiB objects (0.0/1.0 accelerator_type:RTX)\n",
      "Result logdir: /home/922201615/ray_results/_objective_2023-03-05_20-26-34\n",
      "Number of trials: 1/1 (1 RUNNING)\n",
      "+------------------------+----------+----------------------+-----------------+---------------------+----------------+\n",
      "| Trial name             | status   | loc                  |   learning_rate | lr_scheduler_type   |   warmup_ratio |\n",
      "|------------------------+----------+----------------------+-----------------+---------------------+----------------|\n",
      "| _objective_13ff3_00000 | RUNNING  | 130.212.82.53:302157 |     5.61152e-06 | linear              |       0.036687 |\n",
      "+------------------------+----------+----------------------+-----------------+---------------------+----------------+\n",
      "\n",
      "\n"
     ]
    },
    {
     "name": "stderr",
     "output_type": "stream",
     "text": [
      " 32%|███▏      | 274/858 [05:30<12:15,  1.26s/it]\n",
      " 32%|███▏      | 275/858 [05:31<11:57,  1.23s/it]\n",
      " 32%|███▏      | 276/858 [05:32<11:07,  1.15s/it]\n",
      " 32%|███▏      | 277/858 [05:33<10:32,  1.09s/it]\n",
      " 32%|███▏      | 278/858 [05:34<11:10,  1.16s/it]\n"
     ]
    },
    {
     "name": "stdout",
     "output_type": "stream",
     "text": [
      "== Status ==\n",
      "Current time: 2023-03-05 20:32:16 (running for 00:05:42.34)\n",
      "Memory usage on this node: 26.8/251.7 GiB \n",
      "Using FIFO scheduling algorithm.\n",
      "Resources requested: 64.0/64 CPUs, 1.0/1 GPUs, 0.0/147.5 GiB heap, 0.0/67.2 GiB objects (0.0/1.0 accelerator_type:RTX)\n",
      "Result logdir: /home/922201615/ray_results/_objective_2023-03-05_20-26-34\n",
      "Number of trials: 1/1 (1 RUNNING)\n",
      "+------------------------+----------+----------------------+-----------------+---------------------+----------------+\n",
      "| Trial name             | status   | loc                  |   learning_rate | lr_scheduler_type   |   warmup_ratio |\n",
      "|------------------------+----------+----------------------+-----------------+---------------------+----------------|\n",
      "| _objective_13ff3_00000 | RUNNING  | 130.212.82.53:302157 |     5.61152e-06 | linear              |       0.036687 |\n",
      "+------------------------+----------+----------------------+-----------------+---------------------+----------------+\n",
      "\n",
      "\n"
     ]
    },
    {
     "name": "stderr",
     "output_type": "stream",
     "text": [
      " 33%|███▎      | 279/858 [05:36<12:23,  1.28s/it]\n",
      " 33%|███▎      | 280/858 [05:37<11:24,  1.18s/it]\n",
      " 33%|███▎      | 281/858 [05:38<10:43,  1.12s/it]\n",
      " 33%|███▎      | 282/858 [05:39<11:22,  1.18s/it]\n"
     ]
    },
    {
     "name": "stdout",
     "output_type": "stream",
     "text": [
      "== Status ==\n",
      "Current time: 2023-03-05 20:32:21 (running for 00:05:47.34)\n",
      "Memory usage on this node: 25.7/251.7 GiB \n",
      "Using FIFO scheduling algorithm.\n",
      "Resources requested: 64.0/64 CPUs, 1.0/1 GPUs, 0.0/147.5 GiB heap, 0.0/67.2 GiB objects (0.0/1.0 accelerator_type:RTX)\n",
      "Result logdir: /home/922201615/ray_results/_objective_2023-03-05_20-26-34\n",
      "Number of trials: 1/1 (1 RUNNING)\n",
      "+------------------------+----------+----------------------+-----------------+---------------------+----------------+\n",
      "| Trial name             | status   | loc                  |   learning_rate | lr_scheduler_type   |   warmup_ratio |\n",
      "|------------------------+----------+----------------------+-----------------+---------------------+----------------|\n",
      "| _objective_13ff3_00000 | RUNNING  | 130.212.82.53:302157 |     5.61152e-06 | linear              |       0.036687 |\n",
      "+------------------------+----------+----------------------+-----------------+---------------------+----------------+\n",
      "\n",
      "\n"
     ]
    },
    {
     "name": "stderr",
     "output_type": "stream",
     "text": [
      " 33%|███▎      | 283/858 [05:40<10:41,  1.12s/it]\n",
      " 33%|███▎      | 284/858 [05:41<10:12,  1.07s/it]\n",
      " 33%|███▎      | 285/858 [05:42<09:51,  1.03s/it]\n",
      " 33%|███▎      | 286/858 [05:43<09:44,  1.02s/it]\n",
      " 33%|███▎      | 286/858 [05:43<09:44,  1.02s/it]\n"
     ]
    },
    {
     "name": "stdout",
     "output_type": "stream",
     "text": [
      "\u001b[2m\u001b[36m(_objective pid=302157)\u001b[0m {'loss': 0.5576, 'learning_rate': 3.885941149602106e-06, 'epoch': 1.0}\n",
      "== Status ==\n",
      "Current time: 2023-03-05 20:32:26 (running for 00:05:52.35)\n",
      "Memory usage on this node: 24.7/251.7 GiB \n",
      "Using FIFO scheduling algorithm.\n",
      "Resources requested: 64.0/64 CPUs, 1.0/1 GPUs, 0.0/147.5 GiB heap, 0.0/67.2 GiB objects (0.0/1.0 accelerator_type:RTX)\n",
      "Result logdir: /home/922201615/ray_results/_objective_2023-03-05_20-26-34\n",
      "Number of trials: 1/1 (1 RUNNING)\n",
      "+------------------------+----------+----------------------+-----------------+---------------------+----------------+\n",
      "| Trial name             | status   | loc                  |   learning_rate | lr_scheduler_type   |   warmup_ratio |\n",
      "|------------------------+----------+----------------------+-----------------+---------------------+----------------|\n",
      "| _objective_13ff3_00000 | RUNNING  | 130.212.82.53:302157 |     5.61152e-06 | linear              |       0.036687 |\n",
      "+------------------------+----------+----------------------+-----------------+---------------------+----------------+\n",
      "\n",
      "\n"
     ]
    },
    {
     "name": "stderr",
     "output_type": "stream",
     "text": [
      "\u001b[2m\u001b[36m(_objective pid=302157)\u001b[0m \n",
      "  0%|          | 0/33 [00:00<?, ?it/s]\u001b[A\n",
      "\u001b[2m\u001b[36m(_objective pid=302157)\u001b[0m \n",
      "  6%|▌         | 2/33 [00:00<00:04,  6.86it/s]\u001b[A\n",
      "\u001b[2m\u001b[36m(_objective pid=302157)\u001b[0m \n",
      "  9%|▉         | 3/33 [00:00<00:06,  4.82it/s]\u001b[A\n"
     ]
    },
    {
     "name": "stdout",
     "output_type": "stream",
     "text": [
      "== Status ==\n",
      "Current time: 2023-03-05 20:32:31 (running for 00:05:57.35)\n",
      "Memory usage on this node: 26.2/251.7 GiB \n",
      "Using FIFO scheduling algorithm.\n",
      "Resources requested: 64.0/64 CPUs, 1.0/1 GPUs, 0.0/147.5 GiB heap, 0.0/67.2 GiB objects (0.0/1.0 accelerator_type:RTX)\n",
      "Result logdir: /home/922201615/ray_results/_objective_2023-03-05_20-26-34\n",
      "Number of trials: 1/1 (1 RUNNING)\n",
      "+------------------------+----------+----------------------+-----------------+---------------------+----------------+\n",
      "| Trial name             | status   | loc                  |   learning_rate | lr_scheduler_type   |   warmup_ratio |\n",
      "|------------------------+----------+----------------------+-----------------+---------------------+----------------|\n",
      "| _objective_13ff3_00000 | RUNNING  | 130.212.82.53:302157 |     5.61152e-06 | linear              |       0.036687 |\n",
      "+------------------------+----------+----------------------+-----------------+---------------------+----------------+\n",
      "\n",
      "\n"
     ]
    },
    {
     "name": "stderr",
     "output_type": "stream",
     "text": [
      "\u001b[2m\u001b[36m(_objective pid=302157)\u001b[0m \n",
      " 12%|█▏        | 4/33 [00:00<00:06,  4.18it/s]\u001b[A\n",
      "\u001b[2m\u001b[36m(_objective pid=302157)\u001b[0m \n",
      " 15%|█▌        | 5/33 [00:04<00:38,  1.39s/it]\u001b[A\n",
      "\u001b[2m\u001b[36m(_objective pid=302157)\u001b[0m \n",
      " 18%|█▊        | 6/33 [00:04<00:27,  1.03s/it]\u001b[A\n",
      "\u001b[2m\u001b[36m(_objective pid=302157)\u001b[0m \n",
      " 21%|██        | 7/33 [00:05<00:20,  1.27it/s]\u001b[A\n",
      "\u001b[2m\u001b[36m(_objective pid=302157)\u001b[0m \n",
      " 24%|██▍       | 8/33 [00:05<00:15,  1.58it/s]\u001b[A\n"
     ]
    },
    {
     "name": "stdout",
     "output_type": "stream",
     "text": [
      "== Status ==\n",
      "Current time: 2023-03-05 20:32:36 (running for 00:06:02.35)\n",
      "Memory usage on this node: 25.2/251.7 GiB \n",
      "Using FIFO scheduling algorithm.\n",
      "Resources requested: 64.0/64 CPUs, 1.0/1 GPUs, 0.0/147.5 GiB heap, 0.0/67.2 GiB objects (0.0/1.0 accelerator_type:RTX)\n",
      "Result logdir: /home/922201615/ray_results/_objective_2023-03-05_20-26-34\n",
      "Number of trials: 1/1 (1 RUNNING)\n",
      "+------------------------+----------+----------------------+-----------------+---------------------+----------------+\n",
      "| Trial name             | status   | loc                  |   learning_rate | lr_scheduler_type   |   warmup_ratio |\n",
      "|------------------------+----------+----------------------+-----------------+---------------------+----------------|\n",
      "| _objective_13ff3_00000 | RUNNING  | 130.212.82.53:302157 |     5.61152e-06 | linear              |       0.036687 |\n",
      "+------------------------+----------+----------------------+-----------------+---------------------+----------------+\n",
      "\n",
      "\n"
     ]
    },
    {
     "name": "stderr",
     "output_type": "stream",
     "text": [
      "\u001b[2m\u001b[36m(_objective pid=302157)\u001b[0m \n",
      " 27%|██▋       | 9/33 [00:07<00:30,  1.25s/it]\u001b[A\n",
      "\u001b[2m\u001b[36m(_objective pid=302157)\u001b[0m \n",
      " 30%|███       | 10/33 [00:08<00:22,  1.04it/s]\u001b[A\n",
      "\u001b[2m\u001b[36m(_objective pid=302157)\u001b[0m \n",
      " 33%|███▎      | 11/33 [00:08<00:16,  1.32it/s]\u001b[A\n",
      "\u001b[2m\u001b[36m(_objective pid=302157)\u001b[0m \n",
      " 36%|███▋      | 12/33 [00:09<00:16,  1.26it/s]\u001b[A\n"
     ]
    },
    {
     "name": "stdout",
     "output_type": "stream",
     "text": [
      "== Status ==\n",
      "Current time: 2023-03-05 20:32:41 (running for 00:06:07.36)\n",
      "Memory usage on this node: 26.1/251.7 GiB \n",
      "Using FIFO scheduling algorithm.\n",
      "Resources requested: 64.0/64 CPUs, 1.0/1 GPUs, 0.0/147.5 GiB heap, 0.0/67.2 GiB objects (0.0/1.0 accelerator_type:RTX)\n",
      "Result logdir: /home/922201615/ray_results/_objective_2023-03-05_20-26-34\n",
      "Number of trials: 1/1 (1 RUNNING)\n",
      "+------------------------+----------+----------------------+-----------------+---------------------+----------------+\n",
      "| Trial name             | status   | loc                  |   learning_rate | lr_scheduler_type   |   warmup_ratio |\n",
      "|------------------------+----------+----------------------+-----------------+---------------------+----------------|\n",
      "| _objective_13ff3_00000 | RUNNING  | 130.212.82.53:302157 |     5.61152e-06 | linear              |       0.036687 |\n",
      "+------------------------+----------+----------------------+-----------------+---------------------+----------------+\n",
      "\n",
      "\n"
     ]
    },
    {
     "name": "stderr",
     "output_type": "stream",
     "text": [
      "\u001b[2m\u001b[36m(_objective pid=302157)\u001b[0m \n",
      " 39%|███▉      | 13/33 [00:13<00:37,  1.88s/it]\u001b[A\n",
      "\u001b[2m\u001b[36m(_objective pid=302157)\u001b[0m \n",
      " 42%|████▏     | 14/33 [00:14<00:26,  1.40s/it]\u001b[A\n",
      "\u001b[2m\u001b[36m(_objective pid=302157)\u001b[0m \n",
      " 45%|████▌     | 15/33 [00:14<00:19,  1.07s/it]\u001b[A\n",
      "\u001b[2m\u001b[36m(_objective pid=302157)\u001b[0m \n",
      " 48%|████▊     | 16/33 [00:14<00:14,  1.20it/s]\u001b[A\n"
     ]
    },
    {
     "name": "stdout",
     "output_type": "stream",
     "text": [
      "== Status ==\n",
      "Current time: 2023-03-05 20:32:46 (running for 00:06:12.36)\n",
      "Memory usage on this node: 26.1/251.7 GiB \n",
      "Using FIFO scheduling algorithm.\n",
      "Resources requested: 64.0/64 CPUs, 1.0/1 GPUs, 0.0/147.5 GiB heap, 0.0/67.2 GiB objects (0.0/1.0 accelerator_type:RTX)\n",
      "Result logdir: /home/922201615/ray_results/_objective_2023-03-05_20-26-34\n",
      "Number of trials: 1/1 (1 RUNNING)\n",
      "+------------------------+----------+----------------------+-----------------+---------------------+----------------+\n",
      "| Trial name             | status   | loc                  |   learning_rate | lr_scheduler_type   |   warmup_ratio |\n",
      "|------------------------+----------+----------------------+-----------------+---------------------+----------------|\n",
      "| _objective_13ff3_00000 | RUNNING  | 130.212.82.53:302157 |     5.61152e-06 | linear              |       0.036687 |\n",
      "+------------------------+----------+----------------------+-----------------+---------------------+----------------+\n",
      "\n",
      "\n"
     ]
    },
    {
     "name": "stderr",
     "output_type": "stream",
     "text": [
      "\u001b[2m\u001b[36m(_objective pid=302157)\u001b[0m \n",
      " 52%|█████▏    | 17/33 [00:18<00:28,  1.78s/it]\u001b[A\n",
      "\u001b[2m\u001b[36m(_objective pid=302157)\u001b[0m \n",
      " 55%|█████▍    | 18/33 [00:18<00:20,  1.34s/it]\u001b[A\n",
      "\u001b[2m\u001b[36m(_objective pid=302157)\u001b[0m \n",
      " 58%|█████▊    | 19/33 [00:19<00:14,  1.02s/it]\u001b[A\n",
      "\u001b[2m\u001b[36m(_objective pid=302157)\u001b[0m \n",
      " 61%|██████    | 20/33 [00:19<00:10,  1.24it/s]\u001b[A\n"
     ]
    },
    {
     "name": "stdout",
     "output_type": "stream",
     "text": [
      "== Status ==\n",
      "Current time: 2023-03-05 20:32:51 (running for 00:06:17.37)\n",
      "Memory usage on this node: 26.1/251.7 GiB \n",
      "Using FIFO scheduling algorithm.\n",
      "Resources requested: 64.0/64 CPUs, 1.0/1 GPUs, 0.0/147.5 GiB heap, 0.0/67.2 GiB objects (0.0/1.0 accelerator_type:RTX)\n",
      "Result logdir: /home/922201615/ray_results/_objective_2023-03-05_20-26-34\n",
      "Number of trials: 1/1 (1 RUNNING)\n",
      "+------------------------+----------+----------------------+-----------------+---------------------+----------------+\n",
      "| Trial name             | status   | loc                  |   learning_rate | lr_scheduler_type   |   warmup_ratio |\n",
      "|------------------------+----------+----------------------+-----------------+---------------------+----------------|\n",
      "| _objective_13ff3_00000 | RUNNING  | 130.212.82.53:302157 |     5.61152e-06 | linear              |       0.036687 |\n",
      "+------------------------+----------+----------------------+-----------------+---------------------+----------------+\n",
      "\n",
      "\n"
     ]
    },
    {
     "name": "stderr",
     "output_type": "stream",
     "text": [
      "\u001b[2m\u001b[36m(_objective pid=302157)\u001b[0m \n",
      " 64%|██████▎   | 21/33 [00:23<00:20,  1.68s/it]\u001b[A\n",
      "\u001b[2m\u001b[36m(_objective pid=302157)\u001b[0m \n",
      " 67%|██████▋   | 22/33 [00:23<00:13,  1.26s/it]\u001b[A\n",
      "\u001b[2m\u001b[36m(_objective pid=302157)\u001b[0m \n",
      " 70%|██████▉   | 23/33 [00:23<00:09,  1.03it/s]\u001b[A\n",
      "\u001b[2m\u001b[36m(_objective pid=302157)\u001b[0m \n",
      " 73%|███████▎  | 24/33 [00:24<00:06,  1.30it/s]\u001b[A\n"
     ]
    },
    {
     "name": "stdout",
     "output_type": "stream",
     "text": [
      "== Status ==\n",
      "Current time: 2023-03-05 20:32:57 (running for 00:06:22.37)\n",
      "Memory usage on this node: 25.7/251.7 GiB \n",
      "Using FIFO scheduling algorithm.\n",
      "Resources requested: 64.0/64 CPUs, 1.0/1 GPUs, 0.0/147.5 GiB heap, 0.0/67.2 GiB objects (0.0/1.0 accelerator_type:RTX)\n",
      "Result logdir: /home/922201615/ray_results/_objective_2023-03-05_20-26-34\n",
      "Number of trials: 1/1 (1 RUNNING)\n",
      "+------------------------+----------+----------------------+-----------------+---------------------+----------------+\n",
      "| Trial name             | status   | loc                  |   learning_rate | lr_scheduler_type   |   warmup_ratio |\n",
      "|------------------------+----------+----------------------+-----------------+---------------------+----------------|\n",
      "| _objective_13ff3_00000 | RUNNING  | 130.212.82.53:302157 |     5.61152e-06 | linear              |       0.036687 |\n",
      "+------------------------+----------+----------------------+-----------------+---------------------+----------------+\n",
      "\n",
      "\n"
     ]
    },
    {
     "name": "stderr",
     "output_type": "stream",
     "text": [
      "\u001b[2m\u001b[36m(_objective pid=302157)\u001b[0m \n",
      " 76%|███████▌  | 25/33 [00:26<00:11,  1.39s/it]\u001b[A\n",
      "\u001b[2m\u001b[36m(_objective pid=302157)\u001b[0m \n",
      " 79%|███████▉  | 26/33 [00:27<00:07,  1.06s/it]\u001b[A\n",
      "\u001b[2m\u001b[36m(_objective pid=302157)\u001b[0m \n",
      " 82%|████████▏ | 27/33 [00:27<00:04,  1.20it/s]\u001b[A\n",
      "\u001b[2m\u001b[36m(_objective pid=302157)\u001b[0m \n",
      " 85%|████████▍ | 28/33 [00:27<00:03,  1.49it/s]\u001b[A\n"
     ]
    },
    {
     "name": "stdout",
     "output_type": "stream",
     "text": [
      "== Status ==\n",
      "Current time: 2023-03-05 20:33:02 (running for 00:06:27.37)\n",
      "Memory usage on this node: 25.1/251.7 GiB \n",
      "Using FIFO scheduling algorithm.\n",
      "Resources requested: 64.0/64 CPUs, 1.0/1 GPUs, 0.0/147.5 GiB heap, 0.0/67.2 GiB objects (0.0/1.0 accelerator_type:RTX)\n",
      "Result logdir: /home/922201615/ray_results/_objective_2023-03-05_20-26-34\n",
      "Number of trials: 1/1 (1 RUNNING)\n",
      "+------------------------+----------+----------------------+-----------------+---------------------+----------------+\n",
      "| Trial name             | status   | loc                  |   learning_rate | lr_scheduler_type   |   warmup_ratio |\n",
      "|------------------------+----------+----------------------+-----------------+---------------------+----------------|\n",
      "| _objective_13ff3_00000 | RUNNING  | 130.212.82.53:302157 |     5.61152e-06 | linear              |       0.036687 |\n",
      "+------------------------+----------+----------------------+-----------------+---------------------+----------------+\n",
      "\n",
      "\n"
     ]
    },
    {
     "name": "stderr",
     "output_type": "stream",
     "text": [
      "\u001b[2m\u001b[36m(_objective pid=302157)\u001b[0m \n",
      " 88%|████████▊ | 29/33 [00:30<00:05,  1.33s/it]\u001b[A\n",
      "\u001b[2m\u001b[36m(_objective pid=302157)\u001b[0m \n",
      " 91%|█████████ | 30/33 [00:31<00:03,  1.02s/it]\u001b[A\n",
      "\u001b[2m\u001b[36m(_objective pid=302157)\u001b[0m \n",
      " 94%|█████████▍| 31/33 [00:31<00:01,  1.25it/s]\u001b[A\n",
      "\u001b[2m\u001b[36m(_objective pid=302157)\u001b[0m \n",
      " 97%|█████████▋| 32/33 [00:31<00:00,  1.54it/s]\u001b[A\n",
      "\u001b[2m\u001b[36m(_objective pid=302157)\u001b[0m \n",
      "100%|██████████| 33/33 [00:33<00:00,  1.07s/it]\u001b[A\n"
     ]
    },
    {
     "data": {
      "text/html": [
       "<div class=\"trialProgress\">\n",
       "  <h3>Trial Progress</h3>\n",
       "  <table>\n",
       "<thead>\n",
       "<tr><th>Trial name            </th><th>date               </th><th>done  </th><th>episodes_total  </th><th style=\"text-align: right;\">  epoch</th><th style=\"text-align: right;\">  eval_loss</th><th style=\"text-align: right;\">  eval_runtime</th><th style=\"text-align: right;\">  eval_samples_per_second</th><th style=\"text-align: right;\">  eval_steps_per_second</th><th>experiment_id                   </th><th>experiment_tag                                                     </th><th>hostname      </th><th style=\"text-align: right;\">  iterations_since_restore</th><th>node_ip      </th><th style=\"text-align: right;\">  objective</th><th style=\"text-align: right;\">   pid</th><th style=\"text-align: right;\">  time_since_restore</th><th style=\"text-align: right;\">  time_this_iter_s</th><th style=\"text-align: right;\">  time_total_s</th><th style=\"text-align: right;\">  timestamp</th><th style=\"text-align: right;\">  timesteps_since_restore</th><th>timesteps_total  </th><th style=\"text-align: right;\">  training_iteration</th><th>trial_id   </th><th style=\"text-align: right;\">  warmup_time</th></tr>\n",
       "</thead>\n",
       "<tbody>\n",
       "<tr><td>_objective_13ff3_00000</td><td>2023-03-05_20-46-13</td><td>True  </td><td>                </td><td style=\"text-align: right;\">      3</td><td style=\"text-align: right;\">  0.0762246</td><td style=\"text-align: right;\">       39.7849</td><td style=\"text-align: right;\">                    3.318</td><td style=\"text-align: right;\">                  0.829</td><td>28a45b9732634bad958284faef9a3d71</td><td>0_learning_rate=0.0000,lr_scheduler_type=linear,warmup_ratio=0.0367</td><td>srv-hss-157-53</td><td style=\"text-align: right;\">                         3</td><td>130.212.82.53</td><td style=\"text-align: right;\">  0.0762246</td><td style=\"text-align: right;\">302157</td><td style=\"text-align: right;\">             1176.52</td><td style=\"text-align: right;\">           397.867</td><td style=\"text-align: right;\">       1176.52</td><td style=\"text-align: right;\"> 1678077973</td><td style=\"text-align: right;\">                        0</td><td>                 </td><td style=\"text-align: right;\">                   3</td><td>13ff3_00000</td><td style=\"text-align: right;\">   0.00453877</td></tr>\n",
       "</tbody>\n",
       "</table>\n",
       "</div>\n",
       "<style>\n",
       ".trialProgress {\n",
       "  display: flex;\n",
       "  flex-direction: column;\n",
       "  color: var(--jp-ui-font-color1);\n",
       "}\n",
       ".trialProgress h3 {\n",
       "  font-weight: bold;\n",
       "}\n",
       ".trialProgress td {\n",
       "  white-space: nowrap;\n",
       "}\n",
       "</style>\n"
      ],
      "text/plain": [
       "<IPython.core.display.HTML object>"
      ]
     },
     "metadata": {},
     "output_type": "display_data"
    },
    {
     "name": "stderr",
     "output_type": "stream",
     "text": [
      "                                                 \n",
      " 33%|███▎      | 286/858 [06:22<09:44,  1.02s/it]\n",
      "100%|██████████| 33/33 [00:33<00:00,  1.07s/it]\u001b[A\n",
      "                                               \u001b[A\n"
     ]
    },
    {
     "name": "stdout",
     "output_type": "stream",
     "text": [
      "\u001b[2m\u001b[36m(_objective pid=302157)\u001b[0m {'eval_loss': 0.07862343639135361, 'eval_runtime': 39.4301, 'eval_samples_per_second': 3.348, 'eval_steps_per_second': 0.837, 'epoch': 1.0}\n",
      "== Status ==\n",
      "Current time: 2023-03-05 20:33:10 (running for 00:06:35.40)\n",
      "Memory usage on this node: 26.6/251.7 GiB \n",
      "Using FIFO scheduling algorithm.\n",
      "Resources requested: 64.0/64 CPUs, 1.0/1 GPUs, 0.0/147.5 GiB heap, 0.0/67.2 GiB objects (0.0/1.0 accelerator_type:RTX)\n",
      "Result logdir: /home/922201615/ray_results/_objective_2023-03-05_20-26-34\n",
      "Number of trials: 1/1 (1 RUNNING)\n",
      "+------------------------+----------+----------------------+-----------------+---------------------+----------------+-------------+\n",
      "| Trial name             | status   | loc                  |   learning_rate | lr_scheduler_type   |   warmup_ratio |   objective |\n",
      "|------------------------+----------+----------------------+-----------------+---------------------+----------------+-------------|\n",
      "| _objective_13ff3_00000 | RUNNING  | 130.212.82.53:302157 |     5.61152e-06 | linear              |       0.036687 |   0.0786234 |\n",
      "+------------------------+----------+----------------------+-----------------+---------------------+----------------+-------------+\n",
      "\n",
      "\n"
     ]
    },
    {
     "name": "stderr",
     "output_type": "stream",
     "text": [
      " 33%|███▎      | 287/858 [06:30<2:20:53, 14.81s/it]\n",
      " 34%|███▎      | 288/858 [06:31<1:41:09, 10.65s/it]\n",
      " 34%|███▎      | 289/858 [06:32<1:13:23,  7.74s/it]\n"
     ]
    },
    {
     "name": "stdout",
     "output_type": "stream",
     "text": [
      "== Status ==\n",
      "Current time: 2023-03-05 20:33:15 (running for 00:06:40.41)\n",
      "Memory usage on this node: 26.4/251.7 GiB \n",
      "Using FIFO scheduling algorithm.\n",
      "Resources requested: 64.0/64 CPUs, 1.0/1 GPUs, 0.0/147.5 GiB heap, 0.0/67.2 GiB objects (0.0/1.0 accelerator_type:RTX)\n",
      "Result logdir: /home/922201615/ray_results/_objective_2023-03-05_20-26-34\n",
      "Number of trials: 1/1 (1 RUNNING)\n",
      "+------------------------+----------+----------------------+-----------------+---------------------+----------------+-------------+\n",
      "| Trial name             | status   | loc                  |   learning_rate | lr_scheduler_type   |   warmup_ratio |   objective |\n",
      "|------------------------+----------+----------------------+-----------------+---------------------+----------------+-------------|\n",
      "| _objective_13ff3_00000 | RUNNING  | 130.212.82.53:302157 |     5.61152e-06 | linear              |       0.036687 |   0.0786234 |\n",
      "+------------------------+----------+----------------------+-----------------+---------------------+----------------+-------------+\n",
      "\n",
      "\n"
     ]
    },
    {
     "name": "stderr",
     "output_type": "stream",
     "text": [
      " 34%|███▍      | 290/858 [06:33<53:59,  5.70s/it]  \n",
      " 34%|███▍      | 291/858 [06:34<40:31,  4.29s/it]\n",
      " 34%|███▍      | 292/858 [06:35<31:01,  3.29s/it]\n",
      " 34%|███▍      | 293/858 [06:36<24:21,  2.59s/it]\n",
      " 34%|███▍      | 294/858 [06:37<19:42,  2.10s/it]\n"
     ]
    },
    {
     "name": "stdout",
     "output_type": "stream",
     "text": [
      "== Status ==\n",
      "Current time: 2023-03-05 20:33:20 (running for 00:06:45.41)\n",
      "Memory usage on this node: 26.0/251.7 GiB \n",
      "Using FIFO scheduling algorithm.\n",
      "Resources requested: 64.0/64 CPUs, 1.0/1 GPUs, 0.0/147.5 GiB heap, 0.0/67.2 GiB objects (0.0/1.0 accelerator_type:RTX)\n",
      "Result logdir: /home/922201615/ray_results/_objective_2023-03-05_20-26-34\n",
      "Number of trials: 1/1 (1 RUNNING)\n",
      "+------------------------+----------+----------------------+-----------------+---------------------+----------------+-------------+\n",
      "| Trial name             | status   | loc                  |   learning_rate | lr_scheduler_type   |   warmup_ratio |   objective |\n",
      "|------------------------+----------+----------------------+-----------------+---------------------+----------------+-------------|\n",
      "| _objective_13ff3_00000 | RUNNING  | 130.212.82.53:302157 |     5.61152e-06 | linear              |       0.036687 |   0.0786234 |\n",
      "+------------------------+----------+----------------------+-----------------+---------------------+----------------+-------------+\n",
      "\n",
      "\n"
     ]
    },
    {
     "name": "stderr",
     "output_type": "stream",
     "text": [
      " 34%|███▍      | 295/858 [06:39<21:45,  2.32s/it]\n",
      " 34%|███▍      | 296/858 [06:40<17:52,  1.91s/it]\n",
      " 35%|███▍      | 297/858 [06:41<15:09,  1.62s/it]\n",
      " 35%|███▍      | 298/858 [06:42<13:15,  1.42s/it]\n"
     ]
    },
    {
     "name": "stdout",
     "output_type": "stream",
     "text": [
      "== Status ==\n",
      "Current time: 2023-03-05 20:33:25 (running for 00:06:50.41)\n",
      "Memory usage on this node: 26.1/251.7 GiB \n",
      "Using FIFO scheduling algorithm.\n",
      "Resources requested: 64.0/64 CPUs, 1.0/1 GPUs, 0.0/147.5 GiB heap, 0.0/67.2 GiB objects (0.0/1.0 accelerator_type:RTX)\n",
      "Result logdir: /home/922201615/ray_results/_objective_2023-03-05_20-26-34\n",
      "Number of trials: 1/1 (1 RUNNING)\n",
      "+------------------------+----------+----------------------+-----------------+---------------------+----------------+-------------+\n",
      "| Trial name             | status   | loc                  |   learning_rate | lr_scheduler_type   |   warmup_ratio |   objective |\n",
      "|------------------------+----------+----------------------+-----------------+---------------------+----------------+-------------|\n",
      "| _objective_13ff3_00000 | RUNNING  | 130.212.82.53:302157 |     5.61152e-06 | linear              |       0.036687 |   0.0786234 |\n",
      "+------------------------+----------+----------------------+-----------------+---------------------+----------------+-------------+\n",
      "\n",
      "\n"
     ]
    },
    {
     "name": "stderr",
     "output_type": "stream",
     "text": [
      " 35%|███▍      | 299/858 [06:44<14:43,  1.58s/it]\n",
      " 35%|███▍      | 300/858 [06:45<12:56,  1.39s/it]\n",
      " 35%|███▌      | 301/858 [06:46<11:41,  1.26s/it]\n",
      " 35%|███▌      | 302/858 [06:47<10:49,  1.17s/it]\n"
     ]
    },
    {
     "name": "stdout",
     "output_type": "stream",
     "text": [
      "== Status ==\n",
      "Current time: 2023-03-05 20:33:30 (running for 00:06:55.42)\n",
      "Memory usage on this node: 25.8/251.7 GiB \n",
      "Using FIFO scheduling algorithm.\n",
      "Resources requested: 64.0/64 CPUs, 1.0/1 GPUs, 0.0/147.5 GiB heap, 0.0/67.2 GiB objects (0.0/1.0 accelerator_type:RTX)\n",
      "Result logdir: /home/922201615/ray_results/_objective_2023-03-05_20-26-34\n",
      "Number of trials: 1/1 (1 RUNNING)\n",
      "+------------------------+----------+----------------------+-----------------+---------------------+----------------+-------------+\n",
      "| Trial name             | status   | loc                  |   learning_rate | lr_scheduler_type   |   warmup_ratio |   objective |\n",
      "|------------------------+----------+----------------------+-----------------+---------------------+----------------+-------------|\n",
      "| _objective_13ff3_00000 | RUNNING  | 130.212.82.53:302157 |     5.61152e-06 | linear              |       0.036687 |   0.0786234 |\n",
      "+------------------------+----------+----------------------+-----------------+---------------------+----------------+-------------+\n",
      "\n",
      "\n"
     ]
    },
    {
     "name": "stderr",
     "output_type": "stream",
     "text": [
      " 35%|███▌      | 303/858 [06:49<13:09,  1.42s/it]\n",
      " 35%|███▌      | 304/858 [06:50<11:49,  1.28s/it]\n",
      " 36%|███▌      | 305/858 [06:51<10:53,  1.18s/it]\n",
      " 36%|███▌      | 306/858 [06:52<10:14,  1.11s/it]\n"
     ]
    },
    {
     "name": "stdout",
     "output_type": "stream",
     "text": [
      "== Status ==\n",
      "Current time: 2023-03-05 20:33:35 (running for 00:07:00.42)\n",
      "Memory usage on this node: 26.1/251.7 GiB \n",
      "Using FIFO scheduling algorithm.\n",
      "Resources requested: 64.0/64 CPUs, 1.0/1 GPUs, 0.0/147.5 GiB heap, 0.0/67.2 GiB objects (0.0/1.0 accelerator_type:RTX)\n",
      "Result logdir: /home/922201615/ray_results/_objective_2023-03-05_20-26-34\n",
      "Number of trials: 1/1 (1 RUNNING)\n",
      "+------------------------+----------+----------------------+-----------------+---------------------+----------------+-------------+\n",
      "| Trial name             | status   | loc                  |   learning_rate | lr_scheduler_type   |   warmup_ratio |   objective |\n",
      "|------------------------+----------+----------------------+-----------------+---------------------+----------------+-------------|\n",
      "| _objective_13ff3_00000 | RUNNING  | 130.212.82.53:302157 |     5.61152e-06 | linear              |       0.036687 |   0.0786234 |\n",
      "+------------------------+----------+----------------------+-----------------+---------------------+----------------+-------------+\n",
      "\n",
      "\n"
     ]
    },
    {
     "name": "stderr",
     "output_type": "stream",
     "text": [
      " 36%|███▌      | 307/858 [06:54<12:23,  1.35s/it]\n",
      " 36%|███▌      | 308/858 [06:55<11:16,  1.23s/it]\n",
      " 36%|███▌      | 309/858 [06:56<10:29,  1.15s/it]\n",
      " 36%|███▌      | 310/858 [06:57<09:55,  1.09s/it]\n"
     ]
    },
    {
     "name": "stdout",
     "output_type": "stream",
     "text": [
      "== Status ==\n",
      "Current time: 2023-03-05 20:33:40 (running for 00:07:05.42)\n",
      "Memory usage on this node: 26.5/251.7 GiB \n",
      "Using FIFO scheduling algorithm.\n",
      "Resources requested: 64.0/64 CPUs, 1.0/1 GPUs, 0.0/147.5 GiB heap, 0.0/67.2 GiB objects (0.0/1.0 accelerator_type:RTX)\n",
      "Result logdir: /home/922201615/ray_results/_objective_2023-03-05_20-26-34\n",
      "Number of trials: 1/1 (1 RUNNING)\n",
      "+------------------------+----------+----------------------+-----------------+---------------------+----------------+-------------+\n",
      "| Trial name             | status   | loc                  |   learning_rate | lr_scheduler_type   |   warmup_ratio |   objective |\n",
      "|------------------------+----------+----------------------+-----------------+---------------------+----------------+-------------|\n",
      "| _objective_13ff3_00000 | RUNNING  | 130.212.82.53:302157 |     5.61152e-06 | linear              |       0.036687 |   0.0786234 |\n",
      "+------------------------+----------+----------------------+-----------------+---------------------+----------------+-------------+\n",
      "\n",
      "\n"
     ]
    },
    {
     "name": "stderr",
     "output_type": "stream",
     "text": [
      " 36%|███▌      | 311/858 [06:58<11:57,  1.31s/it]\n",
      " 36%|███▋      | 312/858 [06:59<10:57,  1.20s/it]\n",
      " 36%|███▋      | 313/858 [07:00<10:14,  1.13s/it]\n",
      " 37%|███▋      | 314/858 [07:01<09:44,  1.07s/it]\n"
     ]
    },
    {
     "name": "stdout",
     "output_type": "stream",
     "text": [
      "== Status ==\n",
      "Current time: 2023-03-05 20:33:45 (running for 00:07:10.43)\n",
      "Memory usage on this node: 26.5/251.7 GiB \n",
      "Using FIFO scheduling algorithm.\n",
      "Resources requested: 64.0/64 CPUs, 1.0/1 GPUs, 0.0/147.5 GiB heap, 0.0/67.2 GiB objects (0.0/1.0 accelerator_type:RTX)\n",
      "Result logdir: /home/922201615/ray_results/_objective_2023-03-05_20-26-34\n",
      "Number of trials: 1/1 (1 RUNNING)\n",
      "+------------------------+----------+----------------------+-----------------+---------------------+----------------+-------------+\n",
      "| Trial name             | status   | loc                  |   learning_rate | lr_scheduler_type   |   warmup_ratio |   objective |\n",
      "|------------------------+----------+----------------------+-----------------+---------------------+----------------+-------------|\n",
      "| _objective_13ff3_00000 | RUNNING  | 130.212.82.53:302157 |     5.61152e-06 | linear              |       0.036687 |   0.0786234 |\n",
      "+------------------------+----------+----------------------+-----------------+---------------------+----------------+-------------+\n",
      "\n",
      "\n"
     ]
    },
    {
     "name": "stderr",
     "output_type": "stream",
     "text": [
      " 37%|███▋      | 315/858 [07:03<12:10,  1.35s/it]\n",
      " 37%|███▋      | 316/858 [07:04<11:05,  1.23s/it]\n",
      " 37%|███▋      | 317/858 [07:05<10:19,  1.14s/it]\n",
      " 37%|███▋      | 318/858 [07:06<09:46,  1.09s/it]\n"
     ]
    },
    {
     "name": "stdout",
     "output_type": "stream",
     "text": [
      "== Status ==\n",
      "Current time: 2023-03-05 20:33:50 (running for 00:07:15.43)\n",
      "Memory usage on this node: 25.9/251.7 GiB \n",
      "Using FIFO scheduling algorithm.\n",
      "Resources requested: 64.0/64 CPUs, 1.0/1 GPUs, 0.0/147.5 GiB heap, 0.0/67.2 GiB objects (0.0/1.0 accelerator_type:RTX)\n",
      "Result logdir: /home/922201615/ray_results/_objective_2023-03-05_20-26-34\n",
      "Number of trials: 1/1 (1 RUNNING)\n",
      "+------------------------+----------+----------------------+-----------------+---------------------+----------------+-------------+\n",
      "| Trial name             | status   | loc                  |   learning_rate | lr_scheduler_type   |   warmup_ratio |   objective |\n",
      "|------------------------+----------+----------------------+-----------------+---------------------+----------------+-------------|\n",
      "| _objective_13ff3_00000 | RUNNING  | 130.212.82.53:302157 |     5.61152e-06 | linear              |       0.036687 |   0.0786234 |\n",
      "+------------------------+----------+----------------------+-----------------+---------------------+----------------+-------------+\n",
      "\n",
      "\n"
     ]
    },
    {
     "name": "stderr",
     "output_type": "stream",
     "text": [
      " 37%|███▋      | 319/858 [07:08<11:55,  1.33s/it]\n",
      " 37%|███▋      | 320/858 [07:09<10:53,  1.21s/it]\n",
      " 37%|███▋      | 321/858 [07:10<10:09,  1.13s/it]\n",
      " 38%|███▊      | 322/858 [07:11<09:38,  1.08s/it]\n"
     ]
    },
    {
     "name": "stdout",
     "output_type": "stream",
     "text": [
      "== Status ==\n",
      "Current time: 2023-03-05 20:33:55 (running for 00:07:20.44)\n",
      "Memory usage on this node: 25.6/251.7 GiB \n",
      "Using FIFO scheduling algorithm.\n",
      "Resources requested: 64.0/64 CPUs, 1.0/1 GPUs, 0.0/147.5 GiB heap, 0.0/67.2 GiB objects (0.0/1.0 accelerator_type:RTX)\n",
      "Result logdir: /home/922201615/ray_results/_objective_2023-03-05_20-26-34\n",
      "Number of trials: 1/1 (1 RUNNING)\n",
      "+------------------------+----------+----------------------+-----------------+---------------------+----------------+-------------+\n",
      "| Trial name             | status   | loc                  |   learning_rate | lr_scheduler_type   |   warmup_ratio |   objective |\n",
      "|------------------------+----------+----------------------+-----------------+---------------------+----------------+-------------|\n",
      "| _objective_13ff3_00000 | RUNNING  | 130.212.82.53:302157 |     5.61152e-06 | linear              |       0.036687 |   0.0786234 |\n",
      "+------------------------+----------+----------------------+-----------------+---------------------+----------------+-------------+\n",
      "\n",
      "\n"
     ]
    },
    {
     "name": "stderr",
     "output_type": "stream",
     "text": [
      " 38%|███▊      | 323/858 [07:13<11:35,  1.30s/it]\n",
      " 38%|███▊      | 324/858 [07:14<10:38,  1.20s/it]\n",
      " 38%|███▊      | 325/858 [07:15<09:57,  1.12s/it]\n",
      " 38%|███▊      | 326/858 [07:16<09:29,  1.07s/it]\n",
      " 38%|███▊      | 327/858 [07:17<11:24,  1.29s/it]\n"
     ]
    },
    {
     "name": "stdout",
     "output_type": "stream",
     "text": [
      "== Status ==\n",
      "Current time: 2023-03-05 20:34:00 (running for 00:07:25.44)\n",
      "Memory usage on this node: 25.8/251.7 GiB \n",
      "Using FIFO scheduling algorithm.\n",
      "Resources requested: 64.0/64 CPUs, 1.0/1 GPUs, 0.0/147.5 GiB heap, 0.0/67.2 GiB objects (0.0/1.0 accelerator_type:RTX)\n",
      "Result logdir: /home/922201615/ray_results/_objective_2023-03-05_20-26-34\n",
      "Number of trials: 1/1 (1 RUNNING)\n",
      "+------------------------+----------+----------------------+-----------------+---------------------+----------------+-------------+\n",
      "| Trial name             | status   | loc                  |   learning_rate | lr_scheduler_type   |   warmup_ratio |   objective |\n",
      "|------------------------+----------+----------------------+-----------------+---------------------+----------------+-------------|\n",
      "| _objective_13ff3_00000 | RUNNING  | 130.212.82.53:302157 |     5.61152e-06 | linear              |       0.036687 |   0.0786234 |\n",
      "+------------------------+----------+----------------------+-----------------+---------------------+----------------+-------------+\n",
      "\n",
      "\n"
     ]
    },
    {
     "name": "stderr",
     "output_type": "stream",
     "text": [
      " 38%|███▊      | 328/858 [07:18<10:29,  1.19s/it]\n",
      " 38%|███▊      | 329/858 [07:19<09:50,  1.12s/it]\n",
      " 38%|███▊      | 330/858 [07:20<09:22,  1.07s/it]\n",
      " 39%|███▊      | 331/858 [07:22<11:24,  1.30s/it]\n"
     ]
    },
    {
     "name": "stdout",
     "output_type": "stream",
     "text": [
      "== Status ==\n",
      "Current time: 2023-03-05 20:34:05 (running for 00:07:30.44)\n",
      "Memory usage on this node: 25.6/251.7 GiB \n",
      "Using FIFO scheduling algorithm.\n",
      "Resources requested: 64.0/64 CPUs, 1.0/1 GPUs, 0.0/147.5 GiB heap, 0.0/67.2 GiB objects (0.0/1.0 accelerator_type:RTX)\n",
      "Result logdir: /home/922201615/ray_results/_objective_2023-03-05_20-26-34\n",
      "Number of trials: 1/1 (1 RUNNING)\n",
      "+------------------------+----------+----------------------+-----------------+---------------------+----------------+-------------+\n",
      "| Trial name             | status   | loc                  |   learning_rate | lr_scheduler_type   |   warmup_ratio |   objective |\n",
      "|------------------------+----------+----------------------+-----------------+---------------------+----------------+-------------|\n",
      "| _objective_13ff3_00000 | RUNNING  | 130.212.82.53:302157 |     5.61152e-06 | linear              |       0.036687 |   0.0786234 |\n",
      "+------------------------+----------+----------------------+-----------------+---------------------+----------------+-------------+\n",
      "\n",
      "\n"
     ]
    },
    {
     "name": "stderr",
     "output_type": "stream",
     "text": [
      " 39%|███▊      | 332/858 [07:23<10:27,  1.19s/it]\n",
      " 39%|███▉      | 333/858 [07:24<09:48,  1.12s/it]\n",
      " 39%|███▉      | 334/858 [07:25<09:20,  1.07s/it]\n",
      " 39%|███▉      | 335/858 [07:27<11:25,  1.31s/it]\n"
     ]
    },
    {
     "name": "stdout",
     "output_type": "stream",
     "text": [
      "== Status ==\n",
      "Current time: 2023-03-05 20:34:10 (running for 00:07:35.45)\n",
      "Memory usage on this node: 25.7/251.7 GiB \n",
      "Using FIFO scheduling algorithm.\n",
      "Resources requested: 64.0/64 CPUs, 1.0/1 GPUs, 0.0/147.5 GiB heap, 0.0/67.2 GiB objects (0.0/1.0 accelerator_type:RTX)\n",
      "Result logdir: /home/922201615/ray_results/_objective_2023-03-05_20-26-34\n",
      "Number of trials: 1/1 (1 RUNNING)\n",
      "+------------------------+----------+----------------------+-----------------+---------------------+----------------+-------------+\n",
      "| Trial name             | status   | loc                  |   learning_rate | lr_scheduler_type   |   warmup_ratio |   objective |\n",
      "|------------------------+----------+----------------------+-----------------+---------------------+----------------+-------------|\n",
      "| _objective_13ff3_00000 | RUNNING  | 130.212.82.53:302157 |     5.61152e-06 | linear              |       0.036687 |   0.0786234 |\n",
      "+------------------------+----------+----------------------+-----------------+---------------------+----------------+-------------+\n",
      "\n",
      "\n"
     ]
    },
    {
     "name": "stderr",
     "output_type": "stream",
     "text": [
      " 39%|███▉      | 336/858 [07:28<10:28,  1.20s/it]\n",
      " 39%|███▉      | 337/858 [07:29<09:47,  1.13s/it]\n",
      " 39%|███▉      | 338/858 [07:30<09:18,  1.07s/it]\n",
      " 40%|███▉      | 339/858 [07:32<11:24,  1.32s/it]\n"
     ]
    },
    {
     "name": "stdout",
     "output_type": "stream",
     "text": [
      "== Status ==\n",
      "Current time: 2023-03-05 20:34:15 (running for 00:07:40.45)\n",
      "Memory usage on this node: 26.0/251.7 GiB \n",
      "Using FIFO scheduling algorithm.\n",
      "Resources requested: 64.0/64 CPUs, 1.0/1 GPUs, 0.0/147.5 GiB heap, 0.0/67.2 GiB objects (0.0/1.0 accelerator_type:RTX)\n",
      "Result logdir: /home/922201615/ray_results/_objective_2023-03-05_20-26-34\n",
      "Number of trials: 1/1 (1 RUNNING)\n",
      "+------------------------+----------+----------------------+-----------------+---------------------+----------------+-------------+\n",
      "| Trial name             | status   | loc                  |   learning_rate | lr_scheduler_type   |   warmup_ratio |   objective |\n",
      "|------------------------+----------+----------------------+-----------------+---------------------+----------------+-------------|\n",
      "| _objective_13ff3_00000 | RUNNING  | 130.212.82.53:302157 |     5.61152e-06 | linear              |       0.036687 |   0.0786234 |\n",
      "+------------------------+----------+----------------------+-----------------+---------------------+----------------+-------------+\n",
      "\n",
      "\n"
     ]
    },
    {
     "name": "stderr",
     "output_type": "stream",
     "text": [
      " 40%|███▉      | 340/858 [07:33<11:19,  1.31s/it]\n",
      " 40%|███▉      | 341/858 [07:34<10:21,  1.20s/it]\n",
      " 40%|███▉      | 342/858 [07:35<09:41,  1.13s/it]\n",
      " 40%|███▉      | 343/858 [07:36<10:52,  1.27s/it]\n"
     ]
    },
    {
     "name": "stdout",
     "output_type": "stream",
     "text": [
      "== Status ==\n",
      "Current time: 2023-03-05 20:34:20 (running for 00:07:45.45)\n",
      "Memory usage on this node: 26.3/251.7 GiB \n",
      "Using FIFO scheduling algorithm.\n",
      "Resources requested: 64.0/64 CPUs, 1.0/1 GPUs, 0.0/147.5 GiB heap, 0.0/67.2 GiB objects (0.0/1.0 accelerator_type:RTX)\n",
      "Result logdir: /home/922201615/ray_results/_objective_2023-03-05_20-26-34\n",
      "Number of trials: 1/1 (1 RUNNING)\n",
      "+------------------------+----------+----------------------+-----------------+---------------------+----------------+-------------+\n",
      "| Trial name             | status   | loc                  |   learning_rate | lr_scheduler_type   |   warmup_ratio |   objective |\n",
      "|------------------------+----------+----------------------+-----------------+---------------------+----------------+-------------|\n",
      "| _objective_13ff3_00000 | RUNNING  | 130.212.82.53:302157 |     5.61152e-06 | linear              |       0.036687 |   0.0786234 |\n",
      "+------------------------+----------+----------------------+-----------------+---------------------+----------------+-------------+\n",
      "\n",
      "\n"
     ]
    },
    {
     "name": "stderr",
     "output_type": "stream",
     "text": [
      " 40%|████      | 344/858 [07:38<11:43,  1.37s/it]\n",
      " 40%|████      | 345/858 [07:39<10:37,  1.24s/it]\n",
      " 40%|████      | 346/858 [07:40<09:51,  1.16s/it]\n",
      " 40%|████      | 347/858 [07:41<09:59,  1.17s/it]\n"
     ]
    },
    {
     "name": "stdout",
     "output_type": "stream",
     "text": [
      "== Status ==\n",
      "Current time: 2023-03-05 20:34:25 (running for 00:07:50.46)\n",
      "Memory usage on this node: 25.8/251.7 GiB \n",
      "Using FIFO scheduling algorithm.\n",
      "Resources requested: 64.0/64 CPUs, 1.0/1 GPUs, 0.0/147.5 GiB heap, 0.0/67.2 GiB objects (0.0/1.0 accelerator_type:RTX)\n",
      "Result logdir: /home/922201615/ray_results/_objective_2023-03-05_20-26-34\n",
      "Number of trials: 1/1 (1 RUNNING)\n",
      "+------------------------+----------+----------------------+-----------------+---------------------+----------------+-------------+\n",
      "| Trial name             | status   | loc                  |   learning_rate | lr_scheduler_type   |   warmup_ratio |   objective |\n",
      "|------------------------+----------+----------------------+-----------------+---------------------+----------------+-------------|\n",
      "| _objective_13ff3_00000 | RUNNING  | 130.212.82.53:302157 |     5.61152e-06 | linear              |       0.036687 |   0.0786234 |\n",
      "+------------------------+----------+----------------------+-----------------+---------------------+----------------+-------------+\n",
      "\n",
      "\n"
     ]
    },
    {
     "name": "stderr",
     "output_type": "stream",
     "text": [
      " 41%|████      | 348/858 [07:43<11:40,  1.37s/it]\n",
      " 41%|████      | 349/858 [07:44<10:34,  1.25s/it]\n",
      " 41%|████      | 350/858 [07:45<09:48,  1.16s/it]\n",
      " 41%|████      | 351/858 [07:46<09:18,  1.10s/it]\n"
     ]
    },
    {
     "name": "stdout",
     "output_type": "stream",
     "text": [
      "== Status ==\n",
      "Current time: 2023-03-05 20:34:30 (running for 00:07:55.46)\n",
      "Memory usage on this node: 25.3/251.7 GiB \n",
      "Using FIFO scheduling algorithm.\n",
      "Resources requested: 64.0/64 CPUs, 1.0/1 GPUs, 0.0/147.5 GiB heap, 0.0/67.2 GiB objects (0.0/1.0 accelerator_type:RTX)\n",
      "Result logdir: /home/922201615/ray_results/_objective_2023-03-05_20-26-34\n",
      "Number of trials: 1/1 (1 RUNNING)\n",
      "+------------------------+----------+----------------------+-----------------+---------------------+----------------+-------------+\n",
      "| Trial name             | status   | loc                  |   learning_rate | lr_scheduler_type   |   warmup_ratio |   objective |\n",
      "|------------------------+----------+----------------------+-----------------+---------------------+----------------+-------------|\n",
      "| _objective_13ff3_00000 | RUNNING  | 130.212.82.53:302157 |     5.61152e-06 | linear              |       0.036687 |   0.0786234 |\n",
      "+------------------------+----------+----------------------+-----------------+---------------------+----------------+-------------+\n",
      "\n",
      "\n"
     ]
    },
    {
     "name": "stderr",
     "output_type": "stream",
     "text": [
      " 41%|████      | 352/858 [07:48<11:31,  1.37s/it]\n",
      " 41%|████      | 353/858 [07:49<10:26,  1.24s/it]\n",
      " 41%|████▏     | 354/858 [07:50<09:41,  1.15s/it]\n",
      " 41%|████▏     | 355/858 [07:51<09:10,  1.09s/it]\n"
     ]
    },
    {
     "name": "stdout",
     "output_type": "stream",
     "text": [
      "== Status ==\n",
      "Current time: 2023-03-05 20:34:35 (running for 00:08:00.46)\n",
      "Memory usage on this node: 25.6/251.7 GiB \n",
      "Using FIFO scheduling algorithm.\n",
      "Resources requested: 64.0/64 CPUs, 1.0/1 GPUs, 0.0/147.5 GiB heap, 0.0/67.2 GiB objects (0.0/1.0 accelerator_type:RTX)\n",
      "Result logdir: /home/922201615/ray_results/_objective_2023-03-05_20-26-34\n",
      "Number of trials: 1/1 (1 RUNNING)\n",
      "+------------------------+----------+----------------------+-----------------+---------------------+----------------+-------------+\n",
      "| Trial name             | status   | loc                  |   learning_rate | lr_scheduler_type   |   warmup_ratio |   objective |\n",
      "|------------------------+----------+----------------------+-----------------+---------------------+----------------+-------------|\n",
      "| _objective_13ff3_00000 | RUNNING  | 130.212.82.53:302157 |     5.61152e-06 | linear              |       0.036687 |   0.0786234 |\n",
      "+------------------------+----------+----------------------+-----------------+---------------------+----------------+-------------+\n",
      "\n",
      "\n"
     ]
    },
    {
     "name": "stderr",
     "output_type": "stream",
     "text": [
      " 41%|████▏     | 356/858 [07:53<11:43,  1.40s/it]\n",
      " 42%|████▏     | 357/858 [07:54<10:34,  1.27s/it]\n",
      " 42%|████▏     | 358/858 [07:55<09:45,  1.17s/it]\n",
      " 42%|████▏     | 359/858 [07:56<09:11,  1.11s/it]\n"
     ]
    },
    {
     "name": "stdout",
     "output_type": "stream",
     "text": [
      "== Status ==\n",
      "Current time: 2023-03-05 20:34:40 (running for 00:08:05.47)\n",
      "Memory usage on this node: 26.0/251.7 GiB \n",
      "Using FIFO scheduling algorithm.\n",
      "Resources requested: 64.0/64 CPUs, 1.0/1 GPUs, 0.0/147.5 GiB heap, 0.0/67.2 GiB objects (0.0/1.0 accelerator_type:RTX)\n",
      "Result logdir: /home/922201615/ray_results/_objective_2023-03-05_20-26-34\n",
      "Number of trials: 1/1 (1 RUNNING)\n",
      "+------------------------+----------+----------------------+-----------------+---------------------+----------------+-------------+\n",
      "| Trial name             | status   | loc                  |   learning_rate | lr_scheduler_type   |   warmup_ratio |   objective |\n",
      "|------------------------+----------+----------------------+-----------------+---------------------+----------------+-------------|\n",
      "| _objective_13ff3_00000 | RUNNING  | 130.212.82.53:302157 |     5.61152e-06 | linear              |       0.036687 |   0.0786234 |\n",
      "+------------------------+----------+----------------------+-----------------+---------------------+----------------+-------------+\n",
      "\n",
      "\n"
     ]
    },
    {
     "name": "stderr",
     "output_type": "stream",
     "text": [
      " 42%|████▏     | 360/858 [07:58<11:44,  1.41s/it]\n",
      " 42%|████▏     | 361/858 [07:59<10:33,  1.27s/it]\n",
      " 42%|████▏     | 362/858 [08:00<09:44,  1.18s/it]\n",
      " 42%|████▏     | 363/858 [08:01<09:09,  1.11s/it]\n"
     ]
    },
    {
     "name": "stdout",
     "output_type": "stream",
     "text": [
      "== Status ==\n",
      "Current time: 2023-03-05 20:34:45 (running for 00:08:10.47)\n",
      "Memory usage on this node: 25.9/251.7 GiB \n",
      "Using FIFO scheduling algorithm.\n",
      "Resources requested: 64.0/64 CPUs, 1.0/1 GPUs, 0.0/147.5 GiB heap, 0.0/67.2 GiB objects (0.0/1.0 accelerator_type:RTX)\n",
      "Result logdir: /home/922201615/ray_results/_objective_2023-03-05_20-26-34\n",
      "Number of trials: 1/1 (1 RUNNING)\n",
      "+------------------------+----------+----------------------+-----------------+---------------------+----------------+-------------+\n",
      "| Trial name             | status   | loc                  |   learning_rate | lr_scheduler_type   |   warmup_ratio |   objective |\n",
      "|------------------------+----------+----------------------+-----------------+---------------------+----------------+-------------|\n",
      "| _objective_13ff3_00000 | RUNNING  | 130.212.82.53:302157 |     5.61152e-06 | linear              |       0.036687 |   0.0786234 |\n",
      "+------------------------+----------+----------------------+-----------------+---------------------+----------------+-------------+\n",
      "\n",
      "\n"
     ]
    },
    {
     "name": "stderr",
     "output_type": "stream",
     "text": [
      " 42%|████▏     | 364/858 [08:03<11:33,  1.40s/it]\n",
      " 43%|████▎     | 365/858 [08:04<10:25,  1.27s/it]\n",
      " 43%|████▎     | 366/858 [08:05<09:37,  1.17s/it]\n",
      " 43%|████▎     | 367/858 [08:05<09:03,  1.11s/it]\n"
     ]
    },
    {
     "name": "stdout",
     "output_type": "stream",
     "text": [
      "== Status ==\n",
      "Current time: 2023-03-05 20:34:50 (running for 00:08:15.48)\n",
      "Memory usage on this node: 25.8/251.7 GiB \n",
      "Using FIFO scheduling algorithm.\n",
      "Resources requested: 64.0/64 CPUs, 1.0/1 GPUs, 0.0/147.5 GiB heap, 0.0/67.2 GiB objects (0.0/1.0 accelerator_type:RTX)\n",
      "Result logdir: /home/922201615/ray_results/_objective_2023-03-05_20-26-34\n",
      "Number of trials: 1/1 (1 RUNNING)\n",
      "+------------------------+----------+----------------------+-----------------+---------------------+----------------+-------------+\n",
      "| Trial name             | status   | loc                  |   learning_rate | lr_scheduler_type   |   warmup_ratio |   objective |\n",
      "|------------------------+----------+----------------------+-----------------+---------------------+----------------+-------------|\n",
      "| _objective_13ff3_00000 | RUNNING  | 130.212.82.53:302157 |     5.61152e-06 | linear              |       0.036687 |   0.0786234 |\n",
      "+------------------------+----------+----------------------+-----------------+---------------------+----------------+-------------+\n",
      "\n",
      "\n"
     ]
    },
    {
     "name": "stderr",
     "output_type": "stream",
     "text": [
      " 43%|████▎     | 368/858 [08:08<11:27,  1.40s/it]\n",
      " 43%|████▎     | 369/858 [08:09<10:20,  1.27s/it]\n",
      " 43%|████▎     | 370/858 [08:09<09:32,  1.17s/it]\n",
      " 43%|████▎     | 371/858 [08:10<08:59,  1.11s/it]\n"
     ]
    },
    {
     "name": "stdout",
     "output_type": "stream",
     "text": [
      "== Status ==\n",
      "Current time: 2023-03-05 20:34:55 (running for 00:08:20.48)\n",
      "Memory usage on this node: 25.9/251.7 GiB \n",
      "Using FIFO scheduling algorithm.\n",
      "Resources requested: 64.0/64 CPUs, 1.0/1 GPUs, 0.0/147.5 GiB heap, 0.0/67.2 GiB objects (0.0/1.0 accelerator_type:RTX)\n",
      "Result logdir: /home/922201615/ray_results/_objective_2023-03-05_20-26-34\n",
      "Number of trials: 1/1 (1 RUNNING)\n",
      "+------------------------+----------+----------------------+-----------------+---------------------+----------------+-------------+\n",
      "| Trial name             | status   | loc                  |   learning_rate | lr_scheduler_type   |   warmup_ratio |   objective |\n",
      "|------------------------+----------+----------------------+-----------------+---------------------+----------------+-------------|\n",
      "| _objective_13ff3_00000 | RUNNING  | 130.212.82.53:302157 |     5.61152e-06 | linear              |       0.036687 |   0.0786234 |\n",
      "+------------------------+----------+----------------------+-----------------+---------------------+----------------+-------------+\n",
      "\n",
      "\n"
     ]
    },
    {
     "name": "stderr",
     "output_type": "stream",
     "text": [
      " 43%|████▎     | 372/858 [08:13<11:52,  1.47s/it]\n",
      " 43%|████▎     | 373/858 [08:14<10:36,  1.31s/it]\n",
      " 44%|████▎     | 374/858 [08:15<09:42,  1.20s/it]\n",
      " 44%|████▎     | 375/858 [08:16<09:04,  1.13s/it]\n"
     ]
    },
    {
     "name": "stdout",
     "output_type": "stream",
     "text": [
      "== Status ==\n",
      "Current time: 2023-03-05 20:35:00 (running for 00:08:25.49)\n",
      "Memory usage on this node: 25.9/251.7 GiB \n",
      "Using FIFO scheduling algorithm.\n",
      "Resources requested: 64.0/64 CPUs, 1.0/1 GPUs, 0.0/147.5 GiB heap, 0.0/67.2 GiB objects (0.0/1.0 accelerator_type:RTX)\n",
      "Result logdir: /home/922201615/ray_results/_objective_2023-03-05_20-26-34\n",
      "Number of trials: 1/1 (1 RUNNING)\n",
      "+------------------------+----------+----------------------+-----------------+---------------------+----------------+-------------+\n",
      "| Trial name             | status   | loc                  |   learning_rate | lr_scheduler_type   |   warmup_ratio |   objective |\n",
      "|------------------------+----------+----------------------+-----------------+---------------------+----------------+-------------|\n",
      "| _objective_13ff3_00000 | RUNNING  | 130.212.82.53:302157 |     5.61152e-06 | linear              |       0.036687 |   0.0786234 |\n",
      "+------------------------+----------+----------------------+-----------------+---------------------+----------------+-------------+\n",
      "\n",
      "\n"
     ]
    },
    {
     "name": "stderr",
     "output_type": "stream",
     "text": [
      " 44%|████▍     | 376/858 [08:18<11:14,  1.40s/it]\n",
      " 44%|████▍     | 377/858 [08:19<10:08,  1.27s/it]\n",
      " 44%|████▍     | 378/858 [08:20<09:22,  1.17s/it]\n",
      " 44%|████▍     | 379/858 [08:20<08:49,  1.11s/it]\n"
     ]
    },
    {
     "name": "stdout",
     "output_type": "stream",
     "text": [
      "== Status ==\n",
      "Current time: 2023-03-05 20:35:05 (running for 00:08:30.49)\n",
      "Memory usage on this node: 26.4/251.7 GiB \n",
      "Using FIFO scheduling algorithm.\n",
      "Resources requested: 64.0/64 CPUs, 1.0/1 GPUs, 0.0/147.5 GiB heap, 0.0/67.2 GiB objects (0.0/1.0 accelerator_type:RTX)\n",
      "Result logdir: /home/922201615/ray_results/_objective_2023-03-05_20-26-34\n",
      "Number of trials: 1/1 (1 RUNNING)\n",
      "+------------------------+----------+----------------------+-----------------+---------------------+----------------+-------------+\n",
      "| Trial name             | status   | loc                  |   learning_rate | lr_scheduler_type   |   warmup_ratio |   objective |\n",
      "|------------------------+----------+----------------------+-----------------+---------------------+----------------+-------------|\n",
      "| _objective_13ff3_00000 | RUNNING  | 130.212.82.53:302157 |     5.61152e-06 | linear              |       0.036687 |   0.0786234 |\n",
      "+------------------------+----------+----------------------+-----------------+---------------------+----------------+-------------+\n",
      "\n",
      "\n"
     ]
    },
    {
     "name": "stderr",
     "output_type": "stream",
     "text": [
      " 44%|████▍     | 380/858 [08:23<11:00,  1.38s/it]\n",
      " 44%|████▍     | 381/858 [08:23<09:57,  1.25s/it]\n",
      " 45%|████▍     | 382/858 [08:24<09:13,  1.16s/it]\n",
      " 45%|████▍     | 383/858 [08:25<08:41,  1.10s/it]\n",
      " 45%|████▍     | 384/858 [08:27<10:54,  1.38s/it]\n"
     ]
    },
    {
     "name": "stdout",
     "output_type": "stream",
     "text": [
      "== Status ==\n",
      "Current time: 2023-03-05 20:35:10 (running for 00:08:35.49)\n",
      "Memory usage on this node: 26.0/251.7 GiB \n",
      "Using FIFO scheduling algorithm.\n",
      "Resources requested: 64.0/64 CPUs, 1.0/1 GPUs, 0.0/147.5 GiB heap, 0.0/67.2 GiB objects (0.0/1.0 accelerator_type:RTX)\n",
      "Result logdir: /home/922201615/ray_results/_objective_2023-03-05_20-26-34\n",
      "Number of trials: 1/1 (1 RUNNING)\n",
      "+------------------------+----------+----------------------+-----------------+---------------------+----------------+-------------+\n",
      "| Trial name             | status   | loc                  |   learning_rate | lr_scheduler_type   |   warmup_ratio |   objective |\n",
      "|------------------------+----------+----------------------+-----------------+---------------------+----------------+-------------|\n",
      "| _objective_13ff3_00000 | RUNNING  | 130.212.82.53:302157 |     5.61152e-06 | linear              |       0.036687 |   0.0786234 |\n",
      "+------------------------+----------+----------------------+-----------------+---------------------+----------------+-------------+\n",
      "\n",
      "\n"
     ]
    },
    {
     "name": "stderr",
     "output_type": "stream",
     "text": [
      " 45%|████▍     | 385/858 [08:28<09:52,  1.25s/it]\n",
      " 45%|████▍     | 386/858 [08:29<09:08,  1.16s/it]\n",
      " 45%|████▌     | 387/858 [08:30<08:37,  1.10s/it]\n",
      " 45%|████▌     | 388/858 [08:32<10:59,  1.40s/it]\n"
     ]
    },
    {
     "name": "stdout",
     "output_type": "stream",
     "text": [
      "== Status ==\n",
      "Current time: 2023-03-05 20:35:15 (running for 00:08:40.50)\n",
      "Memory usage on this node: 26.1/251.7 GiB \n",
      "Using FIFO scheduling algorithm.\n",
      "Resources requested: 64.0/64 CPUs, 1.0/1 GPUs, 0.0/147.5 GiB heap, 0.0/67.2 GiB objects (0.0/1.0 accelerator_type:RTX)\n",
      "Result logdir: /home/922201615/ray_results/_objective_2023-03-05_20-26-34\n",
      "Number of trials: 1/1 (1 RUNNING)\n",
      "+------------------------+----------+----------------------+-----------------+---------------------+----------------+-------------+\n",
      "| Trial name             | status   | loc                  |   learning_rate | lr_scheduler_type   |   warmup_ratio |   objective |\n",
      "|------------------------+----------+----------------------+-----------------+---------------------+----------------+-------------|\n",
      "| _objective_13ff3_00000 | RUNNING  | 130.212.82.53:302157 |     5.61152e-06 | linear              |       0.036687 |   0.0786234 |\n",
      "+------------------------+----------+----------------------+-----------------+---------------------+----------------+-------------+\n",
      "\n",
      "\n"
     ]
    },
    {
     "name": "stderr",
     "output_type": "stream",
     "text": [
      " 45%|████▌     | 389/858 [08:33<09:54,  1.27s/it]\n",
      " 45%|████▌     | 390/858 [08:34<09:09,  1.17s/it]\n",
      " 46%|████▌     | 391/858 [08:35<08:37,  1.11s/it]\n",
      " 46%|████▌     | 392/858 [08:37<10:59,  1.42s/it]\n"
     ]
    },
    {
     "name": "stdout",
     "output_type": "stream",
     "text": [
      "== Status ==\n",
      "Current time: 2023-03-05 20:35:20 (running for 00:08:45.50)\n",
      "Memory usage on this node: 26.2/251.7 GiB \n",
      "Using FIFO scheduling algorithm.\n",
      "Resources requested: 64.0/64 CPUs, 1.0/1 GPUs, 0.0/147.5 GiB heap, 0.0/67.2 GiB objects (0.0/1.0 accelerator_type:RTX)\n",
      "Result logdir: /home/922201615/ray_results/_objective_2023-03-05_20-26-34\n",
      "Number of trials: 1/1 (1 RUNNING)\n",
      "+------------------------+----------+----------------------+-----------------+---------------------+----------------+-------------+\n",
      "| Trial name             | status   | loc                  |   learning_rate | lr_scheduler_type   |   warmup_ratio |   objective |\n",
      "|------------------------+----------+----------------------+-----------------+---------------------+----------------+-------------|\n",
      "| _objective_13ff3_00000 | RUNNING  | 130.212.82.53:302157 |     5.61152e-06 | linear              |       0.036687 |   0.0786234 |\n",
      "+------------------------+----------+----------------------+-----------------+---------------------+----------------+-------------+\n",
      "\n",
      "\n"
     ]
    },
    {
     "name": "stderr",
     "output_type": "stream",
     "text": [
      " 46%|████▌     | 393/858 [08:38<09:53,  1.28s/it]\n",
      " 46%|████▌     | 394/858 [08:39<09:06,  1.18s/it]\n",
      " 46%|████▌     | 395/858 [08:40<08:33,  1.11s/it]\n",
      " 46%|████▌     | 396/858 [08:42<10:34,  1.37s/it]\n"
     ]
    },
    {
     "name": "stdout",
     "output_type": "stream",
     "text": [
      "== Status ==\n",
      "Current time: 2023-03-05 20:35:25 (running for 00:08:50.50)\n",
      "Memory usage on this node: 26.3/251.7 GiB \n",
      "Using FIFO scheduling algorithm.\n",
      "Resources requested: 64.0/64 CPUs, 1.0/1 GPUs, 0.0/147.5 GiB heap, 0.0/67.2 GiB objects (0.0/1.0 accelerator_type:RTX)\n",
      "Result logdir: /home/922201615/ray_results/_objective_2023-03-05_20-26-34\n",
      "Number of trials: 1/1 (1 RUNNING)\n",
      "+------------------------+----------+----------------------+-----------------+---------------------+----------------+-------------+\n",
      "| Trial name             | status   | loc                  |   learning_rate | lr_scheduler_type   |   warmup_ratio |   objective |\n",
      "|------------------------+----------+----------------------+-----------------+---------------------+----------------+-------------|\n",
      "| _objective_13ff3_00000 | RUNNING  | 130.212.82.53:302157 |     5.61152e-06 | linear              |       0.036687 |   0.0786234 |\n",
      "+------------------------+----------+----------------------+-----------------+---------------------+----------------+-------------+\n",
      "\n",
      "\n"
     ]
    },
    {
     "name": "stderr",
     "output_type": "stream",
     "text": [
      " 46%|████▋     | 397/858 [08:43<09:34,  1.25s/it]\n",
      " 46%|████▋     | 398/858 [08:44<08:52,  1.16s/it]\n",
      " 47%|████▋     | 399/858 [08:45<08:22,  1.10s/it]\n",
      " 47%|████▋     | 400/858 [08:47<10:39,  1.40s/it]\n"
     ]
    },
    {
     "name": "stdout",
     "output_type": "stream",
     "text": [
      "== Status ==\n",
      "Current time: 2023-03-05 20:35:30 (running for 00:08:55.51)\n",
      "Memory usage on this node: 26.0/251.7 GiB \n",
      "Using FIFO scheduling algorithm.\n",
      "Resources requested: 64.0/64 CPUs, 1.0/1 GPUs, 0.0/147.5 GiB heap, 0.0/67.2 GiB objects (0.0/1.0 accelerator_type:RTX)\n",
      "Result logdir: /home/922201615/ray_results/_objective_2023-03-05_20-26-34\n",
      "Number of trials: 1/1 (1 RUNNING)\n",
      "+------------------------+----------+----------------------+-----------------+---------------------+----------------+-------------+\n",
      "| Trial name             | status   | loc                  |   learning_rate | lr_scheduler_type   |   warmup_ratio |   objective |\n",
      "|------------------------+----------+----------------------+-----------------+---------------------+----------------+-------------|\n",
      "| _objective_13ff3_00000 | RUNNING  | 130.212.82.53:302157 |     5.61152e-06 | linear              |       0.036687 |   0.0786234 |\n",
      "+------------------------+----------+----------------------+-----------------+---------------------+----------------+-------------+\n",
      "\n",
      "\n"
     ]
    },
    {
     "name": "stderr",
     "output_type": "stream",
     "text": [
      " 47%|████▋     | 401/858 [08:48<09:37,  1.26s/it]\n",
      " 47%|████▋     | 402/858 [08:49<08:53,  1.17s/it]\n",
      " 47%|████▋     | 403/858 [08:50<08:22,  1.10s/it]\n",
      " 47%|████▋     | 404/858 [08:52<10:25,  1.38s/it]\n"
     ]
    },
    {
     "name": "stdout",
     "output_type": "stream",
     "text": [
      "== Status ==\n",
      "Current time: 2023-03-05 20:35:35 (running for 00:09:00.51)\n",
      "Memory usage on this node: 26.0/251.7 GiB \n",
      "Using FIFO scheduling algorithm.\n",
      "Resources requested: 64.0/64 CPUs, 1.0/1 GPUs, 0.0/147.5 GiB heap, 0.0/67.2 GiB objects (0.0/1.0 accelerator_type:RTX)\n",
      "Result logdir: /home/922201615/ray_results/_objective_2023-03-05_20-26-34\n",
      "Number of trials: 1/1 (1 RUNNING)\n",
      "+------------------------+----------+----------------------+-----------------+---------------------+----------------+-------------+\n",
      "| Trial name             | status   | loc                  |   learning_rate | lr_scheduler_type   |   warmup_ratio |   objective |\n",
      "|------------------------+----------+----------------------+-----------------+---------------------+----------------+-------------|\n",
      "| _objective_13ff3_00000 | RUNNING  | 130.212.82.53:302157 |     5.61152e-06 | linear              |       0.036687 |   0.0786234 |\n",
      "+------------------------+----------+----------------------+-----------------+---------------------+----------------+-------------+\n",
      "\n",
      "\n"
     ]
    },
    {
     "name": "stderr",
     "output_type": "stream",
     "text": [
      " 47%|████▋     | 405/858 [08:53<09:26,  1.25s/it]\n",
      " 47%|████▋     | 406/858 [08:54<08:45,  1.16s/it]\n",
      " 47%|████▋     | 407/858 [08:55<08:15,  1.10s/it]\n",
      " 48%|████▊     | 408/858 [08:57<10:23,  1.39s/it]\n"
     ]
    },
    {
     "name": "stdout",
     "output_type": "stream",
     "text": [
      "== Status ==\n",
      "Current time: 2023-03-05 20:35:40 (running for 00:09:05.52)\n",
      "Memory usage on this node: 26.0/251.7 GiB \n",
      "Using FIFO scheduling algorithm.\n",
      "Resources requested: 64.0/64 CPUs, 1.0/1 GPUs, 0.0/147.5 GiB heap, 0.0/67.2 GiB objects (0.0/1.0 accelerator_type:RTX)\n",
      "Result logdir: /home/922201615/ray_results/_objective_2023-03-05_20-26-34\n",
      "Number of trials: 1/1 (1 RUNNING)\n",
      "+------------------------+----------+----------------------+-----------------+---------------------+----------------+-------------+\n",
      "| Trial name             | status   | loc                  |   learning_rate | lr_scheduler_type   |   warmup_ratio |   objective |\n",
      "|------------------------+----------+----------------------+-----------------+---------------------+----------------+-------------|\n",
      "| _objective_13ff3_00000 | RUNNING  | 130.212.82.53:302157 |     5.61152e-06 | linear              |       0.036687 |   0.0786234 |\n",
      "+------------------------+----------+----------------------+-----------------+---------------------+----------------+-------------+\n",
      "\n",
      "\n"
     ]
    },
    {
     "name": "stderr",
     "output_type": "stream",
     "text": [
      " 48%|████▊     | 409/858 [08:58<09:23,  1.26s/it]\n",
      " 48%|████▊     | 410/858 [08:59<08:42,  1.17s/it]\n",
      " 48%|████▊     | 411/858 [09:00<08:12,  1.10s/it]\n",
      " 48%|████▊     | 412/858 [09:01<07:51,  1.06s/it]\n",
      " 48%|████▊     | 413/858 [09:02<07:36,  1.03s/it]\n"
     ]
    },
    {
     "name": "stdout",
     "output_type": "stream",
     "text": [
      "== Status ==\n",
      "Current time: 2023-03-05 20:35:45 (running for 00:09:10.52)\n",
      "Memory usage on this node: 26.1/251.7 GiB \n",
      "Using FIFO scheduling algorithm.\n",
      "Resources requested: 64.0/64 CPUs, 1.0/1 GPUs, 0.0/147.5 GiB heap, 0.0/67.2 GiB objects (0.0/1.0 accelerator_type:RTX)\n",
      "Result logdir: /home/922201615/ray_results/_objective_2023-03-05_20-26-34\n",
      "Number of trials: 1/1 (1 RUNNING)\n",
      "+------------------------+----------+----------------------+-----------------+---------------------+----------------+-------------+\n",
      "| Trial name             | status   | loc                  |   learning_rate | lr_scheduler_type   |   warmup_ratio |   objective |\n",
      "|------------------------+----------+----------------------+-----------------+---------------------+----------------+-------------|\n",
      "| _objective_13ff3_00000 | RUNNING  | 130.212.82.53:302157 |     5.61152e-06 | linear              |       0.036687 |   0.0786234 |\n",
      "+------------------------+----------+----------------------+-----------------+---------------------+----------------+-------------+\n",
      "\n",
      "\n"
     ]
    },
    {
     "name": "stderr",
     "output_type": "stream",
     "text": [
      " 48%|████▊     | 414/858 [09:03<07:25,  1.00s/it]\n",
      " 48%|████▊     | 415/858 [09:04<07:17,  1.01it/s]\n",
      " 48%|████▊     | 416/858 [09:05<08:52,  1.20s/it]\n",
      " 49%|████▊     | 417/858 [09:06<08:17,  1.13s/it]\n",
      " 49%|████▊     | 418/858 [09:07<07:53,  1.08s/it]\n"
     ]
    },
    {
     "name": "stdout",
     "output_type": "stream",
     "text": [
      "== Status ==\n",
      "Current time: 2023-03-05 20:35:50 (running for 00:09:15.52)\n",
      "Memory usage on this node: 25.8/251.7 GiB \n",
      "Using FIFO scheduling algorithm.\n",
      "Resources requested: 64.0/64 CPUs, 1.0/1 GPUs, 0.0/147.5 GiB heap, 0.0/67.2 GiB objects (0.0/1.0 accelerator_type:RTX)\n",
      "Result logdir: /home/922201615/ray_results/_objective_2023-03-05_20-26-34\n",
      "Number of trials: 1/1 (1 RUNNING)\n",
      "+------------------------+----------+----------------------+-----------------+---------------------+----------------+-------------+\n",
      "| Trial name             | status   | loc                  |   learning_rate | lr_scheduler_type   |   warmup_ratio |   objective |\n",
      "|------------------------+----------+----------------------+-----------------+---------------------+----------------+-------------|\n",
      "| _objective_13ff3_00000 | RUNNING  | 130.212.82.53:302157 |     5.61152e-06 | linear              |       0.036687 |   0.0786234 |\n",
      "+------------------------+----------+----------------------+-----------------+---------------------+----------------+-------------+\n",
      "\n",
      "\n"
     ]
    },
    {
     "name": "stderr",
     "output_type": "stream",
     "text": [
      " 49%|████▉     | 419/858 [09:08<07:35,  1.04s/it]\n",
      " 49%|████▉     | 420/858 [09:10<09:59,  1.37s/it]\n",
      " 49%|████▉     | 421/858 [09:11<09:03,  1.24s/it]\n",
      " 49%|████▉     | 422/858 [09:12<08:24,  1.16s/it]\n"
     ]
    },
    {
     "name": "stdout",
     "output_type": "stream",
     "text": [
      "== Status ==\n",
      "Current time: 2023-03-05 20:35:55 (running for 00:09:20.53)\n",
      "Memory usage on this node: 26.1/251.7 GiB \n",
      "Using FIFO scheduling algorithm.\n",
      "Resources requested: 64.0/64 CPUs, 1.0/1 GPUs, 0.0/147.5 GiB heap, 0.0/67.2 GiB objects (0.0/1.0 accelerator_type:RTX)\n",
      "Result logdir: /home/922201615/ray_results/_objective_2023-03-05_20-26-34\n",
      "Number of trials: 1/1 (1 RUNNING)\n",
      "+------------------------+----------+----------------------+-----------------+---------------------+----------------+-------------+\n",
      "| Trial name             | status   | loc                  |   learning_rate | lr_scheduler_type   |   warmup_ratio |   objective |\n",
      "|------------------------+----------+----------------------+-----------------+---------------------+----------------+-------------|\n",
      "| _objective_13ff3_00000 | RUNNING  | 130.212.82.53:302157 |     5.61152e-06 | linear              |       0.036687 |   0.0786234 |\n",
      "+------------------------+----------+----------------------+-----------------+---------------------+----------------+-------------+\n",
      "\n",
      "\n"
     ]
    },
    {
     "name": "stderr",
     "output_type": "stream",
     "text": [
      " 49%|████▉     | 423/858 [09:13<07:56,  1.10s/it]\n",
      " 49%|████▉     | 424/858 [09:15<10:06,  1.40s/it]\n",
      " 50%|████▉     | 425/858 [09:16<09:06,  1.26s/it]\n",
      " 50%|████▉     | 426/858 [09:17<08:25,  1.17s/it]\n"
     ]
    },
    {
     "name": "stdout",
     "output_type": "stream",
     "text": [
      "== Status ==\n",
      "Current time: 2023-03-05 20:36:00 (running for 00:09:25.53)\n",
      "Memory usage on this node: 26.1/251.7 GiB \n",
      "Using FIFO scheduling algorithm.\n",
      "Resources requested: 64.0/64 CPUs, 1.0/1 GPUs, 0.0/147.5 GiB heap, 0.0/67.2 GiB objects (0.0/1.0 accelerator_type:RTX)\n",
      "Result logdir: /home/922201615/ray_results/_objective_2023-03-05_20-26-34\n",
      "Number of trials: 1/1 (1 RUNNING)\n",
      "+------------------------+----------+----------------------+-----------------+---------------------+----------------+-------------+\n",
      "| Trial name             | status   | loc                  |   learning_rate | lr_scheduler_type   |   warmup_ratio |   objective |\n",
      "|------------------------+----------+----------------------+-----------------+---------------------+----------------+-------------|\n",
      "| _objective_13ff3_00000 | RUNNING  | 130.212.82.53:302157 |     5.61152e-06 | linear              |       0.036687 |   0.0786234 |\n",
      "+------------------------+----------+----------------------+-----------------+---------------------+----------------+-------------+\n",
      "\n",
      "\n"
     ]
    },
    {
     "name": "stderr",
     "output_type": "stream",
     "text": [
      " 50%|████▉     | 427/858 [09:18<07:56,  1.10s/it]\n",
      " 50%|████▉     | 428/858 [09:20<10:14,  1.43s/it]\n",
      " 50%|█████     | 429/858 [09:21<09:11,  1.29s/it]\n",
      " 50%|█████     | 430/858 [09:22<08:27,  1.19s/it]\n"
     ]
    },
    {
     "name": "stdout",
     "output_type": "stream",
     "text": [
      "== Status ==\n",
      "Current time: 2023-03-05 20:36:05 (running for 00:09:30.53)\n",
      "Memory usage on this node: 25.8/251.7 GiB \n",
      "Using FIFO scheduling algorithm.\n",
      "Resources requested: 64.0/64 CPUs, 1.0/1 GPUs, 0.0/147.5 GiB heap, 0.0/67.2 GiB objects (0.0/1.0 accelerator_type:RTX)\n",
      "Result logdir: /home/922201615/ray_results/_objective_2023-03-05_20-26-34\n",
      "Number of trials: 1/1 (1 RUNNING)\n",
      "+------------------------+----------+----------------------+-----------------+---------------------+----------------+-------------+\n",
      "| Trial name             | status   | loc                  |   learning_rate | lr_scheduler_type   |   warmup_ratio |   objective |\n",
      "|------------------------+----------+----------------------+-----------------+---------------------+----------------+-------------|\n",
      "| _objective_13ff3_00000 | RUNNING  | 130.212.82.53:302157 |     5.61152e-06 | linear              |       0.036687 |   0.0786234 |\n",
      "+------------------------+----------+----------------------+-----------------+---------------------+----------------+-------------+\n",
      "\n",
      "\n"
     ]
    },
    {
     "name": "stderr",
     "output_type": "stream",
     "text": [
      " 50%|█████     | 431/858 [09:23<07:57,  1.12s/it]\n",
      " 50%|█████     | 432/858 [09:25<09:54,  1.39s/it]\n",
      " 50%|█████     | 433/858 [09:26<08:56,  1.26s/it]\n",
      " 51%|█████     | 434/858 [09:27<08:16,  1.17s/it]\n"
     ]
    },
    {
     "name": "stdout",
     "output_type": "stream",
     "text": [
      "== Status ==\n",
      "Current time: 2023-03-05 20:36:10 (running for 00:09:35.54)\n",
      "Memory usage on this node: 26.0/251.7 GiB \n",
      "Using FIFO scheduling algorithm.\n",
      "Resources requested: 64.0/64 CPUs, 1.0/1 GPUs, 0.0/147.5 GiB heap, 0.0/67.2 GiB objects (0.0/1.0 accelerator_type:RTX)\n",
      "Result logdir: /home/922201615/ray_results/_objective_2023-03-05_20-26-34\n",
      "Number of trials: 1/1 (1 RUNNING)\n",
      "+------------------------+----------+----------------------+-----------------+---------------------+----------------+-------------+\n",
      "| Trial name             | status   | loc                  |   learning_rate | lr_scheduler_type   |   warmup_ratio |   objective |\n",
      "|------------------------+----------+----------------------+-----------------+---------------------+----------------+-------------|\n",
      "| _objective_13ff3_00000 | RUNNING  | 130.212.82.53:302157 |     5.61152e-06 | linear              |       0.036687 |   0.0786234 |\n",
      "+------------------------+----------+----------------------+-----------------+---------------------+----------------+-------------+\n",
      "\n",
      "\n"
     ]
    },
    {
     "name": "stderr",
     "output_type": "stream",
     "text": [
      " 51%|█████     | 435/858 [09:28<07:47,  1.11s/it]\n",
      " 51%|█████     | 436/858 [09:30<09:47,  1.39s/it]\n",
      " 51%|█████     | 437/858 [09:31<08:50,  1.26s/it]\n",
      " 51%|█████     | 438/858 [09:32<08:10,  1.17s/it]\n"
     ]
    },
    {
     "name": "stdout",
     "output_type": "stream",
     "text": [
      "== Status ==\n",
      "Current time: 2023-03-05 20:36:15 (running for 00:09:40.54)\n",
      "Memory usage on this node: 26.3/251.7 GiB \n",
      "Using FIFO scheduling algorithm.\n",
      "Resources requested: 64.0/64 CPUs, 1.0/1 GPUs, 0.0/147.5 GiB heap, 0.0/67.2 GiB objects (0.0/1.0 accelerator_type:RTX)\n",
      "Result logdir: /home/922201615/ray_results/_objective_2023-03-05_20-26-34\n",
      "Number of trials: 1/1 (1 RUNNING)\n",
      "+------------------------+----------+----------------------+-----------------+---------------------+----------------+-------------+\n",
      "| Trial name             | status   | loc                  |   learning_rate | lr_scheduler_type   |   warmup_ratio |   objective |\n",
      "|------------------------+----------+----------------------+-----------------+---------------------+----------------+-------------|\n",
      "| _objective_13ff3_00000 | RUNNING  | 130.212.82.53:302157 |     5.61152e-06 | linear              |       0.036687 |   0.0786234 |\n",
      "+------------------------+----------+----------------------+-----------------+---------------------+----------------+-------------+\n",
      "\n",
      "\n"
     ]
    },
    {
     "name": "stderr",
     "output_type": "stream",
     "text": [
      " 51%|█████     | 439/858 [09:33<07:42,  1.10s/it]\n",
      " 51%|█████▏    | 440/858 [09:35<09:37,  1.38s/it]\n",
      " 51%|█████▏    | 441/858 [09:36<08:42,  1.25s/it]\n",
      " 52%|█████▏    | 442/858 [09:37<08:03,  1.16s/it]\n"
     ]
    },
    {
     "name": "stdout",
     "output_type": "stream",
     "text": [
      "== Status ==\n",
      "Current time: 2023-03-05 20:36:20 (running for 00:09:45.55)\n",
      "Memory usage on this node: 26.6/251.7 GiB \n",
      "Using FIFO scheduling algorithm.\n",
      "Resources requested: 64.0/64 CPUs, 1.0/1 GPUs, 0.0/147.5 GiB heap, 0.0/67.2 GiB objects (0.0/1.0 accelerator_type:RTX)\n",
      "Result logdir: /home/922201615/ray_results/_objective_2023-03-05_20-26-34\n",
      "Number of trials: 1/1 (1 RUNNING)\n",
      "+------------------------+----------+----------------------+-----------------+---------------------+----------------+-------------+\n",
      "| Trial name             | status   | loc                  |   learning_rate | lr_scheduler_type   |   warmup_ratio |   objective |\n",
      "|------------------------+----------+----------------------+-----------------+---------------------+----------------+-------------|\n",
      "| _objective_13ff3_00000 | RUNNING  | 130.212.82.53:302157 |     5.61152e-06 | linear              |       0.036687 |   0.0786234 |\n",
      "+------------------------+----------+----------------------+-----------------+---------------------+----------------+-------------+\n",
      "\n",
      "\n"
     ]
    },
    {
     "name": "stderr",
     "output_type": "stream",
     "text": [
      " 52%|█████▏    | 443/858 [09:38<07:36,  1.10s/it]\n",
      " 52%|█████▏    | 444/858 [09:40<09:40,  1.40s/it]\n",
      " 52%|█████▏    | 445/858 [09:41<08:43,  1.27s/it]\n",
      " 52%|█████▏    | 446/858 [09:42<08:03,  1.17s/it]\n"
     ]
    },
    {
     "name": "stdout",
     "output_type": "stream",
     "text": [
      "== Status ==\n",
      "Current time: 2023-03-05 20:36:25 (running for 00:09:50.55)\n",
      "Memory usage on this node: 26.7/251.7 GiB \n",
      "Using FIFO scheduling algorithm.\n",
      "Resources requested: 64.0/64 CPUs, 1.0/1 GPUs, 0.0/147.5 GiB heap, 0.0/67.2 GiB objects (0.0/1.0 accelerator_type:RTX)\n",
      "Result logdir: /home/922201615/ray_results/_objective_2023-03-05_20-26-34\n",
      "Number of trials: 1/1 (1 RUNNING)\n",
      "+------------------------+----------+----------------------+-----------------+---------------------+----------------+-------------+\n",
      "| Trial name             | status   | loc                  |   learning_rate | lr_scheduler_type   |   warmup_ratio |   objective |\n",
      "|------------------------+----------+----------------------+-----------------+---------------------+----------------+-------------|\n",
      "| _objective_13ff3_00000 | RUNNING  | 130.212.82.53:302157 |     5.61152e-06 | linear              |       0.036687 |   0.0786234 |\n",
      "+------------------------+----------+----------------------+-----------------+---------------------+----------------+-------------+\n",
      "\n",
      "\n"
     ]
    },
    {
     "name": "stderr",
     "output_type": "stream",
     "text": [
      " 52%|█████▏    | 447/858 [09:43<07:34,  1.11s/it]\n",
      " 52%|█████▏    | 448/858 [09:45<09:30,  1.39s/it]\n",
      " 52%|█████▏    | 449/858 [09:46<08:35,  1.26s/it]\n",
      " 52%|█████▏    | 450/858 [09:47<07:56,  1.17s/it]\n"
     ]
    },
    {
     "name": "stdout",
     "output_type": "stream",
     "text": [
      "== Status ==\n",
      "Current time: 2023-03-05 20:36:30 (running for 00:09:55.55)\n",
      "Memory usage on this node: 26.5/251.7 GiB \n",
      "Using FIFO scheduling algorithm.\n",
      "Resources requested: 64.0/64 CPUs, 1.0/1 GPUs, 0.0/147.5 GiB heap, 0.0/67.2 GiB objects (0.0/1.0 accelerator_type:RTX)\n",
      "Result logdir: /home/922201615/ray_results/_objective_2023-03-05_20-26-34\n",
      "Number of trials: 1/1 (1 RUNNING)\n",
      "+------------------------+----------+----------------------+-----------------+---------------------+----------------+-------------+\n",
      "| Trial name             | status   | loc                  |   learning_rate | lr_scheduler_type   |   warmup_ratio |   objective |\n",
      "|------------------------+----------+----------------------+-----------------+---------------------+----------------+-------------|\n",
      "| _objective_13ff3_00000 | RUNNING  | 130.212.82.53:302157 |     5.61152e-06 | linear              |       0.036687 |   0.0786234 |\n",
      "+------------------------+----------+----------------------+-----------------+---------------------+----------------+-------------+\n",
      "\n",
      "\n"
     ]
    },
    {
     "name": "stderr",
     "output_type": "stream",
     "text": [
      " 53%|█████▎    | 451/858 [09:48<07:29,  1.10s/it]\n",
      " 53%|█████▎    | 452/858 [09:50<09:49,  1.45s/it]\n",
      " 53%|█████▎    | 453/858 [09:51<08:48,  1.30s/it]\n",
      " 53%|█████▎    | 454/858 [09:52<08:04,  1.20s/it]\n"
     ]
    },
    {
     "name": "stdout",
     "output_type": "stream",
     "text": [
      "== Status ==\n",
      "Current time: 2023-03-05 20:36:35 (running for 00:10:00.56)\n",
      "Memory usage on this node: 25.8/251.7 GiB \n",
      "Using FIFO scheduling algorithm.\n",
      "Resources requested: 64.0/64 CPUs, 1.0/1 GPUs, 0.0/147.5 GiB heap, 0.0/67.2 GiB objects (0.0/1.0 accelerator_type:RTX)\n",
      "Result logdir: /home/922201615/ray_results/_objective_2023-03-05_20-26-34\n",
      "Number of trials: 1/1 (1 RUNNING)\n",
      "+------------------------+----------+----------------------+-----------------+---------------------+----------------+-------------+\n",
      "| Trial name             | status   | loc                  |   learning_rate | lr_scheduler_type   |   warmup_ratio |   objective |\n",
      "|------------------------+----------+----------------------+-----------------+---------------------+----------------+-------------|\n",
      "| _objective_13ff3_00000 | RUNNING  | 130.212.82.53:302157 |     5.61152e-06 | linear              |       0.036687 |   0.0786234 |\n",
      "+------------------------+----------+----------------------+-----------------+---------------------+----------------+-------------+\n",
      "\n",
      "\n"
     ]
    },
    {
     "name": "stderr",
     "output_type": "stream",
     "text": [
      " 53%|█████▎    | 455/858 [09:53<07:33,  1.13s/it]\n",
      " 53%|█████▎    | 456/858 [09:55<09:12,  1.37s/it]\n",
      " 53%|█████▎    | 457/858 [09:56<08:20,  1.25s/it]\n",
      " 53%|█████▎    | 458/858 [09:57<07:43,  1.16s/it]\n"
     ]
    },
    {
     "name": "stdout",
     "output_type": "stream",
     "text": [
      "== Status ==\n",
      "Current time: 2023-03-05 20:36:40 (running for 00:10:05.61)\n",
      "Memory usage on this node: 26.1/251.7 GiB \n",
      "Using FIFO scheduling algorithm.\n",
      "Resources requested: 64.0/64 CPUs, 1.0/1 GPUs, 0.0/147.5 GiB heap, 0.0/67.2 GiB objects (0.0/1.0 accelerator_type:RTX)\n",
      "Result logdir: /home/922201615/ray_results/_objective_2023-03-05_20-26-34\n",
      "Number of trials: 1/1 (1 RUNNING)\n",
      "+------------------------+----------+----------------------+-----------------+---------------------+----------------+-------------+\n",
      "| Trial name             | status   | loc                  |   learning_rate | lr_scheduler_type   |   warmup_ratio |   objective |\n",
      "|------------------------+----------+----------------------+-----------------+---------------------+----------------+-------------|\n",
      "| _objective_13ff3_00000 | RUNNING  | 130.212.82.53:302157 |     5.61152e-06 | linear              |       0.036687 |   0.0786234 |\n",
      "+------------------------+----------+----------------------+-----------------+---------------------+----------------+-------------+\n",
      "\n",
      "\n"
     ]
    },
    {
     "name": "stderr",
     "output_type": "stream",
     "text": [
      " 53%|█████▎    | 459/858 [09:58<07:17,  1.10s/it]\n",
      " 54%|█████▎    | 460/858 [10:00<09:05,  1.37s/it]\n",
      " 54%|█████▎    | 461/858 [10:01<08:14,  1.25s/it]\n",
      " 54%|█████▍    | 462/858 [10:02<07:38,  1.16s/it]\n",
      " 54%|█████▍    | 463/858 [10:03<07:12,  1.10s/it]\n"
     ]
    },
    {
     "name": "stdout",
     "output_type": "stream",
     "text": [
      "== Status ==\n",
      "Current time: 2023-03-05 20:36:45 (running for 00:10:10.61)\n",
      "Memory usage on this node: 26.3/251.7 GiB \n",
      "Using FIFO scheduling algorithm.\n",
      "Resources requested: 64.0/64 CPUs, 1.0/1 GPUs, 0.0/147.5 GiB heap, 0.0/67.2 GiB objects (0.0/1.0 accelerator_type:RTX)\n",
      "Result logdir: /home/922201615/ray_results/_objective_2023-03-05_20-26-34\n",
      "Number of trials: 1/1 (1 RUNNING)\n",
      "+------------------------+----------+----------------------+-----------------+---------------------+----------------+-------------+\n",
      "| Trial name             | status   | loc                  |   learning_rate | lr_scheduler_type   |   warmup_ratio |   objective |\n",
      "|------------------------+----------+----------------------+-----------------+---------------------+----------------+-------------|\n",
      "| _objective_13ff3_00000 | RUNNING  | 130.212.82.53:302157 |     5.61152e-06 | linear              |       0.036687 |   0.0786234 |\n",
      "+------------------------+----------+----------------------+-----------------+---------------------+----------------+-------------+\n",
      "\n",
      "\n"
     ]
    },
    {
     "name": "stderr",
     "output_type": "stream",
     "text": [
      " 54%|█████▍    | 464/858 [10:04<08:14,  1.25s/it]\n",
      " 54%|█████▍    | 465/858 [10:05<07:37,  1.16s/it]\n",
      " 54%|█████▍    | 466/858 [10:06<07:11,  1.10s/it]\n",
      " 54%|█████▍    | 467/858 [10:07<06:52,  1.06s/it]\n"
     ]
    },
    {
     "name": "stdout",
     "output_type": "stream",
     "text": [
      "== Status ==\n",
      "Current time: 2023-03-05 20:36:50 (running for 00:10:15.62)\n",
      "Memory usage on this node: 26.1/251.7 GiB \n",
      "Using FIFO scheduling algorithm.\n",
      "Resources requested: 64.0/64 CPUs, 1.0/1 GPUs, 0.0/147.5 GiB heap, 0.0/67.2 GiB objects (0.0/1.0 accelerator_type:RTX)\n",
      "Result logdir: /home/922201615/ray_results/_objective_2023-03-05_20-26-34\n",
      "Number of trials: 1/1 (1 RUNNING)\n",
      "+------------------------+----------+----------------------+-----------------+---------------------+----------------+-------------+\n",
      "| Trial name             | status   | loc                  |   learning_rate | lr_scheduler_type   |   warmup_ratio |   objective |\n",
      "|------------------------+----------+----------------------+-----------------+---------------------+----------------+-------------|\n",
      "| _objective_13ff3_00000 | RUNNING  | 130.212.82.53:302157 |     5.61152e-06 | linear              |       0.036687 |   0.0786234 |\n",
      "+------------------------+----------+----------------------+-----------------+---------------------+----------------+-------------+\n",
      "\n",
      "\n"
     ]
    },
    {
     "name": "stderr",
     "output_type": "stream",
     "text": [
      " 55%|█████▍    | 468/858 [10:09<08:48,  1.35s/it]\n",
      " 55%|█████▍    | 469/858 [10:10<07:59,  1.23s/it]\n",
      " 55%|█████▍    | 470/858 [10:11<07:25,  1.15s/it]\n",
      " 55%|█████▍    | 471/858 [10:12<07:01,  1.09s/it]\n"
     ]
    },
    {
     "name": "stdout",
     "output_type": "stream",
     "text": [
      "== Status ==\n",
      "Current time: 2023-03-05 20:36:55 (running for 00:10:20.62)\n",
      "Memory usage on this node: 26.0/251.7 GiB \n",
      "Using FIFO scheduling algorithm.\n",
      "Resources requested: 64.0/64 CPUs, 1.0/1 GPUs, 0.0/147.5 GiB heap, 0.0/67.2 GiB objects (0.0/1.0 accelerator_type:RTX)\n",
      "Result logdir: /home/922201615/ray_results/_objective_2023-03-05_20-26-34\n",
      "Number of trials: 1/1 (1 RUNNING)\n",
      "+------------------------+----------+----------------------+-----------------+---------------------+----------------+-------------+\n",
      "| Trial name             | status   | loc                  |   learning_rate | lr_scheduler_type   |   warmup_ratio |   objective |\n",
      "|------------------------+----------+----------------------+-----------------+---------------------+----------------+-------------|\n",
      "| _objective_13ff3_00000 | RUNNING  | 130.212.82.53:302157 |     5.61152e-06 | linear              |       0.036687 |   0.0786234 |\n",
      "+------------------------+----------+----------------------+-----------------+---------------------+----------------+-------------+\n",
      "\n",
      "\n"
     ]
    },
    {
     "name": "stderr",
     "output_type": "stream",
     "text": [
      " 55%|█████▌    | 472/858 [10:14<08:48,  1.37s/it]\n",
      " 55%|█████▌    | 473/858 [10:15<07:59,  1.24s/it]\n",
      " 55%|█████▌    | 474/858 [10:16<07:24,  1.16s/it]\n",
      " 55%|█████▌    | 475/858 [10:17<06:59,  1.10s/it]\n"
     ]
    },
    {
     "name": "stdout",
     "output_type": "stream",
     "text": [
      "== Status ==\n",
      "Current time: 2023-03-05 20:37:00 (running for 00:10:25.63)\n",
      "Memory usage on this node: 26.3/251.7 GiB \n",
      "Using FIFO scheduling algorithm.\n",
      "Resources requested: 64.0/64 CPUs, 1.0/1 GPUs, 0.0/147.5 GiB heap, 0.0/67.2 GiB objects (0.0/1.0 accelerator_type:RTX)\n",
      "Result logdir: /home/922201615/ray_results/_objective_2023-03-05_20-26-34\n",
      "Number of trials: 1/1 (1 RUNNING)\n",
      "+------------------------+----------+----------------------+-----------------+---------------------+----------------+-------------+\n",
      "| Trial name             | status   | loc                  |   learning_rate | lr_scheduler_type   |   warmup_ratio |   objective |\n",
      "|------------------------+----------+----------------------+-----------------+---------------------+----------------+-------------|\n",
      "| _objective_13ff3_00000 | RUNNING  | 130.212.82.53:302157 |     5.61152e-06 | linear              |       0.036687 |   0.0786234 |\n",
      "+------------------------+----------+----------------------+-----------------+---------------------+----------------+-------------+\n",
      "\n",
      "\n"
     ]
    },
    {
     "name": "stderr",
     "output_type": "stream",
     "text": [
      " 55%|█████▌    | 476/858 [10:18<06:51,  1.08s/it]\n",
      " 56%|█████▌    | 477/858 [10:19<06:36,  1.04s/it]\n",
      " 56%|█████▌    | 478/858 [10:20<06:25,  1.02s/it]\n",
      " 56%|█████▌    | 479/858 [10:21<06:18,  1.00it/s]\n"
     ]
    },
    {
     "name": "stdout",
     "output_type": "stream",
     "text": [
      "== Status ==\n",
      "Current time: 2023-03-05 20:37:05 (running for 00:10:30.63)\n",
      "Memory usage on this node: 26.1/251.7 GiB \n",
      "Using FIFO scheduling algorithm.\n",
      "Resources requested: 64.0/64 CPUs, 1.0/1 GPUs, 0.0/147.5 GiB heap, 0.0/67.2 GiB objects (0.0/1.0 accelerator_type:RTX)\n",
      "Result logdir: /home/922201615/ray_results/_objective_2023-03-05_20-26-34\n",
      "Number of trials: 1/1 (1 RUNNING)\n",
      "+------------------------+----------+----------------------+-----------------+---------------------+----------------+-------------+\n",
      "| Trial name             | status   | loc                  |   learning_rate | lr_scheduler_type   |   warmup_ratio |   objective |\n",
      "|------------------------+----------+----------------------+-----------------+---------------------+----------------+-------------|\n",
      "| _objective_13ff3_00000 | RUNNING  | 130.212.82.53:302157 |     5.61152e-06 | linear              |       0.036687 |   0.0786234 |\n",
      "+------------------------+----------+----------------------+-----------------+---------------------+----------------+-------------+\n",
      "\n",
      "\n"
     ]
    },
    {
     "name": "stderr",
     "output_type": "stream",
     "text": [
      " 56%|█████▌    | 480/858 [10:23<08:10,  1.30s/it]\n",
      " 56%|█████▌    | 481/858 [10:24<07:30,  1.19s/it]\n",
      " 56%|█████▌    | 482/858 [10:25<07:02,  1.12s/it]\n",
      " 56%|█████▋    | 483/858 [10:26<06:42,  1.07s/it]\n"
     ]
    },
    {
     "name": "stdout",
     "output_type": "stream",
     "text": [
      "== Status ==\n",
      "Current time: 2023-03-05 20:37:10 (running for 00:10:35.63)\n",
      "Memory usage on this node: 26.1/251.7 GiB \n",
      "Using FIFO scheduling algorithm.\n",
      "Resources requested: 64.0/64 CPUs, 1.0/1 GPUs, 0.0/147.5 GiB heap, 0.0/67.2 GiB objects (0.0/1.0 accelerator_type:RTX)\n",
      "Result logdir: /home/922201615/ray_results/_objective_2023-03-05_20-26-34\n",
      "Number of trials: 1/1 (1 RUNNING)\n",
      "+------------------------+----------+----------------------+-----------------+---------------------+----------------+-------------+\n",
      "| Trial name             | status   | loc                  |   learning_rate | lr_scheduler_type   |   warmup_ratio |   objective |\n",
      "|------------------------+----------+----------------------+-----------------+---------------------+----------------+-------------|\n",
      "| _objective_13ff3_00000 | RUNNING  | 130.212.82.53:302157 |     5.61152e-06 | linear              |       0.036687 |   0.0786234 |\n",
      "+------------------------+----------+----------------------+-----------------+---------------------+----------------+-------------+\n",
      "\n",
      "\n"
     ]
    },
    {
     "name": "stderr",
     "output_type": "stream",
     "text": [
      " 56%|█████▋    | 484/858 [10:28<08:29,  1.36s/it]\n",
      " 57%|█████▋    | 485/858 [10:29<07:42,  1.24s/it]\n",
      " 57%|█████▋    | 486/858 [10:30<07:09,  1.15s/it]\n",
      " 57%|█████▋    | 487/858 [10:31<06:46,  1.09s/it]\n",
      " 57%|█████▋    | 488/858 [10:32<08:19,  1.35s/it]\n"
     ]
    },
    {
     "name": "stdout",
     "output_type": "stream",
     "text": [
      "== Status ==\n",
      "Current time: 2023-03-05 20:37:15 (running for 00:10:40.64)\n",
      "Memory usage on this node: 26.3/251.7 GiB \n",
      "Using FIFO scheduling algorithm.\n",
      "Resources requested: 64.0/64 CPUs, 1.0/1 GPUs, 0.0/147.5 GiB heap, 0.0/67.2 GiB objects (0.0/1.0 accelerator_type:RTX)\n",
      "Result logdir: /home/922201615/ray_results/_objective_2023-03-05_20-26-34\n",
      "Number of trials: 1/1 (1 RUNNING)\n",
      "+------------------------+----------+----------------------+-----------------+---------------------+----------------+-------------+\n",
      "| Trial name             | status   | loc                  |   learning_rate | lr_scheduler_type   |   warmup_ratio |   objective |\n",
      "|------------------------+----------+----------------------+-----------------+---------------------+----------------+-------------|\n",
      "| _objective_13ff3_00000 | RUNNING  | 130.212.82.53:302157 |     5.61152e-06 | linear              |       0.036687 |   0.0786234 |\n",
      "+------------------------+----------+----------------------+-----------------+---------------------+----------------+-------------+\n",
      "\n",
      "\n"
     ]
    },
    {
     "name": "stderr",
     "output_type": "stream",
     "text": [
      " 57%|█████▋    | 489/858 [10:33<07:34,  1.23s/it]\n",
      " 57%|█████▋    | 490/858 [10:34<07:02,  1.15s/it]\n",
      " 57%|█████▋    | 491/858 [10:35<06:40,  1.09s/it]\n",
      " 57%|█████▋    | 492/858 [10:37<08:14,  1.35s/it]\n"
     ]
    },
    {
     "name": "stdout",
     "output_type": "stream",
     "text": [
      "== Status ==\n",
      "Current time: 2023-03-05 20:37:20 (running for 00:10:45.64)\n",
      "Memory usage on this node: 25.7/251.7 GiB \n",
      "Using FIFO scheduling algorithm.\n",
      "Resources requested: 64.0/64 CPUs, 1.0/1 GPUs, 0.0/147.5 GiB heap, 0.0/67.2 GiB objects (0.0/1.0 accelerator_type:RTX)\n",
      "Result logdir: /home/922201615/ray_results/_objective_2023-03-05_20-26-34\n",
      "Number of trials: 1/1 (1 RUNNING)\n",
      "+------------------------+----------+----------------------+-----------------+---------------------+----------------+-------------+\n",
      "| Trial name             | status   | loc                  |   learning_rate | lr_scheduler_type   |   warmup_ratio |   objective |\n",
      "|------------------------+----------+----------------------+-----------------+---------------------+----------------+-------------|\n",
      "| _objective_13ff3_00000 | RUNNING  | 130.212.82.53:302157 |     5.61152e-06 | linear              |       0.036687 |   0.0786234 |\n",
      "+------------------------+----------+----------------------+-----------------+---------------------+----------------+-------------+\n",
      "\n",
      "\n"
     ]
    },
    {
     "name": "stderr",
     "output_type": "stream",
     "text": [
      " 57%|█████▋    | 493/858 [10:38<07:29,  1.23s/it]\n",
      " 58%|█████▊    | 494/858 [10:39<06:58,  1.15s/it]\n",
      " 58%|█████▊    | 495/858 [10:40<06:36,  1.09s/it]\n",
      " 58%|█████▊    | 496/858 [10:42<08:24,  1.39s/it]\n"
     ]
    },
    {
     "name": "stdout",
     "output_type": "stream",
     "text": [
      "== Status ==\n",
      "Current time: 2023-03-05 20:37:25 (running for 00:10:50.64)\n",
      "Memory usage on this node: 25.9/251.7 GiB \n",
      "Using FIFO scheduling algorithm.\n",
      "Resources requested: 64.0/64 CPUs, 1.0/1 GPUs, 0.0/147.5 GiB heap, 0.0/67.2 GiB objects (0.0/1.0 accelerator_type:RTX)\n",
      "Result logdir: /home/922201615/ray_results/_objective_2023-03-05_20-26-34\n",
      "Number of trials: 1/1 (1 RUNNING)\n",
      "+------------------------+----------+----------------------+-----------------+---------------------+----------------+-------------+\n",
      "| Trial name             | status   | loc                  |   learning_rate | lr_scheduler_type   |   warmup_ratio |   objective |\n",
      "|------------------------+----------+----------------------+-----------------+---------------------+----------------+-------------|\n",
      "| _objective_13ff3_00000 | RUNNING  | 130.212.82.53:302157 |     5.61152e-06 | linear              |       0.036687 |   0.0786234 |\n",
      "+------------------------+----------+----------------------+-----------------+---------------------+----------------+-------------+\n",
      "\n",
      "\n"
     ]
    },
    {
     "name": "stderr",
     "output_type": "stream",
     "text": [
      " 58%|█████▊    | 497/858 [10:43<07:35,  1.26s/it]\n",
      " 58%|█████▊    | 498/858 [10:44<07:01,  1.17s/it]\n",
      " 58%|█████▊    | 499/858 [10:45<06:36,  1.11s/it]\n",
      " 58%|█████▊    | 500/858 [10:47<08:10,  1.37s/it]\n"
     ]
    },
    {
     "name": "stdout",
     "output_type": "stream",
     "text": [
      "== Status ==\n",
      "Current time: 2023-03-05 20:37:30 (running for 00:10:55.65)\n",
      "Memory usage on this node: 25.6/251.7 GiB \n",
      "Using FIFO scheduling algorithm.\n",
      "Resources requested: 64.0/64 CPUs, 1.0/1 GPUs, 0.0/147.5 GiB heap, 0.0/67.2 GiB objects (0.0/1.0 accelerator_type:RTX)\n",
      "Result logdir: /home/922201615/ray_results/_objective_2023-03-05_20-26-34\n",
      "Number of trials: 1/1 (1 RUNNING)\n",
      "+------------------------+----------+----------------------+-----------------+---------------------+----------------+-------------+\n",
      "| Trial name             | status   | loc                  |   learning_rate | lr_scheduler_type   |   warmup_ratio |   objective |\n",
      "|------------------------+----------+----------------------+-----------------+---------------------+----------------+-------------|\n",
      "| _objective_13ff3_00000 | RUNNING  | 130.212.82.53:302157 |     5.61152e-06 | linear              |       0.036687 |   0.0786234 |\n",
      "+------------------------+----------+----------------------+-----------------+---------------------+----------------+-------------+\n",
      "\n",
      "\n"
     ]
    },
    {
     "name": "stderr",
     "output_type": "stream",
     "text": [
      " 58%|█████▊    | 501/858 [10:51<13:16,  2.23s/it]\n",
      " 59%|█████▊    | 502/858 [10:52<10:57,  1.85s/it]\n"
     ]
    },
    {
     "name": "stdout",
     "output_type": "stream",
     "text": [
      "== Status ==\n",
      "Current time: 2023-03-05 20:37:35 (running for 00:11:00.65)\n",
      "Memory usage on this node: 25.6/251.7 GiB \n",
      "Using FIFO scheduling algorithm.\n",
      "Resources requested: 64.0/64 CPUs, 1.0/1 GPUs, 0.0/147.5 GiB heap, 0.0/67.2 GiB objects (0.0/1.0 accelerator_type:RTX)\n",
      "Result logdir: /home/922201615/ray_results/_objective_2023-03-05_20-26-34\n",
      "Number of trials: 1/1 (1 RUNNING)\n",
      "+------------------------+----------+----------------------+-----------------+---------------------+----------------+-------------+\n",
      "| Trial name             | status   | loc                  |   learning_rate | lr_scheduler_type   |   warmup_ratio |   objective |\n",
      "|------------------------+----------+----------------------+-----------------+---------------------+----------------+-------------|\n",
      "| _objective_13ff3_00000 | RUNNING  | 130.212.82.53:302157 |     5.61152e-06 | linear              |       0.036687 |   0.0786234 |\n",
      "+------------------------+----------+----------------------+-----------------+---------------------+----------------+-------------+\n",
      "\n",
      "\n"
     ]
    },
    {
     "name": "stderr",
     "output_type": "stream",
     "text": [
      " 59%|█████▊    | 503/858 [10:53<09:20,  1.58s/it]\n",
      " 59%|█████▊    | 504/858 [10:54<08:12,  1.39s/it]\n",
      " 59%|█████▉    | 505/858 [10:55<07:24,  1.26s/it]\n",
      " 59%|█████▉    | 506/858 [10:56<06:51,  1.17s/it]\n",
      " 59%|█████▉    | 507/858 [10:57<06:27,  1.10s/it]\n"
     ]
    },
    {
     "name": "stdout",
     "output_type": "stream",
     "text": [
      "== Status ==\n",
      "Current time: 2023-03-05 20:37:40 (running for 00:11:05.65)\n",
      "Memory usage on this node: 25.7/251.7 GiB \n",
      "Using FIFO scheduling algorithm.\n",
      "Resources requested: 64.0/64 CPUs, 1.0/1 GPUs, 0.0/147.5 GiB heap, 0.0/67.2 GiB objects (0.0/1.0 accelerator_type:RTX)\n",
      "Result logdir: /home/922201615/ray_results/_objective_2023-03-05_20-26-34\n",
      "Number of trials: 1/1 (1 RUNNING)\n",
      "+------------------------+----------+----------------------+-----------------+---------------------+----------------+-------------+\n",
      "| Trial name             | status   | loc                  |   learning_rate | lr_scheduler_type   |   warmup_ratio |   objective |\n",
      "|------------------------+----------+----------------------+-----------------+---------------------+----------------+-------------|\n",
      "| _objective_13ff3_00000 | RUNNING  | 130.212.82.53:302157 |     5.61152e-06 | linear              |       0.036687 |   0.0786234 |\n",
      "+------------------------+----------+----------------------+-----------------+---------------------+----------------+-------------+\n",
      "\n",
      "\n"
     ]
    },
    {
     "name": "stderr",
     "output_type": "stream",
     "text": [
      " 59%|█████▉    | 508/858 [10:58<06:10,  1.06s/it]\n",
      " 59%|█████▉    | 509/858 [10:59<05:58,  1.03s/it]\n",
      " 59%|█████▉    | 510/858 [11:00<05:49,  1.00s/it]\n",
      " 60%|█████▉    | 511/858 [11:01<05:43,  1.01it/s]\n",
      " 60%|█████▉    | 512/858 [11:02<05:38,  1.02it/s]\n"
     ]
    },
    {
     "name": "stdout",
     "output_type": "stream",
     "text": [
      "== Status ==\n",
      "Current time: 2023-03-05 20:37:45 (running for 00:11:10.66)\n",
      "Memory usage on this node: 26.0/251.7 GiB \n",
      "Using FIFO scheduling algorithm.\n",
      "Resources requested: 64.0/64 CPUs, 1.0/1 GPUs, 0.0/147.5 GiB heap, 0.0/67.2 GiB objects (0.0/1.0 accelerator_type:RTX)\n",
      "Result logdir: /home/922201615/ray_results/_objective_2023-03-05_20-26-34\n",
      "Number of trials: 1/1 (1 RUNNING)\n",
      "+------------------------+----------+----------------------+-----------------+---------------------+----------------+-------------+\n",
      "| Trial name             | status   | loc                  |   learning_rate | lr_scheduler_type   |   warmup_ratio |   objective |\n",
      "|------------------------+----------+----------------------+-----------------+---------------------+----------------+-------------|\n",
      "| _objective_13ff3_00000 | RUNNING  | 130.212.82.53:302157 |     5.61152e-06 | linear              |       0.036687 |   0.0786234 |\n",
      "+------------------------+----------+----------------------+-----------------+---------------------+----------------+-------------+\n",
      "\n",
      "\n"
     ]
    },
    {
     "name": "stderr",
     "output_type": "stream",
     "text": [
      " 60%|█████▉    | 513/858 [11:03<05:35,  1.03it/s]\n",
      " 60%|█████▉    | 514/858 [11:04<05:32,  1.04it/s]\n",
      " 60%|██████    | 515/858 [11:05<05:30,  1.04it/s]\n",
      " 60%|██████    | 516/858 [11:07<06:58,  1.23s/it]\n",
      " 60%|██████    | 517/858 [11:08<06:30,  1.14s/it]\n"
     ]
    },
    {
     "name": "stdout",
     "output_type": "stream",
     "text": [
      "== Status ==\n",
      "Current time: 2023-03-05 20:37:50 (running for 00:11:15.66)\n",
      "Memory usage on this node: 26.5/251.7 GiB \n",
      "Using FIFO scheduling algorithm.\n",
      "Resources requested: 64.0/64 CPUs, 1.0/1 GPUs, 0.0/147.5 GiB heap, 0.0/67.2 GiB objects (0.0/1.0 accelerator_type:RTX)\n",
      "Result logdir: /home/922201615/ray_results/_objective_2023-03-05_20-26-34\n",
      "Number of trials: 1/1 (1 RUNNING)\n",
      "+------------------------+----------+----------------------+-----------------+---------------------+----------------+-------------+\n",
      "| Trial name             | status   | loc                  |   learning_rate | lr_scheduler_type   |   warmup_ratio |   objective |\n",
      "|------------------------+----------+----------------------+-----------------+---------------------+----------------+-------------|\n",
      "| _objective_13ff3_00000 | RUNNING  | 130.212.82.53:302157 |     5.61152e-06 | linear              |       0.036687 |   0.0786234 |\n",
      "+------------------------+----------+----------------------+-----------------+---------------------+----------------+-------------+\n",
      "\n",
      "\n"
     ]
    },
    {
     "name": "stderr",
     "output_type": "stream",
     "text": [
      " 60%|██████    | 518/858 [11:08<06:09,  1.09s/it]\n",
      " 60%|██████    | 519/858 [11:09<05:54,  1.05s/it]\n",
      " 61%|██████    | 520/858 [11:11<07:27,  1.32s/it]\n",
      " 61%|██████    | 521/858 [11:12<06:48,  1.21s/it]\n"
     ]
    },
    {
     "name": "stdout",
     "output_type": "stream",
     "text": [
      "== Status ==\n",
      "Current time: 2023-03-05 20:37:55 (running for 00:11:20.66)\n",
      "Memory usage on this node: 26.8/251.7 GiB \n",
      "Using FIFO scheduling algorithm.\n",
      "Resources requested: 64.0/64 CPUs, 1.0/1 GPUs, 0.0/147.5 GiB heap, 0.0/67.2 GiB objects (0.0/1.0 accelerator_type:RTX)\n",
      "Result logdir: /home/922201615/ray_results/_objective_2023-03-05_20-26-34\n",
      "Number of trials: 1/1 (1 RUNNING)\n",
      "+------------------------+----------+----------------------+-----------------+---------------------+----------------+-------------+\n",
      "| Trial name             | status   | loc                  |   learning_rate | lr_scheduler_type   |   warmup_ratio |   objective |\n",
      "|------------------------+----------+----------------------+-----------------+---------------------+----------------+-------------|\n",
      "| _objective_13ff3_00000 | RUNNING  | 130.212.82.53:302157 |     5.61152e-06 | linear              |       0.036687 |   0.0786234 |\n",
      "+------------------------+----------+----------------------+-----------------+---------------------+----------------+-------------+\n",
      "\n",
      "\n"
     ]
    },
    {
     "name": "stderr",
     "output_type": "stream",
     "text": [
      " 61%|██████    | 522/858 [11:13<06:21,  1.14s/it]\n",
      " 61%|██████    | 523/858 [11:14<06:01,  1.08s/it]\n",
      " 61%|██████    | 524/858 [11:16<07:29,  1.35s/it]\n",
      " 61%|██████    | 525/858 [11:17<06:49,  1.23s/it]\n"
     ]
    },
    {
     "name": "stdout",
     "output_type": "stream",
     "text": [
      "== Status ==\n",
      "Current time: 2023-03-05 20:38:00 (running for 00:11:25.67)\n",
      "Memory usage on this node: 26.3/251.7 GiB \n",
      "Using FIFO scheduling algorithm.\n",
      "Resources requested: 64.0/64 CPUs, 1.0/1 GPUs, 0.0/147.5 GiB heap, 0.0/67.2 GiB objects (0.0/1.0 accelerator_type:RTX)\n",
      "Result logdir: /home/922201615/ray_results/_objective_2023-03-05_20-26-34\n",
      "Number of trials: 1/1 (1 RUNNING)\n",
      "+------------------------+----------+----------------------+-----------------+---------------------+----------------+-------------+\n",
      "| Trial name             | status   | loc                  |   learning_rate | lr_scheduler_type   |   warmup_ratio |   objective |\n",
      "|------------------------+----------+----------------------+-----------------+---------------------+----------------+-------------|\n",
      "| _objective_13ff3_00000 | RUNNING  | 130.212.82.53:302157 |     5.61152e-06 | linear              |       0.036687 |   0.0786234 |\n",
      "+------------------------+----------+----------------------+-----------------+---------------------+----------------+-------------+\n",
      "\n",
      "\n"
     ]
    },
    {
     "name": "stderr",
     "output_type": "stream",
     "text": [
      " 61%|██████▏   | 526/858 [11:18<06:20,  1.15s/it]\n",
      " 61%|██████▏   | 527/858 [11:19<06:00,  1.09s/it]\n",
      " 62%|██████▏   | 528/858 [11:21<07:27,  1.36s/it]\n",
      " 62%|██████▏   | 529/858 [11:22<06:46,  1.24s/it]\n"
     ]
    },
    {
     "name": "stdout",
     "output_type": "stream",
     "text": [
      "== Status ==\n",
      "Current time: 2023-03-05 20:38:05 (running for 00:11:30.67)\n",
      "Memory usage on this node: 25.8/251.7 GiB \n",
      "Using FIFO scheduling algorithm.\n",
      "Resources requested: 64.0/64 CPUs, 1.0/1 GPUs, 0.0/147.5 GiB heap, 0.0/67.2 GiB objects (0.0/1.0 accelerator_type:RTX)\n",
      "Result logdir: /home/922201615/ray_results/_objective_2023-03-05_20-26-34\n",
      "Number of trials: 1/1 (1 RUNNING)\n",
      "+------------------------+----------+----------------------+-----------------+---------------------+----------------+-------------+\n",
      "| Trial name             | status   | loc                  |   learning_rate | lr_scheduler_type   |   warmup_ratio |   objective |\n",
      "|------------------------+----------+----------------------+-----------------+---------------------+----------------+-------------|\n",
      "| _objective_13ff3_00000 | RUNNING  | 130.212.82.53:302157 |     5.61152e-06 | linear              |       0.036687 |   0.0786234 |\n",
      "+------------------------+----------+----------------------+-----------------+---------------------+----------------+-------------+\n",
      "\n",
      "\n"
     ]
    },
    {
     "name": "stderr",
     "output_type": "stream",
     "text": [
      " 62%|██████▏   | 530/858 [11:23<06:17,  1.15s/it]\n",
      " 62%|██████▏   | 531/858 [11:24<05:57,  1.09s/it]\n",
      " 62%|██████▏   | 532/858 [11:26<07:17,  1.34s/it]\n",
      " 62%|██████▏   | 533/858 [11:27<06:38,  1.23s/it]\n"
     ]
    },
    {
     "name": "stdout",
     "output_type": "stream",
     "text": [
      "== Status ==\n",
      "Current time: 2023-03-05 20:38:10 (running for 00:11:35.68)\n",
      "Memory usage on this node: 25.9/251.7 GiB \n",
      "Using FIFO scheduling algorithm.\n",
      "Resources requested: 64.0/64 CPUs, 1.0/1 GPUs, 0.0/147.5 GiB heap, 0.0/67.2 GiB objects (0.0/1.0 accelerator_type:RTX)\n",
      "Result logdir: /home/922201615/ray_results/_objective_2023-03-05_20-26-34\n",
      "Number of trials: 1/1 (1 RUNNING)\n",
      "+------------------------+----------+----------------------+-----------------+---------------------+----------------+-------------+\n",
      "| Trial name             | status   | loc                  |   learning_rate | lr_scheduler_type   |   warmup_ratio |   objective |\n",
      "|------------------------+----------+----------------------+-----------------+---------------------+----------------+-------------|\n",
      "| _objective_13ff3_00000 | RUNNING  | 130.212.82.53:302157 |     5.61152e-06 | linear              |       0.036687 |   0.0786234 |\n",
      "+------------------------+----------+----------------------+-----------------+---------------------+----------------+-------------+\n",
      "\n",
      "\n"
     ]
    },
    {
     "name": "stderr",
     "output_type": "stream",
     "text": [
      " 62%|██████▏   | 534/858 [11:28<06:10,  1.14s/it]\n",
      " 62%|██████▏   | 535/858 [11:29<05:51,  1.09s/it]\n",
      " 62%|██████▏   | 536/858 [11:31<07:15,  1.35s/it]\n",
      " 63%|██████▎   | 537/858 [11:32<06:35,  1.23s/it]\n",
      " 63%|██████▎   | 538/858 [11:33<06:07,  1.15s/it]\n"
     ]
    },
    {
     "name": "stdout",
     "output_type": "stream",
     "text": [
      "== Status ==\n",
      "Current time: 2023-03-05 20:38:15 (running for 00:11:40.68)\n",
      "Memory usage on this node: 26.2/251.7 GiB \n",
      "Using FIFO scheduling algorithm.\n",
      "Resources requested: 64.0/64 CPUs, 1.0/1 GPUs, 0.0/147.5 GiB heap, 0.0/67.2 GiB objects (0.0/1.0 accelerator_type:RTX)\n",
      "Result logdir: /home/922201615/ray_results/_objective_2023-03-05_20-26-34\n",
      "Number of trials: 1/1 (1 RUNNING)\n",
      "+------------------------+----------+----------------------+-----------------+---------------------+----------------+-------------+\n",
      "| Trial name             | status   | loc                  |   learning_rate | lr_scheduler_type   |   warmup_ratio |   objective |\n",
      "|------------------------+----------+----------------------+-----------------+---------------------+----------------+-------------|\n",
      "| _objective_13ff3_00000 | RUNNING  | 130.212.82.53:302157 |     5.61152e-06 | linear              |       0.036687 |   0.0786234 |\n",
      "+------------------------+----------+----------------------+-----------------+---------------------+----------------+-------------+\n",
      "\n",
      "\n"
     ]
    },
    {
     "name": "stderr",
     "output_type": "stream",
     "text": [
      " 63%|██████▎   | 539/858 [11:34<05:48,  1.09s/it]\n",
      " 63%|██████▎   | 540/858 [11:35<06:21,  1.20s/it]\n",
      " 63%|██████▎   | 541/858 [11:36<05:56,  1.13s/it]\n",
      " 63%|██████▎   | 542/858 [11:37<05:52,  1.11s/it]\n"
     ]
    },
    {
     "name": "stdout",
     "output_type": "stream",
     "text": [
      "== Status ==\n",
      "Current time: 2023-03-05 20:38:20 (running for 00:11:45.68)\n",
      "Memory usage on this node: 25.9/251.7 GiB \n",
      "Using FIFO scheduling algorithm.\n",
      "Resources requested: 64.0/64 CPUs, 1.0/1 GPUs, 0.0/147.5 GiB heap, 0.0/67.2 GiB objects (0.0/1.0 accelerator_type:RTX)\n",
      "Result logdir: /home/922201615/ray_results/_objective_2023-03-05_20-26-34\n",
      "Number of trials: 1/1 (1 RUNNING)\n",
      "+------------------------+----------+----------------------+-----------------+---------------------+----------------+-------------+\n",
      "| Trial name             | status   | loc                  |   learning_rate | lr_scheduler_type   |   warmup_ratio |   objective |\n",
      "|------------------------+----------+----------------------+-----------------+---------------------+----------------+-------------|\n",
      "| _objective_13ff3_00000 | RUNNING  | 130.212.82.53:302157 |     5.61152e-06 | linear              |       0.036687 |   0.0786234 |\n",
      "+------------------------+----------+----------------------+-----------------+---------------------+----------------+-------------+\n",
      "\n",
      "\n"
     ]
    },
    {
     "name": "stderr",
     "output_type": "stream",
     "text": [
      " 63%|██████▎   | 543/858 [11:38<05:36,  1.07s/it]\n",
      " 63%|██████▎   | 544/858 [11:40<06:39,  1.27s/it]\n",
      " 64%|██████▎   | 545/858 [11:41<06:08,  1.18s/it]\n",
      " 64%|██████▎   | 546/858 [11:42<06:00,  1.16s/it]\n"
     ]
    },
    {
     "name": "stdout",
     "output_type": "stream",
     "text": [
      "== Status ==\n",
      "Current time: 2023-03-05 20:38:25 (running for 00:11:50.69)\n",
      "Memory usage on this node: 25.5/251.7 GiB \n",
      "Using FIFO scheduling algorithm.\n",
      "Resources requested: 64.0/64 CPUs, 1.0/1 GPUs, 0.0/147.5 GiB heap, 0.0/67.2 GiB objects (0.0/1.0 accelerator_type:RTX)\n",
      "Result logdir: /home/922201615/ray_results/_objective_2023-03-05_20-26-34\n",
      "Number of trials: 1/1 (1 RUNNING)\n",
      "+------------------------+----------+----------------------+-----------------+---------------------+----------------+-------------+\n",
      "| Trial name             | status   | loc                  |   learning_rate | lr_scheduler_type   |   warmup_ratio |   objective |\n",
      "|------------------------+----------+----------------------+-----------------+---------------------+----------------+-------------|\n",
      "| _objective_13ff3_00000 | RUNNING  | 130.212.82.53:302157 |     5.61152e-06 | linear              |       0.036687 |   0.0786234 |\n",
      "+------------------------+----------+----------------------+-----------------+---------------------+----------------+-------------+\n",
      "\n",
      "\n"
     ]
    },
    {
     "name": "stderr",
     "output_type": "stream",
     "text": [
      " 64%|██████▍   | 547/858 [11:43<05:40,  1.10s/it]\n",
      " 64%|██████▍   | 548/858 [11:45<06:41,  1.30s/it]\n",
      " 64%|██████▍   | 549/858 [11:45<06:08,  1.19s/it]\n",
      " 64%|██████▍   | 550/858 [11:47<06:10,  1.20s/it]\n",
      " 64%|██████▍   | 551/858 [11:48<05:46,  1.13s/it]\n"
     ]
    },
    {
     "name": "stdout",
     "output_type": "stream",
     "text": [
      "== Status ==\n",
      "Current time: 2023-03-05 20:38:30 (running for 00:11:55.69)\n",
      "Memory usage on this node: 26.0/251.7 GiB \n",
      "Using FIFO scheduling algorithm.\n",
      "Resources requested: 64.0/64 CPUs, 1.0/1 GPUs, 0.0/147.5 GiB heap, 0.0/67.2 GiB objects (0.0/1.0 accelerator_type:RTX)\n",
      "Result logdir: /home/922201615/ray_results/_objective_2023-03-05_20-26-34\n",
      "Number of trials: 1/1 (1 RUNNING)\n",
      "+------------------------+----------+----------------------+-----------------+---------------------+----------------+-------------+\n",
      "| Trial name             | status   | loc                  |   learning_rate | lr_scheduler_type   |   warmup_ratio |   objective |\n",
      "|------------------------+----------+----------------------+-----------------+---------------------+----------------+-------------|\n",
      "| _objective_13ff3_00000 | RUNNING  | 130.212.82.53:302157 |     5.61152e-06 | linear              |       0.036687 |   0.0786234 |\n",
      "+------------------------+----------+----------------------+-----------------+---------------------+----------------+-------------+\n",
      "\n",
      "\n"
     ]
    },
    {
     "name": "stderr",
     "output_type": "stream",
     "text": [
      " 64%|██████▍   | 552/858 [11:49<06:27,  1.27s/it]\n",
      " 64%|██████▍   | 553/858 [11:50<05:57,  1.17s/it]\n",
      " 65%|██████▍   | 554/858 [11:52<06:19,  1.25s/it]\n",
      " 65%|██████▍   | 555/858 [11:53<05:51,  1.16s/it]\n"
     ]
    },
    {
     "name": "stdout",
     "output_type": "stream",
     "text": [
      "== Status ==\n",
      "Current time: 2023-03-05 20:38:35 (running for 00:12:00.69)\n",
      "Memory usage on this node: 26.5/251.7 GiB \n",
      "Using FIFO scheduling algorithm.\n",
      "Resources requested: 64.0/64 CPUs, 1.0/1 GPUs, 0.0/147.5 GiB heap, 0.0/67.2 GiB objects (0.0/1.0 accelerator_type:RTX)\n",
      "Result logdir: /home/922201615/ray_results/_objective_2023-03-05_20-26-34\n",
      "Number of trials: 1/1 (1 RUNNING)\n",
      "+------------------------+----------+----------------------+-----------------+---------------------+----------------+-------------+\n",
      "| Trial name             | status   | loc                  |   learning_rate | lr_scheduler_type   |   warmup_ratio |   objective |\n",
      "|------------------------+----------+----------------------+-----------------+---------------------+----------------+-------------|\n",
      "| _objective_13ff3_00000 | RUNNING  | 130.212.82.53:302157 |     5.61152e-06 | linear              |       0.036687 |   0.0786234 |\n",
      "+------------------------+----------+----------------------+-----------------+---------------------+----------------+-------------+\n",
      "\n",
      "\n"
     ]
    },
    {
     "name": "stderr",
     "output_type": "stream",
     "text": [
      " 65%|██████▍   | 556/858 [11:54<06:13,  1.24s/it]\n",
      " 65%|██████▍   | 557/858 [11:55<05:46,  1.15s/it]\n",
      " 65%|██████▌   | 558/858 [11:56<06:20,  1.27s/it]\n",
      " 65%|██████▌   | 559/858 [11:57<05:51,  1.17s/it]\n"
     ]
    },
    {
     "name": "stdout",
     "output_type": "stream",
     "text": [
      "== Status ==\n",
      "Current time: 2023-03-05 20:38:40 (running for 00:12:05.70)\n",
      "Memory usage on this node: 26.8/251.7 GiB \n",
      "Using FIFO scheduling algorithm.\n",
      "Resources requested: 64.0/64 CPUs, 1.0/1 GPUs, 0.0/147.5 GiB heap, 0.0/67.2 GiB objects (0.0/1.0 accelerator_type:RTX)\n",
      "Result logdir: /home/922201615/ray_results/_objective_2023-03-05_20-26-34\n",
      "Number of trials: 1/1 (1 RUNNING)\n",
      "+------------------------+----------+----------------------+-----------------+---------------------+----------------+-------------+\n",
      "| Trial name             | status   | loc                  |   learning_rate | lr_scheduler_type   |   warmup_ratio |   objective |\n",
      "|------------------------+----------+----------------------+-----------------+---------------------+----------------+-------------|\n",
      "| _objective_13ff3_00000 | RUNNING  | 130.212.82.53:302157 |     5.61152e-06 | linear              |       0.036687 |   0.0786234 |\n",
      "+------------------------+----------+----------------------+-----------------+---------------------+----------------+-------------+\n",
      "\n",
      "\n"
     ]
    },
    {
     "name": "stderr",
     "output_type": "stream",
     "text": [
      " 65%|██████▌   | 560/858 [11:59<06:01,  1.21s/it]\n",
      " 65%|██████▌   | 561/858 [12:00<05:37,  1.14s/it]\n",
      " 66%|██████▌   | 562/858 [12:01<06:33,  1.33s/it]\n",
      " 66%|██████▌   | 563/858 [12:02<05:59,  1.22s/it]\n"
     ]
    },
    {
     "name": "stdout",
     "output_type": "stream",
     "text": [
      "== Status ==\n",
      "Current time: 2023-03-05 20:38:45 (running for 00:12:10.70)\n",
      "Memory usage on this node: 26.0/251.7 GiB \n",
      "Using FIFO scheduling algorithm.\n",
      "Resources requested: 64.0/64 CPUs, 1.0/1 GPUs, 0.0/147.5 GiB heap, 0.0/67.2 GiB objects (0.0/1.0 accelerator_type:RTX)\n",
      "Result logdir: /home/922201615/ray_results/_objective_2023-03-05_20-26-34\n",
      "Number of trials: 1/1 (1 RUNNING)\n",
      "+------------------------+----------+----------------------+-----------------+---------------------+----------------+-------------+\n",
      "| Trial name             | status   | loc                  |   learning_rate | lr_scheduler_type   |   warmup_ratio |   objective |\n",
      "|------------------------+----------+----------------------+-----------------+---------------------+----------------+-------------|\n",
      "| _objective_13ff3_00000 | RUNNING  | 130.212.82.53:302157 |     5.61152e-06 | linear              |       0.036687 |   0.0786234 |\n",
      "+------------------------+----------+----------------------+-----------------+---------------------+----------------+-------------+\n",
      "\n",
      "\n"
     ]
    },
    {
     "name": "stderr",
     "output_type": "stream",
     "text": [
      " 66%|██████▌   | 564/858 [12:03<05:34,  1.14s/it]\n",
      " 66%|██████▌   | 565/858 [12:04<05:17,  1.08s/it]\n",
      " 66%|██████▌   | 566/858 [12:07<06:59,  1.44s/it]\n",
      " 66%|██████▌   | 567/858 [12:08<06:16,  1.29s/it]\n"
     ]
    },
    {
     "name": "stdout",
     "output_type": "stream",
     "text": [
      "== Status ==\n",
      "Current time: 2023-03-05 20:38:50 (running for 00:12:15.71)\n",
      "Memory usage on this node: 25.8/251.7 GiB \n",
      "Using FIFO scheduling algorithm.\n",
      "Resources requested: 64.0/64 CPUs, 1.0/1 GPUs, 0.0/147.5 GiB heap, 0.0/67.2 GiB objects (0.0/1.0 accelerator_type:RTX)\n",
      "Result logdir: /home/922201615/ray_results/_objective_2023-03-05_20-26-34\n",
      "Number of trials: 1/1 (1 RUNNING)\n",
      "+------------------------+----------+----------------------+-----------------+---------------------+----------------+-------------+\n",
      "| Trial name             | status   | loc                  |   learning_rate | lr_scheduler_type   |   warmup_ratio |   objective |\n",
      "|------------------------+----------+----------------------+-----------------+---------------------+----------------+-------------|\n",
      "| _objective_13ff3_00000 | RUNNING  | 130.212.82.53:302157 |     5.61152e-06 | linear              |       0.036687 |   0.0786234 |\n",
      "+------------------------+----------+----------------------+-----------------+---------------------+----------------+-------------+\n",
      "\n",
      "\n"
     ]
    },
    {
     "name": "stderr",
     "output_type": "stream",
     "text": [
      " 66%|██████▌   | 568/858 [12:09<05:45,  1.19s/it]\n",
      " 66%|██████▋   | 569/858 [12:09<05:23,  1.12s/it]\n",
      " 66%|██████▋   | 570/858 [12:11<05:31,  1.15s/it]\n",
      " 67%|██████▋   | 571/858 [12:12<05:13,  1.09s/it]\n",
      " 67%|██████▋   | 572/858 [12:13<05:00,  1.05s/it]\n",
      " 67%|██████▋   | 572/858 [12:13<05:00,  1.05s/it]\n"
     ]
    },
    {
     "name": "stdout",
     "output_type": "stream",
     "text": [
      "\u001b[2m\u001b[36m(_objective pid=302157)\u001b[0m {'loss': 0.0782, 'learning_rate': 1.942970574801053e-06, 'epoch': 2.0}\n",
      "== Status ==\n",
      "Current time: 2023-03-05 20:38:55 (running for 00:12:20.71)\n",
      "Memory usage on this node: 23.9/251.7 GiB \n",
      "Using FIFO scheduling algorithm.\n",
      "Resources requested: 64.0/64 CPUs, 1.0/1 GPUs, 0.0/147.5 GiB heap, 0.0/67.2 GiB objects (0.0/1.0 accelerator_type:RTX)\n",
      "Result logdir: /home/922201615/ray_results/_objective_2023-03-05_20-26-34\n",
      "Number of trials: 1/1 (1 RUNNING)\n",
      "+------------------------+----------+----------------------+-----------------+---------------------+----------------+-------------+\n",
      "| Trial name             | status   | loc                  |   learning_rate | lr_scheduler_type   |   warmup_ratio |   objective |\n",
      "|------------------------+----------+----------------------+-----------------+---------------------+----------------+-------------|\n",
      "| _objective_13ff3_00000 | RUNNING  | 130.212.82.53:302157 |     5.61152e-06 | linear              |       0.036687 |   0.0786234 |\n",
      "+------------------------+----------+----------------------+-----------------+---------------------+----------------+-------------+\n",
      "\n",
      "\n",
      "== Status ==\n",
      "Current time: 2023-03-05 20:39:00 (running for 00:12:25.71)\n",
      "Memory usage on this node: 25.4/251.7 GiB \n",
      "Using FIFO scheduling algorithm.\n",
      "Resources requested: 64.0/64 CPUs, 1.0/1 GPUs, 0.0/147.5 GiB heap, 0.0/67.2 GiB objects (0.0/1.0 accelerator_type:RTX)\n",
      "Result logdir: /home/922201615/ray_results/_objective_2023-03-05_20-26-34\n",
      "Number of trials: 1/1 (1 RUNNING)\n",
      "+------------------------+----------+----------------------+-----------------+---------------------+----------------+-------------+\n",
      "| Trial name             | status   | loc                  |   learning_rate | lr_scheduler_type   |   warmup_ratio |   objective |\n",
      "|------------------------+----------+----------------------+-----------------+---------------------+----------------+-------------|\n",
      "| _objective_13ff3_00000 | RUNNING  | 130.212.82.53:302157 |     5.61152e-06 | linear              |       0.036687 |   0.0786234 |\n",
      "+------------------------+----------+----------------------+-----------------+---------------------+----------------+-------------+\n",
      "\n",
      "\n"
     ]
    },
    {
     "name": "stderr",
     "output_type": "stream",
     "text": [
      "\u001b[2m\u001b[36m(_objective pid=302157)\u001b[0m \n",
      "  0%|          | 0/33 [00:00<?, ?it/s]\u001b[A\n",
      "\u001b[2m\u001b[36m(_objective pid=302157)\u001b[0m \n",
      "  6%|▌         | 2/33 [00:00<00:04,  6.82it/s]\u001b[A\n",
      "\u001b[2m\u001b[36m(_objective pid=302157)\u001b[0m \n",
      "  9%|▉         | 3/33 [00:00<00:06,  4.80it/s]\u001b[A\n",
      "\u001b[2m\u001b[36m(_objective pid=302157)\u001b[0m \n",
      " 12%|█▏        | 4/33 [00:00<00:06,  4.16it/s]\u001b[A\n"
     ]
    },
    {
     "name": "stdout",
     "output_type": "stream",
     "text": [
      "== Status ==\n",
      "Current time: 2023-03-05 20:39:05 (running for 00:12:30.72)\n",
      "Memory usage on this node: 26.2/251.7 GiB \n",
      "Using FIFO scheduling algorithm.\n",
      "Resources requested: 64.0/64 CPUs, 1.0/1 GPUs, 0.0/147.5 GiB heap, 0.0/67.2 GiB objects (0.0/1.0 accelerator_type:RTX)\n",
      "Result logdir: /home/922201615/ray_results/_objective_2023-03-05_20-26-34\n",
      "Number of trials: 1/1 (1 RUNNING)\n",
      "+------------------------+----------+----------------------+-----------------+---------------------+----------------+-------------+\n",
      "| Trial name             | status   | loc                  |   learning_rate | lr_scheduler_type   |   warmup_ratio |   objective |\n",
      "|------------------------+----------+----------------------+-----------------+---------------------+----------------+-------------|\n",
      "| _objective_13ff3_00000 | RUNNING  | 130.212.82.53:302157 |     5.61152e-06 | linear              |       0.036687 |   0.0786234 |\n",
      "+------------------------+----------+----------------------+-----------------+---------------------+----------------+-------------+\n",
      "\n",
      "\n"
     ]
    },
    {
     "name": "stderr",
     "output_type": "stream",
     "text": [
      "\u001b[2m\u001b[36m(_objective pid=302157)\u001b[0m \n",
      " 15%|█▌        | 5/33 [00:04<00:37,  1.35s/it]\u001b[A\n",
      "\u001b[2m\u001b[36m(_objective pid=302157)\u001b[0m \n",
      " 18%|█▊        | 6/33 [00:04<00:27,  1.00s/it]\u001b[A\n",
      "\u001b[2m\u001b[36m(_objective pid=302157)\u001b[0m \n",
      " 21%|██        | 7/33 [00:04<00:20,  1.29it/s]\u001b[A\n",
      "\u001b[2m\u001b[36m(_objective pid=302157)\u001b[0m \n",
      " 24%|██▍       | 8/33 [00:05<00:15,  1.60it/s]\u001b[A\n",
      "\u001b[2m\u001b[36m(_objective pid=302157)\u001b[0m \n",
      " 27%|██▋       | 9/33 [00:07<00:30,  1.27s/it]\u001b[A\n",
      "\u001b[2m\u001b[36m(_objective pid=302157)\u001b[0m \n",
      " 30%|███       | 10/33 [00:08<00:22,  1.03it/s]\u001b[A\n",
      "\u001b[2m\u001b[36m(_objective pid=302157)\u001b[0m \n",
      " 33%|███▎      | 11/33 [00:08<00:16,  1.31it/s]\u001b[A\n"
     ]
    },
    {
     "name": "stdout",
     "output_type": "stream",
     "text": [
      "== Status ==\n",
      "Current time: 2023-03-05 20:39:10 (running for 00:12:35.72)\n",
      "Memory usage on this node: 26.0/251.7 GiB \n",
      "Using FIFO scheduling algorithm.\n",
      "Resources requested: 64.0/64 CPUs, 1.0/1 GPUs, 0.0/147.5 GiB heap, 0.0/67.2 GiB objects (0.0/1.0 accelerator_type:RTX)\n",
      "Result logdir: /home/922201615/ray_results/_objective_2023-03-05_20-26-34\n",
      "Number of trials: 1/1 (1 RUNNING)\n",
      "+------------------------+----------+----------------------+-----------------+---------------------+----------------+-------------+\n",
      "| Trial name             | status   | loc                  |   learning_rate | lr_scheduler_type   |   warmup_ratio |   objective |\n",
      "|------------------------+----------+----------------------+-----------------+---------------------+----------------+-------------|\n",
      "| _objective_13ff3_00000 | RUNNING  | 130.212.82.53:302157 |     5.61152e-06 | linear              |       0.036687 |   0.0786234 |\n",
      "+------------------------+----------+----------------------+-----------------+---------------------+----------------+-------------+\n",
      "\n",
      "\n"
     ]
    },
    {
     "name": "stderr",
     "output_type": "stream",
     "text": [
      "\u001b[2m\u001b[36m(_objective pid=302157)\u001b[0m \n",
      " 36%|███▋      | 12/33 [00:09<00:18,  1.16it/s]\u001b[A\n",
      "\u001b[2m\u001b[36m(_objective pid=302157)\u001b[0m \n",
      " 39%|███▉      | 13/33 [00:13<00:38,  1.91s/it]\u001b[A\n"
     ]
    },
    {
     "name": "stdout",
     "output_type": "stream",
     "text": [
      "== Status ==\n",
      "Current time: 2023-03-05 20:39:15 (running for 00:12:40.72)\n",
      "Memory usage on this node: 26.2/251.7 GiB \n",
      "Using FIFO scheduling algorithm.\n",
      "Resources requested: 64.0/64 CPUs, 1.0/1 GPUs, 0.0/147.5 GiB heap, 0.0/67.2 GiB objects (0.0/1.0 accelerator_type:RTX)\n",
      "Result logdir: /home/922201615/ray_results/_objective_2023-03-05_20-26-34\n",
      "Number of trials: 1/1 (1 RUNNING)\n",
      "+------------------------+----------+----------------------+-----------------+---------------------+----------------+-------------+\n",
      "| Trial name             | status   | loc                  |   learning_rate | lr_scheduler_type   |   warmup_ratio |   objective |\n",
      "|------------------------+----------+----------------------+-----------------+---------------------+----------------+-------------|\n",
      "| _objective_13ff3_00000 | RUNNING  | 130.212.82.53:302157 |     5.61152e-06 | linear              |       0.036687 |   0.0786234 |\n",
      "+------------------------+----------+----------------------+-----------------+---------------------+----------------+-------------+\n",
      "\n",
      "\n"
     ]
    },
    {
     "name": "stderr",
     "output_type": "stream",
     "text": [
      "\u001b[2m\u001b[36m(_objective pid=302157)\u001b[0m \n",
      " 42%|████▏     | 14/33 [00:14<00:27,  1.42s/it]\u001b[A\n",
      "\u001b[2m\u001b[36m(_objective pid=302157)\u001b[0m \n",
      " 45%|████▌     | 15/33 [00:14<00:19,  1.08s/it]\u001b[A\n",
      "\u001b[2m\u001b[36m(_objective pid=302157)\u001b[0m \n",
      " 48%|████▊     | 16/33 [00:14<00:14,  1.18it/s]\u001b[A\n",
      "\u001b[2m\u001b[36m(_objective pid=302157)\u001b[0m \n",
      " 52%|█████▏    | 17/33 [00:18<00:28,  1.80s/it]\u001b[A\n",
      "\u001b[2m\u001b[36m(_objective pid=302157)\u001b[0m \n",
      " 55%|█████▍    | 18/33 [00:19<00:20,  1.35s/it]\u001b[A\n"
     ]
    },
    {
     "name": "stdout",
     "output_type": "stream",
     "text": [
      "== Status ==\n",
      "Current time: 2023-03-05 20:39:20 (running for 00:12:45.73)\n",
      "Memory usage on this node: 26.0/251.7 GiB \n",
      "Using FIFO scheduling algorithm.\n",
      "Resources requested: 64.0/64 CPUs, 1.0/1 GPUs, 0.0/147.5 GiB heap, 0.0/67.2 GiB objects (0.0/1.0 accelerator_type:RTX)\n",
      "Result logdir: /home/922201615/ray_results/_objective_2023-03-05_20-26-34\n",
      "Number of trials: 1/1 (1 RUNNING)\n",
      "+------------------------+----------+----------------------+-----------------+---------------------+----------------+-------------+\n",
      "| Trial name             | status   | loc                  |   learning_rate | lr_scheduler_type   |   warmup_ratio |   objective |\n",
      "|------------------------+----------+----------------------+-----------------+---------------------+----------------+-------------|\n",
      "| _objective_13ff3_00000 | RUNNING  | 130.212.82.53:302157 |     5.61152e-06 | linear              |       0.036687 |   0.0786234 |\n",
      "+------------------------+----------+----------------------+-----------------+---------------------+----------------+-------------+\n",
      "\n",
      "\n"
     ]
    },
    {
     "name": "stderr",
     "output_type": "stream",
     "text": [
      "\u001b[2m\u001b[36m(_objective pid=302157)\u001b[0m \n",
      " 58%|█████▊    | 19/33 [00:19<00:14,  1.03s/it]\u001b[A\n",
      "\u001b[2m\u001b[36m(_objective pid=302157)\u001b[0m \n",
      " 61%|██████    | 20/33 [00:19<00:10,  1.23it/s]\u001b[A\n",
      "\u001b[2m\u001b[36m(_objective pid=302157)\u001b[0m \n",
      " 64%|██████▎   | 21/33 [00:23<00:20,  1.72s/it]\u001b[A\n",
      "\u001b[2m\u001b[36m(_objective pid=302157)\u001b[0m \n",
      " 67%|██████▋   | 22/33 [00:23<00:14,  1.29s/it]\u001b[A\n",
      "\u001b[2m\u001b[36m(_objective pid=302157)\u001b[0m \n",
      " 70%|██████▉   | 23/33 [00:24<00:09,  1.01it/s]\u001b[A\n"
     ]
    },
    {
     "name": "stdout",
     "output_type": "stream",
     "text": [
      "== Status ==\n",
      "Current time: 2023-03-05 20:39:25 (running for 00:12:50.73)\n",
      "Memory usage on this node: 25.8/251.7 GiB \n",
      "Using FIFO scheduling algorithm.\n",
      "Resources requested: 64.0/64 CPUs, 1.0/1 GPUs, 0.0/147.5 GiB heap, 0.0/67.2 GiB objects (0.0/1.0 accelerator_type:RTX)\n",
      "Result logdir: /home/922201615/ray_results/_objective_2023-03-05_20-26-34\n",
      "Number of trials: 1/1 (1 RUNNING)\n",
      "+------------------------+----------+----------------------+-----------------+---------------------+----------------+-------------+\n",
      "| Trial name             | status   | loc                  |   learning_rate | lr_scheduler_type   |   warmup_ratio |   objective |\n",
      "|------------------------+----------+----------------------+-----------------+---------------------+----------------+-------------|\n",
      "| _objective_13ff3_00000 | RUNNING  | 130.212.82.53:302157 |     5.61152e-06 | linear              |       0.036687 |   0.0786234 |\n",
      "+------------------------+----------+----------------------+-----------------+---------------------+----------------+-------------+\n",
      "\n",
      "\n"
     ]
    },
    {
     "name": "stderr",
     "output_type": "stream",
     "text": [
      "\u001b[2m\u001b[36m(_objective pid=302157)\u001b[0m \n",
      " 73%|███████▎  | 24/33 [00:24<00:07,  1.28it/s]\u001b[A\n",
      "\u001b[2m\u001b[36m(_objective pid=302157)\u001b[0m \n",
      " 76%|███████▌  | 25/33 [00:27<00:11,  1.42s/it]\u001b[A\n",
      "\u001b[2m\u001b[36m(_objective pid=302157)\u001b[0m \n",
      " 79%|███████▉  | 26/33 [00:27<00:07,  1.08s/it]\u001b[A\n",
      "\u001b[2m\u001b[36m(_objective pid=302157)\u001b[0m \n",
      " 82%|████████▏ | 27/33 [00:27<00:05,  1.18it/s]\u001b[A\n",
      "\u001b[2m\u001b[36m(_objective pid=302157)\u001b[0m \n",
      " 85%|████████▍ | 28/33 [00:28<00:03,  1.47it/s]\u001b[A\n"
     ]
    },
    {
     "name": "stdout",
     "output_type": "stream",
     "text": [
      "== Status ==\n",
      "Current time: 2023-03-05 20:39:30 (running for 00:12:55.74)\n",
      "Memory usage on this node: 26.0/251.7 GiB \n",
      "Using FIFO scheduling algorithm.\n",
      "Resources requested: 64.0/64 CPUs, 1.0/1 GPUs, 0.0/147.5 GiB heap, 0.0/67.2 GiB objects (0.0/1.0 accelerator_type:RTX)\n",
      "Result logdir: /home/922201615/ray_results/_objective_2023-03-05_20-26-34\n",
      "Number of trials: 1/1 (1 RUNNING)\n",
      "+------------------------+----------+----------------------+-----------------+---------------------+----------------+-------------+\n",
      "| Trial name             | status   | loc                  |   learning_rate | lr_scheduler_type   |   warmup_ratio |   objective |\n",
      "|------------------------+----------+----------------------+-----------------+---------------------+----------------+-------------|\n",
      "| _objective_13ff3_00000 | RUNNING  | 130.212.82.53:302157 |     5.61152e-06 | linear              |       0.036687 |   0.0786234 |\n",
      "+------------------------+----------+----------------------+-----------------+---------------------+----------------+-------------+\n",
      "\n",
      "\n"
     ]
    },
    {
     "name": "stderr",
     "output_type": "stream",
     "text": [
      "\u001b[2m\u001b[36m(_objective pid=302157)\u001b[0m \n",
      " 88%|████████▊ | 29/33 [00:31<00:05,  1.35s/it]\u001b[A\n",
      "\u001b[2m\u001b[36m(_objective pid=302157)\u001b[0m \n",
      " 91%|█████████ | 30/33 [00:31<00:03,  1.03s/it]\u001b[A\n",
      "\u001b[2m\u001b[36m(_objective pid=302157)\u001b[0m \n",
      " 94%|█████████▍| 31/33 [00:31<00:01,  1.23it/s]\u001b[A\n",
      "\u001b[2m\u001b[36m(_objective pid=302157)\u001b[0m \n",
      " 97%|█████████▋| 32/33 [00:32<00:00,  1.52it/s]\u001b[A\n"
     ]
    },
    {
     "name": "stdout",
     "output_type": "stream",
     "text": [
      "== Status ==\n",
      "Current time: 2023-03-05 20:39:35 (running for 00:13:00.74)\n",
      "Memory usage on this node: 23.9/251.7 GiB \n",
      "Using FIFO scheduling algorithm.\n",
      "Resources requested: 64.0/64 CPUs, 1.0/1 GPUs, 0.0/147.5 GiB heap, 0.0/67.2 GiB objects (0.0/1.0 accelerator_type:RTX)\n",
      "Result logdir: /home/922201615/ray_results/_objective_2023-03-05_20-26-34\n",
      "Number of trials: 1/1 (1 RUNNING)\n",
      "+------------------------+----------+----------------------+-----------------+---------------------+----------------+-------------+\n",
      "| Trial name             | status   | loc                  |   learning_rate | lr_scheduler_type   |   warmup_ratio |   objective |\n",
      "|------------------------+----------+----------------------+-----------------+---------------------+----------------+-------------|\n",
      "| _objective_13ff3_00000 | RUNNING  | 130.212.82.53:302157 |     5.61152e-06 | linear              |       0.036687 |   0.0786234 |\n",
      "+------------------------+----------+----------------------+-----------------+---------------------+----------------+-------------+\n",
      "\n",
      "\n",
      "\u001b[2m\u001b[36m(_objective pid=302157)\u001b[0m {'eval_loss': 0.07665020227432251, 'eval_runtime': 40.0797, 'eval_samples_per_second': 3.293, 'eval_steps_per_second': 0.823, 'epoch': 2.0}\n"
     ]
    },
    {
     "name": "stderr",
     "output_type": "stream",
     "text": [
      "\u001b[2m\u001b[36m(_objective pid=302157)\u001b[0m \n",
      "                                                 A\n",
      " 67%|██████▋   | 572/858 [12:53<05:00,  1.05s/it]\n",
      "100%|██████████| 33/33 [00:34<00:00,  1.11s/it]\u001b[A\n",
      "                                               \u001b[A\n"
     ]
    },
    {
     "name": "stdout",
     "output_type": "stream",
     "text": [
      "== Status ==\n",
      "Current time: 2023-03-05 20:39:40 (running for 00:13:05.77)\n",
      "Memory usage on this node: 26.7/251.7 GiB \n",
      "Using FIFO scheduling algorithm.\n",
      "Resources requested: 64.0/64 CPUs, 1.0/1 GPUs, 0.0/147.5 GiB heap, 0.0/67.2 GiB objects (0.0/1.0 accelerator_type:RTX)\n",
      "Result logdir: /home/922201615/ray_results/_objective_2023-03-05_20-26-34\n",
      "Number of trials: 1/1 (1 RUNNING)\n",
      "+------------------------+----------+----------------------+-----------------+---------------------+----------------+-------------+\n",
      "| Trial name             | status   | loc                  |   learning_rate | lr_scheduler_type   |   warmup_ratio |   objective |\n",
      "|------------------------+----------+----------------------+-----------------+---------------------+----------------+-------------|\n",
      "| _objective_13ff3_00000 | RUNNING  | 130.212.82.53:302157 |     5.61152e-06 | linear              |       0.036687 |   0.0766502 |\n",
      "+------------------------+----------+----------------------+-----------------+---------------------+----------------+-------------+\n",
      "\n",
      "\n"
     ]
    },
    {
     "name": "stderr",
     "output_type": "stream",
     "text": [
      " 67%|██████▋   | 573/858 [12:59<1:09:56, 14.72s/it]\n",
      " 67%|██████▋   | 574/858 [13:00<50:15, 10.62s/it]  \n",
      " 67%|██████▋   | 575/858 [13:01<36:24,  7.72s/it]\n",
      " 67%|██████▋   | 576/858 [13:02<26:44,  5.69s/it]\n"
     ]
    },
    {
     "name": "stdout",
     "output_type": "stream",
     "text": [
      "== Status ==\n",
      "Current time: 2023-03-05 20:39:45 (running for 00:13:10.77)\n",
      "Memory usage on this node: 26.5/251.7 GiB \n",
      "Using FIFO scheduling algorithm.\n",
      "Resources requested: 64.0/64 CPUs, 1.0/1 GPUs, 0.0/147.5 GiB heap, 0.0/67.2 GiB objects (0.0/1.0 accelerator_type:RTX)\n",
      "Result logdir: /home/922201615/ray_results/_objective_2023-03-05_20-26-34\n",
      "Number of trials: 1/1 (1 RUNNING)\n",
      "+------------------------+----------+----------------------+-----------------+---------------------+----------------+-------------+\n",
      "| Trial name             | status   | loc                  |   learning_rate | lr_scheduler_type   |   warmup_ratio |   objective |\n",
      "|------------------------+----------+----------------------+-----------------+---------------------+----------------+-------------|\n",
      "| _objective_13ff3_00000 | RUNNING  | 130.212.82.53:302157 |     5.61152e-06 | linear              |       0.036687 |   0.0766502 |\n",
      "+------------------------+----------+----------------------+-----------------+---------------------+----------------+-------------+\n",
      "\n",
      "\n"
     ]
    },
    {
     "name": "stderr",
     "output_type": "stream",
     "text": [
      " 67%|██████▋   | 577/858 [13:05<23:08,  4.94s/it]\n",
      " 67%|██████▋   | 578/858 [13:06<17:28,  3.75s/it]\n",
      " 67%|██████▋   | 579/858 [13:07<13:31,  2.91s/it]\n"
     ]
    },
    {
     "name": "stdout",
     "output_type": "stream",
     "text": [
      "== Status ==\n",
      "Current time: 2023-03-05 20:39:50 (running for 00:13:15.77)\n",
      "Memory usage on this node: 26.3/251.7 GiB \n",
      "Using FIFO scheduling algorithm.\n",
      "Resources requested: 64.0/64 CPUs, 1.0/1 GPUs, 0.0/147.5 GiB heap, 0.0/67.2 GiB objects (0.0/1.0 accelerator_type:RTX)\n",
      "Result logdir: /home/922201615/ray_results/_objective_2023-03-05_20-26-34\n",
      "Number of trials: 1/1 (1 RUNNING)\n",
      "+------------------------+----------+----------------------+-----------------+---------------------+----------------+-------------+\n",
      "| Trial name             | status   | loc                  |   learning_rate | lr_scheduler_type   |   warmup_ratio |   objective |\n",
      "|------------------------+----------+----------------------+-----------------+---------------------+----------------+-------------|\n",
      "| _objective_13ff3_00000 | RUNNING  | 130.212.82.53:302157 |     5.61152e-06 | linear              |       0.036687 |   0.0766502 |\n",
      "+------------------------+----------+----------------------+-----------------+---------------------+----------------+-------------+\n",
      "\n",
      "\n"
     ]
    },
    {
     "name": "stderr",
     "output_type": "stream",
     "text": [
      " 68%|██████▊   | 580/858 [13:08<10:45,  2.32s/it]\n",
      " 68%|██████▊   | 581/858 [13:09<09:09,  1.98s/it]\n",
      " 68%|██████▊   | 582/858 [13:11<08:05,  1.76s/it]\n",
      " 68%|██████▊   | 583/858 [13:12<06:57,  1.52s/it]\n",
      " 68%|██████▊   | 584/858 [13:13<06:09,  1.35s/it]\n"
     ]
    },
    {
     "name": "stdout",
     "output_type": "stream",
     "text": [
      "== Status ==\n",
      "Current time: 2023-03-05 20:39:55 (running for 00:13:20.78)\n",
      "Memory usage on this node: 26.0/251.7 GiB \n",
      "Using FIFO scheduling algorithm.\n",
      "Resources requested: 64.0/64 CPUs, 1.0/1 GPUs, 0.0/147.5 GiB heap, 0.0/67.2 GiB objects (0.0/1.0 accelerator_type:RTX)\n",
      "Result logdir: /home/922201615/ray_results/_objective_2023-03-05_20-26-34\n",
      "Number of trials: 1/1 (1 RUNNING)\n",
      "+------------------------+----------+----------------------+-----------------+---------------------+----------------+-------------+\n",
      "| Trial name             | status   | loc                  |   learning_rate | lr_scheduler_type   |   warmup_ratio |   objective |\n",
      "|------------------------+----------+----------------------+-----------------+---------------------+----------------+-------------|\n",
      "| _objective_13ff3_00000 | RUNNING  | 130.212.82.53:302157 |     5.61152e-06 | linear              |       0.036687 |   0.0766502 |\n",
      "+------------------------+----------+----------------------+-----------------+---------------------+----------------+-------------+\n",
      "\n",
      "\n"
     ]
    },
    {
     "name": "stderr",
     "output_type": "stream",
     "text": [
      " 68%|██████▊   | 585/858 [13:14<06:45,  1.49s/it]\n",
      " 68%|██████▊   | 586/858 [13:16<06:22,  1.41s/it]\n",
      " 68%|██████▊   | 587/858 [13:17<05:44,  1.27s/it]\n",
      " 69%|██████▊   | 588/858 [13:18<05:18,  1.18s/it]\n"
     ]
    },
    {
     "name": "stdout",
     "output_type": "stream",
     "text": [
      "== Status ==\n",
      "Current time: 2023-03-05 20:40:00 (running for 00:13:25.78)\n",
      "Memory usage on this node: 26.1/251.7 GiB \n",
      "Using FIFO scheduling algorithm.\n",
      "Resources requested: 64.0/64 CPUs, 1.0/1 GPUs, 0.0/147.5 GiB heap, 0.0/67.2 GiB objects (0.0/1.0 accelerator_type:RTX)\n",
      "Result logdir: /home/922201615/ray_results/_objective_2023-03-05_20-26-34\n",
      "Number of trials: 1/1 (1 RUNNING)\n",
      "+------------------------+----------+----------------------+-----------------+---------------------+----------------+-------------+\n",
      "| Trial name             | status   | loc                  |   learning_rate | lr_scheduler_type   |   warmup_ratio |   objective |\n",
      "|------------------------+----------+----------------------+-----------------+---------------------+----------------+-------------|\n",
      "| _objective_13ff3_00000 | RUNNING  | 130.212.82.53:302157 |     5.61152e-06 | linear              |       0.036687 |   0.0766502 |\n",
      "+------------------------+----------+----------------------+-----------------+---------------------+----------------+-------------+\n",
      "\n",
      "\n"
     ]
    },
    {
     "name": "stderr",
     "output_type": "stream",
     "text": [
      " 69%|██████▊   | 589/858 [13:19<06:04,  1.35s/it]\n",
      " 69%|██████▉   | 590/858 [13:21<05:52,  1.31s/it]\n",
      " 69%|██████▉   | 591/858 [13:21<05:22,  1.21s/it]\n",
      " 69%|██████▉   | 592/858 [13:22<05:00,  1.13s/it]\n"
     ]
    },
    {
     "name": "stdout",
     "output_type": "stream",
     "text": [
      "== Status ==\n",
      "Current time: 2023-03-05 20:40:05 (running for 00:13:30.79)\n",
      "Memory usage on this node: 26.0/251.7 GiB \n",
      "Using FIFO scheduling algorithm.\n",
      "Resources requested: 64.0/64 CPUs, 1.0/1 GPUs, 0.0/147.5 GiB heap, 0.0/67.2 GiB objects (0.0/1.0 accelerator_type:RTX)\n",
      "Result logdir: /home/922201615/ray_results/_objective_2023-03-05_20-26-34\n",
      "Number of trials: 1/1 (1 RUNNING)\n",
      "+------------------------+----------+----------------------+-----------------+---------------------+----------------+-------------+\n",
      "| Trial name             | status   | loc                  |   learning_rate | lr_scheduler_type   |   warmup_ratio |   objective |\n",
      "|------------------------+----------+----------------------+-----------------+---------------------+----------------+-------------|\n",
      "| _objective_13ff3_00000 | RUNNING  | 130.212.82.53:302157 |     5.61152e-06 | linear              |       0.036687 |   0.0766502 |\n",
      "+------------------------+----------+----------------------+-----------------+---------------------+----------------+-------------+\n",
      "\n",
      "\n"
     ]
    },
    {
     "name": "stderr",
     "output_type": "stream",
     "text": [
      " 69%|██████▉   | 593/858 [13:24<05:57,  1.35s/it]\n",
      " 69%|██████▉   | 594/858 [13:25<05:40,  1.29s/it]\n",
      " 69%|██████▉   | 595/858 [13:26<05:13,  1.19s/it]\n",
      " 69%|██████▉   | 596/858 [13:27<04:53,  1.12s/it]\n"
     ]
    },
    {
     "name": "stdout",
     "output_type": "stream",
     "text": [
      "== Status ==\n",
      "Current time: 2023-03-05 20:40:10 (running for 00:13:35.79)\n",
      "Memory usage on this node: 26.2/251.7 GiB \n",
      "Using FIFO scheduling algorithm.\n",
      "Resources requested: 64.0/64 CPUs, 1.0/1 GPUs, 0.0/147.5 GiB heap, 0.0/67.2 GiB objects (0.0/1.0 accelerator_type:RTX)\n",
      "Result logdir: /home/922201615/ray_results/_objective_2023-03-05_20-26-34\n",
      "Number of trials: 1/1 (1 RUNNING)\n",
      "+------------------------+----------+----------------------+-----------------+---------------------+----------------+-------------+\n",
      "| Trial name             | status   | loc                  |   learning_rate | lr_scheduler_type   |   warmup_ratio |   objective |\n",
      "|------------------------+----------+----------------------+-----------------+---------------------+----------------+-------------|\n",
      "| _objective_13ff3_00000 | RUNNING  | 130.212.82.53:302157 |     5.61152e-06 | linear              |       0.036687 |   0.0766502 |\n",
      "+------------------------+----------+----------------------+-----------------+---------------------+----------------+-------------+\n",
      "\n",
      "\n"
     ]
    },
    {
     "name": "stderr",
     "output_type": "stream",
     "text": [
      " 70%|██████▉   | 597/858 [13:29<05:51,  1.35s/it]\n",
      " 70%|██████▉   | 598/858 [13:30<05:28,  1.26s/it]\n",
      " 70%|██████▉   | 599/858 [13:31<05:03,  1.17s/it]\n",
      " 70%|██████▉   | 600/858 [13:32<04:45,  1.11s/it]\n"
     ]
    },
    {
     "name": "stdout",
     "output_type": "stream",
     "text": [
      "== Status ==\n",
      "Current time: 2023-03-05 20:40:15 (running for 00:13:40.79)\n",
      "Memory usage on this node: 26.5/251.7 GiB \n",
      "Using FIFO scheduling algorithm.\n",
      "Resources requested: 64.0/64 CPUs, 1.0/1 GPUs, 0.0/147.5 GiB heap, 0.0/67.2 GiB objects (0.0/1.0 accelerator_type:RTX)\n",
      "Result logdir: /home/922201615/ray_results/_objective_2023-03-05_20-26-34\n",
      "Number of trials: 1/1 (1 RUNNING)\n",
      "+------------------------+----------+----------------------+-----------------+---------------------+----------------+-------------+\n",
      "| Trial name             | status   | loc                  |   learning_rate | lr_scheduler_type   |   warmup_ratio |   objective |\n",
      "|------------------------+----------+----------------------+-----------------+---------------------+----------------+-------------|\n",
      "| _objective_13ff3_00000 | RUNNING  | 130.212.82.53:302157 |     5.61152e-06 | linear              |       0.036687 |   0.0766502 |\n",
      "+------------------------+----------+----------------------+-----------------+---------------------+----------------+-------------+\n",
      "\n",
      "\n"
     ]
    },
    {
     "name": "stderr",
     "output_type": "stream",
     "text": [
      " 70%|███████   | 601/858 [13:34<05:42,  1.33s/it]\n",
      " 70%|███████   | 602/858 [13:35<05:28,  1.28s/it]\n",
      " 70%|███████   | 603/858 [13:36<05:02,  1.19s/it]\n",
      " 70%|███████   | 604/858 [13:37<04:43,  1.12s/it]\n"
     ]
    },
    {
     "name": "stdout",
     "output_type": "stream",
     "text": [
      "== Status ==\n",
      "Current time: 2023-03-05 20:40:20 (running for 00:13:45.80)\n",
      "Memory usage on this node: 26.9/251.7 GiB \n",
      "Using FIFO scheduling algorithm.\n",
      "Resources requested: 64.0/64 CPUs, 1.0/1 GPUs, 0.0/147.5 GiB heap, 0.0/67.2 GiB objects (0.0/1.0 accelerator_type:RTX)\n",
      "Result logdir: /home/922201615/ray_results/_objective_2023-03-05_20-26-34\n",
      "Number of trials: 1/1 (1 RUNNING)\n",
      "+------------------------+----------+----------------------+-----------------+---------------------+----------------+-------------+\n",
      "| Trial name             | status   | loc                  |   learning_rate | lr_scheduler_type   |   warmup_ratio |   objective |\n",
      "|------------------------+----------+----------------------+-----------------+---------------------+----------------+-------------|\n",
      "| _objective_13ff3_00000 | RUNNING  | 130.212.82.53:302157 |     5.61152e-06 | linear              |       0.036687 |   0.0766502 |\n",
      "+------------------------+----------+----------------------+-----------------+---------------------+----------------+-------------+\n",
      "\n",
      "\n"
     ]
    },
    {
     "name": "stderr",
     "output_type": "stream",
     "text": [
      " 71%|███████   | 605/858 [13:39<05:34,  1.32s/it]\n",
      " 71%|███████   | 606/858 [13:40<05:27,  1.30s/it]\n",
      " 71%|███████   | 607/858 [13:41<05:00,  1.20s/it]\n",
      " 71%|███████   | 608/858 [13:42<04:41,  1.12s/it]\n"
     ]
    },
    {
     "name": "stdout",
     "output_type": "stream",
     "text": [
      "== Status ==\n",
      "Current time: 2023-03-05 20:40:25 (running for 00:13:50.80)\n",
      "Memory usage on this node: 26.6/251.7 GiB \n",
      "Using FIFO scheduling algorithm.\n",
      "Resources requested: 64.0/64 CPUs, 1.0/1 GPUs, 0.0/147.5 GiB heap, 0.0/67.2 GiB objects (0.0/1.0 accelerator_type:RTX)\n",
      "Result logdir: /home/922201615/ray_results/_objective_2023-03-05_20-26-34\n",
      "Number of trials: 1/1 (1 RUNNING)\n",
      "+------------------------+----------+----------------------+-----------------+---------------------+----------------+-------------+\n",
      "| Trial name             | status   | loc                  |   learning_rate | lr_scheduler_type   |   warmup_ratio |   objective |\n",
      "|------------------------+----------+----------------------+-----------------+---------------------+----------------+-------------|\n",
      "| _objective_13ff3_00000 | RUNNING  | 130.212.82.53:302157 |     5.61152e-06 | linear              |       0.036687 |   0.0766502 |\n",
      "+------------------------+----------+----------------------+-----------------+---------------------+----------------+-------------+\n",
      "\n",
      "\n"
     ]
    },
    {
     "name": "stderr",
     "output_type": "stream",
     "text": [
      " 71%|███████   | 609/858 [13:44<05:22,  1.30s/it]\n",
      " 71%|███████   | 610/858 [13:45<05:24,  1.31s/it]\n",
      " 71%|███████   | 611/858 [13:46<04:56,  1.20s/it]\n",
      " 71%|███████▏  | 612/858 [13:47<04:37,  1.13s/it]\n"
     ]
    },
    {
     "name": "stdout",
     "output_type": "stream",
     "text": [
      "== Status ==\n",
      "Current time: 2023-03-05 20:40:30 (running for 00:13:55.80)\n",
      "Memory usage on this node: 26.1/251.7 GiB \n",
      "Using FIFO scheduling algorithm.\n",
      "Resources requested: 64.0/64 CPUs, 1.0/1 GPUs, 0.0/147.5 GiB heap, 0.0/67.2 GiB objects (0.0/1.0 accelerator_type:RTX)\n",
      "Result logdir: /home/922201615/ray_results/_objective_2023-03-05_20-26-34\n",
      "Number of trials: 1/1 (1 RUNNING)\n",
      "+------------------------+----------+----------------------+-----------------+---------------------+----------------+-------------+\n",
      "| Trial name             | status   | loc                  |   learning_rate | lr_scheduler_type   |   warmup_ratio |   objective |\n",
      "|------------------------+----------+----------------------+-----------------+---------------------+----------------+-------------|\n",
      "| _objective_13ff3_00000 | RUNNING  | 130.212.82.53:302157 |     5.61152e-06 | linear              |       0.036687 |   0.0766502 |\n",
      "+------------------------+----------+----------------------+-----------------+---------------------+----------------+-------------+\n",
      "\n",
      "\n"
     ]
    },
    {
     "name": "stderr",
     "output_type": "stream",
     "text": [
      " 71%|███████▏  | 613/858 [13:49<05:11,  1.27s/it]\n",
      " 72%|███████▏  | 614/858 [13:50<05:20,  1.31s/it]\n",
      " 72%|███████▏  | 615/858 [13:51<04:53,  1.21s/it]\n",
      " 72%|███████▏  | 616/858 [13:52<04:33,  1.13s/it]\n"
     ]
    },
    {
     "name": "stdout",
     "output_type": "stream",
     "text": [
      "== Status ==\n",
      "Current time: 2023-03-05 20:40:35 (running for 00:14:00.81)\n",
      "Memory usage on this node: 26.3/251.7 GiB \n",
      "Using FIFO scheduling algorithm.\n",
      "Resources requested: 64.0/64 CPUs, 1.0/1 GPUs, 0.0/147.5 GiB heap, 0.0/67.2 GiB objects (0.0/1.0 accelerator_type:RTX)\n",
      "Result logdir: /home/922201615/ray_results/_objective_2023-03-05_20-26-34\n",
      "Number of trials: 1/1 (1 RUNNING)\n",
      "+------------------------+----------+----------------------+-----------------+---------------------+----------------+-------------+\n",
      "| Trial name             | status   | loc                  |   learning_rate | lr_scheduler_type   |   warmup_ratio |   objective |\n",
      "|------------------------+----------+----------------------+-----------------+---------------------+----------------+-------------|\n",
      "| _objective_13ff3_00000 | RUNNING  | 130.212.82.53:302157 |     5.61152e-06 | linear              |       0.036687 |   0.0766502 |\n",
      "+------------------------+----------+----------------------+-----------------+---------------------+----------------+-------------+\n",
      "\n",
      "\n"
     ]
    },
    {
     "name": "stderr",
     "output_type": "stream",
     "text": [
      " 72%|███████▏  | 617/858 [13:53<04:57,  1.24s/it]\n",
      " 72%|███████▏  | 618/858 [13:54<04:36,  1.15s/it]\n",
      " 72%|███████▏  | 619/858 [13:55<04:20,  1.09s/it]\n",
      " 72%|███████▏  | 620/858 [13:56<04:10,  1.05s/it]\n"
     ]
    },
    {
     "name": "stdout",
     "output_type": "stream",
     "text": [
      "== Status ==\n",
      "Current time: 2023-03-05 20:40:40 (running for 00:14:05.81)\n",
      "Memory usage on this node: 26.3/251.7 GiB \n",
      "Using FIFO scheduling algorithm.\n",
      "Resources requested: 64.0/64 CPUs, 1.0/1 GPUs, 0.0/147.5 GiB heap, 0.0/67.2 GiB objects (0.0/1.0 accelerator_type:RTX)\n",
      "Result logdir: /home/922201615/ray_results/_objective_2023-03-05_20-26-34\n",
      "Number of trials: 1/1 (1 RUNNING)\n",
      "+------------------------+----------+----------------------+-----------------+---------------------+----------------+-------------+\n",
      "| Trial name             | status   | loc                  |   learning_rate | lr_scheduler_type   |   warmup_ratio |   objective |\n",
      "|------------------------+----------+----------------------+-----------------+---------------------+----------------+-------------|\n",
      "| _objective_13ff3_00000 | RUNNING  | 130.212.82.53:302157 |     5.61152e-06 | linear              |       0.036687 |   0.0766502 |\n",
      "+------------------------+----------+----------------------+-----------------+---------------------+----------------+-------------+\n",
      "\n",
      "\n"
     ]
    },
    {
     "name": "stderr",
     "output_type": "stream",
     "text": [
      " 72%|███████▏  | 621/858 [13:58<04:41,  1.19s/it]\n",
      " 72%|███████▏  | 622/858 [13:59<04:36,  1.17s/it]\n",
      " 73%|███████▎  | 623/858 [14:00<04:22,  1.12s/it]\n",
      " 73%|███████▎  | 624/858 [14:01<04:09,  1.07s/it]\n",
      " 73%|███████▎  | 625/858 [14:03<04:53,  1.26s/it]\n"
     ]
    },
    {
     "name": "stdout",
     "output_type": "stream",
     "text": [
      "== Status ==\n",
      "Current time: 2023-03-05 20:40:45 (running for 00:14:10.82)\n",
      "Memory usage on this node: 26.0/251.7 GiB \n",
      "Using FIFO scheduling algorithm.\n",
      "Resources requested: 64.0/64 CPUs, 1.0/1 GPUs, 0.0/147.5 GiB heap, 0.0/67.2 GiB objects (0.0/1.0 accelerator_type:RTX)\n",
      "Result logdir: /home/922201615/ray_results/_objective_2023-03-05_20-26-34\n",
      "Number of trials: 1/1 (1 RUNNING)\n",
      "+------------------------+----------+----------------------+-----------------+---------------------+----------------+-------------+\n",
      "| Trial name             | status   | loc                  |   learning_rate | lr_scheduler_type   |   warmup_ratio |   objective |\n",
      "|------------------------+----------+----------------------+-----------------+---------------------+----------------+-------------|\n",
      "| _objective_13ff3_00000 | RUNNING  | 130.212.82.53:302157 |     5.61152e-06 | linear              |       0.036687 |   0.0766502 |\n",
      "+------------------------+----------+----------------------+-----------------+---------------------+----------------+-------------+\n",
      "\n",
      "\n"
     ]
    },
    {
     "name": "stderr",
     "output_type": "stream",
     "text": [
      " 73%|███████▎  | 626/858 [14:04<04:53,  1.27s/it]\n",
      " 73%|███████▎  | 627/858 [14:05<04:32,  1.18s/it]\n",
      " 73%|███████▎  | 628/858 [14:06<04:15,  1.11s/it]\n",
      " 73%|███████▎  | 629/858 [14:07<04:16,  1.12s/it]\n"
     ]
    },
    {
     "name": "stdout",
     "output_type": "stream",
     "text": [
      "== Status ==\n",
      "Current time: 2023-03-05 20:40:50 (running for 00:14:15.82)\n",
      "Memory usage on this node: 25.9/251.7 GiB \n",
      "Using FIFO scheduling algorithm.\n",
      "Resources requested: 64.0/64 CPUs, 1.0/1 GPUs, 0.0/147.5 GiB heap, 0.0/67.2 GiB objects (0.0/1.0 accelerator_type:RTX)\n",
      "Result logdir: /home/922201615/ray_results/_objective_2023-03-05_20-26-34\n",
      "Number of trials: 1/1 (1 RUNNING)\n",
      "+------------------------+----------+----------------------+-----------------+---------------------+----------------+-------------+\n",
      "| Trial name             | status   | loc                  |   learning_rate | lr_scheduler_type   |   warmup_ratio |   objective |\n",
      "|------------------------+----------+----------------------+-----------------+---------------------+----------------+-------------|\n",
      "| _objective_13ff3_00000 | RUNNING  | 130.212.82.53:302157 |     5.61152e-06 | linear              |       0.036687 |   0.0766502 |\n",
      "+------------------------+----------+----------------------+-----------------+---------------------+----------------+-------------+\n",
      "\n",
      "\n"
     ]
    },
    {
     "name": "stderr",
     "output_type": "stream",
     "text": [
      " 73%|███████▎  | 630/858 [14:09<05:09,  1.36s/it]\n",
      " 74%|███████▎  | 631/858 [14:10<04:44,  1.25s/it]\n",
      " 74%|███████▎  | 632/858 [14:11<04:22,  1.16s/it]\n",
      " 74%|███████▍  | 633/858 [14:12<04:07,  1.10s/it]\n"
     ]
    },
    {
     "name": "stdout",
     "output_type": "stream",
     "text": [
      "== Status ==\n",
      "Current time: 2023-03-05 20:40:55 (running for 00:14:20.82)\n",
      "Memory usage on this node: 26.0/251.7 GiB \n",
      "Using FIFO scheduling algorithm.\n",
      "Resources requested: 64.0/64 CPUs, 1.0/1 GPUs, 0.0/147.5 GiB heap, 0.0/67.2 GiB objects (0.0/1.0 accelerator_type:RTX)\n",
      "Result logdir: /home/922201615/ray_results/_objective_2023-03-05_20-26-34\n",
      "Number of trials: 1/1 (1 RUNNING)\n",
      "+------------------------+----------+----------------------+-----------------+---------------------+----------------+-------------+\n",
      "| Trial name             | status   | loc                  |   learning_rate | lr_scheduler_type   |   warmup_ratio |   objective |\n",
      "|------------------------+----------+----------------------+-----------------+---------------------+----------------+-------------|\n",
      "| _objective_13ff3_00000 | RUNNING  | 130.212.82.53:302157 |     5.61152e-06 | linear              |       0.036687 |   0.0766502 |\n",
      "+------------------------+----------+----------------------+-----------------+---------------------+----------------+-------------+\n",
      "\n",
      "\n"
     ]
    },
    {
     "name": "stderr",
     "output_type": "stream",
     "text": [
      " 74%|███████▍  | 634/858 [14:14<05:07,  1.37s/it]\n",
      " 74%|███████▍  | 635/858 [14:15<04:43,  1.27s/it]\n",
      " 74%|███████▍  | 636/858 [14:16<04:20,  1.17s/it]\n",
      " 74%|███████▍  | 637/858 [14:17<04:04,  1.11s/it]\n"
     ]
    },
    {
     "name": "stdout",
     "output_type": "stream",
     "text": [
      "== Status ==\n",
      "Current time: 2023-03-05 20:41:00 (running for 00:14:25.83)\n",
      "Memory usage on this node: 26.0/251.7 GiB \n",
      "Using FIFO scheduling algorithm.\n",
      "Resources requested: 64.0/64 CPUs, 1.0/1 GPUs, 0.0/147.5 GiB heap, 0.0/67.2 GiB objects (0.0/1.0 accelerator_type:RTX)\n",
      "Result logdir: /home/922201615/ray_results/_objective_2023-03-05_20-26-34\n",
      "Number of trials: 1/1 (1 RUNNING)\n",
      "+------------------------+----------+----------------------+-----------------+---------------------+----------------+-------------+\n",
      "| Trial name             | status   | loc                  |   learning_rate | lr_scheduler_type   |   warmup_ratio |   objective |\n",
      "|------------------------+----------+----------------------+-----------------+---------------------+----------------+-------------|\n",
      "| _objective_13ff3_00000 | RUNNING  | 130.212.82.53:302157 |     5.61152e-06 | linear              |       0.036687 |   0.0766502 |\n",
      "+------------------------+----------+----------------------+-----------------+---------------------+----------------+-------------+\n",
      "\n",
      "\n"
     ]
    },
    {
     "name": "stderr",
     "output_type": "stream",
     "text": [
      " 74%|███████▍  | 638/858 [14:19<05:03,  1.38s/it]\n",
      " 74%|███████▍  | 639/858 [14:20<04:36,  1.26s/it]\n",
      " 75%|███████▍  | 640/858 [14:21<04:14,  1.17s/it]\n",
      " 75%|███████▍  | 641/858 [14:22<03:59,  1.10s/it]\n"
     ]
    },
    {
     "name": "stdout",
     "output_type": "stream",
     "text": [
      "== Status ==\n",
      "Current time: 2023-03-05 20:41:05 (running for 00:14:30.83)\n",
      "Memory usage on this node: 25.6/251.7 GiB \n",
      "Using FIFO scheduling algorithm.\n",
      "Resources requested: 64.0/64 CPUs, 1.0/1 GPUs, 0.0/147.5 GiB heap, 0.0/67.2 GiB objects (0.0/1.0 accelerator_type:RTX)\n",
      "Result logdir: /home/922201615/ray_results/_objective_2023-03-05_20-26-34\n",
      "Number of trials: 1/1 (1 RUNNING)\n",
      "+------------------------+----------+----------------------+-----------------+---------------------+----------------+-------------+\n",
      "| Trial name             | status   | loc                  |   learning_rate | lr_scheduler_type   |   warmup_ratio |   objective |\n",
      "|------------------------+----------+----------------------+-----------------+---------------------+----------------+-------------|\n",
      "| _objective_13ff3_00000 | RUNNING  | 130.212.82.53:302157 |     5.61152e-06 | linear              |       0.036687 |   0.0766502 |\n",
      "+------------------------+----------+----------------------+-----------------+---------------------+----------------+-------------+\n",
      "\n",
      "\n"
     ]
    },
    {
     "name": "stderr",
     "output_type": "stream",
     "text": [
      " 75%|███████▍  | 642/858 [14:24<05:01,  1.39s/it]\n",
      " 75%|███████▍  | 643/858 [14:25<04:32,  1.27s/it]\n",
      " 75%|███████▌  | 644/858 [14:26<04:11,  1.17s/it]\n",
      " 75%|███████▌  | 645/858 [14:27<03:55,  1.11s/it]\n"
     ]
    },
    {
     "name": "stdout",
     "output_type": "stream",
     "text": [
      "== Status ==\n",
      "Current time: 2023-03-05 20:41:10 (running for 00:14:35.84)\n",
      "Memory usage on this node: 25.6/251.7 GiB \n",
      "Using FIFO scheduling algorithm.\n",
      "Resources requested: 64.0/64 CPUs, 1.0/1 GPUs, 0.0/147.5 GiB heap, 0.0/67.2 GiB objects (0.0/1.0 accelerator_type:RTX)\n",
      "Result logdir: /home/922201615/ray_results/_objective_2023-03-05_20-26-34\n",
      "Number of trials: 1/1 (1 RUNNING)\n",
      "+------------------------+----------+----------------------+-----------------+---------------------+----------------+-------------+\n",
      "| Trial name             | status   | loc                  |   learning_rate | lr_scheduler_type   |   warmup_ratio |   objective |\n",
      "|------------------------+----------+----------------------+-----------------+---------------------+----------------+-------------|\n",
      "| _objective_13ff3_00000 | RUNNING  | 130.212.82.53:302157 |     5.61152e-06 | linear              |       0.036687 |   0.0766502 |\n",
      "+------------------------+----------+----------------------+-----------------+---------------------+----------------+-------------+\n",
      "\n",
      "\n"
     ]
    },
    {
     "name": "stderr",
     "output_type": "stream",
     "text": [
      " 75%|███████▌  | 646/858 [14:29<04:53,  1.38s/it]\n",
      " 75%|███████▌  | 647/858 [14:30<04:25,  1.26s/it]\n",
      " 76%|███████▌  | 648/858 [14:31<04:05,  1.17s/it]\n",
      " 76%|███████▌  | 649/858 [14:31<03:50,  1.10s/it]\n"
     ]
    },
    {
     "name": "stdout",
     "output_type": "stream",
     "text": [
      "== Status ==\n",
      "Current time: 2023-03-05 20:41:15 (running for 00:14:40.84)\n",
      "Memory usage on this node: 25.9/251.7 GiB \n",
      "Using FIFO scheduling algorithm.\n",
      "Resources requested: 64.0/64 CPUs, 1.0/1 GPUs, 0.0/147.5 GiB heap, 0.0/67.2 GiB objects (0.0/1.0 accelerator_type:RTX)\n",
      "Result logdir: /home/922201615/ray_results/_objective_2023-03-05_20-26-34\n",
      "Number of trials: 1/1 (1 RUNNING)\n",
      "+------------------------+----------+----------------------+-----------------+---------------------+----------------+-------------+\n",
      "| Trial name             | status   | loc                  |   learning_rate | lr_scheduler_type   |   warmup_ratio |   objective |\n",
      "|------------------------+----------+----------------------+-----------------+---------------------+----------------+-------------|\n",
      "| _objective_13ff3_00000 | RUNNING  | 130.212.82.53:302157 |     5.61152e-06 | linear              |       0.036687 |   0.0766502 |\n",
      "+------------------------+----------+----------------------+-----------------+---------------------+----------------+-------------+\n",
      "\n",
      "\n"
     ]
    },
    {
     "name": "stderr",
     "output_type": "stream",
     "text": [
      " 76%|███████▌  | 650/858 [14:34<04:48,  1.39s/it]\n",
      " 76%|███████▌  | 651/858 [14:35<04:23,  1.27s/it]\n",
      " 76%|███████▌  | 652/858 [14:35<04:02,  1.18s/it]\n",
      " 76%|███████▌  | 653/858 [14:36<03:47,  1.11s/it]\n"
     ]
    },
    {
     "name": "stdout",
     "output_type": "stream",
     "text": [
      "== Status ==\n",
      "Current time: 2023-03-05 20:41:20 (running for 00:14:45.84)\n",
      "Memory usage on this node: 26.0/251.7 GiB \n",
      "Using FIFO scheduling algorithm.\n",
      "Resources requested: 64.0/64 CPUs, 1.0/1 GPUs, 0.0/147.5 GiB heap, 0.0/67.2 GiB objects (0.0/1.0 accelerator_type:RTX)\n",
      "Result logdir: /home/922201615/ray_results/_objective_2023-03-05_20-26-34\n",
      "Number of trials: 1/1 (1 RUNNING)\n",
      "+------------------------+----------+----------------------+-----------------+---------------------+----------------+-------------+\n",
      "| Trial name             | status   | loc                  |   learning_rate | lr_scheduler_type   |   warmup_ratio |   objective |\n",
      "|------------------------+----------+----------------------+-----------------+---------------------+----------------+-------------|\n",
      "| _objective_13ff3_00000 | RUNNING  | 130.212.82.53:302157 |     5.61152e-06 | linear              |       0.036687 |   0.0766502 |\n",
      "+------------------------+----------+----------------------+-----------------+---------------------+----------------+-------------+\n",
      "\n",
      "\n"
     ]
    },
    {
     "name": "stderr",
     "output_type": "stream",
     "text": [
      " 76%|███████▌  | 654/858 [14:38<04:40,  1.37s/it]\n",
      " 76%|███████▋  | 655/858 [14:39<04:17,  1.27s/it]\n",
      " 76%|███████▋  | 656/858 [14:40<03:56,  1.17s/it]\n",
      " 77%|███████▋  | 657/858 [14:41<03:42,  1.11s/it]\n",
      " 77%|███████▋  | 658/858 [14:42<03:34,  1.07s/it]\n"
     ]
    },
    {
     "name": "stdout",
     "output_type": "stream",
     "text": [
      "== Status ==\n",
      "Current time: 2023-03-05 20:41:25 (running for 00:14:50.85)\n",
      "Memory usage on this node: 26.0/251.7 GiB \n",
      "Using FIFO scheduling algorithm.\n",
      "Resources requested: 64.0/64 CPUs, 1.0/1 GPUs, 0.0/147.5 GiB heap, 0.0/67.2 GiB objects (0.0/1.0 accelerator_type:RTX)\n",
      "Result logdir: /home/922201615/ray_results/_objective_2023-03-05_20-26-34\n",
      "Number of trials: 1/1 (1 RUNNING)\n",
      "+------------------------+----------+----------------------+-----------------+---------------------+----------------+-------------+\n",
      "| Trial name             | status   | loc                  |   learning_rate | lr_scheduler_type   |   warmup_ratio |   objective |\n",
      "|------------------------+----------+----------------------+-----------------+---------------------+----------------+-------------|\n",
      "| _objective_13ff3_00000 | RUNNING  | 130.212.82.53:302157 |     5.61152e-06 | linear              |       0.036687 |   0.0766502 |\n",
      "+------------------------+----------+----------------------+-----------------+---------------------+----------------+-------------+\n",
      "\n",
      "\n"
     ]
    },
    {
     "name": "stderr",
     "output_type": "stream",
     "text": [
      " 77%|███████▋  | 659/858 [14:45<04:52,  1.47s/it]\n",
      " 77%|███████▋  | 660/858 [14:46<04:20,  1.31s/it]\n",
      " 77%|███████▋  | 661/858 [14:47<03:57,  1.21s/it]\n",
      " 77%|███████▋  | 662/858 [14:48<03:41,  1.13s/it]\n"
     ]
    },
    {
     "name": "stdout",
     "output_type": "stream",
     "text": [
      "== Status ==\n",
      "Current time: 2023-03-05 20:41:30 (running for 00:14:55.85)\n",
      "Memory usage on this node: 26.1/251.7 GiB \n",
      "Using FIFO scheduling algorithm.\n",
      "Resources requested: 64.0/64 CPUs, 1.0/1 GPUs, 0.0/147.5 GiB heap, 0.0/67.2 GiB objects (0.0/1.0 accelerator_type:RTX)\n",
      "Result logdir: /home/922201615/ray_results/_objective_2023-03-05_20-26-34\n",
      "Number of trials: 1/1 (1 RUNNING)\n",
      "+------------------------+----------+----------------------+-----------------+---------------------+----------------+-------------+\n",
      "| Trial name             | status   | loc                  |   learning_rate | lr_scheduler_type   |   warmup_ratio |   objective |\n",
      "|------------------------+----------+----------------------+-----------------+---------------------+----------------+-------------|\n",
      "| _objective_13ff3_00000 | RUNNING  | 130.212.82.53:302157 |     5.61152e-06 | linear              |       0.036687 |   0.0766502 |\n",
      "+------------------------+----------+----------------------+-----------------+---------------------+----------------+-------------+\n",
      "\n",
      "\n"
     ]
    },
    {
     "name": "stderr",
     "output_type": "stream",
     "text": [
      " 77%|███████▋  | 663/858 [14:50<04:46,  1.47s/it]\n",
      " 77%|███████▋  | 664/858 [14:51<04:15,  1.32s/it]\n",
      " 78%|███████▊  | 665/858 [14:52<03:52,  1.21s/it]\n",
      " 78%|███████▊  | 666/858 [14:53<03:37,  1.13s/it]\n"
     ]
    },
    {
     "name": "stdout",
     "output_type": "stream",
     "text": [
      "== Status ==\n",
      "Current time: 2023-03-05 20:41:35 (running for 00:15:00.85)\n",
      "Memory usage on this node: 25.5/251.7 GiB \n",
      "Using FIFO scheduling algorithm.\n",
      "Resources requested: 64.0/64 CPUs, 1.0/1 GPUs, 0.0/147.5 GiB heap, 0.0/67.2 GiB objects (0.0/1.0 accelerator_type:RTX)\n",
      "Result logdir: /home/922201615/ray_results/_objective_2023-03-05_20-26-34\n",
      "Number of trials: 1/1 (1 RUNNING)\n",
      "+------------------------+----------+----------------------+-----------------+---------------------+----------------+-------------+\n",
      "| Trial name             | status   | loc                  |   learning_rate | lr_scheduler_type   |   warmup_ratio |   objective |\n",
      "|------------------------+----------+----------------------+-----------------+---------------------+----------------+-------------|\n",
      "| _objective_13ff3_00000 | RUNNING  | 130.212.82.53:302157 |     5.61152e-06 | linear              |       0.036687 |   0.0766502 |\n",
      "+------------------------+----------+----------------------+-----------------+---------------------+----------------+-------------+\n",
      "\n",
      "\n"
     ]
    },
    {
     "name": "stderr",
     "output_type": "stream",
     "text": [
      " 78%|███████▊  | 667/858 [14:55<04:41,  1.47s/it]\n",
      " 78%|███████▊  | 668/858 [14:56<04:10,  1.32s/it]\n",
      " 78%|███████▊  | 669/858 [14:57<03:48,  1.21s/it]\n",
      " 78%|███████▊  | 670/858 [14:58<03:32,  1.13s/it]\n"
     ]
    },
    {
     "name": "stdout",
     "output_type": "stream",
     "text": [
      "== Status ==\n",
      "Current time: 2023-03-05 20:41:40 (running for 00:15:05.86)\n",
      "Memory usage on this node: 25.8/251.7 GiB \n",
      "Using FIFO scheduling algorithm.\n",
      "Resources requested: 64.0/64 CPUs, 1.0/1 GPUs, 0.0/147.5 GiB heap, 0.0/67.2 GiB objects (0.0/1.0 accelerator_type:RTX)\n",
      "Result logdir: /home/922201615/ray_results/_objective_2023-03-05_20-26-34\n",
      "Number of trials: 1/1 (1 RUNNING)\n",
      "+------------------------+----------+----------------------+-----------------+---------------------+----------------+-------------+\n",
      "| Trial name             | status   | loc                  |   learning_rate | lr_scheduler_type   |   warmup_ratio |   objective |\n",
      "|------------------------+----------+----------------------+-----------------+---------------------+----------------+-------------|\n",
      "| _objective_13ff3_00000 | RUNNING  | 130.212.82.53:302157 |     5.61152e-06 | linear              |       0.036687 |   0.0766502 |\n",
      "+------------------------+----------+----------------------+-----------------+---------------------+----------------+-------------+\n",
      "\n",
      "\n"
     ]
    },
    {
     "name": "stderr",
     "output_type": "stream",
     "text": [
      " 78%|███████▊  | 671/858 [15:00<04:33,  1.46s/it]\n",
      " 78%|███████▊  | 672/858 [15:01<04:03,  1.31s/it]\n",
      " 78%|███████▊  | 673/858 [15:02<03:42,  1.20s/it]\n"
     ]
    },
    {
     "name": "stdout",
     "output_type": "stream",
     "text": [
      "== Status ==\n",
      "Current time: 2023-03-05 20:41:45 (running for 00:15:10.86)\n",
      "Memory usage on this node: 26.1/251.7 GiB \n",
      "Using FIFO scheduling algorithm.\n",
      "Resources requested: 64.0/64 CPUs, 1.0/1 GPUs, 0.0/147.5 GiB heap, 0.0/67.2 GiB objects (0.0/1.0 accelerator_type:RTX)\n",
      "Result logdir: /home/922201615/ray_results/_objective_2023-03-05_20-26-34\n",
      "Number of trials: 1/1 (1 RUNNING)\n",
      "+------------------------+----------+----------------------+-----------------+---------------------+----------------+-------------+\n",
      "| Trial name             | status   | loc                  |   learning_rate | lr_scheduler_type   |   warmup_ratio |   objective |\n",
      "|------------------------+----------+----------------------+-----------------+---------------------+----------------+-------------|\n",
      "| _objective_13ff3_00000 | RUNNING  | 130.212.82.53:302157 |     5.61152e-06 | linear              |       0.036687 |   0.0766502 |\n",
      "+------------------------+----------+----------------------+-----------------+---------------------+----------------+-------------+\n",
      "\n",
      "\n"
     ]
    },
    {
     "name": "stderr",
     "output_type": "stream",
     "text": [
      " 79%|███████▊  | 674/858 [15:03<03:27,  1.13s/it]\n",
      " 79%|███████▊  | 675/858 [15:05<04:24,  1.45s/it]\n",
      " 79%|███████▉  | 676/858 [15:06<03:56,  1.30s/it]\n",
      " 79%|███████▉  | 677/858 [15:07<03:36,  1.20s/it]\n"
     ]
    },
    {
     "name": "stdout",
     "output_type": "stream",
     "text": [
      "== Status ==\n",
      "Current time: 2023-03-05 20:41:50 (running for 00:15:15.87)\n",
      "Memory usage on this node: 26.3/251.7 GiB \n",
      "Using FIFO scheduling algorithm.\n",
      "Resources requested: 64.0/64 CPUs, 1.0/1 GPUs, 0.0/147.5 GiB heap, 0.0/67.2 GiB objects (0.0/1.0 accelerator_type:RTX)\n",
      "Result logdir: /home/922201615/ray_results/_objective_2023-03-05_20-26-34\n",
      "Number of trials: 1/1 (1 RUNNING)\n",
      "+------------------------+----------+----------------------+-----------------+---------------------+----------------+-------------+\n",
      "| Trial name             | status   | loc                  |   learning_rate | lr_scheduler_type   |   warmup_ratio |   objective |\n",
      "|------------------------+----------+----------------------+-----------------+---------------------+----------------+-------------|\n",
      "| _objective_13ff3_00000 | RUNNING  | 130.212.82.53:302157 |     5.61152e-06 | linear              |       0.036687 |   0.0766502 |\n",
      "+------------------------+----------+----------------------+-----------------+---------------------+----------------+-------------+\n",
      "\n",
      "\n"
     ]
    },
    {
     "name": "stderr",
     "output_type": "stream",
     "text": [
      " 79%|███████▉  | 678/858 [15:08<03:22,  1.12s/it]\n",
      " 79%|███████▉  | 679/858 [15:10<04:13,  1.42s/it]\n",
      " 79%|███████▉  | 680/858 [15:11<03:47,  1.28s/it]\n",
      " 79%|███████▉  | 681/858 [15:12<03:28,  1.18s/it]\n"
     ]
    },
    {
     "name": "stdout",
     "output_type": "stream",
     "text": [
      "== Status ==\n",
      "Current time: 2023-03-05 20:41:55 (running for 00:15:20.87)\n",
      "Memory usage on this node: 26.5/251.7 GiB \n",
      "Using FIFO scheduling algorithm.\n",
      "Resources requested: 64.0/64 CPUs, 1.0/1 GPUs, 0.0/147.5 GiB heap, 0.0/67.2 GiB objects (0.0/1.0 accelerator_type:RTX)\n",
      "Result logdir: /home/922201615/ray_results/_objective_2023-03-05_20-26-34\n",
      "Number of trials: 1/1 (1 RUNNING)\n",
      "+------------------------+----------+----------------------+-----------------+---------------------+----------------+-------------+\n",
      "| Trial name             | status   | loc                  |   learning_rate | lr_scheduler_type   |   warmup_ratio |   objective |\n",
      "|------------------------+----------+----------------------+-----------------+---------------------+----------------+-------------|\n",
      "| _objective_13ff3_00000 | RUNNING  | 130.212.82.53:302157 |     5.61152e-06 | linear              |       0.036687 |   0.0766502 |\n",
      "+------------------------+----------+----------------------+-----------------+---------------------+----------------+-------------+\n",
      "\n",
      "\n"
     ]
    },
    {
     "name": "stderr",
     "output_type": "stream",
     "text": [
      " 79%|███████▉  | 682/858 [15:13<03:15,  1.11s/it]\n",
      " 80%|███████▉  | 683/858 [15:15<04:10,  1.43s/it]\n",
      " 80%|███████▉  | 684/858 [15:16<03:44,  1.29s/it]\n",
      " 80%|███████▉  | 685/858 [15:17<03:25,  1.19s/it]\n"
     ]
    },
    {
     "name": "stdout",
     "output_type": "stream",
     "text": [
      "== Status ==\n",
      "Current time: 2023-03-05 20:42:00 (running for 00:15:25.88)\n",
      "Memory usage on this node: 26.2/251.7 GiB \n",
      "Using FIFO scheduling algorithm.\n",
      "Resources requested: 64.0/64 CPUs, 1.0/1 GPUs, 0.0/147.5 GiB heap, 0.0/67.2 GiB objects (0.0/1.0 accelerator_type:RTX)\n",
      "Result logdir: /home/922201615/ray_results/_objective_2023-03-05_20-26-34\n",
      "Number of trials: 1/1 (1 RUNNING)\n",
      "+------------------------+----------+----------------------+-----------------+---------------------+----------------+-------------+\n",
      "| Trial name             | status   | loc                  |   learning_rate | lr_scheduler_type   |   warmup_ratio |   objective |\n",
      "|------------------------+----------+----------------------+-----------------+---------------------+----------------+-------------|\n",
      "| _objective_13ff3_00000 | RUNNING  | 130.212.82.53:302157 |     5.61152e-06 | linear              |       0.036687 |   0.0766502 |\n",
      "+------------------------+----------+----------------------+-----------------+---------------------+----------------+-------------+\n",
      "\n",
      "\n"
     ]
    },
    {
     "name": "stderr",
     "output_type": "stream",
     "text": [
      " 80%|███████▉  | 686/858 [15:18<03:12,  1.12s/it]\n",
      " 80%|████████  | 687/858 [15:20<04:02,  1.42s/it]\n",
      " 80%|████████  | 688/858 [15:21<03:37,  1.28s/it]\n",
      " 80%|████████  | 689/858 [15:22<03:19,  1.18s/it]\n"
     ]
    },
    {
     "name": "stdout",
     "output_type": "stream",
     "text": [
      "== Status ==\n",
      "Current time: 2023-03-05 20:42:05 (running for 00:15:30.88)\n",
      "Memory usage on this node: 25.7/251.7 GiB \n",
      "Using FIFO scheduling algorithm.\n",
      "Resources requested: 64.0/64 CPUs, 1.0/1 GPUs, 0.0/147.5 GiB heap, 0.0/67.2 GiB objects (0.0/1.0 accelerator_type:RTX)\n",
      "Result logdir: /home/922201615/ray_results/_objective_2023-03-05_20-26-34\n",
      "Number of trials: 1/1 (1 RUNNING)\n",
      "+------------------------+----------+----------------------+-----------------+---------------------+----------------+-------------+\n",
      "| Trial name             | status   | loc                  |   learning_rate | lr_scheduler_type   |   warmup_ratio |   objective |\n",
      "|------------------------+----------+----------------------+-----------------+---------------------+----------------+-------------|\n",
      "| _objective_13ff3_00000 | RUNNING  | 130.212.82.53:302157 |     5.61152e-06 | linear              |       0.036687 |   0.0766502 |\n",
      "+------------------------+----------+----------------------+-----------------+---------------------+----------------+-------------+\n",
      "\n",
      "\n"
     ]
    },
    {
     "name": "stderr",
     "output_type": "stream",
     "text": [
      " 80%|████████  | 690/858 [15:23<03:06,  1.11s/it]\n",
      " 81%|████████  | 691/858 [15:25<04:03,  1.46s/it]\n",
      " 81%|████████  | 692/858 [15:26<03:36,  1.30s/it]\n",
      " 81%|████████  | 693/858 [15:27<03:17,  1.20s/it]\n"
     ]
    },
    {
     "name": "stdout",
     "output_type": "stream",
     "text": [
      "== Status ==\n",
      "Current time: 2023-03-05 20:42:10 (running for 00:15:35.88)\n",
      "Memory usage on this node: 25.7/251.7 GiB \n",
      "Using FIFO scheduling algorithm.\n",
      "Resources requested: 64.0/64 CPUs, 1.0/1 GPUs, 0.0/147.5 GiB heap, 0.0/67.2 GiB objects (0.0/1.0 accelerator_type:RTX)\n",
      "Result logdir: /home/922201615/ray_results/_objective_2023-03-05_20-26-34\n",
      "Number of trials: 1/1 (1 RUNNING)\n",
      "+------------------------+----------+----------------------+-----------------+---------------------+----------------+-------------+\n",
      "| Trial name             | status   | loc                  |   learning_rate | lr_scheduler_type   |   warmup_ratio |   objective |\n",
      "|------------------------+----------+----------------------+-----------------+---------------------+----------------+-------------|\n",
      "| _objective_13ff3_00000 | RUNNING  | 130.212.82.53:302157 |     5.61152e-06 | linear              |       0.036687 |   0.0766502 |\n",
      "+------------------------+----------+----------------------+-----------------+---------------------+----------------+-------------+\n",
      "\n",
      "\n"
     ]
    },
    {
     "name": "stderr",
     "output_type": "stream",
     "text": [
      " 81%|████████  | 694/858 [15:28<03:04,  1.12s/it]\n",
      " 81%|████████  | 695/858 [15:31<04:10,  1.54s/it]\n",
      " 81%|████████  | 696/858 [15:32<03:40,  1.36s/it]\n",
      " 81%|████████  | 697/858 [15:32<03:19,  1.24s/it]\n"
     ]
    },
    {
     "name": "stdout",
     "output_type": "stream",
     "text": [
      "== Status ==\n",
      "Current time: 2023-03-05 20:42:15 (running for 00:15:40.89)\n",
      "Memory usage on this node: 26.3/251.7 GiB \n",
      "Using FIFO scheduling algorithm.\n",
      "Resources requested: 64.0/64 CPUs, 1.0/1 GPUs, 0.0/147.5 GiB heap, 0.0/67.2 GiB objects (0.0/1.0 accelerator_type:RTX)\n",
      "Result logdir: /home/922201615/ray_results/_objective_2023-03-05_20-26-34\n",
      "Number of trials: 1/1 (1 RUNNING)\n",
      "+------------------------+----------+----------------------+-----------------+---------------------+----------------+-------------+\n",
      "| Trial name             | status   | loc                  |   learning_rate | lr_scheduler_type   |   warmup_ratio |   objective |\n",
      "|------------------------+----------+----------------------+-----------------+---------------------+----------------+-------------|\n",
      "| _objective_13ff3_00000 | RUNNING  | 130.212.82.53:302157 |     5.61152e-06 | linear              |       0.036687 |   0.0766502 |\n",
      "+------------------------+----------+----------------------+-----------------+---------------------+----------------+-------------+\n",
      "\n",
      "\n"
     ]
    },
    {
     "name": "stderr",
     "output_type": "stream",
     "text": [
      " 81%|████████▏ | 698/858 [15:33<03:04,  1.15s/it]\n",
      " 81%|████████▏ | 699/858 [15:36<04:00,  1.51s/it]\n",
      " 82%|████████▏ | 700/858 [15:37<03:32,  1.34s/it]\n",
      " 82%|████████▏ | 701/858 [15:38<03:12,  1.23s/it]\n"
     ]
    },
    {
     "name": "stdout",
     "output_type": "stream",
     "text": [
      "== Status ==\n",
      "Current time: 2023-03-05 20:42:20 (running for 00:15:45.89)\n",
      "Memory usage on this node: 26.1/251.7 GiB \n",
      "Using FIFO scheduling algorithm.\n",
      "Resources requested: 64.0/64 CPUs, 1.0/1 GPUs, 0.0/147.5 GiB heap, 0.0/67.2 GiB objects (0.0/1.0 accelerator_type:RTX)\n",
      "Result logdir: /home/922201615/ray_results/_objective_2023-03-05_20-26-34\n",
      "Number of trials: 1/1 (1 RUNNING)\n",
      "+------------------------+----------+----------------------+-----------------+---------------------+----------------+-------------+\n",
      "| Trial name             | status   | loc                  |   learning_rate | lr_scheduler_type   |   warmup_ratio |   objective |\n",
      "|------------------------+----------+----------------------+-----------------+---------------------+----------------+-------------|\n",
      "| _objective_13ff3_00000 | RUNNING  | 130.212.82.53:302157 |     5.61152e-06 | linear              |       0.036687 |   0.0766502 |\n",
      "+------------------------+----------+----------------------+-----------------+---------------------+----------------+-------------+\n",
      "\n",
      "\n"
     ]
    },
    {
     "name": "stderr",
     "output_type": "stream",
     "text": [
      " 82%|████████▏ | 702/858 [15:39<02:58,  1.14s/it]\n",
      " 82%|████████▏ | 703/858 [15:41<03:52,  1.50s/it]\n",
      " 82%|████████▏ | 704/858 [15:42<03:25,  1.33s/it]\n",
      " 82%|████████▏ | 705/858 [15:43<03:06,  1.22s/it]\n"
     ]
    },
    {
     "name": "stdout",
     "output_type": "stream",
     "text": [
      "== Status ==\n",
      "Current time: 2023-03-05 20:42:25 (running for 00:15:50.89)\n",
      "Memory usage on this node: 26.0/251.7 GiB \n",
      "Using FIFO scheduling algorithm.\n",
      "Resources requested: 64.0/64 CPUs, 1.0/1 GPUs, 0.0/147.5 GiB heap, 0.0/67.2 GiB objects (0.0/1.0 accelerator_type:RTX)\n",
      "Result logdir: /home/922201615/ray_results/_objective_2023-03-05_20-26-34\n",
      "Number of trials: 1/1 (1 RUNNING)\n",
      "+------------------------+----------+----------------------+-----------------+---------------------+----------------+-------------+\n",
      "| Trial name             | status   | loc                  |   learning_rate | lr_scheduler_type   |   warmup_ratio |   objective |\n",
      "|------------------------+----------+----------------------+-----------------+---------------------+----------------+-------------|\n",
      "| _objective_13ff3_00000 | RUNNING  | 130.212.82.53:302157 |     5.61152e-06 | linear              |       0.036687 |   0.0766502 |\n",
      "+------------------------+----------+----------------------+-----------------+---------------------+----------------+-------------+\n",
      "\n",
      "\n"
     ]
    },
    {
     "name": "stderr",
     "output_type": "stream",
     "text": [
      " 82%|████████▏ | 706/858 [15:44<02:53,  1.14s/it]\n",
      " 82%|████████▏ | 707/858 [15:46<03:39,  1.45s/it]\n",
      " 83%|████████▎ | 708/858 [15:47<03:15,  1.30s/it]\n",
      " 83%|████████▎ | 709/858 [15:48<02:58,  1.20s/it]\n"
     ]
    },
    {
     "name": "stdout",
     "output_type": "stream",
     "text": [
      "== Status ==\n",
      "Current time: 2023-03-05 20:42:30 (running for 00:15:55.90)\n",
      "Memory usage on this node: 25.9/251.7 GiB \n",
      "Using FIFO scheduling algorithm.\n",
      "Resources requested: 64.0/64 CPUs, 1.0/1 GPUs, 0.0/147.5 GiB heap, 0.0/67.2 GiB objects (0.0/1.0 accelerator_type:RTX)\n",
      "Result logdir: /home/922201615/ray_results/_objective_2023-03-05_20-26-34\n",
      "Number of trials: 1/1 (1 RUNNING)\n",
      "+------------------------+----------+----------------------+-----------------+---------------------+----------------+-------------+\n",
      "| Trial name             | status   | loc                  |   learning_rate | lr_scheduler_type   |   warmup_ratio |   objective |\n",
      "|------------------------+----------+----------------------+-----------------+---------------------+----------------+-------------|\n",
      "| _objective_13ff3_00000 | RUNNING  | 130.212.82.53:302157 |     5.61152e-06 | linear              |       0.036687 |   0.0766502 |\n",
      "+------------------------+----------+----------------------+-----------------+---------------------+----------------+-------------+\n",
      "\n",
      "\n"
     ]
    },
    {
     "name": "stderr",
     "output_type": "stream",
     "text": [
      " 83%|████████▎ | 710/858 [15:49<02:46,  1.12s/it]\n",
      " 83%|████████▎ | 711/858 [15:51<03:33,  1.45s/it]\n",
      " 83%|████████▎ | 712/858 [15:52<03:10,  1.30s/it]\n"
     ]
    },
    {
     "name": "stdout",
     "output_type": "stream",
     "text": [
      "== Status ==\n",
      "Current time: 2023-03-05 20:42:35 (running for 00:16:00.90)\n",
      "Memory usage on this node: 25.9/251.7 GiB \n",
      "Using FIFO scheduling algorithm.\n",
      "Resources requested: 64.0/64 CPUs, 1.0/1 GPUs, 0.0/147.5 GiB heap, 0.0/67.2 GiB objects (0.0/1.0 accelerator_type:RTX)\n",
      "Result logdir: /home/922201615/ray_results/_objective_2023-03-05_20-26-34\n",
      "Number of trials: 1/1 (1 RUNNING)\n",
      "+------------------------+----------+----------------------+-----------------+---------------------+----------------+-------------+\n",
      "| Trial name             | status   | loc                  |   learning_rate | lr_scheduler_type   |   warmup_ratio |   objective |\n",
      "|------------------------+----------+----------------------+-----------------+---------------------+----------------+-------------|\n",
      "| _objective_13ff3_00000 | RUNNING  | 130.212.82.53:302157 |     5.61152e-06 | linear              |       0.036687 |   0.0766502 |\n",
      "+------------------------+----------+----------------------+-----------------+---------------------+----------------+-------------+\n",
      "\n",
      "\n"
     ]
    },
    {
     "name": "stderr",
     "output_type": "stream",
     "text": [
      " 83%|████████▎ | 713/858 [15:53<02:53,  1.20s/it]\n",
      " 83%|████████▎ | 714/858 [15:54<02:41,  1.12s/it]\n",
      " 83%|████████▎ | 715/858 [15:56<03:29,  1.46s/it]\n",
      " 83%|████████▎ | 716/858 [15:57<03:06,  1.31s/it]\n"
     ]
    },
    {
     "name": "stdout",
     "output_type": "stream",
     "text": [
      "== Status ==\n",
      "Current time: 2023-03-05 20:42:40 (running for 00:16:05.91)\n",
      "Memory usage on this node: 25.8/251.7 GiB \n",
      "Using FIFO scheduling algorithm.\n",
      "Resources requested: 64.0/64 CPUs, 1.0/1 GPUs, 0.0/147.5 GiB heap, 0.0/67.2 GiB objects (0.0/1.0 accelerator_type:RTX)\n",
      "Result logdir: /home/922201615/ray_results/_objective_2023-03-05_20-26-34\n",
      "Number of trials: 1/1 (1 RUNNING)\n",
      "+------------------------+----------+----------------------+-----------------+---------------------+----------------+-------------+\n",
      "| Trial name             | status   | loc                  |   learning_rate | lr_scheduler_type   |   warmup_ratio |   objective |\n",
      "|------------------------+----------+----------------------+-----------------+---------------------+----------------+-------------|\n",
      "| _objective_13ff3_00000 | RUNNING  | 130.212.82.53:302157 |     5.61152e-06 | linear              |       0.036687 |   0.0766502 |\n",
      "+------------------------+----------+----------------------+-----------------+---------------------+----------------+-------------+\n",
      "\n",
      "\n"
     ]
    },
    {
     "name": "stderr",
     "output_type": "stream",
     "text": [
      " 84%|████████▎ | 717/858 [15:58<02:49,  1.20s/it]\n",
      " 84%|████████▎ | 718/858 [15:59<02:37,  1.13s/it]\n",
      " 84%|████████▍ | 719/858 [16:01<03:22,  1.46s/it]\n",
      " 84%|████████▍ | 720/858 [16:02<02:59,  1.30s/it]\n"
     ]
    },
    {
     "name": "stdout",
     "output_type": "stream",
     "text": [
      "== Status ==\n",
      "Current time: 2023-03-05 20:42:45 (running for 00:16:10.91)\n",
      "Memory usage on this node: 25.8/251.7 GiB \n",
      "Using FIFO scheduling algorithm.\n",
      "Resources requested: 64.0/64 CPUs, 1.0/1 GPUs, 0.0/147.5 GiB heap, 0.0/67.2 GiB objects (0.0/1.0 accelerator_type:RTX)\n",
      "Result logdir: /home/922201615/ray_results/_objective_2023-03-05_20-26-34\n",
      "Number of trials: 1/1 (1 RUNNING)\n",
      "+------------------------+----------+----------------------+-----------------+---------------------+----------------+-------------+\n",
      "| Trial name             | status   | loc                  |   learning_rate | lr_scheduler_type   |   warmup_ratio |   objective |\n",
      "|------------------------+----------+----------------------+-----------------+---------------------+----------------+-------------|\n",
      "| _objective_13ff3_00000 | RUNNING  | 130.212.82.53:302157 |     5.61152e-06 | linear              |       0.036687 |   0.0766502 |\n",
      "+------------------------+----------+----------------------+-----------------+---------------------+----------------+-------------+\n",
      "\n",
      "\n"
     ]
    },
    {
     "name": "stderr",
     "output_type": "stream",
     "text": [
      " 84%|████████▍ | 721/858 [16:03<02:44,  1.20s/it]\n",
      " 84%|████████▍ | 722/858 [16:04<02:32,  1.12s/it]\n",
      " 84%|████████▍ | 723/858 [16:06<03:13,  1.44s/it]\n",
      " 84%|████████▍ | 724/858 [16:07<02:53,  1.29s/it]\n"
     ]
    },
    {
     "name": "stdout",
     "output_type": "stream",
     "text": [
      "== Status ==\n",
      "Current time: 2023-03-05 20:42:50 (running for 00:16:15.91)\n",
      "Memory usage on this node: 25.7/251.7 GiB \n",
      "Using FIFO scheduling algorithm.\n",
      "Resources requested: 64.0/64 CPUs, 1.0/1 GPUs, 0.0/147.5 GiB heap, 0.0/67.2 GiB objects (0.0/1.0 accelerator_type:RTX)\n",
      "Result logdir: /home/922201615/ray_results/_objective_2023-03-05_20-26-34\n",
      "Number of trials: 1/1 (1 RUNNING)\n",
      "+------------------------+----------+----------------------+-----------------+---------------------+----------------+-------------+\n",
      "| Trial name             | status   | loc                  |   learning_rate | lr_scheduler_type   |   warmup_ratio |   objective |\n",
      "|------------------------+----------+----------------------+-----------------+---------------------+----------------+-------------|\n",
      "| _objective_13ff3_00000 | RUNNING  | 130.212.82.53:302157 |     5.61152e-06 | linear              |       0.036687 |   0.0766502 |\n",
      "+------------------------+----------+----------------------+-----------------+---------------------+----------------+-------------+\n",
      "\n",
      "\n"
     ]
    },
    {
     "name": "stderr",
     "output_type": "stream",
     "text": [
      " 84%|████████▍ | 725/858 [16:08<02:38,  1.19s/it]\n",
      " 85%|████████▍ | 726/858 [16:09<02:27,  1.12s/it]\n",
      " 85%|████████▍ | 727/858 [16:11<02:49,  1.29s/it]\n",
      " 85%|████████▍ | 728/858 [16:12<02:34,  1.19s/it]\n",
      " 85%|████████▍ | 729/858 [16:13<02:24,  1.12s/it]\n"
     ]
    },
    {
     "name": "stdout",
     "output_type": "stream",
     "text": [
      "== Status ==\n",
      "Current time: 2023-03-05 20:42:55 (running for 00:16:20.92)\n",
      "Memory usage on this node: 25.7/251.7 GiB \n",
      "Using FIFO scheduling algorithm.\n",
      "Resources requested: 64.0/64 CPUs, 1.0/1 GPUs, 0.0/147.5 GiB heap, 0.0/67.2 GiB objects (0.0/1.0 accelerator_type:RTX)\n",
      "Result logdir: /home/922201615/ray_results/_objective_2023-03-05_20-26-34\n",
      "Number of trials: 1/1 (1 RUNNING)\n",
      "+------------------------+----------+----------------------+-----------------+---------------------+----------------+-------------+\n",
      "| Trial name             | status   | loc                  |   learning_rate | lr_scheduler_type   |   warmup_ratio |   objective |\n",
      "|------------------------+----------+----------------------+-----------------+---------------------+----------------+-------------|\n",
      "| _objective_13ff3_00000 | RUNNING  | 130.212.82.53:302157 |     5.61152e-06 | linear              |       0.036687 |   0.0766502 |\n",
      "+------------------------+----------+----------------------+-----------------+---------------------+----------------+-------------+\n",
      "\n",
      "\n"
     ]
    },
    {
     "name": "stderr",
     "output_type": "stream",
     "text": [
      " 85%|████████▌ | 730/858 [16:14<02:16,  1.07s/it]\n",
      " 85%|████████▌ | 731/858 [16:16<02:58,  1.40s/it]\n",
      " 85%|████████▌ | 732/858 [16:17<02:39,  1.27s/it]\n",
      " 85%|████████▌ | 733/858 [16:18<02:26,  1.17s/it]\n"
     ]
    },
    {
     "name": "stdout",
     "output_type": "stream",
     "text": [
      "== Status ==\n",
      "Current time: 2023-03-05 20:43:00 (running for 00:16:25.92)\n",
      "Memory usage on this node: 25.7/251.7 GiB \n",
      "Using FIFO scheduling algorithm.\n",
      "Resources requested: 64.0/64 CPUs, 1.0/1 GPUs, 0.0/147.5 GiB heap, 0.0/67.2 GiB objects (0.0/1.0 accelerator_type:RTX)\n",
      "Result logdir: /home/922201615/ray_results/_objective_2023-03-05_20-26-34\n",
      "Number of trials: 1/1 (1 RUNNING)\n",
      "+------------------------+----------+----------------------+-----------------+---------------------+----------------+-------------+\n",
      "| Trial name             | status   | loc                  |   learning_rate | lr_scheduler_type   |   warmup_ratio |   objective |\n",
      "|------------------------+----------+----------------------+-----------------+---------------------+----------------+-------------|\n",
      "| _objective_13ff3_00000 | RUNNING  | 130.212.82.53:302157 |     5.61152e-06 | linear              |       0.036687 |   0.0766502 |\n",
      "+------------------------+----------+----------------------+-----------------+---------------------+----------------+-------------+\n",
      "\n",
      "\n"
     ]
    },
    {
     "name": "stderr",
     "output_type": "stream",
     "text": [
      " 86%|████████▌ | 734/858 [16:19<02:17,  1.11s/it]\n",
      " 86%|████████▌ | 735/858 [16:21<02:55,  1.43s/it]\n",
      " 86%|████████▌ | 736/858 [16:22<02:36,  1.29s/it]\n",
      " 86%|████████▌ | 737/858 [16:23<02:23,  1.19s/it]\n"
     ]
    },
    {
     "name": "stdout",
     "output_type": "stream",
     "text": [
      "== Status ==\n",
      "Current time: 2023-03-05 20:43:05 (running for 00:16:30.92)\n",
      "Memory usage on this node: 25.7/251.7 GiB \n",
      "Using FIFO scheduling algorithm.\n",
      "Resources requested: 64.0/64 CPUs, 1.0/1 GPUs, 0.0/147.5 GiB heap, 0.0/67.2 GiB objects (0.0/1.0 accelerator_type:RTX)\n",
      "Result logdir: /home/922201615/ray_results/_objective_2023-03-05_20-26-34\n",
      "Number of trials: 1/1 (1 RUNNING)\n",
      "+------------------------+----------+----------------------+-----------------+---------------------+----------------+-------------+\n",
      "| Trial name             | status   | loc                  |   learning_rate | lr_scheduler_type   |   warmup_ratio |   objective |\n",
      "|------------------------+----------+----------------------+-----------------+---------------------+----------------+-------------|\n",
      "| _objective_13ff3_00000 | RUNNING  | 130.212.82.53:302157 |     5.61152e-06 | linear              |       0.036687 |   0.0766502 |\n",
      "+------------------------+----------+----------------------+-----------------+---------------------+----------------+-------------+\n",
      "\n",
      "\n"
     ]
    },
    {
     "name": "stderr",
     "output_type": "stream",
     "text": [
      " 86%|████████▌ | 738/858 [16:24<02:13,  1.12s/it]\n",
      " 86%|████████▌ | 739/858 [16:26<02:47,  1.41s/it]\n",
      " 86%|████████▌ | 740/858 [16:27<02:29,  1.27s/it]\n",
      " 86%|████████▋ | 741/858 [16:28<02:17,  1.17s/it]\n"
     ]
    },
    {
     "name": "stdout",
     "output_type": "stream",
     "text": [
      "== Status ==\n",
      "Current time: 2023-03-05 20:43:10 (running for 00:16:35.93)\n",
      "Memory usage on this node: 26.0/251.7 GiB \n",
      "Using FIFO scheduling algorithm.\n",
      "Resources requested: 64.0/64 CPUs, 1.0/1 GPUs, 0.0/147.5 GiB heap, 0.0/67.2 GiB objects (0.0/1.0 accelerator_type:RTX)\n",
      "Result logdir: /home/922201615/ray_results/_objective_2023-03-05_20-26-34\n",
      "Number of trials: 1/1 (1 RUNNING)\n",
      "+------------------------+----------+----------------------+-----------------+---------------------+----------------+-------------+\n",
      "| Trial name             | status   | loc                  |   learning_rate | lr_scheduler_type   |   warmup_ratio |   objective |\n",
      "|------------------------+----------+----------------------+-----------------+---------------------+----------------+-------------|\n",
      "| _objective_13ff3_00000 | RUNNING  | 130.212.82.53:302157 |     5.61152e-06 | linear              |       0.036687 |   0.0766502 |\n",
      "+------------------------+----------+----------------------+-----------------+---------------------+----------------+-------------+\n",
      "\n",
      "\n"
     ]
    },
    {
     "name": "stderr",
     "output_type": "stream",
     "text": [
      " 86%|████████▋ | 742/858 [16:29<02:08,  1.11s/it]\n",
      " 87%|████████▋ | 743/858 [16:31<02:44,  1.43s/it]\n",
      " 87%|████████▋ | 744/858 [16:32<02:26,  1.29s/it]\n",
      " 87%|████████▋ | 745/858 [16:33<02:14,  1.19s/it]\n"
     ]
    },
    {
     "name": "stdout",
     "output_type": "stream",
     "text": [
      "== Status ==\n",
      "Current time: 2023-03-05 20:43:15 (running for 00:16:40.93)\n",
      "Memory usage on this node: 25.7/251.7 GiB \n",
      "Using FIFO scheduling algorithm.\n",
      "Resources requested: 64.0/64 CPUs, 1.0/1 GPUs, 0.0/147.5 GiB heap, 0.0/67.2 GiB objects (0.0/1.0 accelerator_type:RTX)\n",
      "Result logdir: /home/922201615/ray_results/_objective_2023-03-05_20-26-34\n",
      "Number of trials: 1/1 (1 RUNNING)\n",
      "+------------------------+----------+----------------------+-----------------+---------------------+----------------+-------------+\n",
      "| Trial name             | status   | loc                  |   learning_rate | lr_scheduler_type   |   warmup_ratio |   objective |\n",
      "|------------------------+----------+----------------------+-----------------+---------------------+----------------+-------------|\n",
      "| _objective_13ff3_00000 | RUNNING  | 130.212.82.53:302157 |     5.61152e-06 | linear              |       0.036687 |   0.0766502 |\n",
      "+------------------------+----------+----------------------+-----------------+---------------------+----------------+-------------+\n",
      "\n",
      "\n"
     ]
    },
    {
     "name": "stderr",
     "output_type": "stream",
     "text": [
      " 87%|████████▋ | 746/858 [16:34<02:05,  1.12s/it]\n",
      " 87%|████████▋ | 747/858 [16:36<02:43,  1.47s/it]\n",
      " 87%|████████▋ | 748/858 [16:37<02:24,  1.32s/it]\n",
      " 87%|████████▋ | 749/858 [16:38<02:11,  1.21s/it]\n"
     ]
    },
    {
     "name": "stdout",
     "output_type": "stream",
     "text": [
      "== Status ==\n",
      "Current time: 2023-03-05 20:43:20 (running for 00:16:45.94)\n",
      "Memory usage on this node: 25.9/251.7 GiB \n",
      "Using FIFO scheduling algorithm.\n",
      "Resources requested: 64.0/64 CPUs, 1.0/1 GPUs, 0.0/147.5 GiB heap, 0.0/67.2 GiB objects (0.0/1.0 accelerator_type:RTX)\n",
      "Result logdir: /home/922201615/ray_results/_objective_2023-03-05_20-26-34\n",
      "Number of trials: 1/1 (1 RUNNING)\n",
      "+------------------------+----------+----------------------+-----------------+---------------------+----------------+-------------+\n",
      "| Trial name             | status   | loc                  |   learning_rate | lr_scheduler_type   |   warmup_ratio |   objective |\n",
      "|------------------------+----------+----------------------+-----------------+---------------------+----------------+-------------|\n",
      "| _objective_13ff3_00000 | RUNNING  | 130.212.82.53:302157 |     5.61152e-06 | linear              |       0.036687 |   0.0766502 |\n",
      "+------------------------+----------+----------------------+-----------------+---------------------+----------------+-------------+\n",
      "\n",
      "\n"
     ]
    },
    {
     "name": "stderr",
     "output_type": "stream",
     "text": [
      " 87%|████████▋ | 750/858 [16:39<02:02,  1.13s/it]\n",
      " 88%|████████▊ | 751/858 [16:41<02:34,  1.45s/it]\n",
      " 88%|████████▊ | 752/858 [16:42<02:17,  1.30s/it]\n"
     ]
    },
    {
     "name": "stdout",
     "output_type": "stream",
     "text": [
      "== Status ==\n",
      "Current time: 2023-03-05 20:43:25 (running for 00:16:50.94)\n",
      "Memory usage on this node: 26.0/251.7 GiB \n",
      "Using FIFO scheduling algorithm.\n",
      "Resources requested: 64.0/64 CPUs, 1.0/1 GPUs, 0.0/147.5 GiB heap, 0.0/67.2 GiB objects (0.0/1.0 accelerator_type:RTX)\n",
      "Result logdir: /home/922201615/ray_results/_objective_2023-03-05_20-26-34\n",
      "Number of trials: 1/1 (1 RUNNING)\n",
      "+------------------------+----------+----------------------+-----------------+---------------------+----------------+-------------+\n",
      "| Trial name             | status   | loc                  |   learning_rate | lr_scheduler_type   |   warmup_ratio |   objective |\n",
      "|------------------------+----------+----------------------+-----------------+---------------------+----------------+-------------|\n",
      "| _objective_13ff3_00000 | RUNNING  | 130.212.82.53:302157 |     5.61152e-06 | linear              |       0.036687 |   0.0766502 |\n",
      "+------------------------+----------+----------------------+-----------------+---------------------+----------------+-------------+\n",
      "\n",
      "\n"
     ]
    },
    {
     "name": "stderr",
     "output_type": "stream",
     "text": [
      " 88%|████████▊ | 753/858 [16:43<02:05,  1.19s/it]\n",
      " 88%|████████▊ | 754/858 [16:44<01:56,  1.12s/it]\n",
      " 88%|████████▊ | 755/858 [16:46<02:26,  1.42s/it]\n",
      " 88%|████████▊ | 756/858 [16:47<02:10,  1.28s/it]\n"
     ]
    },
    {
     "name": "stdout",
     "output_type": "stream",
     "text": [
      "== Status ==\n",
      "Current time: 2023-03-05 20:43:30 (running for 00:16:55.94)\n",
      "Memory usage on this node: 25.8/251.7 GiB \n",
      "Using FIFO scheduling algorithm.\n",
      "Resources requested: 64.0/64 CPUs, 1.0/1 GPUs, 0.0/147.5 GiB heap, 0.0/67.2 GiB objects (0.0/1.0 accelerator_type:RTX)\n",
      "Result logdir: /home/922201615/ray_results/_objective_2023-03-05_20-26-34\n",
      "Number of trials: 1/1 (1 RUNNING)\n",
      "+------------------------+----------+----------------------+-----------------+---------------------+----------------+-------------+\n",
      "| Trial name             | status   | loc                  |   learning_rate | lr_scheduler_type   |   warmup_ratio |   objective |\n",
      "|------------------------+----------+----------------------+-----------------+---------------------+----------------+-------------|\n",
      "| _objective_13ff3_00000 | RUNNING  | 130.212.82.53:302157 |     5.61152e-06 | linear              |       0.036687 |   0.0766502 |\n",
      "+------------------------+----------+----------------------+-----------------+---------------------+----------------+-------------+\n",
      "\n",
      "\n"
     ]
    },
    {
     "name": "stderr",
     "output_type": "stream",
     "text": [
      " 88%|████████▊ | 757/858 [16:48<01:59,  1.18s/it]\n",
      " 88%|████████▊ | 758/858 [16:49<01:51,  1.11s/it]\n",
      " 88%|████████▊ | 759/858 [16:51<02:17,  1.39s/it]\n",
      " 89%|████████▊ | 760/858 [16:52<02:03,  1.26s/it]\n",
      " 89%|████████▊ | 761/858 [16:53<01:53,  1.17s/it]\n"
     ]
    },
    {
     "name": "stdout",
     "output_type": "stream",
     "text": [
      "== Status ==\n",
      "Current time: 2023-03-05 20:43:35 (running for 00:17:00.94)\n",
      "Memory usage on this node: 25.9/251.7 GiB \n",
      "Using FIFO scheduling algorithm.\n",
      "Resources requested: 64.0/64 CPUs, 1.0/1 GPUs, 0.0/147.5 GiB heap, 0.0/67.2 GiB objects (0.0/1.0 accelerator_type:RTX)\n",
      "Result logdir: /home/922201615/ray_results/_objective_2023-03-05_20-26-34\n",
      "Number of trials: 1/1 (1 RUNNING)\n",
      "+------------------------+----------+----------------------+-----------------+---------------------+----------------+-------------+\n",
      "| Trial name             | status   | loc                  |   learning_rate | lr_scheduler_type   |   warmup_ratio |   objective |\n",
      "|------------------------+----------+----------------------+-----------------+---------------------+----------------+-------------|\n",
      "| _objective_13ff3_00000 | RUNNING  | 130.212.82.53:302157 |     5.61152e-06 | linear              |       0.036687 |   0.0766502 |\n",
      "+------------------------+----------+----------------------+-----------------+---------------------+----------------+-------------+\n",
      "\n",
      "\n"
     ]
    },
    {
     "name": "stderr",
     "output_type": "stream",
     "text": [
      " 89%|████████▉ | 762/858 [16:54<01:45,  1.10s/it]\n",
      " 89%|████████▉ | 763/858 [16:56<02:14,  1.42s/it]\n",
      " 89%|████████▉ | 764/858 [16:57<02:00,  1.28s/it]\n",
      " 89%|████████▉ | 765/858 [16:58<01:49,  1.18s/it]\n"
     ]
    },
    {
     "name": "stdout",
     "output_type": "stream",
     "text": [
      "== Status ==\n",
      "Current time: 2023-03-05 20:43:40 (running for 00:17:05.95)\n",
      "Memory usage on this node: 26.0/251.7 GiB \n",
      "Using FIFO scheduling algorithm.\n",
      "Resources requested: 64.0/64 CPUs, 1.0/1 GPUs, 0.0/147.5 GiB heap, 0.0/67.2 GiB objects (0.0/1.0 accelerator_type:RTX)\n",
      "Result logdir: /home/922201615/ray_results/_objective_2023-03-05_20-26-34\n",
      "Number of trials: 1/1 (1 RUNNING)\n",
      "+------------------------+----------+----------------------+-----------------+---------------------+----------------+-------------+\n",
      "| Trial name             | status   | loc                  |   learning_rate | lr_scheduler_type   |   warmup_ratio |   objective |\n",
      "|------------------------+----------+----------------------+-----------------+---------------------+----------------+-------------|\n",
      "| _objective_13ff3_00000 | RUNNING  | 130.212.82.53:302157 |     5.61152e-06 | linear              |       0.036687 |   0.0766502 |\n",
      "+------------------------+----------+----------------------+-----------------+---------------------+----------------+-------------+\n",
      "\n",
      "\n"
     ]
    },
    {
     "name": "stderr",
     "output_type": "stream",
     "text": [
      " 89%|████████▉ | 766/858 [16:59<01:42,  1.11s/it]\n",
      " 89%|████████▉ | 767/858 [17:01<02:06,  1.39s/it]\n",
      " 90%|████████▉ | 768/858 [17:02<01:53,  1.26s/it]\n",
      " 90%|████████▉ | 769/858 [17:03<01:44,  1.17s/it]\n"
     ]
    },
    {
     "name": "stdout",
     "output_type": "stream",
     "text": [
      "== Status ==\n",
      "Current time: 2023-03-05 20:43:45 (running for 00:17:10.95)\n",
      "Memory usage on this node: 26.3/251.7 GiB \n",
      "Using FIFO scheduling algorithm.\n",
      "Resources requested: 64.0/64 CPUs, 1.0/1 GPUs, 0.0/147.5 GiB heap, 0.0/67.2 GiB objects (0.0/1.0 accelerator_type:RTX)\n",
      "Result logdir: /home/922201615/ray_results/_objective_2023-03-05_20-26-34\n",
      "Number of trials: 1/1 (1 RUNNING)\n",
      "+------------------------+----------+----------------------+-----------------+---------------------+----------------+-------------+\n",
      "| Trial name             | status   | loc                  |   learning_rate | lr_scheduler_type   |   warmup_ratio |   objective |\n",
      "|------------------------+----------+----------------------+-----------------+---------------------+----------------+-------------|\n",
      "| _objective_13ff3_00000 | RUNNING  | 130.212.82.53:302157 |     5.61152e-06 | linear              |       0.036687 |   0.0766502 |\n",
      "+------------------------+----------+----------------------+-----------------+---------------------+----------------+-------------+\n",
      "\n",
      "\n"
     ]
    },
    {
     "name": "stderr",
     "output_type": "stream",
     "text": [
      " 90%|████████▉ | 770/858 [17:04<01:37,  1.10s/it]\n",
      " 90%|████████▉ | 771/858 [17:06<02:00,  1.38s/it]\n",
      " 90%|████████▉ | 772/858 [17:07<01:47,  1.25s/it]\n",
      " 90%|█████████ | 773/858 [17:08<01:38,  1.16s/it]\n"
     ]
    },
    {
     "name": "stdout",
     "output_type": "stream",
     "text": [
      "== Status ==\n",
      "Current time: 2023-03-05 20:43:50 (running for 00:17:15.96)\n",
      "Memory usage on this node: 26.0/251.7 GiB \n",
      "Using FIFO scheduling algorithm.\n",
      "Resources requested: 64.0/64 CPUs, 1.0/1 GPUs, 0.0/147.5 GiB heap, 0.0/67.2 GiB objects (0.0/1.0 accelerator_type:RTX)\n",
      "Result logdir: /home/922201615/ray_results/_objective_2023-03-05_20-26-34\n",
      "Number of trials: 1/1 (1 RUNNING)\n",
      "+------------------------+----------+----------------------+-----------------+---------------------+----------------+-------------+\n",
      "| Trial name             | status   | loc                  |   learning_rate | lr_scheduler_type   |   warmup_ratio |   objective |\n",
      "|------------------------+----------+----------------------+-----------------+---------------------+----------------+-------------|\n",
      "| _objective_13ff3_00000 | RUNNING  | 130.212.82.53:302157 |     5.61152e-06 | linear              |       0.036687 |   0.0766502 |\n",
      "+------------------------+----------+----------------------+-----------------+---------------------+----------------+-------------+\n",
      "\n",
      "\n"
     ]
    },
    {
     "name": "stderr",
     "output_type": "stream",
     "text": [
      " 90%|█████████ | 774/858 [17:09<01:32,  1.10s/it]\n",
      " 90%|█████████ | 775/858 [17:11<01:55,  1.39s/it]\n",
      " 90%|█████████ | 776/858 [17:12<01:43,  1.26s/it]\n",
      " 91%|█████████ | 777/858 [17:13<01:34,  1.17s/it]\n"
     ]
    },
    {
     "name": "stdout",
     "output_type": "stream",
     "text": [
      "== Status ==\n",
      "Current time: 2023-03-05 20:43:55 (running for 00:17:20.96)\n",
      "Memory usage on this node: 26.3/251.7 GiB \n",
      "Using FIFO scheduling algorithm.\n",
      "Resources requested: 64.0/64 CPUs, 1.0/1 GPUs, 0.0/147.5 GiB heap, 0.0/67.2 GiB objects (0.0/1.0 accelerator_type:RTX)\n",
      "Result logdir: /home/922201615/ray_results/_objective_2023-03-05_20-26-34\n",
      "Number of trials: 1/1 (1 RUNNING)\n",
      "+------------------------+----------+----------------------+-----------------+---------------------+----------------+-------------+\n",
      "| Trial name             | status   | loc                  |   learning_rate | lr_scheduler_type   |   warmup_ratio |   objective |\n",
      "|------------------------+----------+----------------------+-----------------+---------------------+----------------+-------------|\n",
      "| _objective_13ff3_00000 | RUNNING  | 130.212.82.53:302157 |     5.61152e-06 | linear              |       0.036687 |   0.0766502 |\n",
      "+------------------------+----------+----------------------+-----------------+---------------------+----------------+-------------+\n",
      "\n",
      "\n"
     ]
    },
    {
     "name": "stderr",
     "output_type": "stream",
     "text": [
      " 91%|█████████ | 778/858 [17:14<01:28,  1.10s/it]\n",
      " 91%|█████████ | 779/858 [17:16<01:49,  1.38s/it]\n",
      " 91%|█████████ | 780/858 [17:17<01:37,  1.25s/it]\n",
      " 91%|█████████ | 781/858 [17:18<01:29,  1.16s/it]\n"
     ]
    },
    {
     "name": "stdout",
     "output_type": "stream",
     "text": [
      "== Status ==\n",
      "Current time: 2023-03-05 20:44:00 (running for 00:17:25.97)\n",
      "Memory usage on this node: 26.0/251.7 GiB \n",
      "Using FIFO scheduling algorithm.\n",
      "Resources requested: 64.0/64 CPUs, 1.0/1 GPUs, 0.0/147.5 GiB heap, 0.0/67.2 GiB objects (0.0/1.0 accelerator_type:RTX)\n",
      "Result logdir: /home/922201615/ray_results/_objective_2023-03-05_20-26-34\n",
      "Number of trials: 1/1 (1 RUNNING)\n",
      "+------------------------+----------+----------------------+-----------------+---------------------+----------------+-------------+\n",
      "| Trial name             | status   | loc                  |   learning_rate | lr_scheduler_type   |   warmup_ratio |   objective |\n",
      "|------------------------+----------+----------------------+-----------------+---------------------+----------------+-------------|\n",
      "| _objective_13ff3_00000 | RUNNING  | 130.212.82.53:302157 |     5.61152e-06 | linear              |       0.036687 |   0.0766502 |\n",
      "+------------------------+----------+----------------------+-----------------+---------------------+----------------+-------------+\n",
      "\n",
      "\n"
     ]
    },
    {
     "name": "stderr",
     "output_type": "stream",
     "text": [
      " 91%|█████████ | 782/858 [17:18<01:23,  1.10s/it]\n",
      " 91%|█████████▏| 783/858 [17:21<01:45,  1.40s/it]\n",
      " 91%|█████████▏| 784/858 [17:22<01:33,  1.27s/it]\n",
      " 91%|█████████▏| 785/858 [17:22<01:25,  1.17s/it]\n"
     ]
    },
    {
     "name": "stdout",
     "output_type": "stream",
     "text": [
      "== Status ==\n",
      "Current time: 2023-03-05 20:44:05 (running for 00:17:30.97)\n",
      "Memory usage on this node: 26.2/251.7 GiB \n",
      "Using FIFO scheduling algorithm.\n",
      "Resources requested: 64.0/64 CPUs, 1.0/1 GPUs, 0.0/147.5 GiB heap, 0.0/67.2 GiB objects (0.0/1.0 accelerator_type:RTX)\n",
      "Result logdir: /home/922201615/ray_results/_objective_2023-03-05_20-26-34\n",
      "Number of trials: 1/1 (1 RUNNING)\n",
      "+------------------------+----------+----------------------+-----------------+---------------------+----------------+-------------+\n",
      "| Trial name             | status   | loc                  |   learning_rate | lr_scheduler_type   |   warmup_ratio |   objective |\n",
      "|------------------------+----------+----------------------+-----------------+---------------------+----------------+-------------|\n",
      "| _objective_13ff3_00000 | RUNNING  | 130.212.82.53:302157 |     5.61152e-06 | linear              |       0.036687 |   0.0766502 |\n",
      "+------------------------+----------+----------------------+-----------------+---------------------+----------------+-------------+\n",
      "\n",
      "\n"
     ]
    },
    {
     "name": "stderr",
     "output_type": "stream",
     "text": [
      " 92%|█████████▏| 786/858 [17:23<01:19,  1.11s/it]\n",
      " 92%|█████████▏| 787/858 [17:26<01:40,  1.41s/it]\n",
      " 92%|█████████▏| 788/858 [17:27<01:29,  1.27s/it]\n",
      " 92%|█████████▏| 789/858 [17:27<01:21,  1.18s/it]\n"
     ]
    },
    {
     "name": "stdout",
     "output_type": "stream",
     "text": [
      "== Status ==\n",
      "Current time: 2023-03-05 20:44:10 (running for 00:17:35.98)\n",
      "Memory usage on this node: 25.7/251.7 GiB \n",
      "Using FIFO scheduling algorithm.\n",
      "Resources requested: 64.0/64 CPUs, 1.0/1 GPUs, 0.0/147.5 GiB heap, 0.0/67.2 GiB objects (0.0/1.0 accelerator_type:RTX)\n",
      "Result logdir: /home/922201615/ray_results/_objective_2023-03-05_20-26-34\n",
      "Number of trials: 1/1 (1 RUNNING)\n",
      "+------------------------+----------+----------------------+-----------------+---------------------+----------------+-------------+\n",
      "| Trial name             | status   | loc                  |   learning_rate | lr_scheduler_type   |   warmup_ratio |   objective |\n",
      "|------------------------+----------+----------------------+-----------------+---------------------+----------------+-------------|\n",
      "| _objective_13ff3_00000 | RUNNING  | 130.212.82.53:302157 |     5.61152e-06 | linear              |       0.036687 |   0.0766502 |\n",
      "+------------------------+----------+----------------------+-----------------+---------------------+----------------+-------------+\n",
      "\n",
      "\n"
     ]
    },
    {
     "name": "stderr",
     "output_type": "stream",
     "text": [
      " 92%|█████████▏| 790/858 [17:28<01:15,  1.11s/it]\n",
      " 92%|█████████▏| 791/858 [17:31<01:38,  1.47s/it]\n",
      " 92%|█████████▏| 792/858 [17:32<01:26,  1.31s/it]\n",
      " 92%|█████████▏| 793/858 [17:33<01:18,  1.20s/it]\n"
     ]
    },
    {
     "name": "stdout",
     "output_type": "stream",
     "text": [
      "== Status ==\n",
      "Current time: 2023-03-05 20:44:15 (running for 00:17:40.98)\n",
      "Memory usage on this node: 25.6/251.7 GiB \n",
      "Using FIFO scheduling algorithm.\n",
      "Resources requested: 64.0/64 CPUs, 1.0/1 GPUs, 0.0/147.5 GiB heap, 0.0/67.2 GiB objects (0.0/1.0 accelerator_type:RTX)\n",
      "Result logdir: /home/922201615/ray_results/_objective_2023-03-05_20-26-34\n",
      "Number of trials: 1/1 (1 RUNNING)\n",
      "+------------------------+----------+----------------------+-----------------+---------------------+----------------+-------------+\n",
      "| Trial name             | status   | loc                  |   learning_rate | lr_scheduler_type   |   warmup_ratio |   objective |\n",
      "|------------------------+----------+----------------------+-----------------+---------------------+----------------+-------------|\n",
      "| _objective_13ff3_00000 | RUNNING  | 130.212.82.53:302157 |     5.61152e-06 | linear              |       0.036687 |   0.0766502 |\n",
      "+------------------------+----------+----------------------+-----------------+---------------------+----------------+-------------+\n",
      "\n",
      "\n"
     ]
    },
    {
     "name": "stderr",
     "output_type": "stream",
     "text": [
      " 93%|█████████▎| 794/858 [17:34<01:12,  1.13s/it]\n",
      " 93%|█████████▎| 795/858 [17:36<01:30,  1.44s/it]\n",
      " 93%|█████████▎| 796/858 [17:37<01:20,  1.29s/it]\n",
      " 93%|█████████▎| 797/858 [17:38<01:12,  1.19s/it]\n"
     ]
    },
    {
     "name": "stdout",
     "output_type": "stream",
     "text": [
      "== Status ==\n",
      "Current time: 2023-03-05 20:44:20 (running for 00:17:45.98)\n",
      "Memory usage on this node: 25.6/251.7 GiB \n",
      "Using FIFO scheduling algorithm.\n",
      "Resources requested: 64.0/64 CPUs, 1.0/1 GPUs, 0.0/147.5 GiB heap, 0.0/67.2 GiB objects (0.0/1.0 accelerator_type:RTX)\n",
      "Result logdir: /home/922201615/ray_results/_objective_2023-03-05_20-26-34\n",
      "Number of trials: 1/1 (1 RUNNING)\n",
      "+------------------------+----------+----------------------+-----------------+---------------------+----------------+-------------+\n",
      "| Trial name             | status   | loc                  |   learning_rate | lr_scheduler_type   |   warmup_ratio |   objective |\n",
      "|------------------------+----------+----------------------+-----------------+---------------------+----------------+-------------|\n",
      "| _objective_13ff3_00000 | RUNNING  | 130.212.82.53:302157 |     5.61152e-06 | linear              |       0.036687 |   0.0766502 |\n",
      "+------------------------+----------+----------------------+-----------------+---------------------+----------------+-------------+\n",
      "\n",
      "\n"
     ]
    },
    {
     "name": "stderr",
     "output_type": "stream",
     "text": [
      " 93%|█████████▎| 798/858 [17:39<01:07,  1.12s/it]\n",
      " 93%|█████████▎| 799/858 [17:40<01:09,  1.17s/it]\n",
      " 93%|█████████▎| 800/858 [17:41<01:04,  1.11s/it]\n",
      " 93%|█████████▎| 801/858 [17:42<01:00,  1.06s/it]\n",
      " 93%|█████████▎| 802/858 [17:43<00:57,  1.03s/it]\n"
     ]
    },
    {
     "name": "stdout",
     "output_type": "stream",
     "text": [
      "== Status ==\n",
      "Current time: 2023-03-05 20:44:25 (running for 00:17:50.99)\n",
      "Memory usage on this node: 25.5/251.7 GiB \n",
      "Using FIFO scheduling algorithm.\n",
      "Resources requested: 64.0/64 CPUs, 1.0/1 GPUs, 0.0/147.5 GiB heap, 0.0/67.2 GiB objects (0.0/1.0 accelerator_type:RTX)\n",
      "Result logdir: /home/922201615/ray_results/_objective_2023-03-05_20-26-34\n",
      "Number of trials: 1/1 (1 RUNNING)\n",
      "+------------------------+----------+----------------------+-----------------+---------------------+----------------+-------------+\n",
      "| Trial name             | status   | loc                  |   learning_rate | lr_scheduler_type   |   warmup_ratio |   objective |\n",
      "|------------------------+----------+----------------------+-----------------+---------------------+----------------+-------------|\n",
      "| _objective_13ff3_00000 | RUNNING  | 130.212.82.53:302157 |     5.61152e-06 | linear              |       0.036687 |   0.0766502 |\n",
      "+------------------------+----------+----------------------+-----------------+---------------------+----------------+-------------+\n",
      "\n",
      "\n"
     ]
    },
    {
     "name": "stderr",
     "output_type": "stream",
     "text": [
      " 94%|█████████▎| 803/858 [17:44<00:55,  1.00s/it]\n",
      " 94%|█████████▎| 804/858 [17:45<00:53,  1.01it/s]\n",
      " 94%|█████████▍| 805/858 [17:46<00:51,  1.02it/s]\n",
      " 94%|█████████▍| 806/858 [17:47<00:50,  1.03it/s]\n"
     ]
    },
    {
     "name": "stdout",
     "output_type": "stream",
     "text": [
      "== Status ==\n",
      "Current time: 2023-03-05 20:44:30 (running for 00:17:55.99)\n",
      "Memory usage on this node: 25.6/251.7 GiB \n",
      "Using FIFO scheduling algorithm.\n",
      "Resources requested: 64.0/64 CPUs, 1.0/1 GPUs, 0.0/147.5 GiB heap, 0.0/67.2 GiB objects (0.0/1.0 accelerator_type:RTX)\n",
      "Result logdir: /home/922201615/ray_results/_objective_2023-03-05_20-26-34\n",
      "Number of trials: 1/1 (1 RUNNING)\n",
      "+------------------------+----------+----------------------+-----------------+---------------------+----------------+-------------+\n",
      "| Trial name             | status   | loc                  |   learning_rate | lr_scheduler_type   |   warmup_ratio |   objective |\n",
      "|------------------------+----------+----------------------+-----------------+---------------------+----------------+-------------|\n",
      "| _objective_13ff3_00000 | RUNNING  | 130.212.82.53:302157 |     5.61152e-06 | linear              |       0.036687 |   0.0766502 |\n",
      "+------------------------+----------+----------------------+-----------------+---------------------+----------------+-------------+\n",
      "\n",
      "\n"
     ]
    },
    {
     "name": "stderr",
     "output_type": "stream",
     "text": [
      " 94%|█████████▍| 807/858 [17:49<01:06,  1.31s/it]\n",
      " 94%|█████████▍| 808/858 [17:50<01:00,  1.20s/it]\n",
      " 94%|█████████▍| 809/858 [17:51<00:55,  1.13s/it]\n",
      " 94%|█████████▍| 810/858 [17:52<00:51,  1.08s/it]\n"
     ]
    },
    {
     "name": "stdout",
     "output_type": "stream",
     "text": [
      "== Status ==\n",
      "Current time: 2023-03-05 20:44:35 (running for 00:18:01.00)\n",
      "Memory usage on this node: 25.8/251.7 GiB \n",
      "Using FIFO scheduling algorithm.\n",
      "Resources requested: 64.0/64 CPUs, 1.0/1 GPUs, 0.0/147.5 GiB heap, 0.0/67.2 GiB objects (0.0/1.0 accelerator_type:RTX)\n",
      "Result logdir: /home/922201615/ray_results/_objective_2023-03-05_20-26-34\n",
      "Number of trials: 1/1 (1 RUNNING)\n",
      "+------------------------+----------+----------------------+-----------------+---------------------+----------------+-------------+\n",
      "| Trial name             | status   | loc                  |   learning_rate | lr_scheduler_type   |   warmup_ratio |   objective |\n",
      "|------------------------+----------+----------------------+-----------------+---------------------+----------------+-------------|\n",
      "| _objective_13ff3_00000 | RUNNING  | 130.212.82.53:302157 |     5.61152e-06 | linear              |       0.036687 |   0.0766502 |\n",
      "+------------------------+----------+----------------------+-----------------+---------------------+----------------+-------------+\n",
      "\n",
      "\n"
     ]
    },
    {
     "name": "stderr",
     "output_type": "stream",
     "text": [
      " 95%|█████████▍| 811/858 [17:54<01:06,  1.41s/it]\n",
      " 95%|█████████▍| 812/858 [17:55<00:58,  1.27s/it]\n",
      " 95%|█████████▍| 813/858 [17:56<00:52,  1.18s/it]\n",
      " 95%|█████████▍| 814/858 [17:57<00:48,  1.11s/it]\n"
     ]
    },
    {
     "name": "stdout",
     "output_type": "stream",
     "text": [
      "== Status ==\n",
      "Current time: 2023-03-05 20:44:40 (running for 00:18:06.00)\n",
      "Memory usage on this node: 26.2/251.7 GiB \n",
      "Using FIFO scheduling algorithm.\n",
      "Resources requested: 64.0/64 CPUs, 1.0/1 GPUs, 0.0/147.5 GiB heap, 0.0/67.2 GiB objects (0.0/1.0 accelerator_type:RTX)\n",
      "Result logdir: /home/922201615/ray_results/_objective_2023-03-05_20-26-34\n",
      "Number of trials: 1/1 (1 RUNNING)\n",
      "+------------------------+----------+----------------------+-----------------+---------------------+----------------+-------------+\n",
      "| Trial name             | status   | loc                  |   learning_rate | lr_scheduler_type   |   warmup_ratio |   objective |\n",
      "|------------------------+----------+----------------------+-----------------+---------------------+----------------+-------------|\n",
      "| _objective_13ff3_00000 | RUNNING  | 130.212.82.53:302157 |     5.61152e-06 | linear              |       0.036687 |   0.0766502 |\n",
      "+------------------------+----------+----------------------+-----------------+---------------------+----------------+-------------+\n",
      "\n",
      "\n"
     ]
    },
    {
     "name": "stderr",
     "output_type": "stream",
     "text": [
      " 95%|█████████▍| 815/858 [17:59<01:00,  1.41s/it]\n",
      " 95%|█████████▌| 816/858 [18:00<00:53,  1.27s/it]\n",
      " 95%|█████████▌| 817/858 [18:01<00:48,  1.17s/it]\n",
      " 95%|█████████▌| 818/858 [18:02<00:44,  1.11s/it]\n"
     ]
    },
    {
     "name": "stdout",
     "output_type": "stream",
     "text": [
      "== Status ==\n",
      "Current time: 2023-03-05 20:44:45 (running for 00:18:11.01)\n",
      "Memory usage on this node: 26.4/251.7 GiB \n",
      "Using FIFO scheduling algorithm.\n",
      "Resources requested: 64.0/64 CPUs, 1.0/1 GPUs, 0.0/147.5 GiB heap, 0.0/67.2 GiB objects (0.0/1.0 accelerator_type:RTX)\n",
      "Result logdir: /home/922201615/ray_results/_objective_2023-03-05_20-26-34\n",
      "Number of trials: 1/1 (1 RUNNING)\n",
      "+------------------------+----------+----------------------+-----------------+---------------------+----------------+-------------+\n",
      "| Trial name             | status   | loc                  |   learning_rate | lr_scheduler_type   |   warmup_ratio |   objective |\n",
      "|------------------------+----------+----------------------+-----------------+---------------------+----------------+-------------|\n",
      "| _objective_13ff3_00000 | RUNNING  | 130.212.82.53:302157 |     5.61152e-06 | linear              |       0.036687 |   0.0766502 |\n",
      "+------------------------+----------+----------------------+-----------------+---------------------+----------------+-------------+\n",
      "\n",
      "\n"
     ]
    },
    {
     "name": "stderr",
     "output_type": "stream",
     "text": [
      " 95%|█████████▌| 819/858 [18:04<00:54,  1.40s/it]\n",
      " 96%|█████████▌| 820/858 [18:05<00:47,  1.26s/it]\n",
      " 96%|█████████▌| 821/858 [18:05<00:43,  1.17s/it]\n",
      " 96%|█████████▌| 822/858 [18:06<00:39,  1.10s/it]\n"
     ]
    },
    {
     "name": "stdout",
     "output_type": "stream",
     "text": [
      "== Status ==\n",
      "Current time: 2023-03-05 20:44:50 (running for 00:18:16.01)\n",
      "Memory usage on this node: 26.3/251.7 GiB \n",
      "Using FIFO scheduling algorithm.\n",
      "Resources requested: 64.0/64 CPUs, 1.0/1 GPUs, 0.0/147.5 GiB heap, 0.0/67.2 GiB objects (0.0/1.0 accelerator_type:RTX)\n",
      "Result logdir: /home/922201615/ray_results/_objective_2023-03-05_20-26-34\n",
      "Number of trials: 1/1 (1 RUNNING)\n",
      "+------------------------+----------+----------------------+-----------------+---------------------+----------------+-------------+\n",
      "| Trial name             | status   | loc                  |   learning_rate | lr_scheduler_type   |   warmup_ratio |   objective |\n",
      "|------------------------+----------+----------------------+-----------------+---------------------+----------------+-------------|\n",
      "| _objective_13ff3_00000 | RUNNING  | 130.212.82.53:302157 |     5.61152e-06 | linear              |       0.036687 |   0.0766502 |\n",
      "+------------------------+----------+----------------------+-----------------+---------------------+----------------+-------------+\n",
      "\n",
      "\n"
     ]
    },
    {
     "name": "stderr",
     "output_type": "stream",
     "text": [
      " 96%|█████████▌| 823/858 [18:09<00:49,  1.42s/it]\n",
      " 96%|█████████▌| 824/858 [18:10<00:43,  1.28s/it]\n",
      " 96%|█████████▌| 825/858 [18:10<00:38,  1.18s/it]\n",
      " 96%|█████████▋| 826/858 [18:11<00:35,  1.11s/it]\n"
     ]
    },
    {
     "name": "stdout",
     "output_type": "stream",
     "text": [
      "== Status ==\n",
      "Current time: 2023-03-05 20:44:55 (running for 00:18:21.01)\n",
      "Memory usage on this node: 26.2/251.7 GiB \n",
      "Using FIFO scheduling algorithm.\n",
      "Resources requested: 64.0/64 CPUs, 1.0/1 GPUs, 0.0/147.5 GiB heap, 0.0/67.2 GiB objects (0.0/1.0 accelerator_type:RTX)\n",
      "Result logdir: /home/922201615/ray_results/_objective_2023-03-05_20-26-34\n",
      "Number of trials: 1/1 (1 RUNNING)\n",
      "+------------------------+----------+----------------------+-----------------+---------------------+----------------+-------------+\n",
      "| Trial name             | status   | loc                  |   learning_rate | lr_scheduler_type   |   warmup_ratio |   objective |\n",
      "|------------------------+----------+----------------------+-----------------+---------------------+----------------+-------------|\n",
      "| _objective_13ff3_00000 | RUNNING  | 130.212.82.53:302157 |     5.61152e-06 | linear              |       0.036687 |   0.0766502 |\n",
      "+------------------------+----------+----------------------+-----------------+---------------------+----------------+-------------+\n",
      "\n",
      "\n"
     ]
    },
    {
     "name": "stderr",
     "output_type": "stream",
     "text": [
      " 96%|█████████▋| 827/858 [18:14<00:43,  1.42s/it]\n",
      " 97%|█████████▋| 828/858 [18:15<00:38,  1.28s/it]\n",
      " 97%|█████████▋| 829/858 [18:15<00:34,  1.18s/it]\n",
      " 97%|█████████▋| 830/858 [18:16<00:31,  1.11s/it]\n"
     ]
    },
    {
     "name": "stdout",
     "output_type": "stream",
     "text": [
      "== Status ==\n",
      "Current time: 2023-03-05 20:45:00 (running for 00:18:26.02)\n",
      "Memory usage on this node: 25.8/251.7 GiB \n",
      "Using FIFO scheduling algorithm.\n",
      "Resources requested: 64.0/64 CPUs, 1.0/1 GPUs, 0.0/147.5 GiB heap, 0.0/67.2 GiB objects (0.0/1.0 accelerator_type:RTX)\n",
      "Result logdir: /home/922201615/ray_results/_objective_2023-03-05_20-26-34\n",
      "Number of trials: 1/1 (1 RUNNING)\n",
      "+------------------------+----------+----------------------+-----------------+---------------------+----------------+-------------+\n",
      "| Trial name             | status   | loc                  |   learning_rate | lr_scheduler_type   |   warmup_ratio |   objective |\n",
      "|------------------------+----------+----------------------+-----------------+---------------------+----------------+-------------|\n",
      "| _objective_13ff3_00000 | RUNNING  | 130.212.82.53:302157 |     5.61152e-06 | linear              |       0.036687 |   0.0766502 |\n",
      "+------------------------+----------+----------------------+-----------------+---------------------+----------------+-------------+\n",
      "\n",
      "\n"
     ]
    },
    {
     "name": "stderr",
     "output_type": "stream",
     "text": [
      " 97%|█████████▋| 831/858 [18:19<00:38,  1.42s/it]\n",
      " 97%|█████████▋| 832/858 [18:19<00:33,  1.28s/it]\n",
      " 97%|█████████▋| 833/858 [18:20<00:29,  1.18s/it]\n",
      " 97%|█████████▋| 834/858 [18:21<00:26,  1.11s/it]\n"
     ]
    },
    {
     "name": "stdout",
     "output_type": "stream",
     "text": [
      "== Status ==\n",
      "Current time: 2023-03-05 20:45:05 (running for 00:18:31.02)\n",
      "Memory usage on this node: 26.2/251.7 GiB \n",
      "Using FIFO scheduling algorithm.\n",
      "Resources requested: 64.0/64 CPUs, 1.0/1 GPUs, 0.0/147.5 GiB heap, 0.0/67.2 GiB objects (0.0/1.0 accelerator_type:RTX)\n",
      "Result logdir: /home/922201615/ray_results/_objective_2023-03-05_20-26-34\n",
      "Number of trials: 1/1 (1 RUNNING)\n",
      "+------------------------+----------+----------------------+-----------------+---------------------+----------------+-------------+\n",
      "| Trial name             | status   | loc                  |   learning_rate | lr_scheduler_type   |   warmup_ratio |   objective |\n",
      "|------------------------+----------+----------------------+-----------------+---------------------+----------------+-------------|\n",
      "| _objective_13ff3_00000 | RUNNING  | 130.212.82.53:302157 |     5.61152e-06 | linear              |       0.036687 |   0.0766502 |\n",
      "+------------------------+----------+----------------------+-----------------+---------------------+----------------+-------------+\n",
      "\n",
      "\n"
     ]
    },
    {
     "name": "stderr",
     "output_type": "stream",
     "text": [
      " 97%|█████████▋| 835/858 [18:23<00:32,  1.40s/it]\n",
      " 97%|█████████▋| 836/858 [18:24<00:27,  1.26s/it]\n",
      " 98%|█████████▊| 837/858 [18:25<00:24,  1.17s/it]\n",
      " 98%|█████████▊| 838/858 [18:26<00:22,  1.11s/it]\n"
     ]
    },
    {
     "name": "stdout",
     "output_type": "stream",
     "text": [
      "== Status ==\n",
      "Current time: 2023-03-05 20:45:10 (running for 00:18:36.02)\n",
      "Memory usage on this node: 26.5/251.7 GiB \n",
      "Using FIFO scheduling algorithm.\n",
      "Resources requested: 64.0/64 CPUs, 1.0/1 GPUs, 0.0/147.5 GiB heap, 0.0/67.2 GiB objects (0.0/1.0 accelerator_type:RTX)\n",
      "Result logdir: /home/922201615/ray_results/_objective_2023-03-05_20-26-34\n",
      "Number of trials: 1/1 (1 RUNNING)\n",
      "+------------------------+----------+----------------------+-----------------+---------------------+----------------+-------------+\n",
      "| Trial name             | status   | loc                  |   learning_rate | lr_scheduler_type   |   warmup_ratio |   objective |\n",
      "|------------------------+----------+----------------------+-----------------+---------------------+----------------+-------------|\n",
      "| _objective_13ff3_00000 | RUNNING  | 130.212.82.53:302157 |     5.61152e-06 | linear              |       0.036687 |   0.0766502 |\n",
      "+------------------------+----------+----------------------+-----------------+---------------------+----------------+-------------+\n",
      "\n",
      "\n"
     ]
    },
    {
     "name": "stderr",
     "output_type": "stream",
     "text": [
      " 98%|█████████▊| 839/858 [18:28<00:26,  1.40s/it]\n",
      " 98%|█████████▊| 840/858 [18:29<00:22,  1.27s/it]\n",
      " 98%|█████████▊| 841/858 [18:30<00:19,  1.17s/it]\n",
      " 98%|█████████▊| 842/858 [18:31<00:17,  1.11s/it]\n"
     ]
    },
    {
     "name": "stdout",
     "output_type": "stream",
     "text": [
      "== Status ==\n",
      "Current time: 2023-03-05 20:45:15 (running for 00:18:41.03)\n",
      "Memory usage on this node: 26.0/251.7 GiB \n",
      "Using FIFO scheduling algorithm.\n",
      "Resources requested: 64.0/64 CPUs, 1.0/1 GPUs, 0.0/147.5 GiB heap, 0.0/67.2 GiB objects (0.0/1.0 accelerator_type:RTX)\n",
      "Result logdir: /home/922201615/ray_results/_objective_2023-03-05_20-26-34\n",
      "Number of trials: 1/1 (1 RUNNING)\n",
      "+------------------------+----------+----------------------+-----------------+---------------------+----------------+-------------+\n",
      "| Trial name             | status   | loc                  |   learning_rate | lr_scheduler_type   |   warmup_ratio |   objective |\n",
      "|------------------------+----------+----------------------+-----------------+---------------------+----------------+-------------|\n",
      "| _objective_13ff3_00000 | RUNNING  | 130.212.82.53:302157 |     5.61152e-06 | linear              |       0.036687 |   0.0766502 |\n",
      "+------------------------+----------+----------------------+-----------------+---------------------+----------------+-------------+\n",
      "\n",
      "\n"
     ]
    },
    {
     "name": "stderr",
     "output_type": "stream",
     "text": [
      " 98%|█████████▊| 843/858 [18:34<00:21,  1.45s/it]\n",
      " 98%|█████████▊| 844/858 [18:34<00:18,  1.30s/it]\n",
      " 98%|█████████▊| 845/858 [18:35<00:15,  1.20s/it]\n",
      " 99%|█████████▊| 846/858 [18:36<00:13,  1.12s/it]\n"
     ]
    },
    {
     "name": "stdout",
     "output_type": "stream",
     "text": [
      "== Status ==\n",
      "Current time: 2023-03-05 20:45:20 (running for 00:18:46.03)\n",
      "Memory usage on this node: 25.7/251.7 GiB \n",
      "Using FIFO scheduling algorithm.\n",
      "Resources requested: 64.0/64 CPUs, 1.0/1 GPUs, 0.0/147.5 GiB heap, 0.0/67.2 GiB objects (0.0/1.0 accelerator_type:RTX)\n",
      "Result logdir: /home/922201615/ray_results/_objective_2023-03-05_20-26-34\n",
      "Number of trials: 1/1 (1 RUNNING)\n",
      "+------------------------+----------+----------------------+-----------------+---------------------+----------------+-------------+\n",
      "| Trial name             | status   | loc                  |   learning_rate | lr_scheduler_type   |   warmup_ratio |   objective |\n",
      "|------------------------+----------+----------------------+-----------------+---------------------+----------------+-------------|\n",
      "| _objective_13ff3_00000 | RUNNING  | 130.212.82.53:302157 |     5.61152e-06 | linear              |       0.036687 |   0.0766502 |\n",
      "+------------------------+----------+----------------------+-----------------+---------------------+----------------+-------------+\n",
      "\n",
      "\n"
     ]
    },
    {
     "name": "stderr",
     "output_type": "stream",
     "text": [
      " 99%|█████████▊| 847/858 [18:39<00:15,  1.44s/it]\n",
      " 99%|█████████▉| 848/858 [18:40<00:12,  1.29s/it]\n",
      " 99%|█████████▉| 849/858 [18:40<00:10,  1.19s/it]\n",
      " 99%|█████████▉| 850/858 [18:41<00:08,  1.12s/it]\n"
     ]
    },
    {
     "name": "stdout",
     "output_type": "stream",
     "text": [
      "== Status ==\n",
      "Current time: 2023-03-05 20:45:25 (running for 00:18:51.03)\n",
      "Memory usage on this node: 26.1/251.7 GiB \n",
      "Using FIFO scheduling algorithm.\n",
      "Resources requested: 64.0/64 CPUs, 1.0/1 GPUs, 0.0/147.5 GiB heap, 0.0/67.2 GiB objects (0.0/1.0 accelerator_type:RTX)\n",
      "Result logdir: /home/922201615/ray_results/_objective_2023-03-05_20-26-34\n",
      "Number of trials: 1/1 (1 RUNNING)\n",
      "+------------------------+----------+----------------------+-----------------+---------------------+----------------+-------------+\n",
      "| Trial name             | status   | loc                  |   learning_rate | lr_scheduler_type   |   warmup_ratio |   objective |\n",
      "|------------------------+----------+----------------------+-----------------+---------------------+----------------+-------------|\n",
      "| _objective_13ff3_00000 | RUNNING  | 130.212.82.53:302157 |     5.61152e-06 | linear              |       0.036687 |   0.0766502 |\n",
      "+------------------------+----------+----------------------+-----------------+---------------------+----------------+-------------+\n",
      "\n",
      "\n"
     ]
    },
    {
     "name": "stderr",
     "output_type": "stream",
     "text": [
      " 99%|█████████▉| 851/858 [18:44<00:10,  1.44s/it]\n",
      " 99%|█████████▉| 852/858 [18:45<00:07,  1.30s/it]\n",
      " 99%|█████████▉| 853/858 [18:46<00:05,  1.19s/it]\n",
      "100%|█████████▉| 854/858 [18:46<00:04,  1.12s/it]\n",
      "100%|█████████▉| 855/858 [18:48<00:03,  1.22s/it]\n"
     ]
    },
    {
     "name": "stdout",
     "output_type": "stream",
     "text": [
      "== Status ==\n",
      "Current time: 2023-03-05 20:45:30 (running for 00:18:56.04)\n",
      "Memory usage on this node: 25.1/251.7 GiB \n",
      "Using FIFO scheduling algorithm.\n",
      "Resources requested: 64.0/64 CPUs, 1.0/1 GPUs, 0.0/147.5 GiB heap, 0.0/67.2 GiB objects (0.0/1.0 accelerator_type:RTX)\n",
      "Result logdir: /home/922201615/ray_results/_objective_2023-03-05_20-26-34\n",
      "Number of trials: 1/1 (1 RUNNING)\n",
      "+------------------------+----------+----------------------+-----------------+---------------------+----------------+-------------+\n",
      "| Trial name             | status   | loc                  |   learning_rate | lr_scheduler_type   |   warmup_ratio |   objective |\n",
      "|------------------------+----------+----------------------+-----------------+---------------------+----------------+-------------|\n",
      "| _objective_13ff3_00000 | RUNNING  | 130.212.82.53:302157 |     5.61152e-06 | linear              |       0.036687 |   0.0766502 |\n",
      "+------------------------+----------+----------------------+-----------------+---------------------+----------------+-------------+\n",
      "\n",
      "\n"
     ]
    },
    {
     "name": "stderr",
     "output_type": "stream",
     "text": [
      "100%|█████████▉| 856/858 [18:49<00:02,  1.14s/it]\n",
      "100%|█████████▉| 857/858 [18:50<00:01,  1.08s/it]\n",
      "100%|██████████| 858/858 [18:51<00:00,  1.04s/it]\n",
      "100%|██████████| 858/858 [18:51<00:00,  1.04s/it]\n"
     ]
    },
    {
     "name": "stdout",
     "output_type": "stream",
     "text": [
      "\u001b[2m\u001b[36m(_objective pid=302157)\u001b[0m {'loss': 0.0762, 'learning_rate': 0.0, 'epoch': 3.0}\n",
      "== Status ==\n",
      "Current time: 2023-03-05 20:45:35 (running for 00:19:01.04)\n",
      "Memory usage on this node: 25.8/251.7 GiB \n",
      "Using FIFO scheduling algorithm.\n",
      "Resources requested: 64.0/64 CPUs, 1.0/1 GPUs, 0.0/147.5 GiB heap, 0.0/67.2 GiB objects (0.0/1.0 accelerator_type:RTX)\n",
      "Result logdir: /home/922201615/ray_results/_objective_2023-03-05_20-26-34\n",
      "Number of trials: 1/1 (1 RUNNING)\n",
      "+------------------------+----------+----------------------+-----------------+---------------------+----------------+-------------+\n",
      "| Trial name             | status   | loc                  |   learning_rate | lr_scheduler_type   |   warmup_ratio |   objective |\n",
      "|------------------------+----------+----------------------+-----------------+---------------------+----------------+-------------|\n",
      "| _objective_13ff3_00000 | RUNNING  | 130.212.82.53:302157 |     5.61152e-06 | linear              |       0.036687 |   0.0766502 |\n",
      "+------------------------+----------+----------------------+-----------------+---------------------+----------------+-------------+\n",
      "\n",
      "\n"
     ]
    },
    {
     "name": "stderr",
     "output_type": "stream",
     "text": [
      "\u001b[2m\u001b[36m(_objective pid=302157)\u001b[0m \n",
      "  0%|          | 0/33 [00:00<?, ?it/s]\u001b[A\n",
      "\u001b[2m\u001b[36m(_objective pid=302157)\u001b[0m \n",
      "  6%|▌         | 2/33 [00:00<00:04,  6.80it/s]\u001b[A\n",
      "\u001b[2m\u001b[36m(_objective pid=302157)\u001b[0m \n",
      "  9%|▉         | 3/33 [00:00<00:06,  4.79it/s]\u001b[A\n",
      "\u001b[2m\u001b[36m(_objective pid=302157)\u001b[0m \n",
      " 12%|█▏        | 4/33 [00:00<00:06,  4.14it/s]\u001b[A\n"
     ]
    },
    {
     "name": "stdout",
     "output_type": "stream",
     "text": [
      "== Status ==\n",
      "Current time: 2023-03-05 20:45:40 (running for 00:19:06.05)\n",
      "Memory usage on this node: 25.6/251.7 GiB \n",
      "Using FIFO scheduling algorithm.\n",
      "Resources requested: 64.0/64 CPUs, 1.0/1 GPUs, 0.0/147.5 GiB heap, 0.0/67.2 GiB objects (0.0/1.0 accelerator_type:RTX)\n",
      "Result logdir: /home/922201615/ray_results/_objective_2023-03-05_20-26-34\n",
      "Number of trials: 1/1 (1 RUNNING)\n",
      "+------------------------+----------+----------------------+-----------------+---------------------+----------------+-------------+\n",
      "| Trial name             | status   | loc                  |   learning_rate | lr_scheduler_type   |   warmup_ratio |   objective |\n",
      "|------------------------+----------+----------------------+-----------------+---------------------+----------------+-------------|\n",
      "| _objective_13ff3_00000 | RUNNING  | 130.212.82.53:302157 |     5.61152e-06 | linear              |       0.036687 |   0.0766502 |\n",
      "+------------------------+----------+----------------------+-----------------+---------------------+----------------+-------------+\n",
      "\n",
      "\n"
     ]
    },
    {
     "name": "stderr",
     "output_type": "stream",
     "text": [
      "\u001b[2m\u001b[36m(_objective pid=302157)\u001b[0m \n",
      " 15%|█▌        | 5/33 [00:04<00:38,  1.37s/it]\u001b[A\n",
      "\u001b[2m\u001b[36m(_objective pid=302157)\u001b[0m \n",
      " 18%|█▊        | 6/33 [00:04<00:27,  1.02s/it]\u001b[A\n",
      "\u001b[2m\u001b[36m(_objective pid=302157)\u001b[0m \n",
      " 21%|██        | 7/33 [00:04<00:20,  1.28it/s]\u001b[A\n",
      "\u001b[2m\u001b[36m(_objective pid=302157)\u001b[0m \n",
      " 24%|██▍       | 8/33 [00:05<00:15,  1.59it/s]\u001b[A\n"
     ]
    },
    {
     "name": "stdout",
     "output_type": "stream",
     "text": [
      "== Status ==\n",
      "Current time: 2023-03-05 20:45:45 (running for 00:19:11.05)\n",
      "Memory usage on this node: 25.7/251.7 GiB \n",
      "Using FIFO scheduling algorithm.\n",
      "Resources requested: 64.0/64 CPUs, 1.0/1 GPUs, 0.0/147.5 GiB heap, 0.0/67.2 GiB objects (0.0/1.0 accelerator_type:RTX)\n",
      "Result logdir: /home/922201615/ray_results/_objective_2023-03-05_20-26-34\n",
      "Number of trials: 1/1 (1 RUNNING)\n",
      "+------------------------+----------+----------------------+-----------------+---------------------+----------------+-------------+\n",
      "| Trial name             | status   | loc                  |   learning_rate | lr_scheduler_type   |   warmup_ratio |   objective |\n",
      "|------------------------+----------+----------------------+-----------------+---------------------+----------------+-------------|\n",
      "| _objective_13ff3_00000 | RUNNING  | 130.212.82.53:302157 |     5.61152e-06 | linear              |       0.036687 |   0.0766502 |\n",
      "+------------------------+----------+----------------------+-----------------+---------------------+----------------+-------------+\n",
      "\n",
      "\n"
     ]
    },
    {
     "name": "stderr",
     "output_type": "stream",
     "text": [
      "\u001b[2m\u001b[36m(_objective pid=302157)\u001b[0m \n",
      " 27%|██▋       | 9/33 [00:07<00:29,  1.24s/it]\u001b[A\n",
      "\u001b[2m\u001b[36m(_objective pid=302157)\u001b[0m \n",
      " 30%|███       | 10/33 [00:08<00:21,  1.05it/s]\u001b[A\n",
      "\u001b[2m\u001b[36m(_objective pid=302157)\u001b[0m \n",
      " 33%|███▎      | 11/33 [00:08<00:16,  1.33it/s]\u001b[A\n",
      "\u001b[2m\u001b[36m(_objective pid=302157)\u001b[0m \n",
      " 36%|███▋      | 12/33 [00:09<00:20,  1.05it/s]\u001b[A\n"
     ]
    },
    {
     "name": "stdout",
     "output_type": "stream",
     "text": [
      "== Status ==\n",
      "Current time: 2023-03-05 20:45:50 (running for 00:19:16.05)\n",
      "Memory usage on this node: 26.3/251.7 GiB \n",
      "Using FIFO scheduling algorithm.\n",
      "Resources requested: 64.0/64 CPUs, 1.0/1 GPUs, 0.0/147.5 GiB heap, 0.0/67.2 GiB objects (0.0/1.0 accelerator_type:RTX)\n",
      "Result logdir: /home/922201615/ray_results/_objective_2023-03-05_20-26-34\n",
      "Number of trials: 1/1 (1 RUNNING)\n",
      "+------------------------+----------+----------------------+-----------------+---------------------+----------------+-------------+\n",
      "| Trial name             | status   | loc                  |   learning_rate | lr_scheduler_type   |   warmup_ratio |   objective |\n",
      "|------------------------+----------+----------------------+-----------------+---------------------+----------------+-------------|\n",
      "| _objective_13ff3_00000 | RUNNING  | 130.212.82.53:302157 |     5.61152e-06 | linear              |       0.036687 |   0.0766502 |\n",
      "+------------------------+----------+----------------------+-----------------+---------------------+----------------+-------------+\n",
      "\n",
      "\n"
     ]
    },
    {
     "name": "stderr",
     "output_type": "stream",
     "text": [
      "\u001b[2m\u001b[36m(_objective pid=302157)\u001b[0m \n",
      " 39%|███▉      | 13/33 [00:13<00:36,  1.83s/it]\u001b[A\n",
      "\u001b[2m\u001b[36m(_objective pid=302157)\u001b[0m \n",
      " 42%|████▏     | 14/33 [00:14<00:26,  1.37s/it]\u001b[A\n",
      "\u001b[2m\u001b[36m(_objective pid=302157)\u001b[0m \n",
      " 45%|████▌     | 15/33 [00:14<00:18,  1.05s/it]\u001b[A\n",
      "\u001b[2m\u001b[36m(_objective pid=302157)\u001b[0m \n",
      " 48%|████▊     | 16/33 [00:14<00:14,  1.17it/s]\u001b[A\n"
     ]
    },
    {
     "name": "stdout",
     "output_type": "stream",
     "text": [
      "== Status ==\n",
      "Current time: 2023-03-05 20:45:55 (running for 00:19:21.06)\n",
      "Memory usage on this node: 25.6/251.7 GiB \n",
      "Using FIFO scheduling algorithm.\n",
      "Resources requested: 64.0/64 CPUs, 1.0/1 GPUs, 0.0/147.5 GiB heap, 0.0/67.2 GiB objects (0.0/1.0 accelerator_type:RTX)\n",
      "Result logdir: /home/922201615/ray_results/_objective_2023-03-05_20-26-34\n",
      "Number of trials: 1/1 (1 RUNNING)\n",
      "+------------------------+----------+----------------------+-----------------+---------------------+----------------+-------------+\n",
      "| Trial name             | status   | loc                  |   learning_rate | lr_scheduler_type   |   warmup_ratio |   objective |\n",
      "|------------------------+----------+----------------------+-----------------+---------------------+----------------+-------------|\n",
      "| _objective_13ff3_00000 | RUNNING  | 130.212.82.53:302157 |     5.61152e-06 | linear              |       0.036687 |   0.0766502 |\n",
      "+------------------------+----------+----------------------+-----------------+---------------------+----------------+-------------+\n",
      "\n",
      "\n"
     ]
    },
    {
     "name": "stderr",
     "output_type": "stream",
     "text": [
      "\u001b[2m\u001b[36m(_objective pid=302157)\u001b[0m \n",
      " 52%|█████▏    | 17/33 [00:18<00:27,  1.75s/it]\u001b[A\n",
      "\u001b[2m\u001b[36m(_objective pid=302157)\u001b[0m \n",
      " 55%|█████▍    | 18/33 [00:18<00:19,  1.31s/it]\u001b[A\n",
      "\u001b[2m\u001b[36m(_objective pid=302157)\u001b[0m \n",
      " 58%|█████▊    | 19/33 [00:19<00:14,  1.01s/it]\u001b[A\n",
      "\u001b[2m\u001b[36m(_objective pid=302157)\u001b[0m \n",
      " 61%|██████    | 20/33 [00:19<00:10,  1.21it/s]\u001b[A\n"
     ]
    },
    {
     "name": "stdout",
     "output_type": "stream",
     "text": [
      "== Status ==\n",
      "Current time: 2023-03-05 20:46:00 (running for 00:19:26.06)\n",
      "Memory usage on this node: 26.0/251.7 GiB \n",
      "Using FIFO scheduling algorithm.\n",
      "Resources requested: 64.0/64 CPUs, 1.0/1 GPUs, 0.0/147.5 GiB heap, 0.0/67.2 GiB objects (0.0/1.0 accelerator_type:RTX)\n",
      "Result logdir: /home/922201615/ray_results/_objective_2023-03-05_20-26-34\n",
      "Number of trials: 1/1 (1 RUNNING)\n",
      "+------------------------+----------+----------------------+-----------------+---------------------+----------------+-------------+\n",
      "| Trial name             | status   | loc                  |   learning_rate | lr_scheduler_type   |   warmup_ratio |   objective |\n",
      "|------------------------+----------+----------------------+-----------------+---------------------+----------------+-------------|\n",
      "| _objective_13ff3_00000 | RUNNING  | 130.212.82.53:302157 |     5.61152e-06 | linear              |       0.036687 |   0.0766502 |\n",
      "+------------------------+----------+----------------------+-----------------+---------------------+----------------+-------------+\n",
      "\n",
      "\n"
     ]
    },
    {
     "name": "stderr",
     "output_type": "stream",
     "text": [
      "\u001b[2m\u001b[36m(_objective pid=302157)\u001b[0m \n",
      " 64%|██████▎   | 21/33 [00:23<00:19,  1.64s/it]\u001b[A\n",
      "\u001b[2m\u001b[36m(_objective pid=302157)\u001b[0m \n",
      " 67%|██████▋   | 22/33 [00:23<00:13,  1.24s/it]\u001b[A\n",
      "\u001b[2m\u001b[36m(_objective pid=302157)\u001b[0m \n",
      " 70%|██████▉   | 23/33 [00:23<00:09,  1.05it/s]\u001b[A\n",
      "\u001b[2m\u001b[36m(_objective pid=302157)\u001b[0m \n",
      " 73%|███████▎  | 24/33 [00:24<00:06,  1.32it/s]\u001b[A\n"
     ]
    },
    {
     "name": "stdout",
     "output_type": "stream",
     "text": [
      "== Status ==\n",
      "Current time: 2023-03-05 20:46:05 (running for 00:19:31.06)\n",
      "Memory usage on this node: 25.9/251.7 GiB \n",
      "Using FIFO scheduling algorithm.\n",
      "Resources requested: 64.0/64 CPUs, 1.0/1 GPUs, 0.0/147.5 GiB heap, 0.0/67.2 GiB objects (0.0/1.0 accelerator_type:RTX)\n",
      "Result logdir: /home/922201615/ray_results/_objective_2023-03-05_20-26-34\n",
      "Number of trials: 1/1 (1 RUNNING)\n",
      "+------------------------+----------+----------------------+-----------------+---------------------+----------------+-------------+\n",
      "| Trial name             | status   | loc                  |   learning_rate | lr_scheduler_type   |   warmup_ratio |   objective |\n",
      "|------------------------+----------+----------------------+-----------------+---------------------+----------------+-------------|\n",
      "| _objective_13ff3_00000 | RUNNING  | 130.212.82.53:302157 |     5.61152e-06 | linear              |       0.036687 |   0.0766502 |\n",
      "+------------------------+----------+----------------------+-----------------+---------------------+----------------+-------------+\n",
      "\n",
      "\n"
     ]
    },
    {
     "name": "stderr",
     "output_type": "stream",
     "text": [
      "\u001b[2m\u001b[36m(_objective pid=302157)\u001b[0m \n",
      " 76%|███████▌  | 25/33 [00:26<00:11,  1.39s/it]\u001b[A\n",
      "\u001b[2m\u001b[36m(_objective pid=302157)\u001b[0m \n",
      " 79%|███████▉  | 26/33 [00:27<00:07,  1.06s/it]\u001b[A\n",
      "\u001b[2m\u001b[36m(_objective pid=302157)\u001b[0m \n",
      " 82%|████████▏ | 27/33 [00:27<00:04,  1.20it/s]\u001b[A\n",
      "\u001b[2m\u001b[36m(_objective pid=302157)\u001b[0m \n",
      " 85%|████████▍ | 28/33 [00:27<00:03,  1.49it/s]\u001b[A\n",
      "\u001b[2m\u001b[36m(_objective pid=302157)\u001b[0m \n",
      " 88%|████████▊ | 29/33 [00:30<00:05,  1.31s/it]\u001b[A\n",
      "\u001b[2m\u001b[36m(_objective pid=302157)\u001b[0m \n",
      " 91%|█████████ | 30/33 [00:30<00:03,  1.01s/it]\u001b[A\n"
     ]
    },
    {
     "name": "stdout",
     "output_type": "stream",
     "text": [
      "== Status ==\n",
      "Current time: 2023-03-05 20:46:10 (running for 00:19:36.07)\n",
      "Memory usage on this node: 25.4/251.7 GiB \n",
      "Using FIFO scheduling algorithm.\n",
      "Resources requested: 64.0/64 CPUs, 1.0/1 GPUs, 0.0/147.5 GiB heap, 0.0/67.2 GiB objects (0.0/1.0 accelerator_type:RTX)\n",
      "Result logdir: /home/922201615/ray_results/_objective_2023-03-05_20-26-34\n",
      "Number of trials: 1/1 (1 RUNNING)\n",
      "+------------------------+----------+----------------------+-----------------+---------------------+----------------+-------------+\n",
      "| Trial name             | status   | loc                  |   learning_rate | lr_scheduler_type   |   warmup_ratio |   objective |\n",
      "|------------------------+----------+----------------------+-----------------+---------------------+----------------+-------------|\n",
      "| _objective_13ff3_00000 | RUNNING  | 130.212.82.53:302157 |     5.61152e-06 | linear              |       0.036687 |   0.0766502 |\n",
      "+------------------------+----------+----------------------+-----------------+---------------------+----------------+-------------+\n",
      "\n",
      "\n"
     ]
    },
    {
     "name": "stderr",
     "output_type": "stream",
     "text": [
      "\u001b[2m\u001b[36m(_objective pid=302157)\u001b[0m \n",
      " 94%|█████████▍| 31/33 [00:31<00:01,  1.26it/s]\u001b[A\n",
      "\u001b[2m\u001b[36m(_objective pid=302157)\u001b[0m \n",
      " 97%|█████████▋| 32/33 [00:31<00:00,  1.55it/s]\u001b[A\n",
      "\u001b[2m\u001b[36m(_objective pid=302157)\u001b[0m \n",
      "100%|██████████| 33/33 [00:33<00:00,  1.09s/it]\u001b[A\n",
      "2023-03-05 20:46:13,299\tINFO tune.py:798 -- Total run time: 1178.68 seconds (1178.66 seconds for the tuning loop).\n"
     ]
    },
    {
     "name": "stdout",
     "output_type": "stream",
     "text": [
      "== Status ==\n",
      "Current time: 2023-03-05 20:46:13 (running for 00:19:38.66)\n",
      "Memory usage on this node: 23.9/251.7 GiB \n",
      "Using FIFO scheduling algorithm.\n",
      "Resources requested: 0/64 CPUs, 0/1 GPUs, 0.0/147.5 GiB heap, 0.0/67.2 GiB objects (0.0/1.0 accelerator_type:RTX)\n",
      "Result logdir: /home/922201615/ray_results/_objective_2023-03-05_20-26-34\n",
      "Number of trials: 1/1 (1 TERMINATED)\n",
      "+------------------------+------------+----------------------+-----------------+---------------------+----------------+-------------+\n",
      "| Trial name             | status     | loc                  |   learning_rate | lr_scheduler_type   |   warmup_ratio |   objective |\n",
      "|------------------------+------------+----------------------+-----------------+---------------------+----------------+-------------|\n",
      "| _objective_13ff3_00000 | TERMINATED | 130.212.82.53:302157 |     5.61152e-06 | linear              |       0.036687 |   0.0762246 |\n",
      "+------------------------+------------+----------------------+-----------------+---------------------+----------------+-------------+\n",
      "\n",
      "\n"
     ]
    },
    {
     "data": {
      "text/plain": [
       "BestRun(run_id='13ff3_00000', objective=0.07622462511062622, hyperparameters={'learning_rate': 5.61151641533451e-06, 'lr_scheduler_type': 'linear', 'warmup_ratio': 0.03668695797323276})"
      ]
     },
     "execution_count": 6,
     "metadata": {},
     "output_type": "execute_result"
    }
   ],
   "source": [
    "def ray_hp_space(trial):\n",
    "    return {\n",
    "        \"learning_rate\": tune.loguniform(1e-6, 1e-4),\n",
    "        \"lr_scheduler_type\": tune.choice([\"linear\", \"cosine\"]),\n",
    "        \"warmup_ratio\": tune.uniform(0.0, 0.2),\n",
    "        \"weight_decay\": tune.uniform(0.0, 1e-3),\n",
    "    }\n",
    "\n",
    "best_trial = trainer.hyperparameter_search(\n",
    "    resources_per_trial={\"cpu\": mp.cpu_count(), \"gpu\": torch.cuda.device_count()},\n",
    "    direction=\"minimize\",\n",
    "    backend=\"ray\",\n",
    "    hp_space=ray_hp_space,\n",
    "    n_trials=1,\n",
    ")\n",
    "\n",
    "best_trial"
   ]
  }
 ],
 "metadata": {
  "kernelspec": {
   "display_name": "Python 3 (ipykernel)",
   "language": "python",
   "name": "python3"
  },
  "language_info": {
   "codemirror_mode": {
    "name": "ipython",
    "version": 3
   },
   "file_extension": ".py",
   "mimetype": "text/x-python",
   "name": "python",
   "nbconvert_exporter": "python",
   "pygments_lexer": "ipython3",
   "version": "3.10.9"
  }
 },
 "nbformat": 4,
 "nbformat_minor": 5
}
