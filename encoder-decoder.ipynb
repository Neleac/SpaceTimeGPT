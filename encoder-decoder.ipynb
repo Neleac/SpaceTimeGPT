{
 "cells": [
  {
   "cell_type": "code",
   "execution_count": 1,
   "id": "afaf3f10-c8ad-47fd-b95b-9245da9bb0f0",
   "metadata": {
    "tags": []
   },
   "outputs": [
    {
     "name": "stdout",
     "output_type": "stream",
     "text": [
      "GPUs:\n",
      "NVIDIA RTX A6000\n",
      "NVIDIA GeForce RTX 2080 Ti\n",
      "NVIDIA GeForce RTX 2080 Ti\n",
      "NVIDIA GeForce RTX 2080 Ti\n",
      "NVIDIA GeForce RTX 2080 Ti\n"
     ]
    }
   ],
   "source": [
    "import json\n",
    "import os\n",
    "import sys\n",
    "\n",
    "from datasets import load_from_disk\n",
    "import evaluate\n",
    "import numpy as np\n",
    "import torch\n",
    "#from transformers import VisionEncoderDecoderModel, AutoImageProcessor, AutoTokenizer, Seq2SeqTrainer, Seq2SeqTrainingArguments, default_data_collator, EarlyStoppingCallback\n",
    "\n",
    "sys.path.append(\"../transformers/src\")\n",
    "from transformers import VisionEncoderDecoderModel, AutoImageProcessor, AutoTokenizer, Seq2SeqTrainer, Seq2SeqTrainingArguments, default_data_collator, EarlyStoppingCallback\n",
    "\n",
    "device = \"cuda:0\" if torch.cuda.is_available() else \"cpu\"\n",
    "if device == \"cuda:0\":\n",
    "    torch.backends.cuda.matmul.allow_tf32 = True\n",
    "    \n",
    "    n_gpus = torch.cuda.device_count()\n",
    "    print(\"GPUs:\")\n",
    "    for i in range(n_gpus):\n",
    "        print(torch.cuda.get_device_name(i))"
   ]
  },
  {
   "cell_type": "code",
   "execution_count": 2,
   "id": "b0840708-8e75-4bf3-a615-5eecfa8760f0",
   "metadata": {},
   "outputs": [
    {
     "name": "stderr",
     "output_type": "stream",
     "text": [
      "Could not find image processor class in the image processor config or the model config. Loading based on pattern matching with the model's feature extractor configuration.\n",
      "Some weights of the model checkpoint at facebook/timesformer-base-finetuned-k600 were not used when initializing TimesformerModel: ['classifier.weight', 'classifier.bias']\n",
      "- This IS expected if you are initializing TimesformerModel from the checkpoint of a model trained on another task or with another architecture (e.g. initializing a BertForSequenceClassification model from a BertForPreTraining model).\n",
      "- This IS NOT expected if you are initializing TimesformerModel from the checkpoint of a model that you expect to be exactly identical (initializing a BertForSequenceClassification model from a BertForSequenceClassification model).\n",
      "Some weights of GPT2LMHeadModel were not initialized from the model checkpoint at gpt2 and are newly initialized: ['h.11.crossattention.masked_bias', 'h.10.ln_cross_attn.weight', 'h.7.crossattention.c_proj.weight', 'h.0.crossattention.c_proj.bias', 'h.6.ln_cross_attn.weight', 'h.8.crossattention.c_attn.weight', 'h.7.crossattention.q_attn.weight', 'h.5.crossattention.c_attn.weight', 'h.7.crossattention.c_attn.weight', 'h.8.crossattention.q_attn.weight', 'h.1.crossattention.q_attn.weight', 'h.1.crossattention.c_attn.weight', 'h.2.crossattention.c_attn.weight', 'h.8.ln_cross_attn.weight', 'h.0.crossattention.q_attn.weight', 'h.4.crossattention.c_proj.bias', 'h.4.crossattention.masked_bias', 'h.2.crossattention.bias', 'h.9.crossattention.bias', 'h.0.ln_cross_attn.weight', 'h.4.crossattention.bias', 'h.7.ln_cross_attn.weight', 'h.0.crossattention.c_attn.weight', 'h.11.crossattention.c_attn.weight', 'h.0.crossattention.masked_bias', 'h.3.crossattention.c_proj.weight', 'h.5.crossattention.c_proj.bias', 'h.10.crossattention.c_proj.weight', 'h.2.crossattention.masked_bias', 'h.4.crossattention.c_proj.weight', 'h.5.crossattention.masked_bias', 'h.1.crossattention.masked_bias', 'h.11.ln_cross_attn.weight', 'h.9.ln_cross_attn.weight', 'h.3.crossattention.bias', 'h.3.crossattention.c_attn.weight', 'h.4.crossattention.c_attn.weight', 'h.7.crossattention.masked_bias', 'h.6.crossattention.c_attn.weight', 'h.10.crossattention.masked_bias', 'h.5.crossattention.q_attn.weight', 'h.8.crossattention.bias', 'h.7.crossattention.bias', 'h.1.crossattention.c_proj.bias', 'h.4.crossattention.q_attn.weight', 'h.10.crossattention.q_attn.weight', 'h.10.crossattention.c_proj.bias', 'h.2.crossattention.q_attn.weight', 'h.11.crossattention.c_proj.weight', 'h.3.crossattention.q_attn.weight', 'h.11.crossattention.c_proj.bias', 'h.6.crossattention.c_proj.bias', 'h.1.crossattention.c_proj.weight', 'h.0.crossattention.bias', 'h.6.crossattention.bias', 'h.5.crossattention.bias', 'h.1.crossattention.bias', 'h.5.crossattention.c_proj.weight', 'h.3.crossattention.c_proj.bias', 'h.9.crossattention.masked_bias', 'h.11.crossattention.bias', 'h.1.ln_cross_attn.weight', 'h.8.crossattention.masked_bias', 'h.9.crossattention.q_attn.weight', 'h.10.crossattention.bias', 'h.3.crossattention.masked_bias', 'h.8.crossattention.c_proj.weight', 'h.2.ln_cross_attn.weight', 'h.2.crossattention.c_proj.bias', 'h.9.crossattention.c_proj.bias', 'h.5.ln_cross_attn.weight', 'h.10.crossattention.c_attn.weight', 'h.6.crossattention.c_proj.weight', 'h.9.crossattention.c_proj.weight', 'h.6.crossattention.masked_bias', 'h.0.crossattention.c_proj.weight', 'h.3.ln_cross_attn.weight', 'h.6.crossattention.q_attn.weight', 'h.11.crossattention.q_attn.weight', 'h.7.crossattention.c_proj.bias', 'h.4.ln_cross_attn.weight', 'h.2.crossattention.c_proj.weight', 'h.8.crossattention.c_proj.bias', 'h.9.crossattention.c_attn.weight']\n",
      "You should probably TRAIN this model on a down-stream task to be able to use it for predictions and inference.\n"
     ]
    }
   ],
   "source": [
    "# TimeSformer\n",
    "encoder = \"facebook/timesformer-base-finetuned-k600\"\n",
    "decoder = \"gpt2\"\n",
    "\n",
    "image_processor = AutoImageProcessor.from_pretrained(\"MCG-NJU/videomae-base\")\n",
    "tokenizer = AutoTokenizer.from_pretrained(decoder)\n",
    "tokenizer.pad_token = tokenizer.eos_token\n",
    "\n",
    "kwargs = {\n",
    "    \"encoder_hidden_dropout_prob\": 0.25,\n",
    "}\n",
    "\n",
    "model = VisionEncoderDecoderModel.from_encoder_decoder_pretrained(encoder, decoder, **kwargs).to(device)\n",
    "model.config.decoder_start_token_id = tokenizer.bos_token_id\n",
    "model.config.pad_token_id = tokenizer.pad_token_id\n",
    "model.config.max_length = 50\n",
    "model.config.num_beams = 4\n",
    "model.config.early_stopping = True\n",
    "\n",
    "# VideoMAE\n",
    "# encoder = \"MCG-NJU/videomae-base\"\n",
    "# decoder = \"gpt2\"\n",
    "\n",
    "# image_processor = AutoImageProcessor.from_pretrained(encoder)\n",
    "# tokenizer = AutoTokenizer.from_pretrained(decoder)\n",
    "# model = VisionEncoderDecoderModel.from_encoder_decoder_pretrained(encoder, decoder).to(device)"
   ]
  },
  {
   "cell_type": "code",
   "execution_count": 3,
   "id": "6e751eba-19bf-4ea4-844e-1badd1ff9a03",
   "metadata": {},
   "outputs": [
    {
     "data": {
      "text/plain": [
       "DatasetDict({\n",
       "    train: Dataset({\n",
       "        features: ['videoID', 'pixel_values', 'labels'],\n",
       "        num_rows: 5\n",
       "    })\n",
       "    validation: Dataset({\n",
       "        features: ['videoID', 'pixel_values', 'labels'],\n",
       "        num_rows: 5\n",
       "    })\n",
       "})"
      ]
     },
     "execution_count": 3,
     "metadata": {},
     "output_type": "execute_result"
    }
   ],
   "source": [
    "dataset = load_from_disk(\"dataset/processed/k600\")\n",
    "\n",
    "dataset[\"train\"] = dataset[\"train\"].select(np.arange(5))\n",
    "dataset[\"validation\"] = dataset[\"validation\"].select(np.arange(5))\n",
    "\n",
    "dataset"
   ]
  },
  {
   "cell_type": "code",
   "execution_count": 4,
   "id": "3add6c94-649d-4a67-92fb-bc02bccf3609",
   "metadata": {},
   "outputs": [
    {
     "name": "stderr",
     "output_type": "stream",
     "text": [
      "The following columns in the training set don't have a corresponding argument in `VisionEncoderDecoderModel.forward` and have been ignored: videoID. If videoID are not expected by `VisionEncoderDecoderModel.forward`,  you can safely ignore this message.\n",
      "/home/922201615/video-caption/../transformers/src/transformers/optimization.py:306: FutureWarning: This implementation of AdamW is deprecated and will be removed in a future version. Use the PyTorch implementation torch.optim.AdamW instead, or set `no_deprecation_warning=True` to disable this warning\n",
      "  warnings.warn(\n",
      "/home/922201615/anaconda3/envs/no-tfs/lib/python3.10/site-packages/torch/nn/parallel/data_parallel.py:32: UserWarning: \n",
      "    There is an imbalance between your GPUs. You may want to exclude GPU 1 which\n",
      "    has less than 75% of the memory or cores of GPU 0. You can do so by setting\n",
      "    the device_ids argument to DataParallel, or by setting the CUDA_VISIBLE_DEVICES\n",
      "    environment variable.\n",
      "  warnings.warn(imbalance_warn.format(device_ids[min_pos], device_ids[max_pos]))\n",
      "***** Running training *****\n",
      "  Num examples = 5\n",
      "  Num Epochs = 1\n",
      "  Instantaneous batch size per device = 1\n",
      "  Total train batch size (w. parallel, distributed & accumulation) = 5\n",
      "  Gradient Accumulation steps = 1\n",
      "  Total optimization steps = 1\n",
      "  Number of trainable parameters = 274065408\n",
      "Generate config GenerationConfig {\n",
      "  \"decoder_start_token_id\": 50256,\n",
      "  \"early_stopping\": true,\n",
      "  \"max_length\": 50,\n",
      "  \"num_beams\": 4,\n",
      "  \"pad_token_id\": 50256,\n",
      "  \"transformers_version\": \"4.26.1\"\n",
      "}\n",
      "\n",
      "/home/922201615/video-caption/../transformers/src/transformers/generation/utils.py:1186: UserWarning: You have modified the pretrained model configuration to control generation. This is a deprecated strategy to control generation and will be removed soon, in a future version. Please use a generation configuration file (see https://huggingface.co/docs/transformers/main_classes/text_generation)\n",
      "  warnings.warn(\n",
      "/home/922201615/anaconda3/envs/no-tfs/lib/python3.10/site-packages/torch/nn/parallel/_functions.py:68: UserWarning: Was asked to gather along dimension 0, but all input tensors were scalars; will instead unsqueeze and return a vector.\n",
      "  warnings.warn('Was asked to gather along dimension 0, but all '\n"
     ]
    },
    {
     "data": {
      "text/html": [
       "\n",
       "    <div>\n",
       "      \n",
       "      <progress value='1' max='1' style='width:300px; height:20px; vertical-align: middle;'></progress>\n",
       "      [1/1 00:09, Epoch 1/1]\n",
       "    </div>\n",
       "    <table border=\"1\" class=\"dataframe\">\n",
       "  <thead>\n",
       " <tr style=\"text-align: left;\">\n",
       "      <th>Epoch</th>\n",
       "      <th>Training Loss</th>\n",
       "      <th>Validation Loss</th>\n",
       "      <th>Rouge1</th>\n",
       "      <th>Rouge2</th>\n",
       "      <th>Rougel</th>\n",
       "      <th>Rougelsum</th>\n",
       "    </tr>\n",
       "  </thead>\n",
       "  <tbody>\n",
       "    <tr>\n",
       "      <td>1</td>\n",
       "      <td>8.286000</td>\n",
       "      <td>5.555237</td>\n",
       "      <td>0.000000</td>\n",
       "      <td>0.000000</td>\n",
       "      <td>0.000000</td>\n",
       "      <td>0.000000</td>\n",
       "    </tr>\n",
       "  </tbody>\n",
       "</table><p>"
      ],
      "text/plain": [
       "<IPython.core.display.HTML object>"
      ]
     },
     "metadata": {},
     "output_type": "display_data"
    },
    {
     "name": "stderr",
     "output_type": "stream",
     "text": [
      "The following columns in the evaluation set don't have a corresponding argument in `VisionEncoderDecoderModel.forward` and have been ignored: videoID. If videoID are not expected by `VisionEncoderDecoderModel.forward`,  you can safely ignore this message.\n",
      "***** Running Evaluation *****\n",
      "  Num examples = 5\n",
      "  Batch size = 5\n",
      "Generate config GenerationConfig {\n",
      "  \"decoder_start_token_id\": 50256,\n",
      "  \"early_stopping\": true,\n",
      "  \"max_length\": 50,\n",
      "  \"num_beams\": 4,\n",
      "  \"pad_token_id\": 50256,\n",
      "  \"transformers_version\": \"4.26.1\"\n",
      "}\n",
      "\n",
      "Saving model checkpoint to training/test/checkpoint-1\n",
      "Configuration saved in training/test/checkpoint-1/config.json\n",
      "Configuration saved in training/test/checkpoint-1/generation_config.json\n",
      "Model weights saved in training/test/checkpoint-1/pytorch_model.bin\n",
      "tokenizer config file saved in training/test/checkpoint-1/tokenizer_config.json\n",
      "Special tokens file saved in training/test/checkpoint-1/special_tokens_map.json\n",
      "\n",
      "\n",
      "Training completed. Do not forget to share your model on huggingface.co/models =)\n",
      "\n",
      "\n",
      "Loading best model from training/test/checkpoint-1 (score: 5.555237293243408).\n"
     ]
    },
    {
     "data": {
      "text/plain": [
       "TrainOutput(global_step=1, training_loss=8.286035537719727, metrics={'train_runtime': 24.8875, 'train_samples_per_second': 0.201, 'train_steps_per_second': 0.04, 'total_flos': 8478276452352000.0, 'train_loss': 8.286035537719727, 'epoch': 1.0})"
      ]
     },
     "execution_count": 4,
     "metadata": {},
     "output_type": "execute_result"
    }
   ],
   "source": [
    "train_output, val_output = {}, {}\n",
    "output_dir = \"training/test\"\n",
    "\n",
    "training_args = Seq2SeqTrainingArguments(\n",
    "    output_dir=output_dir,\n",
    "    tf32=True,\n",
    "    predict_with_generate=True,\n",
    "    load_best_model_at_end=True,\n",
    "    logging_strategy=\"epoch\",\n",
    "    evaluation_strategy=\"epoch\",\n",
    "    save_strategy=\"epoch\",\n",
    "    per_device_train_batch_size=1,\n",
    "    per_device_eval_batch_size=1,\n",
    "    dataloader_num_workers=8,\n",
    "    num_train_epochs=1,\n",
    ")\n",
    "\n",
    "metric = evaluate.load(\"rouge\")\n",
    "def metrics(eval_preds):\n",
    "    preds, labels = eval_preds\n",
    "    preds = tokenizer.batch_decode(preds, skip_special_tokens=True)\n",
    "    labels = tokenizer.batch_decode(labels, skip_special_tokens=True)\n",
    "    \n",
    "    for i, label in enumerate(labels):\n",
    "        if label in val_output:\n",
    "            val_output[label].append(preds[i])\n",
    "        else:\n",
    "            val_output[label] = [preds[i]]\n",
    "    \n",
    "    return metric.compute(predictions=preds, references=labels)\n",
    "\n",
    "trainer = Seq2SeqTrainer(\n",
    "    train_output,\n",
    "    model=model,\n",
    "    tokenizer=tokenizer,\n",
    "    args=training_args,\n",
    "    train_dataset=dataset[\"train\"],\n",
    "    eval_dataset=dataset[\"validation\"],\n",
    "    data_collator=default_data_collator,\n",
    "    compute_metrics=metrics,\n",
    "    callbacks = [EarlyStoppingCallback(early_stopping_patience=3)],\n",
    ")\n",
    "\n",
    "trainer.train()"
   ]
  },
  {
   "cell_type": "code",
   "execution_count": 5,
   "id": "8b2264c1-1a1d-4bab-bca7-74c8f377b018",
   "metadata": {},
   "outputs": [],
   "source": [
    "with open(os.path.join(output_dir, \"train_output.json\"), \"w\") as file:\n",
    "    file.write(json.dumps(train_output))\n",
    "    \n",
    "with open(os.path.join(output_dir, \"val_output.json\"), \"w\") as file:\n",
    "    file.write(json.dumps(val_output))"
   ]
  }
 ],
 "metadata": {
  "kernelspec": {
   "display_name": "Python 3 (ipykernel)",
   "language": "python",
   "name": "python3"
  },
  "language_info": {
   "codemirror_mode": {
    "name": "ipython",
    "version": 3
   },
   "file_extension": ".py",
   "mimetype": "text/x-python",
   "name": "python",
   "nbconvert_exporter": "python",
   "pygments_lexer": "ipython3",
   "version": "3.10.9"
  }
 },
 "nbformat": 4,
 "nbformat_minor": 5
}
