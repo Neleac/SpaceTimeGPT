{
 "cells": [
  {
   "cell_type": "code",
   "execution_count": 40,
   "id": "9bc1f146-200f-4a56-b7cb-84aae500117d",
   "metadata": {
    "tags": []
   },
   "outputs": [],
   "source": [
    "import json\n",
    "import os\n",
    "import random\n",
    "\n",
    "import torch\n",
    "from torchvision.io import VideoReader\n",
    "from transformers import AutoTokenizer, AutoProcessor, AutoModel, AutoModelForCausalLM"
   ]
  },
  {
   "cell_type": "code",
   "execution_count": 9,
   "id": "ad3bb6b5-7d62-4159-95ff-0eaec16ce194",
   "metadata": {},
   "outputs": [],
   "source": [
    "class VatexDataset(torch.utils.data.Dataset):\n",
    "    def __init__(self, videos_path, json_path, transforms=None):\n",
    "        self.videos_path = videos_path\n",
    "        \n",
    "        self.video_names = []\n",
    "        for _, _, files in os.walk(videos_path):\n",
    "            for file in files:\n",
    "                self.video_names.append(file)\n",
    "        \n",
    "        self.video_captions = {}\n",
    "        with open(json_path) as json_file:\n",
    "            json_data = json.load(json_file)            \n",
    "            for data in json_data:\n",
    "                video_id = data[\"videoID\"]\n",
    "                captions = data[\"enCap\"]\n",
    "                self.video_captions[video_id] = captions\n",
    "                \n",
    "        self.transforms = transforms\n",
    "        \n",
    "                \n",
    "    def __len__(self):\n",
    "        return len(self.video_names) * 10\n",
    "    \n",
    "    \n",
    "    def __getitem__(self, idx):     \n",
    "        video_idx = idx % len(self.video_names)\n",
    "        caption_idx = idx // len(self.video_names)\n",
    "        \n",
    "        video_name = self.video_names[video_idx]\n",
    "        video_id = video_name.split(\".\")[0]\n",
    "        captions = self.video_captions[video_id]\n",
    "        caption = captions[caption_idx]\n",
    "        \n",
    "        video_path = os.path.join(self.videos_path, video_name)\n",
    "        reader = VideoReader(video_path, \"video\")\n",
    "        \n",
    "        sample_frames = 8\n",
    "        duration = reader.get_metadata()[\"video\"][\"duration\"][0]\n",
    "        step = duration / sample_frames\n",
    "        \n",
    "        frames = []\n",
    "        for i in range(sample_frames):\n",
    "            timestamp = random.uniform(i * step, (i + 1) * step)\n",
    "            reader.seek(timestamp)\n",
    "            frames.append(next(reader)[\"data\"])\n",
    "\n",
    "        return (frames, caption)"
   ]
  },
  {
   "cell_type": "code",
   "execution_count": 10,
   "id": "45486084-1cc3-4697-886a-802196efe4c0",
   "metadata": {
    "tags": []
   },
   "outputs": [
    {
     "name": "stdout",
     "output_type": "stream",
     "text": [
      "229750\n",
      "26500\n"
     ]
    }
   ],
   "source": [
    "data_train = VatexDataset(\"dataset/vatex_train_videos\", \"dataset/vatex_train_captions.json\")\n",
    "data_val = VatexDataset(\"dataset/vatex_val_videos\", \"dataset/vatex_val_captions.json\")\n",
    "print(len(data_train))\n",
    "print(len(data_val))"
   ]
  },
  {
   "cell_type": "code",
   "execution_count": null,
   "id": "32f42684-917e-4157-be2c-1e0355828d5f",
   "metadata": {},
   "outputs": [],
   "source": [
    "data_train[0]"
   ]
  },
  {
   "cell_type": "code",
   "execution_count": null,
   "id": "072a3183-05b7-4233-93a0-db9ac12875f3",
   "metadata": {},
   "outputs": [],
   "source": []
  },
  {
   "cell_type": "code",
   "execution_count": 2,
   "id": "627174e4-467f-4105-a6b0-dbbfab798952",
   "metadata": {},
   "outputs": [],
   "source": [
    "video_path = os.path.join(\"dataset/vatex_train_videos\", \"__NrybzYzUg_000415_000425.mp4\")\n",
    "reader = VideoReader(video_path, \"video\")\n",
    "\n",
    "sample_frames = 8\n",
    "duration = reader.get_metadata()[\"video\"][\"duration\"][0]\n",
    "step = duration / sample_frames\n",
    "\n",
    "frames = []\n",
    "for i in range(sample_frames):\n",
    "    timestamp = random.uniform(i * step, (i + 1) * step)\n",
    "    reader.seek(timestamp)\n",
    "    frames.append(next(reader)[\"data\"])"
   ]
  },
  {
   "cell_type": "code",
   "execution_count": 41,
   "id": "c15d2446-9936-4759-865e-141d5a020ccf",
   "metadata": {
    "tags": []
   },
   "outputs": [],
   "source": [
    "xclip_processor = AutoProcessor.from_pretrained(\"microsoft/xclip-base-patch32\")\n",
    "xclip_model = AutoModel.from_pretrained(\"microsoft/xclip-base-patch32\")\n",
    "\n",
    "gpt_tokenizer = AutoTokenizer.from_pretrained('gpt2')\n",
    "gpt_model = AutoModelForCausalLM.from_pretrained('gpt2')"
   ]
  },
  {
   "cell_type": "code",
   "execution_count": 36,
   "id": "db7bc67a-a5e7-4257-907b-82807b7cabd1",
   "metadata": {
    "tags": []
   },
   "outputs": [
    {
     "data": {
      "text/plain": [
       "torch.Size([1, 512])"
      ]
     },
     "execution_count": 36,
     "metadata": {},
     "output_type": "execute_result"
    }
   ],
   "source": [
    "inputs = xclip_processor(videos=frames, return_tensors=\"pt\")\n",
    "video_features = xclip_model.get_video_features(**inputs)\n",
    "video_features.shape"
   ]
  },
  {
   "cell_type": "code",
   "execution_count": 48,
   "id": "06e54dbf-b864-4f0a-9b48-b1cff4126891",
   "metadata": {
    "tags": []
   },
   "outputs": [
    {
     "name": "stderr",
     "output_type": "stream",
     "text": [
      "Setting `pad_token_id` to `eos_token_id`:50256 for open-end generation.\n"
     ]
    },
    {
     "data": {
      "text/plain": [
       "\"My name Jeff, I'm a professional photographer. I'm a professional photographer. I'm a professional\""
      ]
     },
     "execution_count": 48,
     "metadata": {},
     "output_type": "execute_result"
    }
   ],
   "source": [
    "inputs = gpt_tokenizer(\"My name Jeff\", return_tensors=\"pt\")\n",
    "output = gpt_model.generate(**inputs, max_length=20)\n",
    "gpt_tokenizer.decode(output[0], skip_special_tokens=True)"
   ]
  },
  {
   "cell_type": "code",
   "execution_count": 50,
   "id": "74e8beb3-a3d2-4306-af45-e20a142f0f6e",
   "metadata": {
    "tags": []
   },
   "outputs": [
    {
     "data": {
      "text/plain": [
       "tensor([[3666, 1438, 5502]])"
      ]
     },
     "execution_count": 50,
     "metadata": {},
     "output_type": "execute_result"
    }
   ],
   "source": [
    "inputs = gpt_tokenizer.encode(\"My name Jeff\", return_tensors=\"pt\")\n",
    "inputs"
   ]
  },
  {
   "cell_type": "code",
   "execution_count": 51,
   "id": "50472feb-476f-45ec-ab63-06e498670d3b",
   "metadata": {
    "tags": []
   },
   "outputs": [
    {
     "data": {
      "text/plain": [
       "{'input_ids': tensor([[3666, 1438, 5502]]), 'attention_mask': tensor([[1, 1, 1]])}"
      ]
     },
     "execution_count": 51,
     "metadata": {},
     "output_type": "execute_result"
    }
   ],
   "source": [
    "inputs = gpt_tokenizer(\"My name Jeff\", return_tensors=\"pt\")\n",
    "inputs"
   ]
  }
 ],
 "metadata": {
  "kernelspec": {
   "display_name": "Python 3 (ipykernel)",
   "language": "python",
   "name": "python3"
  },
  "language_info": {
   "codemirror_mode": {
    "name": "ipython",
    "version": 3
   },
   "file_extension": ".py",
   "mimetype": "text/x-python",
   "name": "python",
   "nbconvert_exporter": "python",
   "pygments_lexer": "ipython3",
   "version": "3.10.8"
  }
 },
 "nbformat": 4,
 "nbformat_minor": 5
}
