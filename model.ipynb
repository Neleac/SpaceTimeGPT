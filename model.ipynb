{
 "cells": [
  {
   "cell_type": "code",
   "execution_count": 1,
   "id": "afaf3f10-c8ad-47fd-b95b-9245da9bb0f0",
   "metadata": {
    "tags": []
   },
   "outputs": [
    {
     "name": "stdout",
     "output_type": "stream",
     "text": [
      "env: CUDA_VISIBLE_DEVICES=0\n"
     ]
    }
   ],
   "source": [
    "%env CUDA_VISIBLE_DEVICES 0\n",
    "\n",
    "import json\n",
    "import os\n",
    "import random\n",
    "\n",
    "from datasets import load_from_disk\n",
    "import evaluate\n",
    "import numpy as np\n",
    "import torch\n",
    "from transformers import VisionEncoderDecoderModel, AutoImageProcessor, AutoTokenizer, Seq2SeqTrainer, Seq2SeqTrainingArguments, EarlyStoppingCallback\n",
    "\n",
    "device = \"cuda\"\n",
    "torch.backends.cuda.matmul.allow_tf32 = True"
   ]
  },
  {
   "cell_type": "code",
   "execution_count": 2,
   "id": "b0840708-8e75-4bf3-a615-5eecfa8760f0",
   "metadata": {},
   "outputs": [
    {
     "name": "stderr",
     "output_type": "stream",
     "text": [
      "Could not find image processor class in the image processor config or the model config. Loading based on pattern matching with the model's feature extractor configuration.\n",
      "Some weights of the model checkpoint at facebook/timesformer-base-finetuned-k600 were not used when initializing TimesformerModel: ['classifier.bias', 'classifier.weight']\n",
      "- This IS expected if you are initializing TimesformerModel from the checkpoint of a model trained on another task or with another architecture (e.g. initializing a BertForSequenceClassification model from a BertForPreTraining model).\n",
      "- This IS NOT expected if you are initializing TimesformerModel from the checkpoint of a model that you expect to be exactly identical (initializing a BertForSequenceClassification model from a BertForSequenceClassification model).\n",
      "Some weights of GPT2LMHeadModel were not initialized from the model checkpoint at gpt2 and are newly initialized: ['h.9.crossattention.bias', 'h.4.crossattention.q_attn.weight', 'h.7.crossattention.masked_bias', 'h.9.crossattention.c_proj.bias', 'h.7.crossattention.c_attn.weight', 'h.6.crossattention.bias', 'h.8.crossattention.c_proj.bias', 'h.11.crossattention.c_proj.bias', 'h.1.crossattention.c_proj.bias', 'h.11.crossattention.bias', 'h.7.crossattention.q_attn.weight', 'h.4.crossattention.masked_bias', 'h.8.crossattention.bias', 'h.5.ln_cross_attn.weight', 'h.5.crossattention.c_proj.bias', 'h.10.crossattention.q_attn.weight', 'h.2.crossattention.c_proj.weight', 'h.0.ln_cross_attn.weight', 'h.11.crossattention.masked_bias', 'h.3.crossattention.c_proj.bias', 'h.4.crossattention.c_attn.weight', 'h.1.ln_cross_attn.weight', 'h.11.crossattention.c_attn.weight', 'h.10.crossattention.bias', 'h.4.crossattention.c_proj.bias', 'h.3.crossattention.masked_bias', 'h.11.crossattention.c_proj.weight', 'h.3.crossattention.c_attn.weight', 'h.2.ln_cross_attn.weight', 'h.0.crossattention.c_proj.weight', 'h.1.crossattention.c_proj.weight', 'h.7.crossattention.c_proj.weight', 'h.6.crossattention.c_proj.bias', 'h.0.crossattention.c_attn.weight', 'h.10.crossattention.c_proj.weight', 'h.0.crossattention.c_proj.bias', 'h.5.crossattention.c_attn.weight', 'h.1.crossattention.q_attn.weight', 'h.10.crossattention.c_attn.weight', 'h.2.crossattention.q_attn.weight', 'h.6.crossattention.c_attn.weight', 'h.8.crossattention.masked_bias', 'h.1.crossattention.bias', 'h.10.crossattention.c_proj.bias', 'h.3.crossattention.c_proj.weight', 'h.0.crossattention.bias', 'h.1.crossattention.c_attn.weight', 'h.6.ln_cross_attn.weight', 'h.8.crossattention.c_proj.weight', 'h.3.crossattention.bias', 'h.4.crossattention.bias', 'h.0.crossattention.masked_bias', 'h.6.crossattention.c_proj.weight', 'h.10.ln_cross_attn.weight', 'h.3.crossattention.q_attn.weight', 'h.6.crossattention.masked_bias', 'h.8.crossattention.c_attn.weight', 'h.8.crossattention.q_attn.weight', 'h.4.ln_cross_attn.weight', 'h.0.crossattention.q_attn.weight', 'h.11.ln_cross_attn.weight', 'h.5.crossattention.q_attn.weight', 'h.2.crossattention.c_attn.weight', 'h.2.crossattention.c_proj.bias', 'h.2.crossattention.bias', 'h.9.crossattention.c_proj.weight', 'h.1.crossattention.masked_bias', 'h.9.crossattention.c_attn.weight', 'h.3.ln_cross_attn.weight', 'h.9.crossattention.masked_bias', 'h.9.crossattention.q_attn.weight', 'h.7.ln_cross_attn.weight', 'h.2.crossattention.masked_bias', 'h.5.crossattention.masked_bias', 'h.8.ln_cross_attn.weight', 'h.5.crossattention.bias', 'h.5.crossattention.c_proj.weight', 'h.6.crossattention.q_attn.weight', 'h.9.ln_cross_attn.weight', 'h.4.crossattention.c_proj.weight', 'h.7.crossattention.bias', 'h.7.crossattention.c_proj.bias', 'h.11.crossattention.q_attn.weight', 'h.10.crossattention.masked_bias']\n",
      "You should probably TRAIN this model on a down-stream task to be able to use it for predictions and inference.\n"
     ]
    }
   ],
   "source": [
    "encoder = \"facebook/timesformer-base-finetuned-k600\"\n",
    "decoder = \"gpt2\"\n",
    "\n",
    "image_processor = AutoImageProcessor.from_pretrained(\"MCG-NJU/videomae-base\")\n",
    "tokenizer = AutoTokenizer.from_pretrained(decoder)\n",
    "tokenizer.pad_token = tokenizer.eos_token\n",
    "\n",
    "model = VisionEncoderDecoderModel.from_encoder_decoder_pretrained(encoder, decoder).to(device)\n",
    "model.config.decoder_start_token_id = tokenizer.bos_token_id\n",
    "model.config.pad_token_id = tokenizer.pad_token_id\n",
    "model.config.max_length = 50\n",
    "model.config.num_beams = 4\n",
    "model.config.early_stopping = True"
   ]
  },
  {
   "cell_type": "code",
   "execution_count": 2,
   "id": "6e751eba-19bf-4ea4-844e-1badd1ff9a03",
   "metadata": {},
   "outputs": [
    {
     "data": {
      "text/plain": [
       "DatasetDict({\n",
       "    train: Dataset({\n",
       "        features: ['videoID', 'pixel_values', 'labels'],\n",
       "        num_rows: 22895\n",
       "    })\n",
       "    validation: Dataset({\n",
       "        features: ['videoID', 'pixel_values', 'labels'],\n",
       "        num_rows: 2643\n",
       "    })\n",
       "})"
      ]
     },
     "execution_count": 2,
     "metadata": {},
     "output_type": "execute_result"
    }
   ],
   "source": [
    "dataset = load_from_disk(\"/data1/caelen/dataset/vatex\")\n",
    "dataset.set_format(\"torch\")\n",
    "dataset"
   ]
  },
  {
   "cell_type": "code",
   "execution_count": null,
   "id": "2b9a2fe9-1dbb-49b2-9b87-3f23f381c921",
   "metadata": {},
   "outputs": [],
   "source": [
    "class VatexDataset(Dataset):\n",
    "    def __init__(self, dataset):\n",
    "        self.dataset = dataset\n",
    "    \n",
    "    def __len__(self):\n",
    "        return 10 * len(self.dataset)\n",
    "    \n",
    "    def __getitems__(self, idxs):\n",
    "        items = []\n",
    "        for idx in idxs:\n",
    "            video_idx = idx // 10\n",
    "            caption_idx = idx % 10\n",
    "            example = self.dataset[video_idx]\n",
    "            items.append({\n",
    "                \"videoID\": example[\"videoID\"],\n",
    "                \"pixel_values\": example[\"pixel_values\"], \n",
    "                \"labels\": example[\"labels\"][caption_idx]\n",
    "            })\n",
    "        return items"
   ]
  },
  {
   "cell_type": "code",
   "execution_count": null,
   "id": "2da89413-5504-4f9e-97ed-e298d79113e7",
   "metadata": {},
   "outputs": [],
   "source": [
    "output_dir = \"/data1/caelen/training/vatex\"\n",
    "\n",
    "training_args = Seq2SeqTrainingArguments(\n",
    "    output_dir=output_dir,\n",
    "    tf32=True,\n",
    "    predict_with_generate=True,\n",
    "    load_best_model_at_end=True,\n",
    "    logging_strategy=\"epoch\",\n",
    "    evaluation_strategy=\"epoch\",\n",
    "    save_strategy=\"epoch\",\n",
    "    remove_unused_columns=False,\n",
    "    per_device_train_batch_size=6,\n",
    "    per_device_eval_batch_size=6,\n",
    "    dataloader_num_workers=8,\n",
    "    num_train_epochs=100,\n",
    "    learning_rate=5e-7,\n",
    ")\n",
    "\n",
    "def collator(examples):\n",
    "    print(examples[0].keys())\n",
    "    return None\n",
    "    \n",
    "    pixel_values, labels = [], []\n",
    "    for example in examples:\n",
    "        print(example[\"video_id\"])\n",
    "        \n",
    "        # train\n",
    "        if len(example[\"pixel_values\"]) == 16:\n",
    "            frame_idxs = []\n",
    "            for i in range(0, 16, 2):\n",
    "                frame_idxs.append(i + random.randint(0, 1))\n",
    "            pixel_values.append(example[\"pixel_values\"][frame_idxs])\n",
    "            labels.append(example[\"labels\"][0])\n",
    "        # val\n",
    "        else:\n",
    "            pixel_values.append(example[\"pixel_values\"])\n",
    "            labels.append(example[\"labels\"])\n",
    "\n",
    "    pixel_values = torch.stack(pixel_values)\n",
    "    labels = torch.stack(labels)\n",
    "    return {\"pixel_values\": pixel_values, \"labels\": labels}\n",
    "    \n",
    "trainer = Seq2SeqTrainer(\n",
    "    model=model,\n",
    "    tokenizer=tokenizer,\n",
    "    args=training_args,\n",
    "    train_dataset=dataset[\"train\"],\n",
    "    eval_dataset=dataset[\"validation\"],\n",
    "    data_collator=collator,\n",
    "    callbacks = [EarlyStoppingCallback(early_stopping_patience=5)],\n",
    ")\n",
    "\n",
    "trainer.train()"
   ]
  }
 ],
 "metadata": {
  "kernelspec": {
   "display_name": "Python 3 (ipykernel)",
   "language": "python",
   "name": "python3"
  },
  "language_info": {
   "codemirror_mode": {
    "name": "ipython",
    "version": 3
   },
   "file_extension": ".py",
   "mimetype": "text/x-python",
   "name": "python",
   "nbconvert_exporter": "python",
   "pygments_lexer": "ipython3",
   "version": "3.10.9"
  }
 },
 "nbformat": 4,
 "nbformat_minor": 5
}
